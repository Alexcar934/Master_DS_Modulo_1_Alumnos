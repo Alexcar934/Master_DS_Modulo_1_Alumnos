{
 "cells": [
  {
   "cell_type": "markdown",
   "id": "baca545b",
   "metadata": {},
   "source": [
    "# Nota: Este jupyter te da los pasos que hay que ir siguiendo en el app.py"
   ]
  },
  {
   "cell_type": "markdown",
   "id": "562e58c1",
   "metadata": {},
   "source": [
    "``` bash\n",
    "python -m venv .venv\n",
    "source .venv/bin/activate      # Windows: .venv\\Scripts\\activate\n",
    "pip install streamlit pandas matplotlib seaborn\n"
   ]
  },
  {
   "cell_type": "markdown",
   "id": "35447a6e",
   "metadata": {},
   "source": [
    "## 🧰 Cell 1: Imports y configuración de la página"
   ]
  },
  {
   "cell_type": "code",
   "execution_count": null,
   "id": "df521ac5",
   "metadata": {},
   "outputs": [],
   "source": [
    "# ----------------------------------------\n",
    "# 1. Imports básicos\n",
    "# ----------------------------------------\n",
    "import streamlit as st           # framework principal\n",
    "import pandas as pd              # manipulación de DataFrames\n",
    "import matplotlib.pyplot as plt  # para crear figuras y ejes\n",
    "import seaborn as sns            # para gráficos estadísticos\n",
    "\n",
    "# ----------------------------------------\n",
    "# 2. Configuración global de la página\n",
    "# ----------------------------------------\n",
    "st.set_page_config(\n",
    "    page_title=\"🎧 Music Explorer\",  # Título en la pestaña del navegador\n",
    "    layout=\"wide\",                   # “wide” usa todo el ancho de la ventana\n",
    "    initial_sidebar_state=\"expanded\"# Sidebar abierto al iniciar\n",
    ")\n"
   ]
  },
  {
   "cell_type": "markdown",
   "id": "d7ddb2c5",
   "metadata": {},
   "source": [
    "streamlit run app.py\n"
   ]
  },
  {
   "cell_type": "markdown",
   "id": "e73e2dae",
   "metadata": {},
   "source": [
    "## 🧰 Cell 2: Carga de datos con cache"
   ]
  },
  {
   "cell_type": "code",
   "execution_count": null,
   "id": "5381c440",
   "metadata": {},
   "outputs": [],
   "source": [
    "# ----------------------------------------\n",
    "# 3. Definimos una función para cargar datos\n",
    "# ----------------------------------------\n",
    "@st.cache_data  \n",
    "def load_data():\n",
    "    \"\"\"\n",
    "    Lee el CSV una vez y guarda el resultado en caché.\n",
    "    Así evitarás volver a leer el archivo cada vez que muevas un widget.\n",
    "    \"\"\"\n",
    "    return pd.read_csv(\"data/SpotifyFeatures.csv\")\n",
    "\n",
    "# Llamamos a la función para tener el DataFrame listo\n",
    "df = load_data()\n"
   ]
  },
  {
   "cell_type": "markdown",
   "id": "2ec3018f",
   "metadata": {},
   "source": [
    "Explicación\n",
    "\n",
    "* El símbolo @st.cache_data se llama decorador y “envuelve” la función.\n",
    "\n",
    "* Cuando llamas a load_data(), Streamlit comprueba si ya la ejecutó antes con los mismos argumentos; si es así, devuelve el resultado guardado y no vuelve a leer el CSV.\n",
    "\n",
    "* Esto acelera mucho la app cuando interactúas con filtros."
   ]
  },
  {
   "cell_type": "markdown",
   "id": "11f9e886",
   "metadata": {},
   "source": [
    "## 🧰 Cell 3: Sidebar — Navegación y filtros"
   ]
  },
  {
   "cell_type": "code",
   "execution_count": null,
   "id": "34c5be97",
   "metadata": {},
   "outputs": [],
   "source": [
    "# 5. Menú lateral: elige sección\n",
    "st.sidebar.title(\"🔀 Navigation\")\n",
    "page = st.sidebar.radio(\n",
    "    \"Go to\",                             # Texto arriba de las opciones\n",
    "    [\"Data\", \"Explore\", \"Visualizations\", \"Random Song\"]\n",
    ")\n",
    "\n",
    "# 6. Separador\n",
    "st.sidebar.markdown(\"---\")\n",
    "\n",
    "# 7. Filtros en la barra lateral\n",
    "st.sidebar.title(\"⚙️ Filters\")\n",
    "\n",
    "# 7.1 Slider para popularidad mínima\n",
    "pop_min = st.sidebar.slider(\n",
    "    \"Min Popularity\",  # etiqueta\n",
    "    0,                 # valor mínimo\n",
    "    100,               # valor máximo\n",
    "    50                 # valor inicial\n",
    ")\n",
    "\n",
    "# 7.2 Selectbox para género\n",
    "genres = [\"All\"] + sorted(df[\"genre\"].unique().tolist())\n",
    "genre = st.sidebar.selectbox(\"Genre\", genres)\n",
    "\n",
    "# 7.3 Slider para tempo (range)\n",
    "tempo_range = st.sidebar.slider(\n",
    "    \"Tempo Range (BPM)\",\n",
    "    int(df[\"tempo\"].min()), \n",
    "    int(df[\"tempo\"].max()),\n",
    "    (60, 160)          # tupla (min, max)\n",
    ")\n",
    "\n",
    "# 7.4 Checkbox para instrumentalness alto\n",
    "inst_only = st.sidebar.checkbox(\"Only Instrumentalness > 0.5\")\n"
   ]
  },
  {
   "cell_type": "markdown",
   "id": "19d6090a",
   "metadata": {},
   "source": [
    "Explicación\n",
    "\n",
    "* st.sidebar.radio: crea un radio button en el sidebar.\n",
    "\n",
    "* st.sidebar.slider y st.sidebar.selectbox funcionan igual que en el cuerpo principal, pero agrupados en la barra lateral.\n",
    "\n",
    "* Al mover cualquiera de estos widgets, Streamlit re-ejecuta el script de arriba a abajo, recalculando tus variables (pop_min, genre, etc.)."
   ]
  },
  {
   "cell_type": "markdown",
   "id": "c322025c",
   "metadata": {},
   "source": [
    "## 🧰 Cell 4: Aplicar filtros paso a paso"
   ]
  },
  {
   "cell_type": "code",
   "execution_count": null,
   "id": "061002cb",
   "metadata": {},
   "outputs": [],
   "source": [
    "# 8. Empezamos con todo el DataFrame\n",
    "df_filtered = df.copy()\n",
    "\n",
    "# 8.1 Filtramos por popularidad\n",
    "df_filtered = df_filtered[df_filtered[\"popularity\"] >= pop_min]\n",
    "\n",
    "# 8.2 Si el usuario eligió un género distinto de \"All\", filtramos por él\n",
    "if genre != \"All\":\n",
    "    df_filtered = df_filtered[df_filtered[\"genre\"] == genre]\n",
    "\n",
    "# 8.3 Filtramos por tempo usando la tupla tempo_range\n",
    "min_tempo, max_tempo = tempo_range\n",
    "\n",
    "df_filtered = df_filtered[\n",
    "    (df_filtered[\"tempo\"] >= min_tempo) &\n",
    "    (df_filtered[\"tempo\"] <= max_tempo)\n",
    "]\n",
    "\n",
    "# 8.4 Si la casilla de instrumentalness está marcada, aplicamos ese filtro\n",
    "if inst_only:\n",
    "    df_filtered = df_filtered[df_filtered[\"instrumentalness\"] > 0.5]\n"
   ]
  },
  {
   "cell_type": "markdown",
   "id": "103c8c2a",
   "metadata": {},
   "source": [
    "## 🧰 Celda 5: Sección “Data”"
   ]
  },
  {
   "cell_type": "code",
   "execution_count": null,
   "id": "f4a3a24a",
   "metadata": {},
   "outputs": [],
   "source": [
    "# 9. Página \"Data\": mostrar datos crudos\n",
    "if page == \"Data\":\n",
    "    st.header(\"📊 Raw Data\")\n",
    "    st.write(\"First 10 rows of your dataset:\")\n",
    "    st.dataframe(df.head(10), use_container_width=True)\n",
    "    st.write(\"Columns:\", df.columns.tolist())\n"
   ]
  },
  {
   "cell_type": "markdown",
   "id": "26a7315f",
   "metadata": {},
   "source": [
    "## 🧰 Celda 6: Sección “Explore”"
   ]
  },
  {
   "cell_type": "code",
   "execution_count": null,
   "id": "e962a845",
   "metadata": {},
   "outputs": [],
   "source": [
    "# 10. Página \"Explore\": mostrar datos filtrados\n",
    "elif page == \"Explore\":\n",
    "    st.header(\"⚙️ Explore Filtered Data\")\n",
    "    st.write(f\"Showing {len(df_filtered)} tracks after filtering\")\n",
    "    st.dataframe(df_filtered, use_container_width=True)\n"
   ]
  },
  {
   "cell_type": "markdown",
   "id": "73f9c87f",
   "metadata": {},
   "source": [
    "Qué hace:\n",
    "\n",
    "Informa cuántas filas hay tras los filtros.\n",
    "\n",
    "Muestra los resultados en una tabla interactiva."
   ]
  },
  {
   "cell_type": "markdown",
   "id": "c36e5106",
   "metadata": {},
   "source": [
    "## 🧰 Celda 7: Sección “Visualizations”"
   ]
  },
  {
   "cell_type": "code",
   "execution_count": null,
   "id": "75a84a6c",
   "metadata": {},
   "outputs": [],
   "source": [
    "# 11. Página \"Visualizations\": gráficos\n",
    "elif page == \"Visualizations\":\n",
    "    st.header(\"📈 Visualizations\")\n",
    "\n",
    "    # 11.1 Scatter: danceability vs energy\n",
    "    st.subheader(\"Danceability 💃 vs Energy ⚡\")\n",
    "    fig1, ax1 = plt.subplots()  # crea figura y ejes\n",
    "    sns.scatterplot(\n",
    "        data=df_filtered, x=\"danceability\", y=\"energy\", hue=\"genre\", ax=ax1\n",
    "    )\n",
    "    ax1.set_title(\"Danceability vs Energy\")\n",
    "    ax1.set_xlabel(\"Danceability\")\n",
    "    ax1.set_ylabel(\"Energy\")\n",
    "    st.pyplot(fig1)            # renderiza la figura\n",
    "\n",
    "    # 11.2 Histograma de loudness\n",
    "    st.subheader(\"Loudness Distribution (dB)\")\n",
    "    fig2, ax2 = plt.subplots()\n",
    "    ax2.hist(df_filtered[\"loudness\"], bins=30)\n",
    "    ax2.set_title(\"Histogram of Loudness\")\n",
    "    ax2.set_xlabel(\"Loudness (dB)\")\n",
    "    ax2.set_ylabel(\"Frequency\")\n",
    "    st.pyplot(fig2)\n"
   ]
  },
  {
   "cell_type": "markdown",
   "id": "4ca5778c",
   "metadata": {},
   "source": [
    "Qué hace:\n",
    "\n",
    "* plt.subplots() crea dos objetos: fig (lienzo) y ax (donde dibujas).\n",
    "\n",
    "* sns.scatterplot(..., ax=ax) dibuja el scatter en esos ejes.\n",
    "\n",
    "* st.pyplot(fig) incrusta la figura en la app."
   ]
  },
  {
   "cell_type": "markdown",
   "id": "9a957214",
   "metadata": {},
   "source": [
    "## 🧰 Celda 8: Sección “Random Song” y cierre"
   ]
  },
  {
   "cell_type": "code",
   "execution_count": null,
   "id": "57539c2b",
   "metadata": {},
   "outputs": [],
   "source": [
    "# 12. Página \"Random Song\": botón y canción aleatoria\n",
    "elif page == \"Random Song\":\n",
    "    st.header(\"🎲 Random Song\")\n",
    "    if st.button(\"Give me a random track\"):\n",
    "        song = df_filtered.sample(1).iloc[0]\n",
    "        st.markdown(f\"**{song['track_name']}** – {song['artist_name']}\")\n",
    "        st.write(f\"Genre: {song['genre']}, Popularity: {song['popularity']}\")\n",
    "\n",
    "# 13. Footer: separador y mensaje final\n",
    "st.markdown(\"---\")\n",
    "st.write(\"Workshop de Streamlit • 4 horas • ¡A disfrutar explorando música!\")\n"
   ]
  }
 ],
 "metadata": {
  "kernelspec": {
   "display_name": "venv",
   "language": "python",
   "name": "python3"
  },
  "language_info": {
   "codemirror_mode": {
    "name": "ipython",
    "version": 3
   },
   "file_extension": ".py",
   "mimetype": "text/x-python",
   "name": "python",
   "nbconvert_exporter": "python",
   "pygments_lexer": "ipython3",
   "version": "3.12.7"
  }
 },
 "nbformat": 4,
 "nbformat_minor": 5
}
