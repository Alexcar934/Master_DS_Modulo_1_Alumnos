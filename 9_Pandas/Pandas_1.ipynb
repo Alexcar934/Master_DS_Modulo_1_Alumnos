{
 "cells": [
  {
   "cell_type": "markdown",
   "id": "c1edda9e",
   "metadata": {},
   "source": [
    "# Clase de Introducción a pandas\n",
    "\n",
    "Este notebook presentará los conceptos fundamentales de pandas:\n",
    "- Estructuras de datos: **Series** y **DataFrames**.\n",
    "- Técnicas de indexación y selección de datos.\n",
    "\n",
    "¡Recuerda ejecutar cada celda y observar los resultados!\n",
    "\n",
    "---\n",
    "\n",
    "## 1. Introducción a Pandas <a name=\"introduccion\"></a>\n",
    "\n",
    "Pandas es una biblioteca de Python especializada en la manipulación y el análisis de datos. Proporciona dos estructuras de datos principales:\n",
    "- **Series**: parecidas a un array unidimensional con etiquetas en cada valor.\n",
    "- **DataFrames**: tablas etiquetadas con filas y columnas, muy similares a una hoja de cálculo.\n",
    "\n",
    "Antes de empezar, necesitamos importar la biblioteca **pandas** (generalmente se importa como `pd`).\n",
    "\n"
   ]
  },
  {
   "cell_type": "code",
   "execution_count": 2,
   "id": "20882dd4",
   "metadata": {},
   "outputs": [],
   "source": [
    "import pandas as pd\n",
    "import numpy as np  # También será útil para generar datos aleatorios o arrays\n"
   ]
  },
  {
   "cell_type": "markdown",
   "id": "7a6b0318",
   "metadata": {},
   "source": [
    "---\n",
    "\n",
    "## 2. Series <a name=\"series\"></a>\n",
    "\n",
    "Las Series son la estructura de datos más simple en pandas. Piensa en ellas como un vector unidimensional de datos con un índice que identifica a cada elemento.\n",
    "\n",
    "### 2.1 Creación de Series\n",
    "\n",
    "Podemos crear una `Series` a partir de:\n",
    "- Una lista de Python.\n",
    "- Un array de NumPy.\n",
    "- Un diccionario.\n"
   ]
  },
  {
   "cell_type": "code",
   "execution_count": 11,
   "id": "e534b97a",
   "metadata": {},
   "outputs": [
    {
     "name": "stdout",
     "output_type": "stream",
     "text": [
      "Serie desde lista:\n",
      "0    10\n",
      "1    20\n",
      "2    30\n",
      "3    40\n",
      "dtype: int64\n",
      "\n",
      "\n",
      "Serie desde array:\n",
      "0    5\n",
      "1    6\n",
      "2    7\n",
      "3    8\n",
      "dtype: int32\n",
      "\n",
      "\n",
      "Serie desde diccionario:\n",
      "a    1\n",
      "b    2\n",
      "c    3\n",
      "dtype: int64\n"
     ]
    }
   ],
   "source": [
    "# 2.1 - Ejemplos de creación de Series\n",
    "\n",
    "# 1) A partir de una lista\n",
    "lista = [10, 20, 30, 40]\n",
    "serie_desde_lista = pd.Series(lista)\n",
    "print(\"Serie desde lista:\")\n",
    "print(serie_desde_lista)\n",
    "print(\"\\n\")\n",
    "\n",
    "# 2) A partir de un array de NumPy\n",
    "array = np.array([5, 6, 7, 8])\n",
    "serie_desde_array = pd.Series(array)\n",
    "print(\"Serie desde array:\")\n",
    "print(serie_desde_array)\n",
    "print(\"\\n\")\n",
    "\n",
    "# 3) A partir de un diccionario\n",
    "diccionario = {'a': 1, 'b': 2, 'c': 3}\n",
    "serie_desde_diccionario = pd.Series(diccionario)\n",
    "print(\"Serie desde diccionario:\")\n",
    "print(serie_desde_diccionario)\n"
   ]
  },
  {
   "cell_type": "markdown",
   "id": "d53cc9ed",
   "metadata": {},
   "source": [
    "### 2.2 Accediendo a datos en Series\n",
    "\n",
    "Para acceder a los datos en una `Series` podemos usar:\n",
    "- El índice numérico (similar a listas/arrays).\n",
    "- El índice personalizado (si está disponible).\n",
    "- Slice (rebanadas).\n"
   ]
  },
  {
   "cell_type": "code",
   "execution_count": 12,
   "id": "88de4c29",
   "metadata": {},
   "outputs": [
    {
     "name": "stdout",
     "output_type": "stream",
     "text": [
      "Serie ejemplo:\n",
      "x    10\n",
      "y    20\n",
      "z    30\n",
      "w    40\n",
      "dtype: int64\n",
      "\n",
      "Acceder a un valor por etiqueta ('y'):\n",
      "20\n",
      "\n",
      "Acceder a un valor por posición (2):\n",
      "30\n",
      "\n",
      "Rebanado de elementos (dos primeros):\n",
      "x    10\n",
      "y    20\n",
      "dtype: int64\n"
     ]
    },
    {
     "name": "stderr",
     "output_type": "stream",
     "text": [
      "C:\\Users\\alejandro.carabe\\AppData\\Local\\Temp\\ipykernel_29440\\2192192297.py:12: FutureWarning: Series.__getitem__ treating keys as positions is deprecated. In a future version, integer keys will always be treated as labels (consistent with DataFrame behavior). To access a value by position, use `ser.iloc[pos]`\n",
      "  print(serie_ejemplo[2])\n"
     ]
    }
   ],
   "source": [
    "# 2.2 - Ejemplos de acceso a datos en Series\n",
    "\n",
    "serie_ejemplo = pd.Series([10, 20, 30, 40], index=[\"x\", \"y\", \"z\", \"w\"])\n",
    "\n",
    "print(\"Serie ejemplo:\")\n",
    "print(serie_ejemplo)\n",
    "\n",
    "print(\"\\nAcceder a un valor por etiqueta ('y'):\")\n",
    "print(serie_ejemplo[\"y\"])\n",
    "\n",
    "print(\"\\nAcceder a un valor por posición (2):\")\n",
    "print(serie_ejemplo[2])\n",
    "\n",
    "print(\"\\nRebanado de elementos (dos primeros):\")\n",
    "print(serie_ejemplo[:2])\n"
   ]
  },
  {
   "cell_type": "markdown",
   "id": "df6695de",
   "metadata": {},
   "source": [
    "---\n",
    "\n",
    "## 3. DataFrames <a name=\"dataframes\"></a>\n",
    "\n",
    "Un `DataFrame` es como una tabla con filas y columnas, cada columna es internamente una Serie independiente. Podemos crear un DataFrame de varias maneras:\n",
    "\n",
    "### 3.1 Creación de DataFrames\n",
    "\n",
    "- A partir de diccionarios de listas o de Series.\n",
    "- A partir de archivos CSV, Excel, etc. (en esta clase, haremos un ejemplo sencillo con diccionarios).\n"
   ]
  },
  {
   "cell_type": "code",
   "execution_count": 13,
   "id": "b1cbe9d3",
   "metadata": {},
   "outputs": [
    {
     "name": "stdout",
     "output_type": "stream",
     "text": [
      "DataFrame a partir de diccionario de listas:\n",
      "    Nombre  Edad     Ciudad\n",
      "0      Ana    23     Madrid\n",
      "1      Bob    35  Barcelona\n",
      "2  Cecilia    29   Valencia\n",
      "\n",
      "\n",
      "DataFrame con índice personalizado:\n",
      "      Nombre  Edad     Ciudad\n",
      "ID1      Ana    23     Madrid\n",
      "ID2      Bob    35  Barcelona\n",
      "ID3  Cecilia    29   Valencia\n"
     ]
    }
   ],
   "source": [
    "# 3.1 - Ejemplos de creación de DataFrame\n",
    "\n",
    "# 1) A partir de un diccionario de listas\n",
    "datos = {\n",
    "    \"Nombre\": [\"Ana\", \"Bob\", \"Cecilia\"],\n",
    "    \"Edad\": [23, 35, 29],\n",
    "    \"Ciudad\": [\"Madrid\", \"Barcelona\", \"Valencia\"]\n",
    "}\n",
    "\n",
    "df = pd.DataFrame(datos)\n",
    "print(\"DataFrame a partir de diccionario de listas:\")\n",
    "print(df)\n",
    "print(\"\\n\")\n",
    "\n",
    "# 2) También se puede personalizar el índice\n",
    "df_indexado = pd.DataFrame(datos, index=[\"ID1\", \"ID2\", \"ID3\"])\n",
    "print(\"DataFrame con índice personalizado:\")\n",
    "print(df_indexado)\n"
   ]
  },
  {
   "cell_type": "markdown",
   "id": "06d61ad7",
   "metadata": {},
   "source": [
    "### 3.2 Operaciones básicas con DataFrames\n",
    "\n",
    "Algunas operaciones comunes en DataFrames:\n",
    "- Ver las primeras filas: `.head()`\n",
    "- Ver las últimas filas: `.tail()`\n",
    "- Resumen de datos: `.info()`\n",
    "- Descripción estadística: `.describe()`\n"
   ]
  },
  {
   "cell_type": "code",
   "execution_count": 14,
   "id": "759314db",
   "metadata": {},
   "outputs": [
    {
     "name": "stdout",
     "output_type": "stream",
     "text": [
      "Primeras filas del DataFrame:\n",
      "    Nombre  Edad     Ciudad\n",
      "0      Ana    23     Madrid\n",
      "1      Bob    35  Barcelona\n",
      "2  Cecilia    29   Valencia\n",
      "\n",
      "Información del DataFrame (columnas, tipos de datos, etc.):\n",
      "<class 'pandas.core.frame.DataFrame'>\n",
      "RangeIndex: 3 entries, 0 to 2\n",
      "Data columns (total 3 columns):\n",
      " #   Column  Non-Null Count  Dtype \n",
      "---  ------  --------------  ----- \n",
      " 0   Nombre  3 non-null      object\n",
      " 1   Edad    3 non-null      int64 \n",
      " 2   Ciudad  3 non-null      object\n",
      "dtypes: int64(1), object(2)\n",
      "memory usage: 200.0+ bytes\n",
      "None\n",
      "\n",
      "Descripción estadística (solo columnas numéricas):\n",
      "       Edad\n",
      "count   3.0\n",
      "mean   29.0\n",
      "std     6.0\n",
      "min    23.0\n",
      "25%    26.0\n",
      "50%    29.0\n",
      "75%    32.0\n",
      "max    35.0\n"
     ]
    }
   ],
   "source": [
    "# 3.2 - Operaciones básicas\n",
    "\n",
    "print(\"Primeras filas del DataFrame:\")\n",
    "print(df.head())\n",
    "\n",
    "print(\"\\nInformación del DataFrame (columnas, tipos de datos, etc.):\")\n",
    "print(df.info())\n",
    "\n",
    "print(\"\\nDescripción estadística (solo columnas numéricas):\")\n",
    "print(df.describe())\n"
   ]
  },
  {
   "cell_type": "markdown",
   "id": "04d6d569",
   "metadata": {},
   "source": [
    "---\n",
    "\n",
    "## 4. Indexación y Selección de datos <a name=\"indexacion\"></a>\n",
    "\n",
    "En pandas, seleccionar filas y columnas puede hacerse de distintas maneras. Veremos las más usadas.\n",
    "\n",
    "### 4.1 Selección con `[]`\n",
    "\n",
    "- `df[\"columna\"]` permite seleccionar una única columna, devolviendo una Serie.\n",
    "- `df[[\"columna1\", \"columna2\"]]` permite seleccionar varias columnas, devolviendo otro DataFrame.\n",
    "- `df[condicion]` permite filtrar filas según una condición booleana.\n"
   ]
  },
  {
   "cell_type": "code",
   "execution_count": 15,
   "id": "4bd536c1",
   "metadata": {},
   "outputs": [
    {
     "name": "stdout",
     "output_type": "stream",
     "text": [
      "DataFrame de ejemplo:\n",
      "   A   B         C\n",
      "0  1  10      rojo\n",
      "1  2  20      azul\n",
      "2  3  30     verde\n",
      "3  4  40  amarillo\n",
      "\n",
      "Seleccionar la columna 'A':\n",
      "0    1\n",
      "1    2\n",
      "2    3\n",
      "3    4\n",
      "Name: A, dtype: int64\n",
      "\n",
      "Seleccionar columnas 'A' y 'B':\n",
      "   A   B\n",
      "0  1  10\n",
      "1  2  20\n",
      "2  3  30\n",
      "3  4  40\n",
      "\n",
      "Filtrar filas donde 'A' sea mayor que 2:\n",
      "   A   B         C\n",
      "2  3  30     verde\n",
      "3  4  40  amarillo\n"
     ]
    }
   ],
   "source": [
    "# 4.1 - Ejemplos de selección con []\n",
    "df = pd.DataFrame({\n",
    "    \"A\": [1, 2, 3, 4],\n",
    "    \"B\": [10, 20, 30, 40],\n",
    "    \"C\": [\"rojo\", \"azul\", \"verde\", \"amarillo\"]\n",
    "})\n",
    "\n",
    "print(\"DataFrame de ejemplo:\")\n",
    "print(df)\n",
    "\n",
    "print(\"\\nSeleccionar la columna 'A':\")\n",
    "print(df[\"A\"])\n",
    "\n",
    "print(\"\\nSeleccionar columnas 'A' y 'B':\")\n",
    "print(df[[\"A\", \"B\"]])\n",
    "\n",
    "print(\"\\nFiltrar filas donde 'A' sea mayor que 2:\")\n",
    "filtro = df[\"A\"] > 2\n",
    "print(df[filtro])\n"
   ]
  },
  {
   "cell_type": "markdown",
   "id": "ae85df49",
   "metadata": {},
   "source": [
    "### 4.2 Selección con `.loc[]` y `.iloc[]`\n",
    "\n",
    "- `df.loc[fila, columna]`: selección basada en **etiquetas** (nombres de índice y columnas).\n",
    "- `df.iloc[fila, columna]`: selección basada en **posiciones** (índices enteros).\n",
    "\n",
    "**Nota**: el primer parámetro selecciona las filas y el segundo las columnas. Puedes usar rebanadas (slices) y listas/arrays para seleccionar múltiples filas o columnas.\n"
   ]
  },
  {
   "cell_type": "code",
   "execution_count": 16,
   "id": "83205b7b",
   "metadata": {},
   "outputs": [
    {
     "name": "stdout",
     "output_type": "stream",
     "text": [
      "DataFrame de ejemplo (df2):\n",
      "       col1  col2  col3  col4\n",
      "fila1     1     2     3     4\n",
      "fila2     5     6     7     8\n",
      "fila3     9    10    11    12\n",
      "fila4    13    14    15    16\n",
      "\n",
      "Usando loc para seleccionar fila2 y col2, col3:\n",
      "col2    6\n",
      "col3    7\n",
      "Name: fila2, dtype: int32\n",
      "\n",
      "Usando loc con rebanado de filas y columnas:\n",
      "       col2  col3  col4\n",
      "fila1     2     3     4\n",
      "fila2     6     7     8\n",
      "fila3    10    11    12\n",
      "\n",
      "Usando iloc para seleccionar fila 1 y columnas 1 a 3 (posiciones):\n",
      "col2    2\n",
      "col3    3\n",
      "Name: fila1, dtype: int32\n",
      "\n",
      "Usando iloc con rebanado en filas y columnas:\n",
      "       col3  col4\n",
      "fila2     7     8\n",
      "fila3    11    12\n"
     ]
    }
   ],
   "source": [
    "# 4.2 - Ejemplos con .loc[] e .iloc[]\n",
    "\n",
    "df2 = pd.DataFrame(\n",
    "    data=np.arange(1, 17).reshape((4, 4)),\n",
    "    index=[\"fila1\", \"fila2\", \"fila3\", \"fila4\"],\n",
    "    columns=[\"col1\", \"col2\", \"col3\", \"col4\"]\n",
    ")\n",
    "\n",
    "print(\"DataFrame de ejemplo (df2):\")\n",
    "print(df2)\n",
    "\n",
    "# loc usa las ETIQUETAS de filas y columnas\n",
    "print(\"\\nUsando loc para seleccionar fila2 y col2, col3:\")\n",
    "print(df2.loc[\"fila2\", [\"col2\", \"col3\"]])\n",
    "\n",
    "print(\"\\nUsando loc con rebanado de filas y columnas:\")\n",
    "print(df2.loc[\"fila1\":\"fila3\", \"col2\":\"col4\"])\n",
    "\n",
    "# iloc usa los ÍNDICES enteros\n",
    "print(\"\\nUsando iloc para seleccionar fila 1 y columnas 1 a 3 (posiciones):\")\n",
    "print(df2.iloc[0, 1:3])\n",
    "\n",
    "print(\"\\nUsando iloc con rebanado en filas y columnas:\")\n",
    "print(df2.iloc[1:3, 2:4])\n"
   ]
  },
  {
   "cell_type": "markdown",
   "id": "60d8e9eb",
   "metadata": {},
   "source": [
    "### 4.3 Filtrado de datos\n",
    "\n",
    "Cuando combinamos lo aprendido, podemos realizar filtrados condicionales más complejos:\n",
    "- Combinación de condiciones con `&` (AND) y `|` (OR).\n",
    "- Uso de paréntesis para agrupar expresiones.\n"
   ]
  },
  {
   "cell_type": "code",
   "execution_count": 17,
   "id": "683a5924",
   "metadata": {},
   "outputs": [
    {
     "name": "stdout",
     "output_type": "stream",
     "text": [
      "DataFrame (df_filtrado):\n",
      "  Producto  Precio  Cantidad\n",
      "0  Manzana       3        10\n",
      "1  Naranja       2        12\n",
      "2     Pera       4         7\n",
      "3  Manzana       5         5\n",
      "4  Naranja       1        20\n",
      "\n",
      "Filas con Manzana y precio > 4:\n",
      "  Producto  Precio  Cantidad\n",
      "3  Manzana       5         5\n",
      "\n",
      "Filas con cantidad > 10 o precio <= 2:\n",
      "  Producto  Precio  Cantidad\n",
      "1  Naranja       2        12\n",
      "4  Naranja       1        20\n"
     ]
    }
   ],
   "source": [
    "# 4.3 - Ejemplo de filtrado de datos con múltiples condiciones\n",
    "df_filtrado = pd.DataFrame({\n",
    "    \"Producto\": [\"Manzana\", \"Naranja\", \"Pera\", \"Manzana\", \"Naranja\"],\n",
    "    \"Precio\": [3, 2, 4, 5, 1],\n",
    "    \"Cantidad\": [10, 12, 7, 5, 20]\n",
    "})\n",
    "\n",
    "print(\"DataFrame (df_filtrado):\")\n",
    "print(df_filtrado)\n",
    "\n",
    "# Filtrar filas donde el producto sea \"Manzana\" y el precio sea mayor que 4\n",
    "condicion = (df_filtrado[\"Producto\"] == \"Manzana\") & (df_filtrado[\"Precio\"] > 4)\n",
    "print(\"\\nFilas con Manzana y precio > 4:\")\n",
    "print(df_filtrado[condicion])\n",
    "\n",
    "# Filtrar filas donde la cantidad sea > 10 o el precio sea <= 2\n",
    "condicion_or = (df_filtrado[\"Cantidad\"] > 10) | (df_filtrado[\"Precio\"] <= 2)\n",
    "print(\"\\nFilas con cantidad > 10 o precio <= 2:\")\n",
    "print(df_filtrado[condicion_or])\n"
   ]
  },
  {
   "cell_type": "markdown",
   "id": "4fd7d8a0",
   "metadata": {},
   "source": [
    "---\n",
    "\n",
    "## 5. Conclusión <a name=\"conclusion\"></a>\n",
    "\n",
    "En esta clase aprendiste:\n",
    "- A crear y manipular `Series` y `DataFrames`.\n",
    "- A indexar y seleccionar datos de diferentes maneras.\n",
    "- A realizar filtros condicionales sobre los datos.\n"
   ]
  }
 ],
 "metadata": {
  "kernelspec": {
   "display_name": "Python 3",
   "language": "python",
   "name": "python3"
  },
  "language_info": {
   "codemirror_mode": {
    "name": "ipython",
    "version": 3
   },
   "file_extension": ".py",
   "mimetype": "text/x-python",
   "name": "python",
   "nbconvert_exporter": "python",
   "pygments_lexer": "ipython3",
   "version": "3.11.0"
  }
 },
 "nbformat": 4,
 "nbformat_minor": 5
}
