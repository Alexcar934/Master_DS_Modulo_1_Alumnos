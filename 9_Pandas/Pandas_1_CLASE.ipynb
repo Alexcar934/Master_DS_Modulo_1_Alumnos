{
 "cells": [
  {
   "cell_type": "markdown",
   "id": "c1edda9e",
   "metadata": {},
   "source": [
    "# Clase de Introducción a pandas\n",
    "\n",
    "Este notebook presentará los conceptos fundamentales de pandas:\n",
    "- Estructuras de datos: **Series** y **DataFrames**.\n",
    "- Técnicas de indexación y selección de datos.\n",
    "\n",
    "¡Recuerda ejecutar cada celda y observar los resultados!\n",
    "\n",
    "---\n",
    "\n",
    "## 1. Introducción a Pandas <a name=\"introduccion\"></a>\n",
    "\n",
    "Pandas es una biblioteca de Python especializada en la manipulación y el análisis de datos. Proporciona dos estructuras de datos principales:\n",
    "- **Series**: parecidas a un array unidimensional con etiquetas en cada valor.\n",
    "- **DataFrames**: tablas etiquetadas con filas y columnas, muy similares a una hoja de cálculo.\n",
    "\n",
    "Antes de empezar, necesitamos importar la biblioteca **pandas** (generalmente se importa como `pd`).\n",
    "\n"
   ]
  },
  {
   "cell_type": "code",
   "execution_count": 187,
   "id": "20882dd4",
   "metadata": {},
   "outputs": [],
   "source": [
    "import pandas as pd\n",
    "import numpy as np  # También será útil para generar datos aleatorios o arrays\n"
   ]
  },
  {
   "cell_type": "code",
   "execution_count": 188,
   "id": "d05ba980",
   "metadata": {},
   "outputs": [
    {
     "data": {
      "text/plain": [
       "81"
      ]
     },
     "execution_count": 188,
     "metadata": {},
     "output_type": "execute_result"
    }
   ],
   "source": [
    "np.random.randint(1,100)"
   ]
  },
  {
   "cell_type": "markdown",
   "id": "7a6b0318",
   "metadata": {},
   "source": [
    "---\n",
    "\n",
    "## 2. Series <a name=\"series\"></a>\n",
    "\n",
    "Las Series son la estructura de datos más simple en pandas. Piensa en ellas como un vector unidimensional de datos con un índice que identifica a cada elemento.\n",
    "\n",
    "### 2.1 Creación de Series\n",
    "\n",
    "Podemos crear una `Series` a partir de:\n",
    "- Una lista de Python.\n",
    "- Un array de NumPy.\n",
    "- Un diccionario.\n"
   ]
  },
  {
   "cell_type": "code",
   "execution_count": 189,
   "id": "1a7c4c9f",
   "metadata": {},
   "outputs": [
    {
     "name": "stdout",
     "output_type": "stream",
     "text": [
      "Serie desde lista:\n",
      "0    10\n",
      "1    20\n",
      "2    30\n",
      "3    40\n",
      "dtype: int64\n",
      "<class 'pandas.core.series.Series'>\n",
      "\n",
      "\n",
      "Serie desde array:\n",
      "0    5\n",
      "1    6\n",
      "2    7\n",
      "3    8\n",
      "dtype: int64\n",
      "\n",
      "\n"
     ]
    }
   ],
   "source": [
    "# 1) A partir de una lista\n",
    "lista = [10, 20, 30, 40]\n",
    "serie_desde_lista = pd.Series(lista)\n",
    "print(\"Serie desde lista:\")\n",
    "print(serie_desde_lista)\n",
    "print(type(serie_desde_lista))\n",
    "print(\"\\n\")\n",
    "\n",
    "serie_desde_lista[0::2]\n",
    "\n",
    "# 2) A partir de un array de NumPy\n",
    "array = np.array([5, 6, 7, 8])\n",
    "serie_desde_array = pd.Series(array)\n",
    "print(\"Serie desde array:\")\n",
    "print(serie_desde_array)\n",
    "print(\"\\n\")\n"
   ]
  },
  {
   "cell_type": "code",
   "execution_count": 190,
   "id": "e534b97a",
   "metadata": {},
   "outputs": [
    {
     "name": "stdout",
     "output_type": "stream",
     "text": [
      "Serie desde diccionario:\n",
      "a    1\n",
      "b    2\n",
      "c    3\n",
      "dtype: int64\n"
     ]
    },
    {
     "data": {
      "text/plain": [
       "a    1\n",
       "b    2\n",
       "c    3\n",
       "dtype: int64"
      ]
     },
     "execution_count": 190,
     "metadata": {},
     "output_type": "execute_result"
    }
   ],
   "source": [
    "# 2.1 - Ejemplos de creación de Series\n",
    "# 3) A partir de un diccionario\n",
    "diccionario = {'a': 1, 'b': 2, 'c': 3}\n",
    "serie_desde_diccionario = pd.Series(diccionario)\n",
    "print(\"Serie desde diccionario:\")\n",
    "print(serie_desde_diccionario)\n",
    "\n",
    "serie_desde_diccionario\n"
   ]
  },
  {
   "cell_type": "markdown",
   "id": "d53cc9ed",
   "metadata": {},
   "source": [
    "### 2.2 Accediendo a datos en Series\n",
    "\n",
    "Para acceder a los datos en una `Series` podemos usar:\n",
    "- El índice numérico (similar a listas/arrays).\n",
    "- El índice personalizado (si está disponible).\n",
    "- Slice (rebanadas).\n"
   ]
  },
  {
   "cell_type": "code",
   "execution_count": 191,
   "id": "88de4c29",
   "metadata": {},
   "outputs": [
    {
     "name": "stdout",
     "output_type": "stream",
     "text": [
      "Serie ejemplo:\n",
      "x    10\n",
      "y    20\n",
      "z    30\n",
      "w    40\n",
      "dtype: int64\n",
      "\n",
      "Acceder a un valor por etiqueta ('y'):\n",
      "20\n",
      "\n",
      "Acceder a un valor por índice (2):\n",
      "30\n",
      "\n",
      "Rebanado de elementos (dos primeros):\n",
      "x    10\n",
      "y    20\n",
      "dtype: int64\n"
     ]
    },
    {
     "name": "stderr",
     "output_type": "stream",
     "text": [
      "/var/folders/k3/4fnd1bwj7kj0p5w1l0grryl00000gp/T/ipykernel_708/880161080.py:12: FutureWarning: Series.__getitem__ treating keys as positions is deprecated. In a future version, integer keys will always be treated as labels (consistent with DataFrame behavior). To access a value by position, use `ser.iloc[pos]`\n",
      "  print(serie_ejemplo[2])\n"
     ]
    }
   ],
   "source": [
    "# 2.2 - Ejemplos de acceso a datos en Series\n",
    "\n",
    "serie_ejemplo = pd.Series([10, 20, 30, 40], index=[\"x\", \"y\", \"z\", \"w\"])\n",
    "\n",
    "print(\"Serie ejemplo:\")\n",
    "print(serie_ejemplo)\n",
    "\n",
    "print(\"\\nAcceder a un valor por etiqueta ('y'):\")\n",
    "print(serie_ejemplo[\"y\"])\n",
    "\n",
    "print(\"\\nAcceder a un valor por índice (2):\")\n",
    "print(serie_ejemplo[2])\n",
    "\n",
    "print(\"\\nRebanado de elementos (dos primeros):\")\n",
    "print(serie_ejemplo[:2])\n"
   ]
  },
  {
   "cell_type": "markdown",
   "id": "df6695de",
   "metadata": {},
   "source": [
    "---\n",
    "\n",
    "## 3. DataFrames <a name=\"dataframes\"></a>\n",
    "\n",
    "Un `DataFrame` es como una tabla con filas y columnas, cada columna es internamente una Serie independiente. Podemos crear un DataFrame de varias maneras:\n",
    "\n",
    "### 3.1 Creación de DataFrames\n",
    "\n",
    "- A partir de diccionarios de listas o de Series.\n",
    "- A partir de archivos CSV, Excel, etc. (en esta clase, haremos un ejemplo sencillo con diccionarios).\n"
   ]
  },
  {
   "cell_type": "code",
   "execution_count": 192,
   "id": "de21f057",
   "metadata": {},
   "outputs": [],
   "source": [
    "# 3.1 - Ejemplos de creación de DataFrame\n",
    "\n",
    "# 1) A partir de un diccionario de listas\n",
    "datos = {\n",
    "    \"Comprador\": [\"Ana\", \"Bob\", \"Cecilia\"],\n",
    "    \"Edad\": [23, 35, 29],\n",
    "    \"Ciudad\": [\"Madrid\", \"Barcelona\", \"Valencia\"]\n",
    "}\n",
    "\n",
    "df = pd.DataFrame(datos)"
   ]
  },
  {
   "cell_type": "code",
   "execution_count": 193,
   "id": "0f1fce0a",
   "metadata": {},
   "outputs": [],
   "source": [
    "datos['ID'] = 2"
   ]
  },
  {
   "cell_type": "code",
   "execution_count": 194,
   "id": "41bbb85b",
   "metadata": {},
   "outputs": [
    {
     "data": {
      "text/plain": [
       "{'Comprador': ['Ana', 'Bob', 'Cecilia'],\n",
       " 'Edad': [23, 35, 29],\n",
       " 'Ciudad': ['Madrid', 'Barcelona', 'Valencia'],\n",
       " 'ID': 2}"
      ]
     },
     "execution_count": 194,
     "metadata": {},
     "output_type": "execute_result"
    }
   ],
   "source": [
    "datos"
   ]
  },
  {
   "cell_type": "code",
   "execution_count": 195,
   "id": "fb86b8e6",
   "metadata": {},
   "outputs": [
    {
     "data": {
      "text/html": [
       "<div>\n",
       "<style scoped>\n",
       "    .dataframe tbody tr th:only-of-type {\n",
       "        vertical-align: middle;\n",
       "    }\n",
       "\n",
       "    .dataframe tbody tr th {\n",
       "        vertical-align: top;\n",
       "    }\n",
       "\n",
       "    .dataframe thead th {\n",
       "        text-align: right;\n",
       "    }\n",
       "</style>\n",
       "<table border=\"1\" class=\"dataframe\">\n",
       "  <thead>\n",
       "    <tr style=\"text-align: right;\">\n",
       "      <th></th>\n",
       "      <th>Comprador</th>\n",
       "      <th>Edad</th>\n",
       "      <th>Ciudad</th>\n",
       "    </tr>\n",
       "  </thead>\n",
       "  <tbody>\n",
       "    <tr>\n",
       "      <th>0</th>\n",
       "      <td>Ana</td>\n",
       "      <td>23</td>\n",
       "      <td>Madrid</td>\n",
       "    </tr>\n",
       "    <tr>\n",
       "      <th>1</th>\n",
       "      <td>Bob</td>\n",
       "      <td>35</td>\n",
       "      <td>Barcelona</td>\n",
       "    </tr>\n",
       "    <tr>\n",
       "      <th>2</th>\n",
       "      <td>Cecilia</td>\n",
       "      <td>29</td>\n",
       "      <td>Valencia</td>\n",
       "    </tr>\n",
       "  </tbody>\n",
       "</table>\n",
       "</div>"
      ],
      "text/plain": [
       "  Comprador  Edad     Ciudad\n",
       "0       Ana    23     Madrid\n",
       "1       Bob    35  Barcelona\n",
       "2   Cecilia    29   Valencia"
      ]
     },
     "execution_count": 195,
     "metadata": {},
     "output_type": "execute_result"
    }
   ],
   "source": [
    "df"
   ]
  },
  {
   "cell_type": "code",
   "execution_count": 196,
   "id": "6f68048d",
   "metadata": {},
   "outputs": [],
   "source": [
    "lista_nombres_mayus=[]\n",
    "\n",
    "for i in df['Comprador']:\n",
    "    lista_nombres_mayus.append(i.upper())"
   ]
  },
  {
   "cell_type": "code",
   "execution_count": 197,
   "id": "5a3750c1",
   "metadata": {},
   "outputs": [
    {
     "data": {
      "text/plain": [
       "['ANA', 'BOB', 'CECILIA']"
      ]
     },
     "execution_count": 197,
     "metadata": {},
     "output_type": "execute_result"
    }
   ],
   "source": [
    "lista_nombres_mayus"
   ]
  },
  {
   "cell_type": "code",
   "execution_count": 198,
   "id": "db94b8ad",
   "metadata": {},
   "outputs": [],
   "source": [
    "df['Nombres_MAYUS']=lista_nombres_mayus"
   ]
  },
  {
   "cell_type": "code",
   "execution_count": 199,
   "id": "b600007e",
   "metadata": {},
   "outputs": [],
   "source": [
    "df['Nombres_MAYUS'] = [i.upper() for i in df['Comprador']]"
   ]
  },
  {
   "cell_type": "code",
   "execution_count": 200,
   "id": "46435228",
   "metadata": {},
   "outputs": [],
   "source": [
    "df['textos'] = ['Hola me llamo Aaron','Hola me llamo Alex', 'Cuéntame otra historia']"
   ]
  },
  {
   "cell_type": "code",
   "execution_count": 201,
   "id": "a6a60dbd",
   "metadata": {},
   "outputs": [
    {
     "data": {
      "text/plain": [
       "['Hola', 'me', 'llamo']"
      ]
     },
     "execution_count": 201,
     "metadata": {},
     "output_type": "execute_result"
    }
   ],
   "source": [
    "def partir_strings(x):\n",
    "    return x.split()\n",
    "\n",
    "partir_strings('Hola me llamo')"
   ]
  },
  {
   "cell_type": "code",
   "execution_count": 202,
   "id": "dccfd979",
   "metadata": {},
   "outputs": [],
   "source": [
    "df['Nueva_columna'] = df['textos'].apply(partir_strings)"
   ]
  },
  {
   "cell_type": "code",
   "execution_count": 203,
   "id": "78df3f41",
   "metadata": {},
   "outputs": [],
   "source": [
    "df['Columna_numeros'] = [1,2,None]"
   ]
  },
  {
   "cell_type": "code",
   "execution_count": 204,
   "id": "f226a1a3",
   "metadata": {},
   "outputs": [],
   "source": [
    "df['Precios'] = ['1,357 €','2,456€','3,788.50 €']"
   ]
  },
  {
   "cell_type": "code",
   "execution_count": 205,
   "id": "fd76f21a",
   "metadata": {},
   "outputs": [
    {
     "data": {
      "text/html": [
       "<div>\n",
       "<style scoped>\n",
       "    .dataframe tbody tr th:only-of-type {\n",
       "        vertical-align: middle;\n",
       "    }\n",
       "\n",
       "    .dataframe tbody tr th {\n",
       "        vertical-align: top;\n",
       "    }\n",
       "\n",
       "    .dataframe thead th {\n",
       "        text-align: right;\n",
       "    }\n",
       "</style>\n",
       "<table border=\"1\" class=\"dataframe\">\n",
       "  <thead>\n",
       "    <tr style=\"text-align: right;\">\n",
       "      <th></th>\n",
       "      <th>Comprador</th>\n",
       "      <th>Edad</th>\n",
       "      <th>Ciudad</th>\n",
       "      <th>Nombres_MAYUS</th>\n",
       "      <th>textos</th>\n",
       "      <th>Nueva_columna</th>\n",
       "      <th>Columna_numeros</th>\n",
       "      <th>Precios</th>\n",
       "    </tr>\n",
       "  </thead>\n",
       "  <tbody>\n",
       "    <tr>\n",
       "      <th>0</th>\n",
       "      <td>Ana</td>\n",
       "      <td>23</td>\n",
       "      <td>Madrid</td>\n",
       "      <td>ANA</td>\n",
       "      <td>Hola me llamo Aaron</td>\n",
       "      <td>[Hola, me, llamo, Aaron]</td>\n",
       "      <td>1.0</td>\n",
       "      <td>1,357 €</td>\n",
       "    </tr>\n",
       "    <tr>\n",
       "      <th>1</th>\n",
       "      <td>Bob</td>\n",
       "      <td>35</td>\n",
       "      <td>Barcelona</td>\n",
       "      <td>BOB</td>\n",
       "      <td>Hola me llamo Alex</td>\n",
       "      <td>[Hola, me, llamo, Alex]</td>\n",
       "      <td>2.0</td>\n",
       "      <td>2,456€</td>\n",
       "    </tr>\n",
       "    <tr>\n",
       "      <th>2</th>\n",
       "      <td>Cecilia</td>\n",
       "      <td>29</td>\n",
       "      <td>Valencia</td>\n",
       "      <td>CECILIA</td>\n",
       "      <td>Cuéntame otra historia</td>\n",
       "      <td>[Cuéntame, otra, historia]</td>\n",
       "      <td>NaN</td>\n",
       "      <td>3,788.50 €</td>\n",
       "    </tr>\n",
       "  </tbody>\n",
       "</table>\n",
       "</div>"
      ],
      "text/plain": [
       "  Comprador  Edad     Ciudad Nombres_MAYUS                  textos  \\\n",
       "0       Ana    23     Madrid           ANA     Hola me llamo Aaron   \n",
       "1       Bob    35  Barcelona           BOB      Hola me llamo Alex   \n",
       "2   Cecilia    29   Valencia       CECILIA  Cuéntame otra historia   \n",
       "\n",
       "                Nueva_columna  Columna_numeros     Precios  \n",
       "0    [Hola, me, llamo, Aaron]              1.0     1,357 €  \n",
       "1     [Hola, me, llamo, Alex]              2.0      2,456€  \n",
       "2  [Cuéntame, otra, historia]              NaN  3,788.50 €  "
      ]
     },
     "execution_count": 205,
     "metadata": {},
     "output_type": "execute_result"
    }
   ],
   "source": [
    "df"
   ]
  },
  {
   "cell_type": "code",
   "execution_count": 206,
   "id": "3dcf9532",
   "metadata": {},
   "outputs": [
    {
     "data": {
      "text/plain": [
       "True"
      ]
     },
     "execution_count": 206,
     "metadata": {},
     "output_type": "execute_result"
    }
   ],
   "source": [
    "float(df['Precios'][0].replace('€','').replace(',','').strip()) >1000"
   ]
  },
  {
   "cell_type": "code",
   "execution_count": null,
   "id": "11d52a43",
   "metadata": {},
   "outputs": [],
   "source": []
  },
  {
   "cell_type": "code",
   "execution_count": 207,
   "id": "759c6841",
   "metadata": {},
   "outputs": [
    {
     "data": {
      "text/plain": [
       "'3788.50 '"
      ]
     },
     "execution_count": 207,
     "metadata": {},
     "output_type": "execute_result"
    }
   ],
   "source": [
    "df['Precios'][2].replace('€','').replace(',','')"
   ]
  },
  {
   "cell_type": "code",
   "execution_count": 208,
   "id": "44e250e5",
   "metadata": {},
   "outputs": [
    {
     "data": {
      "text/plain": [
       "'Hola me llamo'"
      ]
     },
     "execution_count": 208,
     "metadata": {},
     "output_type": "execute_result"
    }
   ],
   "source": [
    "texto = 'Hola me llamo Aaron'\n",
    "\n",
    "texto[0:texto.find(' A')]"
   ]
  },
  {
   "cell_type": "code",
   "execution_count": 209,
   "id": "9a187a6f",
   "metadata": {},
   "outputs": [
    {
     "data": {
      "text/plain": [
       "14"
      ]
     },
     "execution_count": 209,
     "metadata": {},
     "output_type": "execute_result"
    }
   ],
   "source": [
    "texto.find('Aaron')"
   ]
  },
  {
   "cell_type": "code",
   "execution_count": 210,
   "id": "0816bb86",
   "metadata": {},
   "outputs": [],
   "source": [
    "lista_precios_limpios = []\n",
    "\n",
    "for i in df['Precios']:\n",
    "    lista_precios_limpios.append(float(i.replace('€','').replace(',','').strip()))\n",
    "\n",
    "df['Precios_limpios']=lista_precios_limpios"
   ]
  },
  {
   "cell_type": "code",
   "execution_count": 211,
   "id": "3f10ac9a",
   "metadata": {},
   "outputs": [
    {
     "data": {
      "text/plain": [
       "[1357.0, 2456.0, 3788.5]"
      ]
     },
     "execution_count": 211,
     "metadata": {},
     "output_type": "execute_result"
    }
   ],
   "source": [
    "lista_precios_limpios"
   ]
  },
  {
   "cell_type": "code",
   "execution_count": 212,
   "id": "d3ee60bb",
   "metadata": {},
   "outputs": [],
   "source": [
    "df['Precios_limpios'] = [float(i.replace('€','').replace(',','').strip())for i in df['Precios']]"
   ]
  },
  {
   "cell_type": "code",
   "execution_count": 213,
   "id": "e107e519",
   "metadata": {},
   "outputs": [],
   "source": [
    "df_mask = df[['Comprador','Edad','Precios_limpios']]"
   ]
  },
  {
   "cell_type": "code",
   "execution_count": 214,
   "id": "b1cbe9d3",
   "metadata": {},
   "outputs": [
    {
     "name": "stdout",
     "output_type": "stream",
     "text": [
      "DataFrame a partir de diccionario de listas:\n",
      "  Comprador  Edad     Ciudad Nombres_MAYUS                  textos  \\\n",
      "0       Ana    23     Madrid           ANA     Hola me llamo Aaron   \n",
      "1       Bob    35  Barcelona           BOB      Hola me llamo Alex   \n",
      "2   Cecilia    29   Valencia       CECILIA  Cuéntame otra historia   \n",
      "\n",
      "                Nueva_columna  Columna_numeros     Precios  Precios_limpios  \n",
      "0    [Hola, me, llamo, Aaron]              1.0     1,357 €           1357.0  \n",
      "1     [Hola, me, llamo, Alex]              2.0      2,456€           2456.0  \n",
      "2  [Cuéntame, otra, historia]              NaN  3,788.50 €           3788.5  \n",
      "\n",
      "\n",
      "DataFrame con índice personalizado:\n",
      "    Comprador  Edad     Ciudad  ID\n",
      "ID1       Ana    23     Madrid   2\n",
      "ID2       Bob    35  Barcelona   2\n",
      "ID3   Cecilia    29   Valencia   2\n"
     ]
    }
   ],
   "source": [
    "\n",
    "print(\"DataFrame a partir de diccionario de listas:\")\n",
    "print(df)\n",
    "print(\"\\n\")\n",
    "\n",
    "# 2) También se puede personalizar el índice\n",
    "df_indexado = pd.DataFrame(datos, index=[\"ID1\", \"ID2\", \"ID3\"])\n",
    "print(\"DataFrame con índice personalizado:\")\n",
    "print(df_indexado)\n"
   ]
  },
  {
   "cell_type": "code",
   "execution_count": 215,
   "id": "42d90653",
   "metadata": {},
   "outputs": [],
   "source": [
    "df[['Comprador','Precios_limpios']].to_csv('miprimercsv.csv',index=False)"
   ]
  },
  {
   "cell_type": "code",
   "execution_count": 216,
   "id": "94dde5bf",
   "metadata": {},
   "outputs": [
    {
     "data": {
      "text/html": [
       "<div>\n",
       "<style scoped>\n",
       "    .dataframe tbody tr th:only-of-type {\n",
       "        vertical-align: middle;\n",
       "    }\n",
       "\n",
       "    .dataframe tbody tr th {\n",
       "        vertical-align: top;\n",
       "    }\n",
       "\n",
       "    .dataframe thead th {\n",
       "        text-align: right;\n",
       "    }\n",
       "</style>\n",
       "<table border=\"1\" class=\"dataframe\">\n",
       "  <thead>\n",
       "    <tr style=\"text-align: right;\">\n",
       "      <th></th>\n",
       "      <th>Comprador</th>\n",
       "      <th>Precios_limpios</th>\n",
       "    </tr>\n",
       "  </thead>\n",
       "  <tbody>\n",
       "    <tr>\n",
       "      <th>0</th>\n",
       "      <td>Ana</td>\n",
       "      <td>1357.0</td>\n",
       "    </tr>\n",
       "    <tr>\n",
       "      <th>1</th>\n",
       "      <td>Bob</td>\n",
       "      <td>2456.0</td>\n",
       "    </tr>\n",
       "    <tr>\n",
       "      <th>2</th>\n",
       "      <td>Cecilia</td>\n",
       "      <td>3788.5</td>\n",
       "    </tr>\n",
       "  </tbody>\n",
       "</table>\n",
       "</div>"
      ],
      "text/plain": [
       "  Comprador  Precios_limpios\n",
       "0       Ana           1357.0\n",
       "1       Bob           2456.0\n",
       "2   Cecilia           3788.5"
      ]
     },
     "execution_count": 216,
     "metadata": {},
     "output_type": "execute_result"
    }
   ],
   "source": [
    "pd.read_csv('miprimercsv.csv')"
   ]
  },
  {
   "cell_type": "markdown",
   "id": "06d61ad7",
   "metadata": {},
   "source": [
    "### 3.2 Operaciones básicas con DataFrames\n",
    "\n",
    "Algunas operaciones comunes en DataFrames:\n",
    "- Ver las primeras filas: `.head()`\n",
    "- Ver las últimas filas: `.tail()`\n",
    "- Resumen de datos: `.info()`\n",
    "- Descripción estadística: `.describe()`\n"
   ]
  },
  {
   "cell_type": "code",
   "execution_count": 217,
   "id": "7d5bff9f",
   "metadata": {},
   "outputs": [
    {
     "data": {
      "text/html": [
       "<div>\n",
       "<style scoped>\n",
       "    .dataframe tbody tr th:only-of-type {\n",
       "        vertical-align: middle;\n",
       "    }\n",
       "\n",
       "    .dataframe tbody tr th {\n",
       "        vertical-align: top;\n",
       "    }\n",
       "\n",
       "    .dataframe thead th {\n",
       "        text-align: right;\n",
       "    }\n",
       "</style>\n",
       "<table border=\"1\" class=\"dataframe\">\n",
       "  <thead>\n",
       "    <tr style=\"text-align: right;\">\n",
       "      <th></th>\n",
       "      <th>Comprador</th>\n",
       "      <th>Edad</th>\n",
       "      <th>Ciudad</th>\n",
       "      <th>Nombres_MAYUS</th>\n",
       "      <th>textos</th>\n",
       "      <th>Nueva_columna</th>\n",
       "      <th>Columna_numeros</th>\n",
       "      <th>Precios</th>\n",
       "      <th>Precios_limpios</th>\n",
       "    </tr>\n",
       "  </thead>\n",
       "  <tbody>\n",
       "    <tr>\n",
       "      <th>2</th>\n",
       "      <td>Cecilia</td>\n",
       "      <td>29</td>\n",
       "      <td>Valencia</td>\n",
       "      <td>CECILIA</td>\n",
       "      <td>Cuéntame otra historia</td>\n",
       "      <td>[Cuéntame, otra, historia]</td>\n",
       "      <td>NaN</td>\n",
       "      <td>3,788.50 €</td>\n",
       "      <td>3788.5</td>\n",
       "    </tr>\n",
       "    <tr>\n",
       "      <th>1</th>\n",
       "      <td>Bob</td>\n",
       "      <td>35</td>\n",
       "      <td>Barcelona</td>\n",
       "      <td>BOB</td>\n",
       "      <td>Hola me llamo Alex</td>\n",
       "      <td>[Hola, me, llamo, Alex]</td>\n",
       "      <td>2.0</td>\n",
       "      <td>2,456€</td>\n",
       "      <td>2456.0</td>\n",
       "    </tr>\n",
       "  </tbody>\n",
       "</table>\n",
       "</div>"
      ],
      "text/plain": [
       "  Comprador  Edad     Ciudad Nombres_MAYUS                  textos  \\\n",
       "2   Cecilia    29   Valencia       CECILIA  Cuéntame otra historia   \n",
       "1       Bob    35  Barcelona           BOB      Hola me llamo Alex   \n",
       "\n",
       "                Nueva_columna  Columna_numeros     Precios  Precios_limpios  \n",
       "2  [Cuéntame, otra, historia]              NaN  3,788.50 €           3788.5  \n",
       "1     [Hola, me, llamo, Alex]              2.0      2,456€           2456.0  "
      ]
     },
     "execution_count": 217,
     "metadata": {},
     "output_type": "execute_result"
    }
   ],
   "source": [
    "df.sample(2, random_state=41) #Te muestra 2 random"
   ]
  },
  {
   "cell_type": "code",
   "execution_count": 218,
   "id": "cd252b8e",
   "metadata": {},
   "outputs": [
    {
     "data": {
      "text/html": [
       "<div>\n",
       "<style scoped>\n",
       "    .dataframe tbody tr th:only-of-type {\n",
       "        vertical-align: middle;\n",
       "    }\n",
       "\n",
       "    .dataframe tbody tr th {\n",
       "        vertical-align: top;\n",
       "    }\n",
       "\n",
       "    .dataframe thead th {\n",
       "        text-align: right;\n",
       "    }\n",
       "</style>\n",
       "<table border=\"1\" class=\"dataframe\">\n",
       "  <thead>\n",
       "    <tr style=\"text-align: right;\">\n",
       "      <th></th>\n",
       "      <th>Comprador</th>\n",
       "      <th>Edad</th>\n",
       "      <th>Ciudad</th>\n",
       "      <th>Nombres_MAYUS</th>\n",
       "      <th>textos</th>\n",
       "      <th>Nueva_columna</th>\n",
       "      <th>Columna_numeros</th>\n",
       "      <th>Precios</th>\n",
       "      <th>Precios_limpios</th>\n",
       "    </tr>\n",
       "  </thead>\n",
       "  <tbody>\n",
       "    <tr>\n",
       "      <th>1</th>\n",
       "      <td>Bob</td>\n",
       "      <td>35</td>\n",
       "      <td>Barcelona</td>\n",
       "      <td>BOB</td>\n",
       "      <td>Hola me llamo Alex</td>\n",
       "      <td>[Hola, me, llamo, Alex]</td>\n",
       "      <td>2.0</td>\n",
       "      <td>2,456€</td>\n",
       "      <td>2456.0</td>\n",
       "    </tr>\n",
       "    <tr>\n",
       "      <th>2</th>\n",
       "      <td>Cecilia</td>\n",
       "      <td>29</td>\n",
       "      <td>Valencia</td>\n",
       "      <td>CECILIA</td>\n",
       "      <td>Cuéntame otra historia</td>\n",
       "      <td>[Cuéntame, otra, historia]</td>\n",
       "      <td>NaN</td>\n",
       "      <td>3,788.50 €</td>\n",
       "      <td>3788.5</td>\n",
       "    </tr>\n",
       "  </tbody>\n",
       "</table>\n",
       "</div>"
      ],
      "text/plain": [
       "  Comprador  Edad     Ciudad Nombres_MAYUS                  textos  \\\n",
       "1       Bob    35  Barcelona           BOB      Hola me llamo Alex   \n",
       "2   Cecilia    29   Valencia       CECILIA  Cuéntame otra historia   \n",
       "\n",
       "                Nueva_columna  Columna_numeros     Precios  Precios_limpios  \n",
       "1     [Hola, me, llamo, Alex]              2.0      2,456€           2456.0  \n",
       "2  [Cuéntame, otra, historia]              NaN  3,788.50 €           3788.5  "
      ]
     },
     "execution_count": 218,
     "metadata": {},
     "output_type": "execute_result"
    }
   ],
   "source": [
    "df.tail(2)"
   ]
  },
  {
   "cell_type": "code",
   "execution_count": 219,
   "id": "759314db",
   "metadata": {},
   "outputs": [
    {
     "name": "stdout",
     "output_type": "stream",
     "text": [
      "Primeras filas del DataFrame:\n",
      "  Comprador  Edad     Ciudad Nombres_MAYUS                  textos  \\\n",
      "0       Ana    23     Madrid           ANA     Hola me llamo Aaron   \n",
      "1       Bob    35  Barcelona           BOB      Hola me llamo Alex   \n",
      "2   Cecilia    29   Valencia       CECILIA  Cuéntame otra historia   \n",
      "\n",
      "                Nueva_columna  Columna_numeros     Precios  Precios_limpios  \n",
      "0    [Hola, me, llamo, Aaron]              1.0     1,357 €           1357.0  \n",
      "1     [Hola, me, llamo, Alex]              2.0      2,456€           2456.0  \n",
      "2  [Cuéntame, otra, historia]              NaN  3,788.50 €           3788.5  \n",
      "\n",
      "Información del DataFrame (columnas, tipos de datos, etc.):\n",
      "<class 'pandas.core.frame.DataFrame'>\n",
      "RangeIndex: 3 entries, 0 to 2\n",
      "Data columns (total 9 columns):\n",
      " #   Column           Non-Null Count  Dtype  \n",
      "---  ------           --------------  -----  \n",
      " 0   Comprador        3 non-null      object \n",
      " 1   Edad             3 non-null      int64  \n",
      " 2   Ciudad           3 non-null      object \n",
      " 3   Nombres_MAYUS    3 non-null      object \n",
      " 4   textos           3 non-null      object \n",
      " 5   Nueva_columna    3 non-null      object \n",
      " 6   Columna_numeros  2 non-null      float64\n",
      " 7   Precios          3 non-null      object \n",
      " 8   Precios_limpios  3 non-null      float64\n",
      "dtypes: float64(2), int64(1), object(6)\n",
      "memory usage: 348.0+ bytes\n",
      "None\n",
      "\n",
      "Descripción estadística (solo columnas numéricas):\n",
      "       Edad  Columna_numeros  Precios_limpios\n",
      "count   3.0         2.000000         3.000000\n",
      "mean   29.0         1.500000      2533.833333\n",
      "std     6.0         0.707107      1217.617174\n",
      "min    23.0         1.000000      1357.000000\n",
      "25%    26.0         1.250000      1906.500000\n",
      "50%    29.0         1.500000      2456.000000\n",
      "75%    32.0         1.750000      3122.250000\n",
      "max    35.0         2.000000      3788.500000\n"
     ]
    }
   ],
   "source": [
    "# 3.2 - Operaciones básicas\n",
    "\n",
    "print(\"Primeras filas del DataFrame:\")\n",
    "print(df.head(5))\n",
    "\n",
    "print(\"\\nInformación del DataFrame (columnas, tipos de datos, etc.):\")\n",
    "print(df.info())\n",
    "\n",
    "print(\"\\nDescripción estadística (solo columnas numéricas):\")\n",
    "print(df.describe())\n"
   ]
  },
  {
   "cell_type": "code",
   "execution_count": 220,
   "id": "146bd0b5",
   "metadata": {},
   "outputs": [
    {
     "data": {
      "text/html": [
       "<div>\n",
       "<style scoped>\n",
       "    .dataframe tbody tr th:only-of-type {\n",
       "        vertical-align: middle;\n",
       "    }\n",
       "\n",
       "    .dataframe tbody tr th {\n",
       "        vertical-align: top;\n",
       "    }\n",
       "\n",
       "    .dataframe thead th {\n",
       "        text-align: right;\n",
       "    }\n",
       "</style>\n",
       "<table border=\"1\" class=\"dataframe\">\n",
       "  <thead>\n",
       "    <tr style=\"text-align: right;\">\n",
       "      <th></th>\n",
       "      <th>Comprador</th>\n",
       "      <th>Edad</th>\n",
       "      <th>Ciudad</th>\n",
       "      <th>Nombres_MAYUS</th>\n",
       "      <th>textos</th>\n",
       "      <th>Nueva_columna</th>\n",
       "      <th>Columna_numeros</th>\n",
       "      <th>Precios</th>\n",
       "      <th>Precios_limpios</th>\n",
       "    </tr>\n",
       "  </thead>\n",
       "  <tbody>\n",
       "    <tr>\n",
       "      <th>0</th>\n",
       "      <td>Ana</td>\n",
       "      <td>23</td>\n",
       "      <td>Madrid</td>\n",
       "      <td>ANA</td>\n",
       "      <td>Hola me llamo Aaron</td>\n",
       "      <td>[Hola, me, llamo, Aaron]</td>\n",
       "      <td>1.0</td>\n",
       "      <td>1,357 €</td>\n",
       "      <td>1357.0</td>\n",
       "    </tr>\n",
       "    <tr>\n",
       "      <th>1</th>\n",
       "      <td>Bob</td>\n",
       "      <td>35</td>\n",
       "      <td>Barcelona</td>\n",
       "      <td>BOB</td>\n",
       "      <td>Hola me llamo Alex</td>\n",
       "      <td>[Hola, me, llamo, Alex]</td>\n",
       "      <td>2.0</td>\n",
       "      <td>2,456€</td>\n",
       "      <td>2456.0</td>\n",
       "    </tr>\n",
       "    <tr>\n",
       "      <th>2</th>\n",
       "      <td>Cecilia</td>\n",
       "      <td>29</td>\n",
       "      <td>Valencia</td>\n",
       "      <td>CECILIA</td>\n",
       "      <td>Cuéntame otra historia</td>\n",
       "      <td>[Cuéntame, otra, historia]</td>\n",
       "      <td>NaN</td>\n",
       "      <td>3,788.50 €</td>\n",
       "      <td>3788.5</td>\n",
       "    </tr>\n",
       "  </tbody>\n",
       "</table>\n",
       "</div>"
      ],
      "text/plain": [
       "  Comprador  Edad     Ciudad Nombres_MAYUS                  textos  \\\n",
       "0       Ana    23     Madrid           ANA     Hola me llamo Aaron   \n",
       "1       Bob    35  Barcelona           BOB      Hola me llamo Alex   \n",
       "2   Cecilia    29   Valencia       CECILIA  Cuéntame otra historia   \n",
       "\n",
       "                Nueva_columna  Columna_numeros     Precios  Precios_limpios  \n",
       "0    [Hola, me, llamo, Aaron]              1.0     1,357 €           1357.0  \n",
       "1     [Hola, me, llamo, Alex]              2.0      2,456€           2456.0  \n",
       "2  [Cuéntame, otra, historia]              NaN  3,788.50 €           3788.5  "
      ]
     },
     "execution_count": 220,
     "metadata": {},
     "output_type": "execute_result"
    }
   ],
   "source": [
    "df"
   ]
  },
  {
   "cell_type": "code",
   "execution_count": 221,
   "id": "f47a72fb",
   "metadata": {},
   "outputs": [
    {
     "data": {
      "text/html": [
       "<div>\n",
       "<style scoped>\n",
       "    .dataframe tbody tr th:only-of-type {\n",
       "        vertical-align: middle;\n",
       "    }\n",
       "\n",
       "    .dataframe tbody tr th {\n",
       "        vertical-align: top;\n",
       "    }\n",
       "\n",
       "    .dataframe thead th {\n",
       "        text-align: right;\n",
       "    }\n",
       "</style>\n",
       "<table border=\"1\" class=\"dataframe\">\n",
       "  <thead>\n",
       "    <tr style=\"text-align: right;\">\n",
       "      <th></th>\n",
       "      <th>Edad</th>\n",
       "      <th>Columna_numeros</th>\n",
       "      <th>Precios_limpios</th>\n",
       "    </tr>\n",
       "  </thead>\n",
       "  <tbody>\n",
       "    <tr>\n",
       "      <th>count</th>\n",
       "      <td>3.0</td>\n",
       "      <td>2.000000</td>\n",
       "      <td>3.000000</td>\n",
       "    </tr>\n",
       "    <tr>\n",
       "      <th>mean</th>\n",
       "      <td>29.0</td>\n",
       "      <td>1.500000</td>\n",
       "      <td>2533.833333</td>\n",
       "    </tr>\n",
       "    <tr>\n",
       "      <th>std</th>\n",
       "      <td>6.0</td>\n",
       "      <td>0.707107</td>\n",
       "      <td>1217.617174</td>\n",
       "    </tr>\n",
       "    <tr>\n",
       "      <th>min</th>\n",
       "      <td>23.0</td>\n",
       "      <td>1.000000</td>\n",
       "      <td>1357.000000</td>\n",
       "    </tr>\n",
       "    <tr>\n",
       "      <th>25%</th>\n",
       "      <td>26.0</td>\n",
       "      <td>1.250000</td>\n",
       "      <td>1906.500000</td>\n",
       "    </tr>\n",
       "    <tr>\n",
       "      <th>50%</th>\n",
       "      <td>29.0</td>\n",
       "      <td>1.500000</td>\n",
       "      <td>2456.000000</td>\n",
       "    </tr>\n",
       "    <tr>\n",
       "      <th>75%</th>\n",
       "      <td>32.0</td>\n",
       "      <td>1.750000</td>\n",
       "      <td>3122.250000</td>\n",
       "    </tr>\n",
       "    <tr>\n",
       "      <th>max</th>\n",
       "      <td>35.0</td>\n",
       "      <td>2.000000</td>\n",
       "      <td>3788.500000</td>\n",
       "    </tr>\n",
       "  </tbody>\n",
       "</table>\n",
       "</div>"
      ],
      "text/plain": [
       "       Edad  Columna_numeros  Precios_limpios\n",
       "count   3.0         2.000000         3.000000\n",
       "mean   29.0         1.500000      2533.833333\n",
       "std     6.0         0.707107      1217.617174\n",
       "min    23.0         1.000000      1357.000000\n",
       "25%    26.0         1.250000      1906.500000\n",
       "50%    29.0         1.500000      2456.000000\n",
       "75%    32.0         1.750000      3122.250000\n",
       "max    35.0         2.000000      3788.500000"
      ]
     },
     "execution_count": 221,
     "metadata": {},
     "output_type": "execute_result"
    }
   ],
   "source": [
    "df.describe()"
   ]
  },
  {
   "cell_type": "code",
   "execution_count": 222,
   "id": "4babc501",
   "metadata": {},
   "outputs": [
    {
     "data": {
      "text/plain": [
       "np.float64(994.1802597561917)"
      ]
     },
     "execution_count": 222,
     "metadata": {},
     "output_type": "execute_result"
    }
   ],
   "source": [
    "np.std(df['Precios_limpios'])"
   ]
  },
  {
   "cell_type": "code",
   "execution_count": 223,
   "id": "f75d7b62",
   "metadata": {},
   "outputs": [
    {
     "data": {
      "text/plain": [
       "np.float64(1217.6171743751536)"
      ]
     },
     "execution_count": 223,
     "metadata": {},
     "output_type": "execute_result"
    }
   ],
   "source": [
    "df['Precios_limpios'].std()"
   ]
  },
  {
   "cell_type": "code",
   "execution_count": 224,
   "id": "d853b4f9",
   "metadata": {},
   "outputs": [
    {
     "data": {
      "text/html": [
       "<div>\n",
       "<style scoped>\n",
       "    .dataframe tbody tr th:only-of-type {\n",
       "        vertical-align: middle;\n",
       "    }\n",
       "\n",
       "    .dataframe tbody tr th {\n",
       "        vertical-align: top;\n",
       "    }\n",
       "\n",
       "    .dataframe thead th {\n",
       "        text-align: right;\n",
       "    }\n",
       "</style>\n",
       "<table border=\"1\" class=\"dataframe\">\n",
       "  <thead>\n",
       "    <tr style=\"text-align: right;\">\n",
       "      <th></th>\n",
       "      <th>Edad</th>\n",
       "      <th>Columna_numeros</th>\n",
       "      <th>Precios_limpios</th>\n",
       "    </tr>\n",
       "  </thead>\n",
       "  <tbody>\n",
       "    <tr>\n",
       "      <th>count</th>\n",
       "      <td>3.0</td>\n",
       "      <td>2.000000</td>\n",
       "      <td>3.000000</td>\n",
       "    </tr>\n",
       "    <tr>\n",
       "      <th>mean</th>\n",
       "      <td>29.0</td>\n",
       "      <td>1.500000</td>\n",
       "      <td>2533.833333</td>\n",
       "    </tr>\n",
       "    <tr>\n",
       "      <th>std</th>\n",
       "      <td>6.0</td>\n",
       "      <td>0.707107</td>\n",
       "      <td>1217.617174</td>\n",
       "    </tr>\n",
       "    <tr>\n",
       "      <th>min</th>\n",
       "      <td>23.0</td>\n",
       "      <td>1.000000</td>\n",
       "      <td>1357.000000</td>\n",
       "    </tr>\n",
       "    <tr>\n",
       "      <th>25%</th>\n",
       "      <td>26.0</td>\n",
       "      <td>1.250000</td>\n",
       "      <td>1906.500000</td>\n",
       "    </tr>\n",
       "    <tr>\n",
       "      <th>50%</th>\n",
       "      <td>29.0</td>\n",
       "      <td>1.500000</td>\n",
       "      <td>2456.000000</td>\n",
       "    </tr>\n",
       "    <tr>\n",
       "      <th>75%</th>\n",
       "      <td>32.0</td>\n",
       "      <td>1.750000</td>\n",
       "      <td>3122.250000</td>\n",
       "    </tr>\n",
       "    <tr>\n",
       "      <th>max</th>\n",
       "      <td>35.0</td>\n",
       "      <td>2.000000</td>\n",
       "      <td>3788.500000</td>\n",
       "    </tr>\n",
       "  </tbody>\n",
       "</table>\n",
       "</div>"
      ],
      "text/plain": [
       "       Edad  Columna_numeros  Precios_limpios\n",
       "count   3.0         2.000000         3.000000\n",
       "mean   29.0         1.500000      2533.833333\n",
       "std     6.0         0.707107      1217.617174\n",
       "min    23.0         1.000000      1357.000000\n",
       "25%    26.0         1.250000      1906.500000\n",
       "50%    29.0         1.500000      2456.000000\n",
       "75%    32.0         1.750000      3122.250000\n",
       "max    35.0         2.000000      3788.500000"
      ]
     },
     "execution_count": 224,
     "metadata": {},
     "output_type": "execute_result"
    }
   ],
   "source": [
    "df.describe()"
   ]
  },
  {
   "cell_type": "markdown",
   "id": "04d6d569",
   "metadata": {},
   "source": [
    "---\n",
    "\n",
    "## 4. Indexación y Selección de datos <a name=\"indexacion\"></a>\n",
    "\n",
    "En pandas, seleccionar filas y columnas puede hacerse de distintas maneras. Veremos las más usadas.\n",
    "\n",
    "### 4.1 Selección con `[]`\n",
    "\n",
    "- `df[\"columna\"]` permite seleccionar una única columna, devolviendo una Serie.\n",
    "- `df[[\"columna1\", \"columna2\"]]` permite seleccionar varias columnas, devolviendo otro DataFrame.\n",
    "- `df[condicion]` permite filtrar filas según una condición booleana.\n"
   ]
  },
  {
   "cell_type": "code",
   "execution_count": 225,
   "id": "0210e2c6",
   "metadata": {},
   "outputs": [
    {
     "data": {
      "text/plain": [
       "np.int64(2)"
      ]
     },
     "execution_count": 225,
     "metadata": {},
     "output_type": "execute_result"
    }
   ],
   "source": [
    "array_2d = np.array([[2,5],\n",
    "                     [3,4]])\n",
    "\n",
    "array_2d[0,0]"
   ]
  },
  {
   "cell_type": "code",
   "execution_count": 226,
   "id": "cceeb27d",
   "metadata": {},
   "outputs": [
    {
     "data": {
      "text/plain": [
       "np.float64(1.2909944487358056)"
      ]
     },
     "execution_count": 226,
     "metadata": {},
     "output_type": "execute_result"
    }
   ],
   "source": [
    "# 4.1 - Ejemplos de selección con []\n",
    "df = pd.DataFrame({\n",
    "    \"A\": [1, 2, 3, 4],\n",
    "    \"B\": [10, 20, 30, 40],\n",
    "    \"C\": [\"rojo\", \"azul\", \"verde\", \"amarillo\"]\n",
    "})\n",
    "\n",
    "df['A'].std()"
   ]
  },
  {
   "cell_type": "code",
   "execution_count": 227,
   "id": "4bd536c1",
   "metadata": {},
   "outputs": [
    {
     "name": "stdout",
     "output_type": "stream",
     "text": [
      "DataFrame de ejemplo:\n",
      "   A   B         C\n",
      "0  1  10      rojo\n",
      "1  2  20      azul\n",
      "2  3  30     verde\n",
      "3  4  40  amarillo\n",
      "\n",
      "Seleccionar la columna 'A':\n",
      "0    1\n",
      "1    2\n",
      "2    3\n",
      "3    4\n",
      "Name: A, dtype: int64\n",
      "\n",
      "Seleccionar columnas 'A' y 'B':\n",
      "   A   B\n",
      "0  1  10\n",
      "1  2  20\n",
      "2  3  30\n",
      "3  4  40\n"
     ]
    }
   ],
   "source": [
    "\n",
    "\n",
    "print(\"DataFrame de ejemplo:\")\n",
    "print(df)\n",
    "\n",
    "print(\"\\nSeleccionar la columna 'A':\")\n",
    "print(df[\"A\"])\n",
    "\n",
    "print(\"\\nSeleccionar columnas 'A' y 'B':\")\n",
    "print(df[[\"A\", \"B\"]])\n",
    "\n",
    "\n"
   ]
  },
  {
   "cell_type": "code",
   "execution_count": 228,
   "id": "8a222c7d",
   "metadata": {},
   "outputs": [
    {
     "name": "stdout",
     "output_type": "stream",
     "text": [
      "\n",
      "Filtrar filas donde 'A' sea mayor que 2:\n"
     ]
    },
    {
     "data": {
      "text/html": [
       "<div>\n",
       "<style scoped>\n",
       "    .dataframe tbody tr th:only-of-type {\n",
       "        vertical-align: middle;\n",
       "    }\n",
       "\n",
       "    .dataframe tbody tr th {\n",
       "        vertical-align: top;\n",
       "    }\n",
       "\n",
       "    .dataframe thead th {\n",
       "        text-align: right;\n",
       "    }\n",
       "</style>\n",
       "<table border=\"1\" class=\"dataframe\">\n",
       "  <thead>\n",
       "    <tr style=\"text-align: right;\">\n",
       "      <th></th>\n",
       "      <th>A</th>\n",
       "      <th>B</th>\n",
       "      <th>C</th>\n",
       "    </tr>\n",
       "  </thead>\n",
       "  <tbody>\n",
       "    <tr>\n",
       "      <th>0</th>\n",
       "      <td>1</td>\n",
       "      <td>10</td>\n",
       "      <td>rojo</td>\n",
       "    </tr>\n",
       "    <tr>\n",
       "      <th>1</th>\n",
       "      <td>2</td>\n",
       "      <td>20</td>\n",
       "      <td>azul</td>\n",
       "    </tr>\n",
       "    <tr>\n",
       "      <th>2</th>\n",
       "      <td>3</td>\n",
       "      <td>30</td>\n",
       "      <td>verde</td>\n",
       "    </tr>\n",
       "    <tr>\n",
       "      <th>3</th>\n",
       "      <td>4</td>\n",
       "      <td>40</td>\n",
       "      <td>amarillo</td>\n",
       "    </tr>\n",
       "  </tbody>\n",
       "</table>\n",
       "</div>"
      ],
      "text/plain": [
       "   A   B         C\n",
       "0  1  10      rojo\n",
       "1  2  20      azul\n",
       "2  3  30     verde\n",
       "3  4  40  amarillo"
      ]
     },
     "execution_count": 228,
     "metadata": {},
     "output_type": "execute_result"
    }
   ],
   "source": [
    "print(\"\\nFiltrar filas donde 'A' sea mayor que 2:\")\n",
    "filtro = df[\"A\"] > 2\n",
    "df"
   ]
  },
  {
   "cell_type": "code",
   "execution_count": 229,
   "id": "5d414b10",
   "metadata": {},
   "outputs": [
    {
     "data": {
      "text/plain": [
       "0          r\n",
       "1       azul\n",
       "2      verde\n",
       "3    amarill\n",
       "Name: C, dtype: object"
      ]
     },
     "execution_count": 229,
     "metadata": {},
     "output_type": "execute_result"
    }
   ],
   "source": [
    "df['C'].str.split('o').str[0]"
   ]
  },
  {
   "cell_type": "code",
   "execution_count": 230,
   "id": "4fd8c438",
   "metadata": {},
   "outputs": [
    {
     "data": {
      "text/html": [
       "<div>\n",
       "<style scoped>\n",
       "    .dataframe tbody tr th:only-of-type {\n",
       "        vertical-align: middle;\n",
       "    }\n",
       "\n",
       "    .dataframe tbody tr th {\n",
       "        vertical-align: top;\n",
       "    }\n",
       "\n",
       "    .dataframe thead th {\n",
       "        text-align: right;\n",
       "    }\n",
       "</style>\n",
       "<table border=\"1\" class=\"dataframe\">\n",
       "  <thead>\n",
       "    <tr style=\"text-align: right;\">\n",
       "      <th></th>\n",
       "      <th>A</th>\n",
       "      <th>B</th>\n",
       "      <th>C</th>\n",
       "    </tr>\n",
       "  </thead>\n",
       "  <tbody>\n",
       "    <tr>\n",
       "      <th>0</th>\n",
       "      <td>1</td>\n",
       "      <td>10</td>\n",
       "      <td>rojo</td>\n",
       "    </tr>\n",
       "    <tr>\n",
       "      <th>1</th>\n",
       "      <td>2</td>\n",
       "      <td>20</td>\n",
       "      <td>azul</td>\n",
       "    </tr>\n",
       "    <tr>\n",
       "      <th>2</th>\n",
       "      <td>3</td>\n",
       "      <td>30</td>\n",
       "      <td>verde</td>\n",
       "    </tr>\n",
       "    <tr>\n",
       "      <th>3</th>\n",
       "      <td>4</td>\n",
       "      <td>40</td>\n",
       "      <td>amarillo</td>\n",
       "    </tr>\n",
       "  </tbody>\n",
       "</table>\n",
       "</div>"
      ],
      "text/plain": [
       "   A   B         C\n",
       "0  1  10      rojo\n",
       "1  2  20      azul\n",
       "2  3  30     verde\n",
       "3  4  40  amarillo"
      ]
     },
     "execution_count": 230,
     "metadata": {},
     "output_type": "execute_result"
    }
   ],
   "source": [
    "df"
   ]
  },
  {
   "cell_type": "code",
   "execution_count": 231,
   "id": "a1f133d7",
   "metadata": {},
   "outputs": [
    {
     "data": {
      "text/html": [
       "<div>\n",
       "<style scoped>\n",
       "    .dataframe tbody tr th:only-of-type {\n",
       "        vertical-align: middle;\n",
       "    }\n",
       "\n",
       "    .dataframe tbody tr th {\n",
       "        vertical-align: top;\n",
       "    }\n",
       "\n",
       "    .dataframe thead th {\n",
       "        text-align: right;\n",
       "    }\n",
       "</style>\n",
       "<table border=\"1\" class=\"dataframe\">\n",
       "  <thead>\n",
       "    <tr style=\"text-align: right;\">\n",
       "      <th></th>\n",
       "      <th>A</th>\n",
       "      <th>B</th>\n",
       "      <th>C</th>\n",
       "    </tr>\n",
       "  </thead>\n",
       "  <tbody>\n",
       "    <tr>\n",
       "      <th>0</th>\n",
       "      <td>1</td>\n",
       "      <td>10</td>\n",
       "      <td>rojo</td>\n",
       "    </tr>\n",
       "  </tbody>\n",
       "</table>\n",
       "</div>"
      ],
      "text/plain": [
       "   A   B     C\n",
       "0  1  10  rojo"
      ]
     },
     "execution_count": 231,
     "metadata": {},
     "output_type": "execute_result"
    }
   ],
   "source": [
    "df[(df['C'].str.contains('roj'))&(df['B'] == 10)]"
   ]
  },
  {
   "cell_type": "code",
   "execution_count": 248,
   "id": "d947745c",
   "metadata": {},
   "outputs": [],
   "source": [
    "df[(df['C'].str.contains('ama'))]\n",
    "\n",
    "df['C'].str.split('o').str[0]\n",
    "\n",
    "df['D']=[i.split('o')[0] for i in df['C']]"
   ]
  },
  {
   "cell_type": "code",
   "execution_count": 252,
   "id": "e8f15cdc",
   "metadata": {},
   "outputs": [
    {
     "data": {
      "text/plain": [
       "'rojo'"
      ]
     },
     "execution_count": 252,
     "metadata": {},
     "output_type": "execute_result"
    }
   ],
   "source": [
    "df['C'][0]"
   ]
  },
  {
   "cell_type": "code",
   "execution_count": null,
   "id": "6c628193",
   "metadata": {},
   "outputs": [
    {
     "data": {
      "text/plain": [
       "'r'"
      ]
     },
     "execution_count": 257,
     "metadata": {},
     "output_type": "execute_result"
    }
   ],
   "source": [
    "df['C'].str.split('o').str"
   ]
  },
  {
   "cell_type": "code",
   "execution_count": 249,
   "id": "975be461",
   "metadata": {},
   "outputs": [
    {
     "data": {
      "text/html": [
       "<div>\n",
       "<style scoped>\n",
       "    .dataframe tbody tr th:only-of-type {\n",
       "        vertical-align: middle;\n",
       "    }\n",
       "\n",
       "    .dataframe tbody tr th {\n",
       "        vertical-align: top;\n",
       "    }\n",
       "\n",
       "    .dataframe thead th {\n",
       "        text-align: right;\n",
       "    }\n",
       "</style>\n",
       "<table border=\"1\" class=\"dataframe\">\n",
       "  <thead>\n",
       "    <tr style=\"text-align: right;\">\n",
       "      <th></th>\n",
       "      <th>A</th>\n",
       "      <th>B</th>\n",
       "      <th>C</th>\n",
       "      <th>D</th>\n",
       "    </tr>\n",
       "  </thead>\n",
       "  <tbody>\n",
       "    <tr>\n",
       "      <th>0</th>\n",
       "      <td>1</td>\n",
       "      <td>10</td>\n",
       "      <td>rojo</td>\n",
       "      <td>r</td>\n",
       "    </tr>\n",
       "    <tr>\n",
       "      <th>1</th>\n",
       "      <td>2</td>\n",
       "      <td>20</td>\n",
       "      <td>azul</td>\n",
       "      <td>azul</td>\n",
       "    </tr>\n",
       "    <tr>\n",
       "      <th>2</th>\n",
       "      <td>3</td>\n",
       "      <td>30</td>\n",
       "      <td>verde</td>\n",
       "      <td>verde</td>\n",
       "    </tr>\n",
       "    <tr>\n",
       "      <th>3</th>\n",
       "      <td>4</td>\n",
       "      <td>40</td>\n",
       "      <td>amarillo</td>\n",
       "      <td>amarill</td>\n",
       "    </tr>\n",
       "  </tbody>\n",
       "</table>\n",
       "</div>"
      ],
      "text/plain": [
       "   A   B         C        D\n",
       "0  1  10      rojo        r\n",
       "1  2  20      azul     azul\n",
       "2  3  30     verde    verde\n",
       "3  4  40  amarillo  amarill"
      ]
     },
     "execution_count": 249,
     "metadata": {},
     "output_type": "execute_result"
    }
   ],
   "source": [
    "df"
   ]
  },
  {
   "cell_type": "code",
   "execution_count": null,
   "id": "ef93afdf",
   "metadata": {},
   "outputs": [
    {
     "data": {
      "text/html": [
       "<div>\n",
       "<style scoped>\n",
       "    .dataframe tbody tr th:only-of-type {\n",
       "        vertical-align: middle;\n",
       "    }\n",
       "\n",
       "    .dataframe tbody tr th {\n",
       "        vertical-align: top;\n",
       "    }\n",
       "\n",
       "    .dataframe thead th {\n",
       "        text-align: right;\n",
       "    }\n",
       "</style>\n",
       "<table border=\"1\" class=\"dataframe\">\n",
       "  <thead>\n",
       "    <tr style=\"text-align: right;\">\n",
       "      <th></th>\n",
       "      <th>A</th>\n",
       "      <th>B</th>\n",
       "      <th>C</th>\n",
       "    </tr>\n",
       "  </thead>\n",
       "  <tbody>\n",
       "    <tr>\n",
       "      <th>0</th>\n",
       "      <td>1</td>\n",
       "      <td>10</td>\n",
       "      <td>rojo</td>\n",
       "    </tr>\n",
       "    <tr>\n",
       "      <th>3</th>\n",
       "      <td>4</td>\n",
       "      <td>40</td>\n",
       "      <td>amarillo</td>\n",
       "    </tr>\n",
       "  </tbody>\n",
       "</table>\n",
       "</div>"
      ],
      "text/plain": [
       "   A   B         C\n",
       "0  1  10      rojo\n",
       "3  4  40  amarillo"
      ]
     },
     "execution_count": 165,
     "metadata": {},
     "output_type": "execute_result"
    }
   ],
   "source": [
    "df[(df['C'].str.contains('ama'))|((df['B'] == 10)&(df['A']==1))]"
   ]
  },
  {
   "cell_type": "code",
   "execution_count": null,
   "id": "475c5954",
   "metadata": {},
   "outputs": [],
   "source": [
    "\n",
    "\n",
    "df[df['C'].isin(['amarillo','verde'])]"
   ]
  },
  {
   "cell_type": "code",
   "execution_count": null,
   "id": "36298aa6",
   "metadata": {},
   "outputs": [
    {
     "data": {
      "text/html": [
       "<div>\n",
       "<style scoped>\n",
       "    .dataframe tbody tr th:only-of-type {\n",
       "        vertical-align: middle;\n",
       "    }\n",
       "\n",
       "    .dataframe tbody tr th {\n",
       "        vertical-align: top;\n",
       "    }\n",
       "\n",
       "    .dataframe thead th {\n",
       "        text-align: right;\n",
       "    }\n",
       "</style>\n",
       "<table border=\"1\" class=\"dataframe\">\n",
       "  <thead>\n",
       "    <tr style=\"text-align: right;\">\n",
       "      <th></th>\n",
       "      <th>A</th>\n",
       "      <th>B</th>\n",
       "      <th>C</th>\n",
       "    </tr>\n",
       "  </thead>\n",
       "  <tbody>\n",
       "    <tr>\n",
       "      <th>0</th>\n",
       "      <td>1</td>\n",
       "      <td>10</td>\n",
       "      <td>rojo</td>\n",
       "    </tr>\n",
       "    <tr>\n",
       "      <th>2</th>\n",
       "      <td>3</td>\n",
       "      <td>30</td>\n",
       "      <td>verde</td>\n",
       "    </tr>\n",
       "    <tr>\n",
       "      <th>3</th>\n",
       "      <td>4</td>\n",
       "      <td>40</td>\n",
       "      <td>amarillo</td>\n",
       "    </tr>\n",
       "  </tbody>\n",
       "</table>\n",
       "</div>"
      ],
      "text/plain": [
       "   A   B         C\n",
       "0  1  10      rojo\n",
       "2  3  30     verde\n",
       "3  4  40  amarillo"
      ]
     },
     "execution_count": 185,
     "metadata": {},
     "output_type": "execute_result"
    }
   ],
   "source": [
    "df[(df['C'].isin(['amarillo','verde']))|((df['B'] == 10)&(df['A']==1))]"
   ]
  },
  {
   "cell_type": "code",
   "execution_count": null,
   "id": "6b776529",
   "metadata": {},
   "outputs": [
    {
     "data": {
      "text/plain": [
       "0      74.69\n",
       "1      15.28\n",
       "2      46.33\n",
       "3      58.22\n",
       "4      86.31\n",
       "       ...  \n",
       "995    40.35\n",
       "996    97.38\n",
       "997    31.84\n",
       "998    65.82\n",
       "999    88.34\n",
       "Name: Unit price, Length: 1000, dtype: float64"
      ]
     },
     "execution_count": 168,
     "metadata": {},
     "output_type": "execute_result"
    }
   ],
   "source": [
    "df = pd.read_csv('supermarket_sales - Sheet1.csv')\n",
    "df['Unit price']"
   ]
  },
  {
   "cell_type": "code",
   "execution_count": null,
   "id": "554b1784",
   "metadata": {},
   "outputs": [
    {
     "data": {
      "text/plain": [
       "0      522.83\n",
       "1       76.40\n",
       "2      324.31\n",
       "3      465.76\n",
       "4      604.17\n",
       "        ...  \n",
       "995     40.35\n",
       "996    973.80\n",
       "997     31.84\n",
       "998     65.82\n",
       "999    618.38\n",
       "Length: 1000, dtype: float64"
      ]
     },
     "execution_count": 171,
     "metadata": {},
     "output_type": "execute_result"
    }
   ],
   "source": [
    "df['Precio_total']=df['Quantity']*df['Unit price']"
   ]
  },
  {
   "cell_type": "code",
   "execution_count": 1,
   "id": "0b2bc9ce",
   "metadata": {},
   "outputs": [
    {
     "ename": "NameError",
     "evalue": "name 'df' is not defined",
     "output_type": "error",
     "traceback": [
      "\u001b[31m---------------------------------------------------------------------------\u001b[39m",
      "\u001b[31mNameError\u001b[39m                                 Traceback (most recent call last)",
      "\u001b[36mCell\u001b[39m\u001b[36m \u001b[39m\u001b[32mIn[1]\u001b[39m\u001b[32m, line 1\u001b[39m\n\u001b[32m----> \u001b[39m\u001b[32m1\u001b[39m \u001b[43mdf\u001b[49m\n",
      "\u001b[31mNameError\u001b[39m: name 'df' is not defined"
     ]
    }
   ],
   "source": [
    "df"
   ]
  },
  {
   "cell_type": "markdown",
   "id": "ae85df49",
   "metadata": {},
   "source": [
    "### 4.2 Selección con `.loc[]` y `.iloc[]`\n",
    "\n",
    "- `df.loc[fila, columna]`: selección basada en **etiquetas** (nombres de índice y columnas).\n",
    "- `df.iloc[fila, columna]`: selección basada en **posiciones** (índices enteros).\n",
    "\n",
    "**Nota**: el primer parámetro selecciona las filas y el segundo las columnas. Puedes usar rebanadas (slices) y listas/arrays para seleccionar múltiples filas o columnas.\n"
   ]
  },
  {
   "cell_type": "code",
   "execution_count": 153,
   "id": "633ee833",
   "metadata": {},
   "outputs": [],
   "source": [
    "import datetime\n",
    "\n",
    "df.to_csv(f'misegundocsv_{datetime.datetime.now().strftime('%d_%m_%Y')}.csv', index=False)"
   ]
  },
  {
   "cell_type": "code",
   "execution_count": null,
   "id": "dce7f418",
   "metadata": {},
   "outputs": [
    {
     "data": {
      "text/html": [
       "<div>\n",
       "<style scoped>\n",
       "    .dataframe tbody tr th:only-of-type {\n",
       "        vertical-align: middle;\n",
       "    }\n",
       "\n",
       "    .dataframe tbody tr th {\n",
       "        vertical-align: top;\n",
       "    }\n",
       "\n",
       "    .dataframe thead th {\n",
       "        text-align: right;\n",
       "    }\n",
       "</style>\n",
       "<table border=\"1\" class=\"dataframe\">\n",
       "  <thead>\n",
       "    <tr style=\"text-align: right;\">\n",
       "      <th></th>\n",
       "      <th>col1</th>\n",
       "      <th>col2</th>\n",
       "      <th>col3</th>\n",
       "    </tr>\n",
       "  </thead>\n",
       "  <tbody>\n",
       "    <tr>\n",
       "      <th>fila2</th>\n",
       "      <td>5</td>\n",
       "      <td>6</td>\n",
       "      <td>7</td>\n",
       "    </tr>\n",
       "    <tr>\n",
       "      <th>fila3</th>\n",
       "      <td>9</td>\n",
       "      <td>10</td>\n",
       "      <td>11</td>\n",
       "    </tr>\n",
       "    <tr>\n",
       "      <th>fila4</th>\n",
       "      <td>13</td>\n",
       "      <td>14</td>\n",
       "      <td>15</td>\n",
       "    </tr>\n",
       "  </tbody>\n",
       "</table>\n",
       "</div>"
      ],
      "text/plain": [
       "       col1  col2  col3\n",
       "fila2     5     6     7\n",
       "fila3     9    10    11\n",
       "fila4    13    14    15"
      ]
     },
     "execution_count": 167,
     "metadata": {},
     "output_type": "execute_result"
    }
   ],
   "source": [
    "# 4.2 - Ejemplos con .loc[] e .iloc[]\n",
    "\n",
    "df2 = pd.DataFrame(\n",
    "    data=np.arange(1, 17).reshape((4, 4)),\n",
    "    index=[\"fila1\", \"fila2\", \"fila3\", \"fila4\"],\n",
    "    columns=[\"col1\", \"col2\", \"col3\", \"col4\"]\n",
    ")\n",
    "df2\n",
    "\n",
    "# loc usa las ETIQUETAS de filas y columnas\n",
    "\n",
    "df2.loc[['fila4','fila1','fila1'],['col2','col3','col2']]\n",
    "\n",
    "np.array([1,2,3,4,5])[::2]\n",
    "\n",
    "df2.loc['fila2':'fila4','col1':'col3']"
   ]
  },
  {
   "cell_type": "code",
   "execution_count": 169,
   "id": "3bc28ab9",
   "metadata": {},
   "outputs": [],
   "source": [
    "df2['col1+col2'] = df2['col1']+df2['col2']"
   ]
  },
  {
   "cell_type": "code",
   "execution_count": 172,
   "id": "b5b62d49",
   "metadata": {},
   "outputs": [
    {
     "data": {
      "text/html": [
       "<div>\n",
       "<style scoped>\n",
       "    .dataframe tbody tr th:only-of-type {\n",
       "        vertical-align: middle;\n",
       "    }\n",
       "\n",
       "    .dataframe tbody tr th {\n",
       "        vertical-align: top;\n",
       "    }\n",
       "\n",
       "    .dataframe thead th {\n",
       "        text-align: right;\n",
       "    }\n",
       "</style>\n",
       "<table border=\"1\" class=\"dataframe\">\n",
       "  <thead>\n",
       "    <tr style=\"text-align: right;\">\n",
       "      <th></th>\n",
       "      <th>col1</th>\n",
       "      <th>col2</th>\n",
       "      <th>col3</th>\n",
       "      <th>col4</th>\n",
       "      <th>col1+col2</th>\n",
       "    </tr>\n",
       "  </thead>\n",
       "  <tbody>\n",
       "    <tr>\n",
       "      <th>fila1</th>\n",
       "      <td>1</td>\n",
       "      <td>2</td>\n",
       "      <td>3</td>\n",
       "      <td>4</td>\n",
       "      <td>3</td>\n",
       "    </tr>\n",
       "    <tr>\n",
       "      <th>fila2</th>\n",
       "      <td>5</td>\n",
       "      <td>6</td>\n",
       "      <td>7</td>\n",
       "      <td>8</td>\n",
       "      <td>11</td>\n",
       "    </tr>\n",
       "    <tr>\n",
       "      <th>fila3</th>\n",
       "      <td>9</td>\n",
       "      <td>10</td>\n",
       "      <td>11</td>\n",
       "      <td>12</td>\n",
       "      <td>19</td>\n",
       "    </tr>\n",
       "    <tr>\n",
       "      <th>fila4</th>\n",
       "      <td>13</td>\n",
       "      <td>14</td>\n",
       "      <td>15</td>\n",
       "      <td>16</td>\n",
       "      <td>27</td>\n",
       "    </tr>\n",
       "  </tbody>\n",
       "</table>\n",
       "</div>"
      ],
      "text/plain": [
       "       col1  col2  col3  col4  col1+col2\n",
       "fila1     1     2     3     4          3\n",
       "fila2     5     6     7     8         11\n",
       "fila3     9    10    11    12         19\n",
       "fila4    13    14    15    16         27"
      ]
     },
     "execution_count": 172,
     "metadata": {},
     "output_type": "execute_result"
    }
   ],
   "source": [
    "df2"
   ]
  },
  {
   "cell_type": "code",
   "execution_count": 173,
   "id": "ea12168b",
   "metadata": {},
   "outputs": [
    {
     "data": {
      "text/html": [
       "<div>\n",
       "<style scoped>\n",
       "    .dataframe tbody tr th:only-of-type {\n",
       "        vertical-align: middle;\n",
       "    }\n",
       "\n",
       "    .dataframe tbody tr th {\n",
       "        vertical-align: top;\n",
       "    }\n",
       "\n",
       "    .dataframe thead th {\n",
       "        text-align: right;\n",
       "    }\n",
       "</style>\n",
       "<table border=\"1\" class=\"dataframe\">\n",
       "  <thead>\n",
       "    <tr style=\"text-align: right;\">\n",
       "      <th></th>\n",
       "      <th>col2</th>\n",
       "      <th>col3</th>\n",
       "    </tr>\n",
       "  </thead>\n",
       "  <tbody>\n",
       "    <tr>\n",
       "      <th>fila2</th>\n",
       "      <td>6</td>\n",
       "      <td>7</td>\n",
       "    </tr>\n",
       "    <tr>\n",
       "      <th>fila3</th>\n",
       "      <td>10</td>\n",
       "      <td>11</td>\n",
       "    </tr>\n",
       "  </tbody>\n",
       "</table>\n",
       "</div>"
      ],
      "text/plain": [
       "       col2  col3\n",
       "fila2     6     7\n",
       "fila3    10    11"
      ]
     },
     "execution_count": 173,
     "metadata": {},
     "output_type": "execute_result"
    }
   ],
   "source": [
    "\n",
    "df2.iloc[1:3,1:3]"
   ]
  },
  {
   "cell_type": "code",
   "execution_count": 177,
   "id": "83205b7b",
   "metadata": {},
   "outputs": [
    {
     "data": {
      "text/html": [
       "<div>\n",
       "<style scoped>\n",
       "    .dataframe tbody tr th:only-of-type {\n",
       "        vertical-align: middle;\n",
       "    }\n",
       "\n",
       "    .dataframe tbody tr th {\n",
       "        vertical-align: top;\n",
       "    }\n",
       "\n",
       "    .dataframe thead th {\n",
       "        text-align: right;\n",
       "    }\n",
       "</style>\n",
       "<table border=\"1\" class=\"dataframe\">\n",
       "  <thead>\n",
       "    <tr style=\"text-align: right;\">\n",
       "      <th></th>\n",
       "      <th>col1</th>\n",
       "      <th>col2</th>\n",
       "      <th>col3</th>\n",
       "      <th>col4</th>\n",
       "    </tr>\n",
       "  </thead>\n",
       "  <tbody>\n",
       "    <tr>\n",
       "      <th>0</th>\n",
       "      <td>1</td>\n",
       "      <td>2</td>\n",
       "      <td>3</td>\n",
       "      <td>4</td>\n",
       "    </tr>\n",
       "    <tr>\n",
       "      <th>1</th>\n",
       "      <td>5</td>\n",
       "      <td>6</td>\n",
       "      <td>7</td>\n",
       "      <td>8</td>\n",
       "    </tr>\n",
       "    <tr>\n",
       "      <th>2</th>\n",
       "      <td>9</td>\n",
       "      <td>10</td>\n",
       "      <td>11</td>\n",
       "      <td>12</td>\n",
       "    </tr>\n",
       "    <tr>\n",
       "      <th>3</th>\n",
       "      <td>13</td>\n",
       "      <td>14</td>\n",
       "      <td>15</td>\n",
       "      <td>16</td>\n",
       "    </tr>\n",
       "  </tbody>\n",
       "</table>\n",
       "</div>"
      ],
      "text/plain": [
       "   col1  col2  col3  col4\n",
       "0     1     2     3     4\n",
       "1     5     6     7     8\n",
       "2     9    10    11    12\n",
       "3    13    14    15    16"
      ]
     },
     "execution_count": 177,
     "metadata": {},
     "output_type": "execute_result"
    }
   ],
   "source": [
    "df2 = pd.DataFrame(\n",
    "    data=np.arange(1, 17).reshape((4, 4)),\n",
    "    columns=[\"col1\", \"col2\", \"col3\", \"col4\"]\n",
    ")\n",
    "df2"
   ]
  },
  {
   "cell_type": "code",
   "execution_count": 179,
   "id": "e35daf0a",
   "metadata": {},
   "outputs": [
    {
     "data": {
      "text/html": [
       "<div>\n",
       "<style scoped>\n",
       "    .dataframe tbody tr th:only-of-type {\n",
       "        vertical-align: middle;\n",
       "    }\n",
       "\n",
       "    .dataframe tbody tr th {\n",
       "        vertical-align: top;\n",
       "    }\n",
       "\n",
       "    .dataframe thead th {\n",
       "        text-align: right;\n",
       "    }\n",
       "</style>\n",
       "<table border=\"1\" class=\"dataframe\">\n",
       "  <thead>\n",
       "    <tr style=\"text-align: right;\">\n",
       "      <th></th>\n",
       "      <th>col1</th>\n",
       "      <th>col4</th>\n",
       "    </tr>\n",
       "  </thead>\n",
       "  <tbody>\n",
       "    <tr>\n",
       "      <th>0</th>\n",
       "      <td>1</td>\n",
       "      <td>4</td>\n",
       "    </tr>\n",
       "    <tr>\n",
       "      <th>1</th>\n",
       "      <td>5</td>\n",
       "      <td>8</td>\n",
       "    </tr>\n",
       "    <tr>\n",
       "      <th>2</th>\n",
       "      <td>9</td>\n",
       "      <td>12</td>\n",
       "    </tr>\n",
       "  </tbody>\n",
       "</table>\n",
       "</div>"
      ],
      "text/plain": [
       "   col1  col4\n",
       "0     1     4\n",
       "1     5     8\n",
       "2     9    12"
      ]
     },
     "execution_count": 179,
     "metadata": {},
     "output_type": "execute_result"
    }
   ],
   "source": [
    "df2.loc[0:2,['col1','col4']]"
   ]
  },
  {
   "cell_type": "markdown",
   "id": "60d8e9eb",
   "metadata": {},
   "source": [
    "### 4.3 Filtrado de datos\n",
    "\n",
    "Cuando combinamos lo aprendido, podemos realizar filtrados condicionales más complejos:\n",
    "- Combinación de condiciones con `&` (AND) y `|` (OR).\n",
    "- Uso de paréntesis para agrupar expresiones.\n"
   ]
  },
  {
   "cell_type": "code",
   "execution_count": 184,
   "id": "5203c075",
   "metadata": {},
   "outputs": [
    {
     "data": {
      "text/html": [
       "<div>\n",
       "<style scoped>\n",
       "    .dataframe tbody tr th:only-of-type {\n",
       "        vertical-align: middle;\n",
       "    }\n",
       "\n",
       "    .dataframe tbody tr th {\n",
       "        vertical-align: top;\n",
       "    }\n",
       "\n",
       "    .dataframe thead th {\n",
       "        text-align: right;\n",
       "    }\n",
       "</style>\n",
       "<table border=\"1\" class=\"dataframe\">\n",
       "  <thead>\n",
       "    <tr style=\"text-align: right;\">\n",
       "      <th></th>\n",
       "      <th>Producto</th>\n",
       "      <th>Precio</th>\n",
       "      <th>Cantidad</th>\n",
       "    </tr>\n",
       "  </thead>\n",
       "  <tbody>\n",
       "    <tr>\n",
       "      <th>0</th>\n",
       "      <td>Manzana</td>\n",
       "      <td>3</td>\n",
       "      <td>10</td>\n",
       "    </tr>\n",
       "    <tr>\n",
       "      <th>1</th>\n",
       "      <td>Naranja</td>\n",
       "      <td>2</td>\n",
       "      <td>12</td>\n",
       "    </tr>\n",
       "    <tr>\n",
       "      <th>2</th>\n",
       "      <td>Pera</td>\n",
       "      <td>4</td>\n",
       "      <td>7</td>\n",
       "    </tr>\n",
       "    <tr>\n",
       "      <th>3</th>\n",
       "      <td>Manzana</td>\n",
       "      <td>5</td>\n",
       "      <td>5</td>\n",
       "    </tr>\n",
       "    <tr>\n",
       "      <th>4</th>\n",
       "      <td>Naranja</td>\n",
       "      <td>1</td>\n",
       "      <td>20</td>\n",
       "    </tr>\n",
       "  </tbody>\n",
       "</table>\n",
       "</div>"
      ],
      "text/plain": [
       "  Producto  Precio  Cantidad\n",
       "0  Manzana       3        10\n",
       "1  Naranja       2        12\n",
       "2     Pera       4         7\n",
       "3  Manzana       5         5\n",
       "4  Naranja       1        20"
      ]
     },
     "execution_count": 184,
     "metadata": {},
     "output_type": "execute_result"
    }
   ],
   "source": [
    "# 4.3 - Ejemplo de filtrado de datos con múltiples condiciones\n",
    "df_filtrado = pd.DataFrame({\n",
    "    \"Producto\": [\"Manzana\", \"Naranja\", \"Pera\", \"Manzana\", \"Naranja\"],\n",
    "    \"Precio\": [3, 2, 4, 5, 1],\n",
    "    \"Cantidad\": [10, 12, 7, 5, 20]\n",
    "})\n",
    "df_filtrado"
   ]
  },
  {
   "cell_type": "code",
   "execution_count": 185,
   "id": "a4d8adbe",
   "metadata": {},
   "outputs": [
    {
     "data": {
      "text/html": [
       "<div>\n",
       "<style scoped>\n",
       "    .dataframe tbody tr th:only-of-type {\n",
       "        vertical-align: middle;\n",
       "    }\n",
       "\n",
       "    .dataframe tbody tr th {\n",
       "        vertical-align: top;\n",
       "    }\n",
       "\n",
       "    .dataframe thead th {\n",
       "        text-align: right;\n",
       "    }\n",
       "</style>\n",
       "<table border=\"1\" class=\"dataframe\">\n",
       "  <thead>\n",
       "    <tr style=\"text-align: right;\">\n",
       "      <th></th>\n",
       "      <th>Producto</th>\n",
       "      <th>Precio</th>\n",
       "      <th>Cantidad</th>\n",
       "    </tr>\n",
       "  </thead>\n",
       "  <tbody>\n",
       "    <tr>\n",
       "      <th>0</th>\n",
       "      <td>Manzana</td>\n",
       "      <td>3</td>\n",
       "      <td>10</td>\n",
       "    </tr>\n",
       "    <tr>\n",
       "      <th>3</th>\n",
       "      <td>Manzana</td>\n",
       "      <td>5</td>\n",
       "      <td>5</td>\n",
       "    </tr>\n",
       "  </tbody>\n",
       "</table>\n",
       "</div>"
      ],
      "text/plain": [
       "  Producto  Precio  Cantidad\n",
       "0  Manzana       3        10\n",
       "3  Manzana       5         5"
      ]
     },
     "execution_count": 185,
     "metadata": {},
     "output_type": "execute_result"
    }
   ],
   "source": [
    "# Filtrar filas donde el producto sea \"Manzana\" y el precio sea mayor que 4\n",
    "\n",
    "df_filtrado[(df_filtrado[\"Producto\"] == \"Manzana\") & (df_filtrado[\"Precio\"] >4)]\n",
    "\n",
    "df_filtrado[(df_filtrado[\"Producto\"] == \"Manzana\") | (df_filtrado[\"Precio\"] >4)]"
   ]
  },
  {
   "cell_type": "code",
   "execution_count": null,
   "id": "683a5924",
   "metadata": {},
   "outputs": [
    {
     "name": "stdout",
     "output_type": "stream",
     "text": [
      "DataFrame (df_filtrado):\n",
      "  Producto  Precio  Cantidad\n",
      "0  Manzana       3        10\n",
      "1  Naranja       2        12\n",
      "2     Pera       4         7\n",
      "3  Manzana       5         5\n",
      "4  Naranja       1        20\n",
      "\n",
      "Filas con Manzana y precio > 4:\n",
      "  Producto  Precio  Cantidad\n",
      "3  Manzana       5         5\n",
      "\n",
      "Filas con cantidad > 10 o precio <= 2:\n",
      "  Producto  Precio  Cantidad\n",
      "1  Naranja       2        12\n",
      "4  Naranja       1        20\n"
     ]
    }
   ],
   "source": [
    "\n",
    "\n",
    "print(\"DataFrame (df_filtrado):\")\n",
    "print(df_filtrado)\n",
    "\n",
    "# Filtrar filas donde el producto sea \"Manzana\" y el precio sea mayor que 4\n",
    "condicion = (df_filtrado[\"Producto\"] == \"Manzana\") & (df_filtrado[\"Precio\"] > 4)\n",
    "print(\"\\nFilas con Manzana y precio > 4:\")\n",
    "print(df_filtrado[condicion])\n",
    "\n",
    "# Filtrar filas donde la cantidad sea > 10 o el precio sea <= 2\n",
    "condicion_or = (df_filtrado[\"Cantidad\"] > 10) | (df_filtrado[\"Precio\"] <= 2)\n",
    "print(\"\\nFilas con cantidad > 10 o precio <= 2:\")\n",
    "print(df_filtrado[condicion_or])\n"
   ]
  },
  {
   "cell_type": "markdown",
   "id": "4fd7d8a0",
   "metadata": {},
   "source": [
    "---\n",
    "\n",
    "## 5. Conclusión <a name=\"conclusion\"></a>\n",
    "\n",
    "En esta clase aprendiste:\n",
    "- A crear y manipular `Series` y `DataFrames`.\n",
    "- A indexar y seleccionar datos de diferentes maneras.\n",
    "- A realizar filtros condicionales sobre los datos.\n"
   ]
  }
 ],
 "metadata": {
  "kernelspec": {
   "display_name": "Python 3",
   "language": "python",
   "name": "python3"
  },
  "language_info": {
   "codemirror_mode": {
    "name": "ipython",
    "version": 3
   },
   "file_extension": ".py",
   "mimetype": "text/x-python",
   "name": "python",
   "nbconvert_exporter": "python",
   "pygments_lexer": "ipython3",
   "version": "3.12.8"
  }
 },
 "nbformat": 4,
 "nbformat_minor": 5
}
