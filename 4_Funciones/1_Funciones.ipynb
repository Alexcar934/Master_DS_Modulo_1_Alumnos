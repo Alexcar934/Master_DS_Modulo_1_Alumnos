{
 "cells": [
  {
   "cell_type": "markdown",
   "id": "4dfe1c5b",
   "metadata": {},
   "source": [
    "## 1. Objetivos del módulo <a name=\"objetivos\"></a>\n",
    "Al finalizar este módulo, serás capaz de:\n",
    "\n",
    "* Definir y llamar funciones en Python de forma adecuada.\n",
    "\n",
    "* Comprender la diferencia entre parámetros y argumentos.\n",
    "\n",
    "* Utilizar la palabra clave return para producir salidas de una función.\n",
    "\n",
    "* Distinguir entre variables locales y globales, y cómo gestionar su scope.\n",
    "\n",
    "* Implementar y comprender el uso de funciones lambda (funciones anónimas).\n",
    "\n",
    "* Aplicar las mejores prácticas para escribir y documentar tus funciones."
   ]
  },
  {
   "cell_type": "markdown",
   "id": "ce86f1ea",
   "metadata": {},
   "source": [
    "## 2. Introducción a las funciones <a name=\"intro-funciones\"></a>\n",
    "¿Qué es una función en Python?\n",
    "Una función es un bloque de código reutilizable que realiza una tarea específica. Las funciones nos permiten:\n",
    "\n",
    "* Dividir un programa grande en piezas más manejables.\n",
    "\n",
    "* Evitar la repetición de código.\n",
    "\n",
    "* Hacer nuestro código más legible y modular."
   ]
  },
  {
   "cell_type": "code",
   "execution_count": null,
   "id": "1d496440",
   "metadata": {},
   "outputs": [
    {
     "data": {
      "text/plain": [
       "'Hola, mundo!'"
      ]
     },
     "execution_count": 2,
     "metadata": {},
     "output_type": "execute_result"
    }
   ],
   "source": [
    "#Ejemplo simple\n",
    "\n",
    "def saludar():\n",
    "    return \"Hola, mundo!\"\n",
    "\n",
    "saludar()"
   ]
  },
  {
   "cell_type": "code",
   "execution_count": 1,
   "id": "c10f1a6a",
   "metadata": {},
   "outputs": [
    {
     "data": {
      "text/plain": [
       "'HOLA MUNDO'"
      ]
     },
     "execution_count": 1,
     "metadata": {},
     "output_type": "execute_result"
    }
   ],
   "source": [
    "saludo = 'hola mundo'\n",
    "saludo.upper()"
   ]
  },
  {
   "cell_type": "markdown",
   "id": "c603b1db",
   "metadata": {},
   "source": [
    "## 3. Sintaxis de definición de funciones <a name=\"sintaxis-funciones\"></a>\n",
    "En Python, la definición de una función se realiza con la palabra clave def, seguida del nombre de la función, paréntesis con los parámetros (opcional) y dos puntos. Dentro de la función, se incluye el bloque de instrucciones con sangría (indentación)."
   ]
  },
  {
   "cell_type": "code",
   "execution_count": null,
   "id": "23fa5ea8",
   "metadata": {},
   "outputs": [],
   "source": [
    "def nombre_de_funcion(parámetros_opcionales):\n",
    "    \"\"\"\n",
    "    Documentación de la función (docstring).\n",
    "    Explica brevemente lo que hace la función.\n",
    "    \"\"\"\n",
    "    # cuerpo de la función\n",
    "    # ...\n",
    "    return valor_opcional\n"
   ]
  },
  {
   "cell_type": "code",
   "execution_count": 3,
   "id": "c710ea49",
   "metadata": {},
   "outputs": [
    {
     "name": "stdout",
     "output_type": "stream",
     "text": [
      "Hola, María! Bienvenido al módulo de funciones en Python.\n"
     ]
    }
   ],
   "source": [
    "def saludar(nombre):\n",
    "    \"\"\"\n",
    "    Esta función imprime un saludo personalizado.\n",
    "    \"\"\"\n",
    "    print(f\"Hola, {nombre}! Bienvenido al módulo de funciones en Python.\")\n",
    "\n",
    "# Llamando a la función\n",
    "saludar(\"María\")\n"
   ]
  },
  {
   "cell_type": "code",
   "execution_count": 2,
   "id": "b271db63",
   "metadata": {},
   "outputs": [
    {
     "name": "stdout",
     "output_type": "stream",
     "text": [
      "Italia ha sido agregado a la lista.\n"
     ]
    }
   ],
   "source": [
    "lista_paises = ['España', 'Francia', 'Alemania']\n",
    "def agregar_pais(pais):\n",
    "    \"\"\"\n",
    "    Agrega un país a la lista de países.\n",
    "    \"\"\"\n",
    "    lista_paises.append(pais)\n",
    "    print(f\"{pais} ha sido agregado a la lista.\")\n",
    "\n",
    "agregar_pais('Italia')\n"
   ]
  },
  {
   "cell_type": "code",
   "execution_count": 3,
   "id": "c79374af",
   "metadata": {},
   "outputs": [
    {
     "data": {
      "text/plain": [
       "['España', 'Francia', 'Alemania', 'Italia']"
      ]
     },
     "execution_count": 3,
     "metadata": {},
     "output_type": "execute_result"
    }
   ],
   "source": [
    "lista_paises"
   ]
  },
  {
   "cell_type": "code",
   "execution_count": 8,
   "id": "6f196253",
   "metadata": {},
   "outputs": [],
   "source": [
    "def translate(text_list, target_language):\n",
    "    \"\"\"\n",
    "    Traduce una lista de palabras del español al idioma destino ('en' o 'fr').\n",
    "\n",
    "    Parámetros:\n",
    "        text_list (list): Lista de palabras en español.\n",
    "        target_language (str): 'en' para inglés, 'fr' para francés.\n",
    "\n",
    "    Retorna:\n",
    "        list: Lista de palabras traducidas.\n",
    "    \"\"\"\n",
    "    \n",
    "    diccionario_es_en = {'España': 'Spain', 'Francia': 'France', 'Alemania': 'Germany'}\n",
    "    diccionario_es_fr = {'España': 'Espagne', 'Francia': 'France', 'Alemania': 'Allemagne'}\n",
    "    \n",
    "    traducciones = []\n",
    "    \n",
    "    for palabra in text_list:\n",
    "        if target_language == 'en':\n",
    "            traduccion = diccionario_es_en.get(palabra, 'No hay traducción en mi diccionario de inglés para: '+palabra)\n",
    "        elif target_language == 'fr':\n",
    "            traduccion = diccionario_es_fr.get(palabra, 'No hay traducción en mi diccionario de francés para: '+palabra)\n",
    "        else:\n",
    "            print(f\"Idioma no soportado: {target_language}\")\n",
    "            return []\n",
    "\n",
    "        traducciones.append(traduccion)\n",
    "    \n",
    "    return traducciones\n"
   ]
  },
  {
   "cell_type": "code",
   "execution_count": 9,
   "id": "da604b42",
   "metadata": {},
   "outputs": [
    {
     "name": "stdout",
     "output_type": "stream",
     "text": [
      "['Spain', 'France', 'No hay traducción en mi diccionario de inglés para: Italia', 'Germany', 'No hay traducción en mi diccionario de inglés para: Polonia']\n",
      "['Espagne', 'France', 'No hay traducción en mi diccionario de francés para: Italia', 'Allemagne', 'No hay traducción en mi diccionario de francés para: Polonia']\n",
      "Idioma no soportado: de\n",
      "[]\n"
     ]
    }
   ],
   "source": [
    "palabras = ['España', 'Francia', 'Italia', 'Alemania', 'Polonia']\n",
    "\n",
    "# Traducir al inglés\n",
    "print(translate(palabras, 'en'))\n",
    "# Resultado: ['Spain', 'France', 'Italia', 'Germany']\n",
    "\n",
    "# Traducir al francés\n",
    "print(translate(palabras, 'fr'))\n",
    "# Resultado: ['Espagne', 'France', 'Italia', 'Allemagne']\n",
    "\n",
    "# Idioma no soportado\n",
    "print(translate(palabras, 'de'))\n",
    "# Resultado: \"Idioma no soportado: de\"\n"
   ]
  },
  {
   "cell_type": "markdown",
   "id": "71f9fd93",
   "metadata": {},
   "source": [
    "## 4. Parámetros y argumentos <a name=\"parametros-argumentos\"></a>\n",
    "En la definición de la función, a las variables que se especifican dentro de los paréntesis se les llama parámetros. Cuando invocamos a la función, los valores que pasamos se llaman argumentos.\n",
    "\n",
    "#### Tipos de argumentos\n",
    "1. Argumentos posicionales: se basan en el orden en el que se pasan al llamar la función.\n",
    "\n",
    "2. Argumentos con nombre (o keyword arguments): se basan en el nombre del parámetro, lo que hace que el orden sea irrelevante.\n",
    "\n",
    "3. Argumentos por defecto: se asigna un valor default a un parámetro, de tal forma que si al llamar la función no se especifica un valor, se usa el valor por defecto.\n",
    "\n",
    "4. Argumentos arbitrarios: se utilizan para manejar un número variable de argumentos:\n",
    "\n",
    "- *args: para tuplas de argumentos.\n",
    "\n",
    "- **kwargs: para diccionarios de argumentos."
   ]
  },
  {
   "cell_type": "code",
   "execution_count": 6,
   "id": "0d5a6c90",
   "metadata": {},
   "outputs": [
    {
     "name": "stdout",
     "output_type": "stream",
     "text": [
      "Valor de a: 1\n",
      "Valor de b: 10\n",
      "args (argumentos variables): ()\n",
      "kwargs (argumentos con nombre variables): {}\n",
      "---\n",
      "Valor de a: 1\n",
      "Valor de b: 2\n",
      "args (argumentos variables): (3, 4)\n",
      "kwargs (argumentos con nombre variables): {}\n",
      "---\n",
      "Valor de a: 1\n",
      "Valor de b: 2\n",
      "args (argumentos variables): (3, 4)\n",
      "kwargs (argumentos con nombre variables): {'x': 100, 'y': 200}\n"
     ]
    }
   ],
   "source": [
    "def ejemplo_parametros(a, b=10, *args, **kwargs):\n",
    "    \"\"\"\n",
    "    Muestra cómo manejar parámetros de diferentes tipos:\n",
    "    - a: argumento posicional obligatorio.\n",
    "    - b: argumento con valor por defecto = 10.\n",
    "    - *args: tupla con argumentos posicionales variables.\n",
    "    - **kwargs: diccionario con parámetros nombrados variables.\n",
    "    \"\"\"\n",
    "    print(f\"Valor de a: {a}\")\n",
    "    print(f\"Valor de b: {b}\")\n",
    "    print(f\"args (argumentos variables): {args}\")\n",
    "    print(f\"kwargs (argumentos con nombre variables): {kwargs}\")\n",
    "\n",
    "# Llamadas de ejemplo:\n",
    "ejemplo_parametros(1)  # a=1, b usa el valor por defecto 10\n",
    "print('---')\n",
    "ejemplo_parametros(1, 2, 3, 4)  # a=1, b=2, args=(3,4)\n",
    "print('---')\n",
    "ejemplo_parametros(1, 2, 3, 4, x=100, y=200)  # a=1, b=2, args=(3,4), kwargs={\"x\":100, \"y\":200}\n"
   ]
  },
  {
   "cell_type": "code",
   "execution_count": null,
   "id": "075e5bea",
   "metadata": {},
   "outputs": [],
   "source": [
    "lista_paises = []"
   ]
  },
  {
   "cell_type": "markdown",
   "id": "c81b1c8a",
   "metadata": {},
   "source": [
    "## 5. La palabra reservada return <a name=\"return\"></a>\n",
    "La instrucción return se utiliza para regresar un valor o varios valores desde la función hacia quien la llama."
   ]
  },
  {
   "cell_type": "code",
   "execution_count": 7,
   "id": "c6edfe68",
   "metadata": {},
   "outputs": [
    {
     "name": "stdout",
     "output_type": "stream",
     "text": [
      "La suma es: 8\n"
     ]
    }
   ],
   "source": [
    "def sumar(a, b):\n",
    "    \"\"\"\n",
    "    Retorna la suma de a y b.\n",
    "    \"\"\"\n",
    "    resultado = a + b\n",
    "    return resultado\n",
    "\n",
    "# Uso de la función\n",
    "suma = sumar(5, 3)\n",
    "print(\"La suma es:\", suma)\n"
   ]
  },
  {
   "cell_type": "code",
   "execution_count": null,
   "id": "5da30ed4",
   "metadata": {},
   "outputs": [
    {
     "name": "stdout",
     "output_type": "stream",
     "text": [
      "Suma: [14, 6, 40]\n"
     ]
    }
   ],
   "source": [
    "def operaciones(a, b):\n",
    "    \"\"\"\n",
    "    Retorna la suma, la resta y la multiplicación de a y b.\n",
    "    \"\"\"\n",
    "    suma = a + b\n",
    "    resta = a - b\n",
    "    mult = a * b\n",
    "    return [suma, resta, mult]\n",
    "\n",
    "s, r, m = operaciones(10, 4)\n",
    "print(\"Suma:\", s)\n",
    "print(\"Resta:\", r)\n",
    "print(\"Multiplicación:\", m)\n"
   ]
  },
  {
   "cell_type": "code",
   "execution_count": 11,
   "id": "c2c6d5ec",
   "metadata": {},
   "outputs": [
    {
     "data": {
      "text/plain": [
       "[14, 6, 40]"
      ]
     },
     "execution_count": 11,
     "metadata": {},
     "output_type": "execute_result"
    }
   ],
   "source": [
    "operaciones(10,4)"
   ]
  },
  {
   "cell_type": "markdown",
   "id": "c2949bd5",
   "metadata": {},
   "source": [
    "## 6. Alcance (Scope) de las variables <a name=\"scope\"></a>\n",
    "El scope (o alcance) determina dónde las variables son reconocibles dentro de tu programa. Principalmente existen dos tipos de alcance:\n",
    "\n",
    "Scope local: las variables definidas dentro de la función solo se conocen en el interior de la misma.\n",
    "\n",
    "Scope global: las variables definidas fuera de cualquier función (en el cuerpo principal del programa) pueden ser accedidas desde cualquier parte, siempre que no haya una redefinición local con el mismo nombre."
   ]
  },
  {
   "cell_type": "code",
   "execution_count": 10,
   "id": "c12b8e32",
   "metadata": {},
   "outputs": [
    {
     "name": "stdout",
     "output_type": "stream",
     "text": [
      "Hola desde el alcance local\n"
     ]
    }
   ],
   "source": [
    "def funcion_local():\n",
    "    mensaje = \"Hola desde el alcance local\"\n",
    "    print(mensaje)\n",
    "\n",
    "funcion_local()\n",
    "# Esto generará error si lo descomentamos, porque 'mensaje' no existe en el ámbito global.\n",
    "# print(mensaje)\n"
   ]
  },
  {
   "cell_type": "markdown",
   "id": "33e8e66d",
   "metadata": {},
   "source": [
    "##### Uso de la palabra clave global\n",
    "Si deseas modificar una variable global dentro de una función, debes declararla explícitamente con la palabra clave global. Sin embargo, se recomienda evitarlo en la medida de lo posible para mantener un código limpio y modular."
   ]
  },
  {
   "cell_type": "code",
   "execution_count": null,
   "id": "19c4712a",
   "metadata": {},
   "outputs": [],
   "source": [
    "contador = 0\n",
    "\n",
    "def incrementar():\n",
    "    # global contador\n",
    "    contador += 1\n",
    "    print(\"Contador dentro de la función:\", contador)\n",
    "\n",
    "incrementar()\n",
    "incrementar()\n",
    "print(\"Contador fuera de la función:\", contador)\n"
   ]
  },
  {
   "cell_type": "code",
   "execution_count": 13,
   "id": "5d974365",
   "metadata": {},
   "outputs": [
    {
     "name": "stdout",
     "output_type": "stream",
     "text": [
      "Contador dentro de la función: 1\n",
      "Contador dentro de la función: 2\n",
      "Contador fuera de la función: 2\n"
     ]
    }
   ],
   "source": [
    "contador = 0\n",
    "\n",
    "def incrementar():\n",
    "    global contador\n",
    "    contador += 1\n",
    "    print(\"Contador dentro de la función:\", contador)\n",
    "\n",
    "incrementar()\n",
    "incrementar()\n",
    "print(\"Contador fuera de la función:\", contador)\n"
   ]
  }
 ],
 "metadata": {
  "kernelspec": {
   "display_name": "Python 3",
   "language": "python",
   "name": "python3"
  },
  "language_info": {
   "codemirror_mode": {
    "name": "ipython",
    "version": 3
   },
   "file_extension": ".py",
   "mimetype": "text/x-python",
   "name": "python",
   "nbconvert_exporter": "python",
   "pygments_lexer": "ipython3",
   "version": "3.11.0"
  }
 },
 "nbformat": 4,
 "nbformat_minor": 5
}
