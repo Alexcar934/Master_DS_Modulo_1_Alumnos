{
 "cells": [
  {
   "cell_type": "markdown",
   "id": "777a0d04",
   "metadata": {},
   "source": [
    "# 1. Introducción a la Programación Orientada a Objetos (OOP)\n",
    "\n",
    "La programación orientada a objetos (OOP, por sus siglas en inglés) es un paradigma de programación que se basa en el uso de **\"objetos\"**, que agrupan datos y funcionalidades.\n",
    "\n",
    "### ¿Por qué usar OOP?\n",
    "- Permite modelar el mundo real de forma más natural.\n",
    "- Mejora la organización del código.\n",
    "- Facilita la reutilización y mantenimiento.\n",
    "\n",
    "### Conceptos básicos\n",
    "\n",
    "- **Clase**: una plantilla para crear objetos.\n",
    "- **Objeto**: una instancia de una clase.\n",
    "- **Atributo**: una variable que pertenece a una clase/objeto.\n",
    "- **Método**: una función definida dentro de una clase.\n"
   ]
  },
  {
   "cell_type": "code",
   "execution_count": 2,
   "id": "c541ce91",
   "metadata": {},
   "outputs": [
    {
     "name": "stdout",
     "output_type": "stream",
     "text": [
      "El nombre de mi perro es Fido y tiene 3 años.\n",
      "Fido dice: 'Guau'\n"
     ]
    }
   ],
   "source": [
    "# Definimos una clase Perro\n",
    "class Perro:\n",
    "    def __init__(self, nombre, edad):\n",
    "        self.nombre = nombre\n",
    "        self.edad = edad\n",
    "\n",
    "    def ladrar(self, sonido=\"'Guau'\"):\n",
    "        print(f\"{self.nombre} dice: {sonido}\")\n",
    "\n",
    "# Creamos una instancia\n",
    "mi_perro = Perro(\"Fido\", 3)\n",
    "print(f\"El nombre de mi perro es {mi_perro.nombre} y tiene {mi_perro.edad} años.\")\n",
    "mi_perro.ladrar()\n",
    "\n"
   ]
  },
  {
   "cell_type": "markdown",
   "id": "098cf064",
   "metadata": {},
   "source": [
    "## ✅ Ejercicio 1: Crea tu primera clase\n",
    "\n",
    "Crea una clase llamada `Gato` que tenga los siguientes atributos:\n",
    "- `nombre`\n",
    "- `color`\n",
    "\n",
    "Y un método:\n",
    "- `maullar`: que imprima en consola `\"<nombre> dice: Miau\"`.\n",
    "\n",
    "Luego crea una instancia de tu clase y llama al método `maullar`.\n"
   ]
  },
  {
   "cell_type": "code",
   "execution_count": null,
   "id": "120820ba",
   "metadata": {},
   "outputs": [],
   "source": []
  },
  {
   "cell_type": "markdown",
   "id": "40ee6181",
   "metadata": {},
   "source": [
    "# 2. Atributos y Métodos\n",
    "\n",
    "Los atributos son variables que pertenecen a una clase/objeto. Los métodos son funciones que actúan sobre ese objeto.\n",
    "\n",
    "### Atributos de instancia\n",
    "Se definen usando `self`, dentro del método `__init__`. Son específicos para cada objeto.\n",
    "\n",
    "### Métodos\n",
    "Son funciones que se definen dentro de la clase, y el primer parámetro siempre debe ser `self`.\n",
    "\n",
    "### Método especial `__init__`\n",
    "Es un constructor. Se ejecuta automáticamente al crear una instancia de la clase.\n"
   ]
  },
  {
   "cell_type": "code",
   "execution_count": 5,
   "id": "f8f01ecb",
   "metadata": {},
   "outputs": [
    {
     "data": {
      "text/plain": [
       "3.141592653589793"
      ]
     },
     "execution_count": 5,
     "metadata": {},
     "output_type": "execute_result"
    }
   ],
   "source": [
    "import math\n",
    "math.pi"
   ]
  },
  {
   "cell_type": "code",
   "execution_count": 22,
   "id": "47a0c22a",
   "metadata": {},
   "outputs": [
    {
     "name": "stdout",
     "output_type": "stream",
     "text": [
      "Circulo de radio 6\n",
      "Área del círculo: 113.09733552923255\n"
     ]
    }
   ],
   "source": [
    "class Circulo:\n",
    "    def __init__(self, radio):\n",
    "        self.radio = int(radio)\n",
    "\n",
    "    def __str__(self):\n",
    "        return f\"Circulo de radio {self.radio}\"\n",
    "\n",
    "    def area(self):\n",
    "        return math.pi * (self.radio ** 2)\n",
    "\n",
    "mi_circulo = Circulo(\"6\")\n",
    "print(mi_circulo)\n",
    "print(\"Área del círculo:\", mi_circulo.area())\n"
   ]
  },
  {
   "cell_type": "markdown",
   "id": "faebb801",
   "metadata": {},
   "source": [
    "## ✅ Ejercicio 2: Clase Rectángulo\n",
    "\n",
    "Crea una clase `Rectangulo` con:\n",
    "- Atributos: `base` y `altura`\n",
    "- Método: `area` que devuelva el área (`base * altura`)\n",
    "\n",
    "Crea una instancia con valores reales y calcula el área.\n"
   ]
  },
  {
   "cell_type": "code",
   "execution_count": null,
   "id": "f7007429",
   "metadata": {},
   "outputs": [],
   "source": []
  },
  {
   "cell_type": "markdown",
   "id": "214c7f37",
   "metadata": {},
   "source": [
    "# 3. Herencia en Python\n",
    "\n",
    "La herencia permite que una clase (llamada *subclase*) herede atributos y métodos de otra clase (llamada *superclase* o *clase padre*).\n",
    "\n",
    "Esto permite **reutilizar código** y construir jerarquías de clases.\n",
    "\n",
    "### Sintaxis básica:\n",
    "\n",
    "```python\n",
    "class ClasePadre:\n",
    "    ...\n",
    "\n",
    "class ClaseHija(ClasePadre):\n",
    "    ...\n"
   ]
  },
  {
   "cell_type": "code",
   "execution_count": null,
   "id": "4b3c2566",
   "metadata": {},
   "outputs": [],
   "source": [
    "class Animal:\n",
    "    def __init__(self, nombre):\n",
    "        self.nombre = nombre\n",
    "\n",
    "    def hablar(self):\n",
    "        print(f\"{self.nombre} hace un sonido.\")\n",
    "\n",
    "class Perro(Animal):\n",
    "    def __init__(self, nombre, raza):\n",
    "        super().__init__(nombre)  # Llama al constructor de Animal\n",
    "        self.raza = raza\n",
    "\n",
    "    def hablar(self):\n",
    "        print(f\"{self.nombre} dice: ¡Guau!\")\n",
    "\n",
    "class Gato(Animal):\n",
    "    def __init__(self, nombre, color):\n",
    "        super().__init__(nombre)\n",
    "        self.color = color\n",
    "\n",
    "    def hablar(self):\n",
    "        print(f\"{self.nombre} dice: Miau\")\n",
    "\n",
    "perro = Perro(\"Rex\", \"Labrador\")\n",
    "gato = Gato(\"Michi\", \"Blanco\")\n",
    "\n",
    "perro.hablar()\n",
    "gato.hablar()"
   ]
  },
  {
   "cell_type": "markdown",
   "id": "7958a86e",
   "metadata": {},
   "source": [
    "## ✅ Ejercicio 3: Clase Vehículo\n",
    "\n",
    "1. Crea una clase `Vehiculo` con:\n",
    "   - Atributos: `marca`, `modelo`\n",
    "   - Método: `descripcion()` que imprima \"Vehículo marca <marca>, modelo <modelo>\"\n",
    "\n",
    "2. Crea una clase `Coche` que herede de `Vehiculo` y tenga además:\n",
    "   - Atributo extra: `puertas`\n",
    "   - Sobrescribe el método `descripcion()` para que también incluya el número de puertas.\n"
   ]
  },
  {
   "cell_type": "code",
   "execution_count": null,
   "id": "b240de40",
   "metadata": {},
   "outputs": [],
   "source": []
  },
  {
   "cell_type": "code",
   "execution_count": 10,
   "id": "944a3c5d",
   "metadata": {},
   "outputs": [
    {
     "name": "stdout",
     "output_type": "stream",
     "text": [
      "Vehículo Toyota, Corolla, 4 puertas\n",
      "El coche Toyota Corolla va a 20 km/h\n",
      "El coche Toyota Corolla va a 50 km/h\n",
      "El coche Toyota Corolla frena a 40 km/h\n",
      "El coche Toyota Corolla va a 40 km/h\n",
      "El coche Toyota Corolla frena a 0 km/h\n",
      "El coche Toyota Corolla va a 0 km/h\n"
     ]
    }
   ],
   "source": [
    "class Vehiculo:\n",
    "    def __init__(self, marca, modelo):\n",
    "        self.marca = marca\n",
    "        self.modelo = modelo\n",
    "\n",
    "    def descripcion(self):\n",
    "        return f\"Vehículo {self.marca}, {self.modelo}\"\n",
    "    \n",
    "    \n",
    "class Coche(Vehiculo):\n",
    "    def __init__(self, marca, modelo, puertas,velocidad:int = 0):\n",
    "        super().__init__(marca, modelo)\n",
    "        self.puertas = puertas\n",
    "        self.velocidad = velocidad\n",
    "\n",
    "    def descripcion(self):\n",
    "        return f\"{super().descripcion()}, {self.puertas} puertas\"\n",
    "    \n",
    "    def acelerar(self, incremento):\n",
    "        self.velocidad += incremento\n",
    "    def mostrar_velocidad(self):\n",
    "        print(f\"El coche {self.marca} {self.modelo} va a {self.velocidad} km/h\")\n",
    "    def frenar(self, decremento):\n",
    "        self.velocidad -= decremento\n",
    "        if self.velocidad < 0:\n",
    "            self.velocidad = 0\n",
    "        print(f\"El coche {self.marca} {self.modelo} frena a {self.velocidad} km/h\")\n",
    "    \n",
    "Coche1 = Coche(\"Toyota\", \"Corolla\", 4)\n",
    "print(Coche1.descripcion())\n",
    "Coche1.acelerar(20)\n",
    "Coche1.mostrar_velocidad()\n",
    "Coche1.acelerar(30)\n",
    "Coche1.mostrar_velocidad()\n",
    "Coche1.frenar(10)\n",
    "Coche1.mostrar_velocidad()\n",
    "Coche1.frenar(50)\n",
    "Coche1.mostrar_velocidad()"
   ]
  },
  {
   "cell_type": "markdown",
   "id": "d24e293b",
   "metadata": {},
   "source": [
    "# 4. Métodos especiales\n",
    "\n",
    "Python incluye métodos \"mágicos\" o especiales que comienzan y terminan con `__`.\n",
    "\n",
    "Algunos importantes:\n",
    "\n",
    "- `__init__`: inicializador del objeto\n",
    "- `__str__`: cómo se imprime el objeto con `print()`\n"
   ]
  },
  {
   "cell_type": "code",
   "execution_count": 12,
   "id": "f167ff72",
   "metadata": {},
   "outputs": [
    {
     "name": "stdout",
     "output_type": "stream",
     "text": [
      "Lucía, 28 años\n",
      "Persona: Lucía, Edad: 28\n"
     ]
    }
   ],
   "source": [
    "class Persona:\n",
    "    def __init__(self, nombre, edad):\n",
    "        self.nombre = nombre\n",
    "        self.edad = edad\n",
    "\n",
    "    def __str__(self):\n",
    "        return f\"{self.nombre}, {self.edad} años\"\n",
    "    \n",
    "    def descripcion(self):\n",
    "        return f\"Persona: {self.nombre}, Edad: {self.edad}\"\n",
    "\n",
    "persona = Persona(\"Lucía\", 28)\n",
    "print(persona)\n",
    "print(persona.descripcion())\n"
   ]
  },
  {
   "cell_type": "markdown",
   "id": "49137c7c",
   "metadata": {},
   "source": [
    "## ✅ Ejercicio 4: Representación de objetos\n",
    "\n",
    "Modifica tu clase `Rectangulo` del ejercicio anterior para que tenga un método `__str__` que imprima:\n",
    "\"Rectángulo de <ancho> x <alto>\"\n",
    "\n",
    "Luego imprime tu rectángulo con `print()`\n"
   ]
  },
  {
   "cell_type": "code",
   "execution_count": null,
   "id": "3abde6ad",
   "metadata": {},
   "outputs": [],
   "source": []
  },
  {
   "cell_type": "markdown",
   "id": "6b12ee5e",
   "metadata": {},
   "source": [
    "# 5. 🧠 Ejercicio Final: Sistema de Gestión de Estudiantes\n",
    "\n",
    "Crea un sistema con las siguientes clases:\n",
    "\n",
    "### Clase `Persona`\n",
    "- Atributos: `nombre`, `edad`\n",
    "- Método: `__str__`\n",
    "\n",
    "### Clase `Estudiante` (hereda de Persona)\n",
    "- Atributos extra: `carrera`, `notas` (lista)\n",
    "- Método: `promedio()`\n",
    "- Método: `__str__` personalizado\n",
    "\n",
    "### Clase `Profesor` (hereda de Persona)\n",
    "- Atributos extra: `departamento`, `asignaturas` (lista)\n",
    "- Método: `agregar_asignatura(nombre)`\n",
    "\n",
    "### Qué hacer:\n",
    "- Crea al menos dos estudiantes con notas.\n",
    "- Crea un profesor y asígnale materias.\n",
    "- Imprime toda la información.\n",
    "\n",
    "Este ejercicio busca aplicar:\n",
    "- Atributos\n",
    "- Métodos\n",
    "- Herencia\n",
    "- Métodos especiales\n"
   ]
  },
  {
   "cell_type": "code",
   "execution_count": 13,
   "id": "0aa5843b",
   "metadata": {},
   "outputs": [],
   "source": [
    "# Clase base: Persona\n",
    "class Persona:\n",
    "    def __init__(self, nombre, edad):\n",
    "        self.nombre = nombre\n",
    "        self.edad = edad\n",
    "\n",
    "    def __str__(self):\n",
    "        return f\"Nombre: {self.nombre}, Edad: {self.edad}\"\n",
    "\n",
    "# Clase Estudiante\n",
    "class Estudiante(Persona):\n",
    "    def __init__(self, nombre, edad, carrera, notas):\n",
    "        super().__init__(nombre, edad)\n",
    "        self.carrera = carrera\n",
    "        self.notas = notas\n",
    "\n",
    "    def promedio(self):\n",
    "        if self.notas:\n",
    "            return sum(self.notas) / len(self.notas)\n",
    "        return 0\n",
    "\n",
    "    def __str__(self):\n",
    "        return (f\"{super().__str__()}, Carrera: {self.carrera}, \"\n",
    "                f\"Promedio: {self.promedio():.2f}\")\n",
    "\n",
    "# Clase Profesor\n",
    "class Profesor(Persona):\n",
    "    def __init__(self, nombre, edad, departamento):\n",
    "        super().__init__(nombre, edad)\n",
    "        self.departamento = departamento\n",
    "        self.asignaturas = []\n",
    "\n",
    "    def agregar_asignatura(self, nombre_asignatura):\n",
    "        self.asignaturas.append(nombre_asignatura)\n",
    "\n",
    "    def __str__(self):\n",
    "        asignaturas_str = ', '.join(self.asignaturas) if self.asignaturas else \"Ninguna\"\n",
    "        return (f\"{super().__str__()}, Departamento: {self.departamento}, \"\n",
    "                f\"Asignaturas: {asignaturas_str}\")\n"
   ]
  },
  {
   "cell_type": "code",
   "execution_count": 14,
   "id": "ea4f5bb5",
   "metadata": {},
   "outputs": [
    {
     "name": "stdout",
     "output_type": "stream",
     "text": [
      "Estudiantes:\n",
      "Nombre: Ana, Edad: 20, Carrera: Ingeniería, Promedio: 8.17\n",
      "Nombre: Luis, Edad: 22, Carrera: Matemáticas, Promedio: 6.50\n",
      "\n",
      "Profesor:\n",
      "Nombre: Dra. Gómez, Edad: 45, Departamento: Ciencias Exactas, Asignaturas: Álgebra, Cálculo\n"
     ]
    }
   ],
   "source": [
    "# Crear estudiantes\n",
    "est1 = Estudiante(\"Ana\", 20, \"Ingeniería\", [7.5, 8.0, 9.0])\n",
    "est2 = Estudiante(\"Luis\", 22, \"Matemáticas\", [6.0, 6.5, 7.0])\n",
    "\n",
    "# Crear profesor\n",
    "prof = Profesor(\"Dra. Gómez\", 45, \"Ciencias Exactas\")\n",
    "prof.agregar_asignatura(\"Álgebra\")\n",
    "prof.agregar_asignatura(\"Cálculo\")\n",
    "\n",
    "# Mostrar información\n",
    "print(\"Estudiantes:\")\n",
    "print(est1)\n",
    "print(est2)\n",
    "\n",
    "print(\"\\nProfesor:\")\n",
    "print(prof)\n"
   ]
  }
 ],
 "metadata": {
  "kernelspec": {
   "display_name": "Python 3",
   "language": "python",
   "name": "python3"
  },
  "language_info": {
   "codemirror_mode": {
    "name": "ipython",
    "version": 3
   },
   "file_extension": ".py",
   "mimetype": "text/x-python",
   "name": "python",
   "nbconvert_exporter": "python",
   "pygments_lexer": "ipython3",
   "version": "3.12.7"
  }
 },
 "nbformat": 4,
 "nbformat_minor": 5
}
