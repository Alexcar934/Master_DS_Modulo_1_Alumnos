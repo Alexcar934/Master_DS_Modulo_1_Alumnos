{
 "cells": [
  {
   "cell_type": "markdown",
   "metadata": {},
   "source": [
    "# Programación Funcional en Python\n",
    "\n",
    "La **programación funcional** es un paradigma en el que las funciones se tratan como ciudadanos de primera clase, lo que significa que pueden ser asignadas a variables, pasadas como argumentos a otras funciones, o ser devueltas como resultado de una función. En Python, este paradigma se soporta a través del uso de funciones anónimas (lambdas), así como de funciones integradas como `map`, `filter` y `reduce`. \n",
    "\n",
    "En esta lección, exploraremos:\n",
    "1. Qué son las funciones lambda en Python.\n",
    "2. Cómo utilizarlas en conjunto con las funciones `map()`, `filter()` y `reduce()`.\n",
    "3. Conceptos básicos de inmutabilidad y transparencia referencial en el paradigma funcional.\n"
   ]
  },
  {
   "cell_type": "code",
   "execution_count": 1,
   "metadata": {},
   "outputs": [
    {
     "name": "stdout",
     "output_type": "stream",
     "text": [
      "El cuadrado de 5 es: 25\n",
      "La suma de 3 y 7 es: 10\n"
     ]
    }
   ],
   "source": [
    "# -------------------------------------------------------------------\n",
    "# Ejemplo 1: Funciones lambda\n",
    "# -------------------------------------------------------------------\n",
    "# Las funciones lambda son funciones anónimas, breves, definidas en una sola línea.\n",
    "# Su sintaxis es:\n",
    "# lambda argumentos: expresión\n",
    "\n",
    "# Definimos una función lambda que calcula el cuadrado de un número:\n",
    "cuadrado = lambda x: x ** 2\n",
    "\n",
    "# Probamos su uso:\n",
    "print(\"El cuadrado de 5 es:\", cuadrado(5))\n",
    "\n",
    "# Ejemplo con dos argumentos:\n",
    "suma = lambda a, b: a + b\n",
    "print(\"La suma de 3 y 7 es:\", suma(3, 7))\n"
   ]
  },
  {
   "cell_type": "markdown",
   "metadata": {},
   "source": [
    "## `map()`, `filter()` y `reduce()`\n",
    "\n",
    "### `map()`\n",
    "La función `map()` toma como primer argumento una función y como segundo un **iterable** (por ejemplo, una lista). Aplica la función dada a cada elemento del iterable y devuelve un nuevo objeto iterable con los resultados.\n",
    "\n",
    "### `filter()`\n",
    "La función `filter()` toma como primer argumento una función (que debe retornar un booleano) y como segundo un iterable. Devuelve un objeto iterable con aquellos elementos para los que la función devolvió `True`.\n",
    "\n",
    "### `reduce()`\n",
    "La función `reduce()` no está en el ámbito global en Python 3, sino que se encuentra en el módulo `functools`. Toma como primer argumento una función de dos argumentos y como segundo un iterable. Se va aplicando la función de manera acumulativa sobre los elementos del iterable para producir un solo valor.\n",
    "\n",
    "A continuación, veremos ejemplos de cada una de estas funciones en uso con lambdas.\n"
   ]
  },
  {
   "cell_type": "code",
   "execution_count": 2,
   "metadata": {},
   "outputs": [
    {
     "name": "stdout",
     "output_type": "stream",
     "text": [
      "Lista original: [1, 2, 3, 4, 5]\n",
      "Lista con dobles usando map(): [2, 4, 6, 8, 10]\n",
      "\n",
      "Lista original: [1, 2, 3, 4, 5]\n",
      "Números pares usando filter(): [2, 4]\n",
      "\n",
      "Lista original: [1, 2, 3, 4, 5]\n",
      "Suma de todos sus elementos usando reduce(): 15\n"
     ]
    },
    {
     "data": {
      "text/plain": [
       "'\\nCómo trabaja reduce:\\n\\nPrimero toma los dos primeros elementos: \"to\" y \"be\" → \"to be\"\\n\\nLuego toma ese resultado y el siguiente: \"to be\" y \"or\" → \"to be or\"\\n\\nLuego: \"to be or\" y \"not\" → \"to be or not\"\\n\\nY así sucesivamente...\\n'"
      ]
     },
     "execution_count": 2,
     "metadata": {},
     "output_type": "execute_result"
    }
   ],
   "source": [
    "# -------------------------------------------------------------------\n",
    "# Ejemplo 2: Uso de map()\n",
    "# -------------------------------------------------------------------\n",
    "numeros = [1, 2, 3, 4, 5]\n",
    "# Queremos obtener una nueva lista con el doble de cada número\n",
    "dobles = list(map(lambda x: x * 2, numeros))\n",
    "print(\"Lista original:\", numeros)\n",
    "print(\"Lista con dobles usando map():\", dobles)\n",
    "\n",
    "# -------------------------------------------------------------------\n",
    "# Ejemplo 3: Uso de filter()\n",
    "# -------------------------------------------------------------------\n",
    "# Queremos filtrar solo los números pares\n",
    "pares = list(filter(lambda x: x % 2 == 0, numeros))\n",
    "print(\"\\nLista original:\", numeros)\n",
    "print(\"Números pares usando filter():\", pares)\n",
    "\n",
    "# -------------------------------------------------------------------\n",
    "# Ejemplo 4: Uso de reduce()\n",
    "# -------------------------------------------------------------------\n",
    "from functools import reduce\n",
    "\n",
    "# Queremos sumar todos los números de la lista\n",
    "suma_total = reduce(lambda x, y: x + y, numeros)\n",
    "print(\"\\nLista original:\", numeros)\n",
    "print(\"Suma de todos sus elementos usando reduce():\", suma_total)\n",
    "\n",
    "'''\n",
    "Cómo trabaja reduce:\n",
    "\n",
    "Primero toma los dos primeros elementos: \"to\" y \"be\" → \"to be\"\n",
    "\n",
    "Luego toma ese resultado y el siguiente: \"to be\" y \"or\" → \"to be or\"\n",
    "\n",
    "Luego: \"to be or\" y \"not\" → \"to be or not\"\n",
    "\n",
    "Y así sucesivamente...\n",
    "'''"
   ]
  },
  {
   "cell_type": "markdown",
   "metadata": {},
   "source": [
    "## Ejemplos de map"
   ]
  },
  {
   "cell_type": "markdown",
   "metadata": {},
   "source": [
    "Ejemplo 1: Elevar al cuadrado cada número de una lista"
   ]
  },
  {
   "cell_type": "code",
   "execution_count": null,
   "metadata": {},
   "outputs": [],
   "source": [
    "numeros = [1, 2, 3, 4, 5]\n",
    "cuadrados = list(map(lambda x: x**2, numeros))\n",
    "print(cuadrados)  # [1, 4, 9, 16, 25]\n"
   ]
  },
  {
   "cell_type": "markdown",
   "metadata": {},
   "source": [
    " Ejemplo 2: Convertir todas las palabras a mayúsculas"
   ]
  },
  {
   "cell_type": "code",
   "execution_count": 3,
   "metadata": {},
   "outputs": [
    {
     "name": "stdout",
     "output_type": "stream",
     "text": [
      "['HOLA', 'MUNDO', 'PYTHON']\n"
     ]
    }
   ],
   "source": [
    "palabras = [\"hola\", \"mundo\", \"python\"]\n",
    "mayusculas = list(map(str.upper, palabras))\n",
    "print(mayusculas)  # ['HOLA', 'MUNDO', 'PYTHON']\n"
   ]
  },
  {
   "cell_type": "markdown",
   "metadata": {},
   "source": [
    "Ejemplo 3: Transformar fechas (de strings a objetos datetime)"
   ]
  },
  {
   "cell_type": "code",
   "execution_count": 4,
   "metadata": {},
   "outputs": [
    {
     "name": "stdout",
     "output_type": "stream",
     "text": [
      "[datetime.datetime(2025, 1, 1, 0, 0), datetime.datetime(2025, 5, 10, 0, 0), datetime.datetime(2025, 12, 25, 0, 0)]\n"
     ]
    }
   ],
   "source": [
    "from datetime import datetime\n",
    "\n",
    "fechas_str = [\"2025-01-01\", \"2025-05-10\", \"2025-12-25\"]\n",
    "fechas = list(map(lambda f: datetime.strptime(f, \"%Y-%m-%d\"), fechas_str))\n",
    "print(fechas)\n"
   ]
  },
  {
   "cell_type": "markdown",
   "metadata": {},
   "source": [
    "## Ejemplos de filter"
   ]
  },
  {
   "cell_type": "markdown",
   "metadata": {},
   "source": [
    "Ejemplo 1: Filtrar palabras que tienen más de 4 letras"
   ]
  },
  {
   "cell_type": "code",
   "execution_count": null,
   "metadata": {},
   "outputs": [],
   "source": [
    "palabras = [\"sol\", \"estrella\", \"luz\", \"universo\", \"cielo\"]\n",
    "largas = list(filter(lambda x: len(x) > 4, palabras))\n",
    "print(largas)  # ['estrella', 'universo']\n"
   ]
  },
  {
   "cell_type": "markdown",
   "metadata": {},
   "source": [
    "Ejemplo 2: Filtrar elementos que no son vacíos"
   ]
  },
  {
   "cell_type": "code",
   "execution_count": 5,
   "metadata": {},
   "outputs": [
    {
     "name": "stdout",
     "output_type": "stream",
     "text": [
      "['texto', 'otro', 'valor']\n"
     ]
    }
   ],
   "source": [
    "datos = [\"texto\", \"\", None, \"otro\", \"\", \"valor\"]\n",
    "no_vacios = list(filter(None, datos))\n",
    "print(no_vacios)  # ['texto', 'otro', 'valor']\n"
   ]
  },
  {
   "cell_type": "markdown",
   "metadata": {},
   "source": [
    "Ejemplo 3: Filtrar números mayores que un valor"
   ]
  },
  {
   "cell_type": "code",
   "execution_count": null,
   "metadata": {},
   "outputs": [],
   "source": [
    "numeros = [5, 8, 2, 17, 9, 3]\n",
    "mayores_que_6 = list(filter(lambda x: x > 6, numeros))\n",
    "print(mayores_que_6)  # [8, 17, 9]\n"
   ]
  },
  {
   "cell_type": "markdown",
   "metadata": {},
   "source": [
    "## ✅ Ventajas de reduce:\n",
    "Expresión más concisa y declarativa\n",
    "En una sola línea puedes expresar una operación acumulativa sin tener que declarar explícitamente variables auxiliares ni escribir bucles.\n",
    "\n",
    "Ideal para operaciones funcionales\n",
    "Es parte del paradigma de programación funcional, donde se evita modificar variables externas y se favorece la composición de funciones.\n",
    "\n",
    "Puede usarse con cualquier tipo de operación acumulativa\n",
    "No solo concatenación, también sumas, productos, comparaciones, combinaciones de estructuras, etc.\n",
    "\n",
    "## 👎 Desventajas (o limitaciones) frente a un bucle:\n",
    "Menos legible para principiantes\n",
    "Para alguien que no conoce reduce, el bucle for es mucho más intuitivo.\n",
    "\n",
    "Más difícil de depurar\n",
    "No puedes insertar fácilmente print() dentro de reduce sin romper la función.\n",
    "\n",
    "No siempre es más eficiente\n",
    "Internamente puede tener el mismo rendimiento (o incluso peor en algunos casos) que un bucle tradicional, especialmente si no se usa con funciones optimizadas."
   ]
  },
  {
   "cell_type": "code",
   "execution_count": 17,
   "metadata": {},
   "outputs": [
    {
     "name": "stdout",
     "output_type": "stream",
     "text": [
      "Precios en USD: [100, 50, 25, 10]\n",
      "Precios en EUR (convertidos con map): [85.0, 42.5, 21.25, 8.5]\n"
     ]
    }
   ],
   "source": [
    "# -------------------------------------------------------------------\n",
    "# Ejemplo 1: Usando map para transformar datos\n",
    "# -------------------------------------------------------------------\n",
    "\n",
    "# Supongamos que tenemos una lista de precios en dólares y queremos convertirlos a euros (1 USD = 0.85 EUR aprox)\n",
    "precios_usd = [100, 50, 25, 10]\n",
    "precios_eur = list(map(lambda x: round(x * 0.85, 2), precios_usd))\n",
    "\n",
    "print(\"Precios en USD:\", precios_usd)\n",
    "print(\"Precios en EUR (convertidos con map):\", precios_eur)\n"
   ]
  },
  {
   "cell_type": "code",
   "execution_count": 18,
   "metadata": {},
   "outputs": [
    {
     "name": "stdout",
     "output_type": "stream",
     "text": [
      "Valores originales: [10, None, 0, 25, '', 30, None, False]\n",
      "Valores válidos (filtrados): [10, 25, 30]\n"
     ]
    }
   ],
   "source": [
    "# -------------------------------------------------------------------\n",
    "# Ejemplo 2: Usando filter para limpiar datos\n",
    "# -------------------------------------------------------------------\n",
    "\n",
    "# Queremos filtrar los valores válidos de una lista que contiene números y valores nulos\n",
    "valores = [10, None, 0, 25, '', 30, None, False]\n",
    "\n",
    "# Nos quedamos con los elementos que son enteros mayores que 0\n",
    "valores_validos = list(filter(lambda x: isinstance(x, int) and x > 0, valores))\n",
    "\n",
    "print(\"Valores originales:\", valores)\n",
    "print(\"Valores válidos (filtrados):\", valores_validos)\n"
   ]
  },
  {
   "cell_type": "markdown",
   "metadata": {},
   "source": [
    "## Inmutabilidad y Transparencia Referencial\n",
    "\n",
    "En la programación funcional se promueve el uso de **valores inmutables** (que no cambian su estado interno) y la **transparencia referencial**, que significa que una función siempre devuelva el mismo resultado dadas las mismas entradas, sin efectos secundarios.\n",
    "\n",
    "Si bien Python no es estrictamente un lenguaje funcional y permite mutabilidad, al programar con estilo funcional, se tiende a:\n",
    "- Evitar modificar estructuras de datos existentes.\n",
    "- Usar funciones que dependan solo de los argumentos que reciben.\n",
    "- Reducir o eliminar efectos secundarios (como modificar variables globales o hacer E/S).\n",
    "\n",
    "El uso de `map`, `filter` y `reduce`, junto con lambdas, promueve este estilo al trabajar con datos de forma declarativa.\n",
    "\n",
    "---\n"
   ]
  },
  {
   "cell_type": "code",
   "execution_count": 19,
   "metadata": {},
   "outputs": [
    {
     "name": "stdout",
     "output_type": "stream",
     "text": [
      "Lista original: [10, 20, 30, 40, 50]\n",
      "Lista incrementada (sin modificar la original): [11, 21, 31, 41, 51]\n"
     ]
    }
   ],
   "source": [
    "# -------------------------------------------------------------------\n",
    "# Ejemplo 5: Buenas prácticas funcionales (sin modificar estado)\n",
    "# -------------------------------------------------------------------\n",
    "# Creamos una lista de números (inmutable en el sentido de que no la alteraremos).\n",
    "nums = [10, 20, 30, 40, 50]\n",
    "\n",
    "# Función para incrementar cada valor por 1 sin modificar la lista original:\n",
    "incrementados = list(map(lambda x: x + 1, nums))\n",
    "\n",
    "print(\"Lista original:\", nums)\n",
    "print(\"Lista incrementada (sin modificar la original):\", incrementados)\n"
   ]
  }
 ],
 "metadata": {
  "kernelspec": {
   "display_name": "Python 3",
   "language": "python",
   "name": "python3"
  },
  "language_info": {
   "codemirror_mode": {
    "name": "ipython",
    "version": 3
   },
   "file_extension": ".py",
   "mimetype": "text/x-python",
   "name": "python",
   "nbconvert_exporter": "python",
   "pygments_lexer": "ipython3",
   "version": "3.12.7"
  }
 },
 "nbformat": 4,
 "nbformat_minor": 2
}
