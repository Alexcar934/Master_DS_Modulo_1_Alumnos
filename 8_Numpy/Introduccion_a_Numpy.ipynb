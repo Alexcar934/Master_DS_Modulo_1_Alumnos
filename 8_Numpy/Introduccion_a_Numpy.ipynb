{
 "cells": [
  {
   "cell_type": "markdown",
   "metadata": {},
   "source": [
    "# 🧠 Introducción a NumPy\n",
    "\n",
    "**Duración:** 4 horas  \n",
    "**Objetivo:** Aprender los fundamentos de NumPy para el manejo eficiente de datos numéricos en Python: arrays, operaciones vectorizadas, indexación y slicing.\n",
    "\n",
    "---\n",
    "\n",
    "## 📌 Contenido:\n",
    "1. ¿Por qué NumPy? Motivación y comparación con listas  \n",
    "2. Creación de arrays: cómo generar estructuras para trabajar datos  \n",
    "3. Indexación y slicing: cómo acceder y manipular datos  \n",
    "4. Operaciones vectorizadas: cómo aprovechar la eficiencia de NumPy  \n",
    "5. Funciones útiles para análisis y transformación  \n",
    "6. Ejercicio práctico final\n",
    "\n",
    "---\n",
    "\n",
    "## 1️⃣ ¿Por qué NumPy?\n",
    "\n",
    "Python es excelente para programar, pero sus listas no están optimizadas para cálculos numéricos masivos. NumPy resuelve esto ofreciendo arrays que son:\n",
    "- Más rápidos\n",
    "- Más compactos\n",
    "- Con operaciones matemáticas integradas\n",
    "- Compatibles con bibliotecas como pandas, matplotlib, scikit-learn, etc.\n",
    "\n",
    "### 🧪 Comparativa de rendimiento\n",
    "\n",
    "```python\n",
    "import numpy as np\n",
    "\n",
    "lista = list(range(1000000))\n",
    "array = np.arange(1000000)\n",
    "\n",
    "%timeit [x**2 for x in lista]\n",
    "%timeit array**2\n"
   ]
  },
  {
   "cell_type": "code",
   "execution_count": 4,
   "metadata": {},
   "outputs": [
    {
     "name": "stdout",
     "output_type": "stream",
     "text": [
      "66.2 ms ± 3.06 ms per loop (mean ± std. dev. of 7 runs, 10 loops each)\n"
     ]
    }
   ],
   "source": [
    "import numpy as np\n",
    "\n",
    "lista = list(range(1000000))         # Lista de Python con 1 millón de elementos\n",
    "array = np.arange(1000000)           # Arreglo de NumPy con 1 millón de elementos\n",
    "\n",
    "%timeit [x**2 for x in lista]        # Tiempo que toma elevar al cuadrado usando lista\n",
    "                    # Tiempo que toma elevar al cuadrado usando NumPy\n"
   ]
  },
  {
   "cell_type": "code",
   "execution_count": 3,
   "metadata": {},
   "outputs": [
    {
     "name": "stdout",
     "output_type": "stream",
     "text": [
      "1.4 ms ± 452 μs per loop (mean ± std. dev. of 7 runs, 100 loops each)\n"
     ]
    }
   ],
   "source": [
    "%timeit array**2 "
   ]
  },
  {
   "cell_type": "markdown",
   "metadata": {},
   "source": [
    "### 💡 ¿Qué significa?\n",
    "List Comprehension (lista): tarda ~81.5 ms en completar la operación.\n",
    "\n",
    "NumPy array: tarda ~1.11 ms, mucho más rápido.\n",
    "\n",
    "🚀 Conclusión:\n",
    "NumPy es muchísimo más rápido para operaciones numéricas vectorizadas como esta.\n",
    "\n",
    "Esto se debe a que NumPy está implementado en C y realiza operaciones a nivel de bloque (sin bucles de Python)."
   ]
  },
  {
   "cell_type": "code",
   "execution_count": null,
   "metadata": {},
   "outputs": [],
   "source": []
  },
  {
   "cell_type": "markdown",
   "metadata": {},
   "source": [
    "## 2️⃣ Crear arrays: el punto de partida para trabajar con datos\n",
    "Antes de procesar datos, necesitas representarlos. En NumPy usamos arrays: estructuras similares a listas, pero más potentes."
   ]
  },
  {
   "cell_type": "code",
   "execution_count": 6,
   "metadata": {},
   "outputs": [
    {
     "name": "stdout",
     "output_type": "stream",
     "text": [
      "Array desde lista: [1 2 3]\n"
     ]
    }
   ],
   "source": [
    "a = np.array([1, 2, 3])\n",
    "print(\"Array desde lista:\", a)\n"
   ]
  },
  {
   "cell_type": "markdown",
   "metadata": {},
   "source": [
    "### 🔧 Crear arrays vacíos o con valores iniciales\n",
    "Estas funciones son útiles cuando quieres inicializar estructuras antes de llenarlas con datos:"
   ]
  },
  {
   "cell_type": "code",
   "execution_count": 7,
   "metadata": {},
   "outputs": [
    {
     "data": {
      "text/plain": [
       "array([[1., 0., 0.],\n",
       "       [0., 1., 0.],\n",
       "       [0., 0., 1.]])"
      ]
     },
     "execution_count": 7,
     "metadata": {},
     "output_type": "execute_result"
    }
   ],
   "source": [
    "np.zeros((2, 3))     # Útil para inicializar una matriz donde se cargarán valores\n",
    "np.ones(5)           # Útil como multiplicador o marcador\n",
    "np.full((2, 2), 7)   # Inicializar con un valor específico\n",
    "np.eye(3)            # Matriz identidad (muy usada en álgebra lineal)\n"
   ]
  },
  {
   "cell_type": "markdown",
   "metadata": {},
   "source": [
    "## 🔢 Generar rangos o secuencias de valores\n",
    "Cuando queremos crear secuencias sin escribirlas manualmente:"
   ]
  },
  {
   "cell_type": "code",
   "execution_count": 9,
   "metadata": {},
   "outputs": [
    {
     "data": {
      "text/plain": [
       "array([0, 2, 4, 6, 8])"
      ]
     },
     "execution_count": 9,
     "metadata": {},
     "output_type": "execute_result"
    }
   ],
   "source": [
    "np.arange(0, 10, 2)      # Como range(), pero en array"
   ]
  },
  {
   "cell_type": "code",
   "execution_count": 12,
   "metadata": {},
   "outputs": [
    {
     "data": {
      "text/plain": [
       "array([0.        , 0.33333333, 0.66666667, 1.        ])"
      ]
     },
     "execution_count": 12,
     "metadata": {},
     "output_type": "execute_result"
    }
   ],
   "source": [
    "np.linspace(0, 1, 4)     # Divide de forma equidistante (para gráficos, por ejemplo)"
   ]
  },
  {
   "cell_type": "markdown",
   "metadata": {},
   "source": [
    "## 🔍 Propiedades básicas de los arrays"
   ]
  },
  {
   "cell_type": "code",
   "execution_count": 14,
   "metadata": {},
   "outputs": [
    {
     "name": "stdout",
     "output_type": "stream",
     "text": [
      "(2, 3)\n",
      "2\n",
      "6\n",
      "int32\n"
     ]
    }
   ],
   "source": [
    "a = np.array([[1, 2, 3], [4, 5, 6]])\n",
    "print(a.shape)     # Tamaño de cada dimensión\n",
    "print(a.ndim)      # Número de dimensiones\n",
    "print(a.size)     # Total de elementos\n",
    "print(a.dtype)     # Tipo de dato (int, float, etc.)"
   ]
  },
  {
   "cell_type": "markdown",
   "metadata": {},
   "source": [
    "## 🧪 Ejercicio 1: Creación de arrays\n",
    "1. Crea un array del 0 al 9\n",
    "\n",
    "2. Crea una matriz 3x3 de ceros\n",
    "\n",
    "3. Crea una secuencia de 5 valores entre 0 y 1\n",
    "\n",
    "4. ¿Qué utilidad tendría un array lleno de -1?"
   ]
  },
  {
   "cell_type": "markdown",
   "metadata": {},
   "source": [
    "## 3️⃣ Indexación y slicing: acceder a tus datos\n",
    "Una vez tienes datos, necesitas consultarlos, cortarlos, combinarlos...\n",
    "### 🔍 Acceder a elementos individuales"
   ]
  },
  {
   "cell_type": "code",
   "execution_count": 15,
   "metadata": {},
   "outputs": [
    {
     "data": {
      "text/plain": [
       "2"
      ]
     },
     "execution_count": 15,
     "metadata": {},
     "output_type": "execute_result"
    }
   ],
   "source": [
    "a = np.array([[1, 2, 3], [4, 5, 6]])\n",
    "a[0, 1]  # Segundo elemento de la primera fila\n"
   ]
  },
  {
   "cell_type": "markdown",
   "metadata": {},
   "source": [
    "### ✂️ Slicing (corte de arrays)\n",
    "Es como cortar un archivo CSV: elegir filas, columnas, regiones."
   ]
  },
  {
   "cell_type": "code",
   "execution_count": 17,
   "metadata": {},
   "outputs": [
    {
     "data": {
      "text/plain": [
       "array([[1, 2, 3],\n",
       "       [4, 5, 6]])"
      ]
     },
     "execution_count": 17,
     "metadata": {},
     "output_type": "execute_result"
    }
   ],
   "source": [
    "a"
   ]
  },
  {
   "cell_type": "code",
   "execution_count": 26,
   "metadata": {},
   "outputs": [
    {
     "name": "stdout",
     "output_type": "stream",
     "text": [
      "[[2 3]\n",
      " [5 6]]\n",
      "[1 4]\n"
     ]
    }
   ],
   "source": [
    "print(a[0:, 1:])    # Submatriz desde [1,1] hasta el final\n",
    "print(a[:, 0])      # Primera columna"
   ]
  },
  {
   "cell_type": "markdown",
   "metadata": {},
   "source": [
    "### 🧠 Indexación booleana: filtrar según condiciones\n",
    "Ideal para análisis de datos, por ejemplo, seleccionar notas > 7."
   ]
  },
  {
   "cell_type": "code",
   "execution_count": 31,
   "metadata": {},
   "outputs": [
    {
     "data": {
      "text/plain": [
       "array([4, 5, 6])"
      ]
     },
     "execution_count": 31,
     "metadata": {},
     "output_type": "execute_result"
    }
   ],
   "source": [
    "a = np.array([1, 2, 3, 4, 5, 6])\n",
    "a[a > 3]   # Devuelve [4, 5, 6]\n"
   ]
  },
  {
   "cell_type": "markdown",
   "metadata": {},
   "source": [
    "### 🎯 Fancy indexing: acceder a múltiples índices"
   ]
  },
  {
   "cell_type": "code",
   "execution_count": null,
   "metadata": {},
   "outputs": [
    {
     "data": {
      "text/plain": [
       "array([10, 30, 50])"
      ]
     },
     "execution_count": 47,
     "metadata": {},
     "output_type": "execute_result"
    }
   ],
   "source": [
    "a = np.array([10, 20, 30, 40, 50])\n",
    "a[[0, 2, 4]]     # Devuelve [10, 30, 50]\n"
   ]
  },
  {
   "cell_type": "code",
   "execution_count": null,
   "metadata": {},
   "outputs": [],
   "source": [
    "a = np.array([[10, 20, 30, 40, 50]])\n",
    "a[0][[0, 2, 4]]"
   ]
  },
  {
   "cell_type": "code",
   "execution_count": 43,
   "metadata": {},
   "outputs": [
    {
     "data": {
      "text/plain": [
       "array([10, 30, 50])"
      ]
     },
     "execution_count": 43,
     "metadata": {},
     "output_type": "execute_result"
    }
   ],
   "source": [
    "a[0::2]"
   ]
  },
  {
   "cell_type": "markdown",
   "metadata": {},
   "source": [
    " ### Ejercicio 2: Indexación\n",
    "Crea una matriz 5x5 con valores del 1 al 25\n",
    "\n",
    "Extrae la diagonal principal\n",
    "\n",
    "Extrae las esquinas\n",
    "\n",
    "Filtra los valores mayores a 10"
   ]
  },
  {
   "cell_type": "code",
   "execution_count": 2,
   "metadata": {},
   "outputs": [
    {
     "name": "stdout",
     "output_type": "stream",
     "text": [
      "Matriz 5x5:\n",
      "[[ 1  2  3  4  5]\n",
      " [ 6  7  8  9 10]\n",
      " [11 12 13 14 15]\n",
      " [16 17 18 19 20]\n",
      " [21 22 23 24 25]]\n",
      "\n",
      "Diagonal principal:\n",
      "[ 1  7 13 19 25]\n",
      "\n",
      "Esquinas:\n",
      "[ 1  5 21 25]\n",
      "\n",
      "Valores mayores a 10:\n",
      "[11 12 13 14 15 16 17 18 19 20 21 22 23 24 25]\n"
     ]
    }
   ],
   "source": [
    "import numpy as np\n",
    "\n",
    "# Crear la matriz 5x5 con valores del 1 al 25\n",
    "matriz = np.arange(1, 26).reshape(5, 5)\n",
    "print(\"Matriz 5x5:\")\n",
    "print(matriz)\n",
    "\n",
    "# Extraer la diagonal principal\n",
    "diagonal = np.diag(matriz)\n",
    "print(\"\\nDiagonal principal:\")\n",
    "print(diagonal)\n",
    "\n",
    "# Extraer las esquinas\n",
    "esquinas = np.array([matriz[0, 0], matriz[0, -1], matriz[-1, 0], matriz[-1, -1]])\n",
    "print(\"\\nEsquinas:\")\n",
    "print(esquinas)\n",
    "\n",
    "# Filtrar los valores mayores a 10\n",
    "mayores_que_10 = matriz[matriz > 10]\n",
    "print(\"\\nValores mayores a 10:\")\n",
    "print(mayores_que_10)\n"
   ]
  },
  {
   "cell_type": "markdown",
   "metadata": {},
   "source": [
    "## 4️⃣ Operaciones vectorizadas: cálculo eficiente\n",
    "Las operaciones vectorizadas son el corazón de NumPy: permiten escribir código más limpio y mucho más rápido."
   ]
  },
  {
   "cell_type": "code",
   "execution_count": 56,
   "metadata": {},
   "outputs": [
    {
     "name": "stdout",
     "output_type": "stream",
     "text": [
      "[5 7 9]\n",
      "[ 4 10 18]\n",
      "[1 4 9]\n"
     ]
    }
   ],
   "source": [
    "a = np.array([1, 2, 3])\n",
    "b = np.array([4, 5, 6])\n",
    "\n",
    "print(a + b)       # Suma elemento a elemento\n",
    "print(a * b)       # Producto elemento a elemento\n",
    "print(a ** 2)      # Potencia\n"
   ]
  },
  {
   "cell_type": "code",
   "execution_count": 57,
   "metadata": {},
   "outputs": [
    {
     "data": {
      "text/plain": [
       "array([ True,  True,  True])"
      ]
     },
     "execution_count": 57,
     "metadata": {},
     "output_type": "execute_result"
    }
   ],
   "source": [
    "#Comparaciones\n",
    "a > 2\n",
    "a < b"
   ]
  },
  {
   "cell_type": "code",
   "execution_count": 58,
   "metadata": {},
   "outputs": [
    {
     "data": {
      "text/plain": [
       "array([1, 2, 3])"
      ]
     },
     "execution_count": 58,
     "metadata": {},
     "output_type": "execute_result"
    }
   ],
   "source": [
    "a"
   ]
  }
 ],
 "metadata": {
  "kernelspec": {
   "display_name": "Python 3",
   "language": "python",
   "name": "python3"
  },
  "language_info": {
   "codemirror_mode": {
    "name": "ipython",
    "version": 3
   },
   "file_extension": ".py",
   "mimetype": "text/x-python",
   "name": "python",
   "nbconvert_exporter": "python",
   "pygments_lexer": "ipython3",
   "version": "3.12.7"
  }
 },
 "nbformat": 4,
 "nbformat_minor": 2
}
