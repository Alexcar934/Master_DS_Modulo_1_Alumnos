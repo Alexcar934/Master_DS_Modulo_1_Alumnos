{
 "cells": [
  {
   "cell_type": "markdown",
   "id": "ef57b2ac",
   "metadata": {},
   "source": [
    "# Clase 2: Operaciones matemáticas, estadísticas y manipulación de matrices con NumPy\n",
    "\n",
    "En esta segunda clase de NumPy, profundizaremos en:\n",
    "1. **Operaciones matemáticas avanzadas** (suma, diferencia, producto, broadcasting).\n",
    "2. **Funciones estadísticas** (media, mediana, varianza, percentiles, etc.).\n",
    "3. **Manipulación de matrices** (reshape, transponer, concatenar, dividir, multiplicación de matrices, etc.).\n",
    "\n",
    "Empecemos importando la librería e imprimiendo su versión.\n"
   ]
  },
  {
   "cell_type": "code",
   "execution_count": 1,
   "id": "c5a8c84b",
   "metadata": {},
   "outputs": [
    {
     "name": "stdout",
     "output_type": "stream",
     "text": [
      "Versión de NumPy: 1.26.4\n"
     ]
    }
   ],
   "source": [
    "import numpy as np\n",
    "\n",
    "print(\"Versión de NumPy:\", np.__version__)\n"
   ]
  },
  {
   "cell_type": "markdown",
   "id": "0277dc2f",
   "metadata": {},
   "source": [
    "## 1. Operaciones matemáticas avanzadas\n",
    "\n",
    "NumPy ofrece una gran variedad de **ufuncs** (funciones universales), que permiten aplicar operaciones aritméticas de manera vectorizada.\n",
    "\n",
    "### 1.1 Suma, resta, multiplicación y división\n",
    "Hagamos un breve repaso y veamos cómo usar `axis` para controlar si sumamos por filas o por columnas en un array 2D.\n"
   ]
  },
  {
   "cell_type": "code",
   "execution_count": 21,
   "id": "eb4d79ff",
   "metadata": {},
   "outputs": [
    {
     "name": "stdout",
     "output_type": "stream",
     "text": [
      "Matriz original:\n",
      " [[1 2 3]\n",
      " [4 5 6]\n",
      " [7 8 9]]\n",
      "\n",
      "Suma total: 45\n",
      "Suma por filas: [ 6 15 24]\n",
      "Suma por filas: [ 6 24]\n",
      "Suma por columnas: [12 15 18]\n",
      "Producto de todos los elementos: 6\n",
      "Valor mínimo: 1\n",
      "Valor máximo: 9\n"
     ]
    }
   ],
   "source": [
    "# Creamos un array 2D\n",
    "matriz = np.array([[1, 2, 3],\n",
    "                   [4, 5, 6],\n",
    "                   [7, 8, 9]])\n",
    "\n",
    "print(\"Matriz original:\\n\", matriz)\n",
    "\n",
    "# Suma total de todos los elementos\n",
    "print(\"\\nSuma total:\", np.sum(matriz))\n",
    "\n",
    "# Suma por filas (axis=1)\n",
    "print(\"Suma por filas:\", np.sum(matriz, axis=1))\n",
    "print(\"Suma por filas:\", np.sum(matriz[[0,2]], axis=1))\n",
    "\n",
    "# Suma por columnas (axis=0)\n",
    "print(\"Suma por columnas:\", np.sum(matriz, axis=0))\n",
    "\n",
    "# Otras operaciones: producto, mínimo, máximo\n",
    "print(\"Producto de todos los elementos:\", np.prod([matriz[0,2], matriz[0,1]]))\n",
    "print(\"Valor mínimo:\", np.min(matriz))\n",
    "print(\"Valor máximo:\", np.max(matriz))\n"
   ]
  },
  {
   "cell_type": "markdown",
   "id": "51d83522",
   "metadata": {},
   "source": [
    "### 1.2 Broadcasting\n",
    "\n",
    "El **broadcasting** permite realizar operaciones entre arrays de distintas formas (shapes) siempre que una de ellas sea compatible con la otra. Veamos un ejemplo donde sumamos un vector a cada fila de una matriz.\n"
   ]
  },
  {
   "cell_type": "code",
   "execution_count": 40,
   "id": "93d8a760",
   "metadata": {},
   "outputs": [
    {
     "name": "stdout",
     "output_type": "stream",
     "text": [
      "Matriz A:\n",
      " [[1 2 3]\n",
      " [4 5 6]]\n",
      "Vector b: [10 20 30]\n",
      "(2, 3)\n",
      "(3,)\n",
      "\n",
      "A + b:\n",
      " [[11 22 33]\n",
      " [14 25 36]]\n"
     ]
    }
   ],
   "source": [
    "A = np.array([[1, 2, 3],\n",
    "              [4, 5, 6]])\n",
    "b = np.array([10, 20, 30])\n",
    "\n",
    "print(\"Matriz A:\\n\", A)\n",
    "print(\"Vector b:\", b)\n",
    "\n",
    "print(A.shape)\n",
    "print(b.shape)\n",
    "\n",
    "# Suma con broadcasting\n",
    "C = A + b\n",
    "print(\"\\nA + b:\\n\", C)\n"
   ]
  },
  {
   "cell_type": "markdown",
   "id": "e7d23115",
   "metadata": {},
   "source": [
    "En este caso, el vector `b` se *expande* para poder sumarse a cada fila de `A`. Este proceso se llama **broadcasting**.\n",
    "\n",
    "---\n",
    "\n",
    "## 2. Funciones estadísticas\n",
    "\n",
    "Ahora veamos algunas funciones comunes para análisis estadístico rápido.\n",
    "\n",
    "### 2.1 Medidas de tendencia central\n"
   ]
  },
  {
   "cell_type": "code",
   "execution_count": 41,
   "id": "fb5fac54",
   "metadata": {},
   "outputs": [
    {
     "name": "stdout",
     "output_type": "stream",
     "text": [
      "Datos: [10  4  2 20 18  7  7  9 21]\n",
      "Media: 10.88888888888889\n",
      "Mediana: 9.0\n",
      "Desviación típica: 6.640690132215082\n",
      "Varianza: 44.098765432098766\n"
     ]
    }
   ],
   "source": [
    "datos = np.array([10, 4, 2, 20, 18, 7, 7, 9, 21])\n",
    "\n",
    "print(\"Datos:\", datos)\n",
    "print(\"Media:\", np.mean(datos))\n",
    "print(\"Mediana:\", np.median(datos))\n",
    "print(\"Desviación típica:\", np.std(datos))\n",
    "print(\"Varianza:\", np.var(datos))\n"
   ]
  },
  {
   "cell_type": "markdown",
   "id": "881f78da",
   "metadata": {},
   "source": [
    "### 2.2 Percentiles y cuantiles\n",
    "\n",
    "Los **percentiles** son valores que dividen el rango de datos; por ejemplo, el percentil 50 (P50) corresponde a la mediana.\n"
   ]
  },
  {
   "cell_type": "code",
   "execution_count": 42,
   "id": "4f103f4b",
   "metadata": {},
   "outputs": [
    {
     "name": "stdout",
     "output_type": "stream",
     "text": [
      "Percentil 25: 7.0\n",
      "Percentil 50 (mediana): 9.0\n",
      "Percentil 75: 18.0\n"
     ]
    }
   ],
   "source": [
    "# Percentiles\n",
    "p25 = np.percentile(datos, 25)  # 25% de los valores están por debajo\n",
    "p50 = np.percentile(datos, 50)  # mediana\n",
    "p75 = np.percentile(datos, 75)\n",
    "\n",
    "print(\"Percentil 25:\", p25)\n",
    "print(\"Percentil 50 (mediana):\", p50)\n",
    "print(\"Percentil 75:\", p75)\n"
   ]
  },
  {
   "cell_type": "markdown",
   "id": "f87c7d64",
   "metadata": {},
   "source": [
    "Estas medidas son muy útiles para el **análisis exploratorio** de datos (EDA) y para detectar valores atípicos (outliers).\n",
    "\n",
    "---\n",
    "\n",
    "## 3. Manipulación de matrices\n",
    "\n",
    "En NumPy, las operaciones con matrices son cruciales, especialmente en IA y Data Science (para representar datos, pesos de modelos, etc.).\n",
    "\n",
    "### 3.1 Reshape y Flatten\n",
    "\n",
    "- `reshape` permite cambiar la forma (shape) de un array sin cambiar sus datos.\n",
    "- `ravel` o `flatten` \"aplanan\" un array n-dimensional en uno 1D.\n"
   ]
  },
  {
   "cell_type": "code",
   "execution_count": null,
   "id": "da55a118",
   "metadata": {},
   "outputs": [
    {
     "name": "stdout",
     "output_type": "stream",
     "text": [
      "Array 1D: [ 1  2  3  4  5  6  7  8  9 10 11 12]\n",
      "\n",
      "Array reshape a 3x4:\n",
      " [[ 1  2  3  4]\n",
      " [ 5  6  7  8]\n",
      " [ 9 10 11 12]]\n",
      "\n",
      "Array aplanado de nuevo: [ 1  2  3  4  5  6  7  8  9 10 11 12]\n"
     ]
    },
    {
     "data": {
      "text/plain": [
       "array([ 1,  2,  3,  4,  5,  6,  7,  8,  9, 10, 11, 12])"
      ]
     },
     "execution_count": 44,
     "metadata": {},
     "output_type": "execute_result"
    }
   ],
   "source": [
    "arr = np.arange(1, 13)  # array desde 1 hasta 12\n",
    "print(\"Array 1D:\", arr)\n",
    "\n",
    "# Cambiamos la forma a 3x4 (3 filas, 4 columnas)\n",
    "arr_reshaped = arr.reshape((3, 4))\n",
    "print(\"\\nArray reshape a 3x4:\\n\", arr_reshaped)\n",
    "\n",
    "# Aplanar de nuevo\n",
    "arr_flat = arr_reshaped.ravel()  # o arr_reshaped.flatten()\n",
    "print(\"\\nArray aplanado de nuevo:\", arr_flat)\n",
    "# arr_reshaped.reshape(12,)\n"
   ]
  },
  {
   "cell_type": "markdown",
   "id": "7f070b94",
   "metadata": {},
   "source": [
    "### 3.2 Transposición (transpose)\n",
    "\n",
    "Si tenemos una matriz, podemos obtener su traspuesta fácilmente con `arr.T`.\n"
   ]
  },
  {
   "cell_type": "code",
   "execution_count": 45,
   "id": "8264cefc",
   "metadata": {},
   "outputs": [
    {
     "name": "stdout",
     "output_type": "stream",
     "text": [
      "Matriz original:\n",
      " [[1 2 3]\n",
      " [4 5 6]]\n",
      "\n",
      "Matriz traspuesta:\n",
      " [[1 4]\n",
      " [2 5]\n",
      " [3 6]]\n"
     ]
    }
   ],
   "source": [
    "mat = np.array([[1, 2, 3],\n",
    "                [4, 5, 6]])\n",
    "print(\"Matriz original:\\n\", mat)\n",
    "\n",
    "mat_T = mat.T\n",
    "print(\"\\nMatriz traspuesta:\\n\", mat_T)\n"
   ]
  },
  {
   "cell_type": "markdown",
   "id": "933a4ce4",
   "metadata": {},
   "source": [
    "### 3.3 Concatenación y división de arrays\n",
    "\n",
    "Podemos **concatenar** arrays por filas o columnas (funciones `np.concatenate`, `np.vstack`, `np.hstack`) o **dividir** un array en subarrays (`np.split`, `np.hsplit`, `np.vsplit`).\n"
   ]
  },
  {
   "cell_type": "code",
   "execution_count": 46,
   "id": "f284370b",
   "metadata": {},
   "outputs": [
    {
     "name": "stdout",
     "output_type": "stream",
     "text": [
      "Concatenación vertical:\n",
      " [[1 2]\n",
      " [3 4]\n",
      " [5 6]\n",
      " [7 8]]\n",
      "\n",
      "Concatenación horizontal:\n",
      " [[1 2 5 6]\n",
      " [3 4 7 8]]\n",
      "\n",
      "Array dividido en 2:\n",
      " [array([[1, 2],\n",
      "       [3, 4]]), array([[5, 6],\n",
      "       [7, 8]])]\n"
     ]
    }
   ],
   "source": [
    "# Concatenación vertical\n",
    "arr1 = np.array([[1, 2],\n",
    "                 [3, 4]])\n",
    "arr2 = np.array([[5, 6],\n",
    "                 [7, 8]])\n",
    "\n",
    "# Unimos verticalmente (filas)\n",
    "arr_vertical = np.vstack((arr1, arr2))\n",
    "print(\"Concatenación vertical:\\n\", arr_vertical)\n",
    "\n",
    "# Unimos horizontalmente (columnas)\n",
    "arr_horizontal = np.hstack((arr1, arr2))\n",
    "print(\"\\nConcatenación horizontal:\\n\", arr_horizontal)\n",
    "\n",
    "# División de arrays\n",
    "arr_dividido = np.split(arr_vertical, 2)  # dividimos en 2 subarrays a lo largo del eje 0\n",
    "print(\"\\nArray dividido en 2:\\n\", arr_dividido)\n"
   ]
  },
  {
   "cell_type": "markdown",
   "id": "a44dcf2e",
   "metadata": {},
   "source": [
    "### 3.4 Operaciones de álgebra lineal (multiplicación de matrices)\n",
    "\n",
    "En NumPy existen múltiples formas de hacer multiplicación de matrices:\n",
    "- `*` multiplica elemento a elemento (Hadamard).\n",
    "- `np.dot(A, B)` o `A.dot(B)` realizan multiplicación de matrices según la definición de álgebra lineal.\n",
    "- `@` (operador arroba) es equivalente a `np.dot` para arrays 2D.\n",
    "\n",
    "Veámoslo:\n"
   ]
  },
  {
   "cell_type": "code",
   "execution_count": 49,
   "id": "2d78d6f1",
   "metadata": {},
   "outputs": [
    {
     "name": "stdout",
     "output_type": "stream",
     "text": [
      "Multiplicación elemento a elemento:\n",
      " [[ 5 12]\n",
      " [21 32]]\n",
      "\n",
      "Multiplicación de matrices (dot):\n",
      " [[19 22]\n",
      " [43 50]]\n",
      "\n",
      "Multiplicación de matrices (@):\n",
      " [[19 22]\n",
      " [43 50]]\n",
      "\n",
      "¿multi_dot == multi_at? True\n"
     ]
    }
   ],
   "source": [
    "M1 = np.array([[1, 2],\n",
    "               [3, 4]])\n",
    "M2 = np.array([[5, 6],\n",
    "               [7, 8]])\n",
    "\n",
    "# Multiplicación elemento a elemento\n",
    "multi_elem = M1 * M2\n",
    "print(\"Multiplicación elemento a elemento:\\n\", multi_elem)\n",
    "\n",
    "# Producto matricial (álgebra lineal)\n",
    "multi_dot = np.dot(M1, M2)\n",
    "print(\"\\nMultiplicación de matrices (dot):\\n\", multi_dot)\n",
    "\n",
    "# Operador @\n",
    "multi_at = M1 @ M2\n",
    "print(\"\\nMultiplicación de matrices (@):\\n\", multi_at)\n",
    "\n",
    "# Comprobar que son iguales\n",
    "print(\"\\n¿multi_dot == multi_at?\", np.array_equal(multi_dot, multi_at))\n"
   ]
  },
  {
   "cell_type": "markdown",
   "id": "1541d244",
   "metadata": {},
   "source": [
    "* 1 x 5 + 2 x 7 = 19 \n",
    "* 1 x 6 + 2 x 8 = 22 \n",
    "* 3 x 5 + 4 x 7 = 43 \n",
    "* 2 x 7 + 4 x 8 = 50\n"
   ]
  },
  {
   "cell_type": "markdown",
   "id": "e080e911",
   "metadata": {},
   "source": []
  },
  {
   "cell_type": "markdown",
   "id": "46f26346",
   "metadata": {},
   "source": [
    "Para operaciones más avanzadas de **álgebra lineal** (inversas, descomposiciones, determinantes, etc.) existe el submódulo [`np.linalg`](https://numpy.org/doc/stable/reference/routines.linalg.html).\n",
    "\n",
    "---\n",
    "\n",
    "## Conclusión\n",
    "\n",
    "En esta clase, hemos cubierto:\n",
    "- **Operaciones matemáticas avanzadas** (sumas, productos, broadcasting, etc.).\n",
    "- **Funciones estadísticas** (media, mediana, varianza, percentiles...).\n",
    "- **Manipulación de matrices** (reshape, transpose, concat, split, multiplicaciones).\n",
    "\n",
    "Con esto completamos una base sólida para manejar datos, transformarlos y realizar cálculos tanto en ámbitos científicos como en proyectos de Inteligencia Artificial y Ciencia de Datos.\n"
   ]
  }
 ],
 "metadata": {
  "kernelspec": {
   "display_name": "Python 3",
   "language": "python",
   "name": "python3"
  },
  "language_info": {
   "codemirror_mode": {
    "name": "ipython",
    "version": 3
   },
   "file_extension": ".py",
   "mimetype": "text/x-python",
   "name": "python",
   "nbconvert_exporter": "python",
   "pygments_lexer": "ipython3",
   "version": "3.11.0"
  }
 },
 "nbformat": 4,
 "nbformat_minor": 5
}
