{
 "cells": [
  {
   "cell_type": "markdown",
   "id": "a029d705",
   "metadata": {},
   "source": [
    "# Introducción a NumPy\n",
    "\n",
    "## ¿Qué es NumPy?\n",
    "\n",
    "NumPy (Numerical Python) es una librería fundamental para la computación científica con Python. Nos permite trabajar de manera eficiente con **arreglos** (arrays) y **matrices** (arrays multidimensionales) que ofrecen gran rapidez y flexibilidad en el manejo de datos numéricos.\n",
    "\n",
    "## ¿Por qué es útil?\n",
    "\n",
    "- **Arreglos eficientes**: NumPy está optimizado para realizar operaciones sobre arreglos de gran tamaño de forma muy rápida.\n",
    "- **Herramientas matemáticas**: Incluye muchas funciones matemáticas (álgebra lineal, transformadas de Fourier, estadísticas, etc.).\n",
    "- **Base para otras librerías**: Librerías importantes en Inteligencia Artificial y Data Science (como Pandas, TensorFlow, PyTorch y scikit-learn) usan NumPy en su núcleo.\n",
    "- **Operaciones vectorizadas**: Permite realizar operaciones sobre conjuntos de datos completos sin necesidad de bucles explícitos en Python, lo que facilita y acelera el desarrollo de experimentos y prototipos.\n",
    "\n",
    "## ¿Qué es un array de NumPy?\n",
    "\n",
    "Un **array** de NumPy (o `ndarray`) es una estructura de datos que contiene valores de un mismo tipo (generalmente numéricos) y que se organiza en uno o más **dimensiones**. \n",
    "\n",
    "Ejemplos:\n",
    "- Un array unidimensional (similar a una lista)\n",
    "- Un array bidimensional (matriz)\n",
    "- Un array de más dimensiones (3D, 4D, etc.)\n",
    "\n",
    "Esta estructura permite indexación y slicing de manera muy eficiente.\n",
    "\n",
    "---\n"
   ]
  },
  {
   "cell_type": "code",
   "execution_count": 2,
   "id": "b2e5eda2",
   "metadata": {},
   "outputs": [
    {
     "name": "stdout",
     "output_type": "stream",
     "text": [
      "Versión de NumPy: 2.2.4\n"
     ]
    }
   ],
   "source": [
    "import numpy as np\n",
    "\n",
    "# Versión de NumPy\n",
    "print(\"Versión de NumPy:\", np.__version__)"
   ]
  },
  {
   "cell_type": "markdown",
   "id": "5949264f",
   "metadata": {},
   "source": [
    "# 1. Creación de Arrays\n",
    "\n",
    "Existen diferentes maneras de crear arrays en NumPy. Veamos algunas formas básicas:"
   ]
  },
  {
   "cell_type": "code",
   "execution_count": 3,
   "id": "b4f66022",
   "metadata": {},
   "outputs": [
    {
     "name": "stdout",
     "output_type": "stream",
     "text": [
      "Array unidimensional: [1 2 3 4 5]\n",
      "Array bidimensional:\n",
      " [[1 2 3]\n",
      " [4 5 6]]\n",
      "Array de ceros:\n",
      " [[0. 0. 0.]\n",
      " [0. 0. 0.]]\n",
      "Array de unos:\n",
      " [[1. 1.]\n",
      " [1. 1.]\n",
      " [1. 1.]]\n",
      "Array con rango de 0 a 10 en pasos de 2: [0 2 4 6 8]\n",
      "Array con 5 valores entre 0 y 1: [0.   0.25 0.5  0.75 1.  ]\n"
     ]
    }
   ],
   "source": [
    "# Lista de Python a array de NumPy\n",
    "lista = [1, 2, 3, 4, 5]\n",
    "array_1d = np.array(lista)\n",
    "print(\"Array unidimensional:\", array_1d)\n",
    "\n",
    "# Array bidimensional\n",
    "matriz = np.array([[1, 2, 3], \n",
    "                   [4, 5, 6]])\n",
    "print(\"Array bidimensional:\\n\", matriz)\n",
    "\n",
    "# Crear arrays con ceros y unos\n",
    "array_ceros = np.zeros((2, 3))\n",
    "array_unos = np.ones((3, 2))\n",
    "print(\"Array de ceros:\\n\", array_ceros)\n",
    "print(\"Array de unos:\\n\", array_unos)\n",
    "\n",
    "# Crear un array con un rango\n",
    "array_rango = np.arange(0, 10, 2)\n",
    "print(\"Array con rango de 0 a 10 en pasos de 2:\", array_rango)\n",
    "\n",
    "# Array con valores equiespaciados\n",
    "array_linspace = np.linspace(0, 1, 5)\n",
    "print(\"Array con 5 valores entre 0 y 1:\", array_linspace)\n"
   ]
  },
  {
   "cell_type": "markdown",
   "id": "78fbc706",
   "metadata": {},
   "source": [
    "# 2. Indexación y Slicing\n",
    "\n",
    "Al igual que las listas en Python, los arrays de NumPy permiten acceder a sus elementos mediante **índices**. \n",
    "Sin embargo, en arrays multidimensionales, se necesitan varios índices (uno por cada dimensión).\n",
    "\n",
    "## 2.1 Indexación básica\n"
   ]
  },
  {
   "cell_type": "code",
   "execution_count": 4,
   "id": "f97db76e",
   "metadata": {},
   "outputs": [
    {
     "name": "stdout",
     "output_type": "stream",
     "text": [
      "Elementos del array: [10 20 30 40 50]\n",
      "Primer elemento: 10\n",
      "Último elemento: 50\n",
      "Elemento [0, 0]: 1\n",
      "Elemento [2, 1]: 8\n"
     ]
    }
   ],
   "source": [
    "# Indexación en un array unidimensional\n",
    "arr = np.array([10, 20, 30, 40, 50])\n",
    "print(\"Elementos del array:\", arr)\n",
    "print(\"Primer elemento:\", arr[0])\n",
    "print(\"Último elemento:\", arr[-1])\n",
    "\n",
    "# Indexación en un array bidimensional\n",
    "arr_2d = np.array([[1, 2, 3],\n",
    "                   [4, 5, 6],\n",
    "                   [7, 8, 9]])\n",
    "\n",
    "\n",
    "# Fila 0, columna 0\n",
    "print(\"Elemento [0, 0]:\", arr_2d[0, 0])\n",
    "\n",
    "# Fila 2, columna 1\n",
    "print(\"Elemento [2, 1]:\", arr_2d[2, 1])\n",
    "\n"
   ]
  },
  {
   "cell_type": "markdown",
   "id": "a0f71f58",
   "metadata": {},
   "source": [
    " ### Fancy Indexing\n",
    " \n",
    " Fancy indexing (o \"indexación avanzada\") es una funcionalidad muy potente de NumPy que te permite acceder a elementos de un array utilizando listas o arrays de índices, en lugar de simples enteros o slices (:). Vamos, que puedes seleccionar múltiples elementos no contiguos, en el orden que tú quieras."
   ]
  },
  {
   "cell_type": "code",
   "execution_count": 5,
   "id": "c96606e4",
   "metadata": {},
   "outputs": [
    {
     "name": "stdout",
     "output_type": "stream",
     "text": [
      "[10 30 50]\n"
     ]
    }
   ],
   "source": [
    "import numpy as np\n",
    "\n",
    "arr = np.array([10, 20, 30, 40, 50])\n",
    "\n",
    "# Queremos los elementos en las posiciones 0, 2 y 4\n",
    "indices = [0, 2, 4]\n",
    "print(arr[indices])  # [10 30 50]"
   ]
  },
  {
   "cell_type": "code",
   "execution_count": 6,
   "id": "4b4dc58e",
   "metadata": {},
   "outputs": [
    {
     "name": "stdout",
     "output_type": "stream",
     "text": [
      "[50 40 20 10]\n"
     ]
    }
   ],
   "source": [
    "orden = [4, 3, 1, 0]\n",
    "print(arr[orden])  # [50 40 20 10]\n"
   ]
  },
  {
   "cell_type": "code",
   "execution_count": 7,
   "id": "ad35bddd",
   "metadata": {},
   "outputs": [
    {
     "name": "stdout",
     "output_type": "stream",
     "text": [
      "[[10 11 12]\n",
      " [16 17 18]]\n",
      "[10 12]\n"
     ]
    }
   ],
   "source": [
    "matriz = np.array([[10, 11, 12],\n",
    "                   [13, 14, 15],\n",
    "                   [16, 17, 18]])\n",
    "\n",
    "# Seleccionamos las filas 0 y 2\n",
    "print(matriz[[0, 2], :])\n",
    "\n",
    "#Seleccionamos fila 0 columnas 0 y 2\n",
    "print(matriz[[0],[0,2]])\n"
   ]
  },
  {
   "cell_type": "markdown",
   "id": "9bcacc80",
   "metadata": {},
   "source": []
  },
  {
   "cell_type": "code",
   "execution_count": 8,
   "id": "490c28e1",
   "metadata": {},
   "outputs": [
    {
     "data": {
      "text/plain": [
       "array(['hola', 'Carabe'], dtype='<U9')"
      ]
     },
     "execution_count": 8,
     "metadata": {},
     "output_type": "execute_result"
    }
   ],
   "source": [
    "string = 'holahola'\n",
    "\n",
    "\n",
    "lista = ['hola', 'Alejandro','Carabe']\n",
    "\n",
    "array = np.array(['hola', 'Alejandro','Carabe'])\n",
    "array[[0,2]]"
   ]
  },
  {
   "cell_type": "markdown",
   "id": "e8f2be7d",
   "metadata": {},
   "source": [
    "## 2.2 Slicing (rebanado)\n",
    "El slicing permite acceder a secciones de un array usando la notación `[start:stop:step]`.\n",
    "\n",
    "- `start`: Índice de inicio (por defecto, 0).\n",
    "- `stop`: Índice hasta el cual se hace el slicing (no se incluye en el resultado).\n",
    "- `step`: Paso entre índices (por defecto, 1).\n",
    "\n",
    "Veamos algunos ejemplos:\n"
   ]
  },
  {
   "cell_type": "code",
   "execution_count": 9,
   "id": "ffd021a0",
   "metadata": {},
   "outputs": [
    {
     "name": "stdout",
     "output_type": "stream",
     "text": [
      "Array original: [10 20 30 40 50 60]\n",
      "arr[1:4] = [20 30 40]\n",
      "arr[2:] = [30 40 50 60]\n",
      "arr[:3] = [10 20 30]\n",
      "arr[::2] = [10 30 50]\n",
      "\n",
      "Array 2D original:\n",
      " [[ 1  2  3  4]\n",
      " [ 5  6  7  8]\n",
      " [ 9 10 11 12]\n",
      " [13 14 15 16]]\n",
      "arr_2d[1:3, 0:2] =\n",
      " [[ 5  6]\n",
      " [ 9 10]]\n",
      "arr_2d[:, 2] = [ 3  7 11 15]\n",
      "arr_2d[0, :] = [1 2 3 4]\n"
     ]
    }
   ],
   "source": [
    "# Slicing en un array unidimensional\n",
    "arr = np.array([10, 20, 30, 40, 50, 60])\n",
    "print(\"Array original:\", arr)\n",
    "\n",
    "# De la posición 1 a la 4 (sin incluir la 4)\n",
    "print(\"arr[1:4] =\", arr[1:4])\n",
    "\n",
    "# Desde la posición 2 hasta el final\n",
    "print(\"arr[2:] =\", arr[2:])\n",
    "\n",
    "# Desde el inicio hasta la posición 3 (sin incluir la 3)\n",
    "print(\"arr[:3] =\", arr[:3])\n",
    "\n",
    "# Con un paso de 2\n",
    "print(\"arr[::2] =\", arr[::2])\n",
    "\n",
    "# Slicing en un array 2D\n",
    "arr_2d = np.array([[1, 2, 3, 4],\n",
    "                   [5, 6, 7, 8],\n",
    "                   [9, 10, 11, 12],\n",
    "                   [13, 14, 15, 16]])\n",
    "print(\"\\nArray 2D original:\\n\", arr_2d)\n",
    "\n",
    "# Tomar filas 1 y 2, y columnas 0 y 1\n",
    "print(\"arr_2d[1:3, 0:2] =\\n\", arr_2d[1:3, 0:2])\n",
    "\n",
    "# Tomar todas las filas de la columna 2\n",
    "print(\"arr_2d[:, 2] =\", arr_2d[:, 2])\n",
    "\n",
    "# Tomar la primera fila completa\n",
    "print(\"arr_2d[0, :] =\", arr_2d[0, :])\n"
   ]
  },
  {
   "cell_type": "markdown",
   "id": "97feee77",
   "metadata": {},
   "source": []
  },
  {
   "cell_type": "markdown",
   "id": "3d34e368",
   "metadata": {},
   "source": [
    "# 3. Operaciones Vectorizadas\n",
    "\n",
    "Una de las grandes ventajas de NumPy es la posibilidad de realizar **operaciones vectorizadas** sobre los arrays, \n",
    "lo que significa que podemos aplicar operaciones aritméticas a todos los elementos de un array sin necesidad de usar bucles explícitos. Esto es más rápido y conciso.\n",
    "\n",
    "Por ejemplo, si queremos sumar, restar, multiplicar o dividir cada elemento de un array por un número, o bien hacer operaciones entre dos arrays de la misma forma:\n",
    "\n"
   ]
  },
  {
   "cell_type": "code",
   "execution_count": 10,
   "id": "ab9d8667",
   "metadata": {},
   "outputs": [
    {
     "name": "stdout",
     "output_type": "stream",
     "text": [
      "Array x: [1 2 3 4 5]\n",
      "Array y: [10 20 30 40 50]\n",
      "Suma de x + 10: [11 12 13 14 15]\n",
      "Multiplicación de y * 2: [ 20  40  60  80 100]\n",
      "Suma de x + y: [11 22 33 44 55]\n",
      "Producto de x * y: [ 10  40  90 160 250]\n",
      "División y / x: [10. 10. 10. 10. 10.]\n"
     ]
    }
   ],
   "source": [
    "x = np.array([1, 2, 3, 4, 5])\n",
    "y = np.array([10, 20, 30, 40, 50])\n",
    "\n",
    "print(\"Array x:\", x)\n",
    "print(\"Array y:\", y)\n",
    "print(\"Suma de x + 10:\", x + 10)\n",
    "print(\"Multiplicación de y * 2:\", y * 2)\n",
    "print(\"Suma de x + y:\", x + y)\n",
    "print(\"Producto de x * y:\", x * y)\n",
    "print(\"División y / x:\", y / x)\n"
   ]
  },
  {
   "cell_type": "markdown",
   "id": "45661895",
   "metadata": {},
   "source": [
    "## 3.1 Funciones Universales (ufuncs)\n",
    "\n",
    "NumPy incluye muchas funciones matemáticas (ufuncs) que se aplican elemento a elemento sobre los arrays: `np.sqrt`, `np.exp`, `np.log`, `np.sin`, etc.\n"
   ]
  },
  {
   "cell_type": "code",
   "execution_count": 11,
   "id": "bc6f3cd8",
   "metadata": {},
   "outputs": [
    {
     "name": "stdout",
     "output_type": "stream",
     "text": [
      "Array original (radianes): [0.         1.57079633 3.14159265 4.71238898 6.28318531]\n",
      "Seno: [ 0.0000000e+00  1.0000000e+00  1.2246468e-16 -1.0000000e+00\n",
      " -2.4492936e-16]\n",
      "Coseno: [ 1.0000000e+00  6.1232340e-17 -1.0000000e+00 -1.8369702e-16\n",
      "  1.0000000e+00]\n",
      "Exponencial de x: [ 2.71828183  7.3890561  20.08553692]\n",
      "Logaritmo natural de x: [0. 1. 2.]\n"
     ]
    }
   ],
   "source": [
    "import math\n",
    "\n",
    "valores = np.array([0, math.pi/2, math.pi, 3*math.pi/2, 2*math.pi])\n",
    "print(\"Array original (radianes):\", valores)\n",
    "print(\"Seno:\", np.sin(valores))\n",
    "print(\"Coseno:\", np.cos(valores))\n",
    "print(\"Exponencial de x:\", np.exp(np.array([1, 2, 3])))\n",
    "print(\"Logaritmo natural de x:\", np.log(np.array([1, np.e, np.e**2])))\n"
   ]
  },
  {
   "cell_type": "markdown",
   "id": "e8e391fb",
   "metadata": {},
   "source": [
    "# 3.2 Ejemplos prácticos de operaciones vectorizadas\n",
    "\n",
    "Veamos algunos ejemplos reales donde las operaciones vectorizadas nos permiten escribir código más limpio, eficiente y legible.\n"
   ]
  },
  {
   "cell_type": "code",
   "execution_count": 12,
   "id": "c06996f1",
   "metadata": {},
   "outputs": [
    {
     "name": "stdout",
     "output_type": "stream",
     "text": [
      "Datos originales: [15 20 35 40 50]\n",
      "Datos normalizados (entre 0 y 1): [0.         0.14285714 0.57142857 0.71428571 1.        ]\n"
     ]
    }
   ],
   "source": [
    "# Ejemplo 1: Normalización de datos\n",
    "# 🧠 Aplicación: Preprocesamiento antes de entrenar un modelo (evita que los valores más altos dominen el resultado)\n",
    "\n",
    "datos = np.array([15, 20, 35, 40, 50])  # Por ejemplo: edades o ingresos\n",
    "normalizados = (datos - np.min(datos)) / (np.max(datos) - np.min(datos))\n",
    "print(\"Datos originales:\", datos)\n",
    "print(\"Datos normalizados (entre 0 y 1):\", normalizados)\n"
   ]
  },
  {
   "cell_type": "code",
   "execution_count": 13,
   "id": "ba0a574f",
   "metadata": {},
   "outputs": [
    {
     "name": "stdout",
     "output_type": "stream",
     "text": [
      "Distancia euclidiana entre A y B: 4.69041575982343\n"
     ]
    }
   ],
   "source": [
    "# Ejemplo 2: Cálculo de distancia euclidiana entre puntos\n",
    "# 🧠 Aplicación: En sistemas de recomendación o agrupamiento (clustering), se utiliza para medir la similitud entre usuarios, productos, imágenes, etc.\n",
    "\n",
    "A = np.array([1, 2, 3])  # Punto A (por ejemplo, características de un usuario)\n",
    "B = np.array([4, 0, 6])  # Punto B (otro usuario o ítem)\n",
    "distancia = np.sqrt(np.sum((A - B)**2))\n",
    "print(\"Distancia euclidiana entre A y B:\", distancia)\n"
   ]
  },
  {
   "cell_type": "code",
   "execution_count": 14,
   "id": "aef26cbd",
   "metadata": {},
   "outputs": [
    {
     "name": "stdout",
     "output_type": "stream",
     "text": [
      "Probabilidades: [0.2 0.6 0.8 0.4]\n",
      "Decisión binaria (umbral = 0.5): [0 1 1 0]\n"
     ]
    }
   ],
   "source": [
    "# Ejemplo 3: Umbralización (thresholding)\n",
    "# 🧠 Aplicación: En visión por ordenador o clasificación binaria (por ejemplo, detección de spam), se convierte una probabilidad en una decisión: sí o no.\n",
    "\n",
    "valores = np.array([0.2, 0.6, 0.8, 0.4])  # Probabilidades de que un correo sea spam\n",
    "umbral = 0.5\n",
    "binario = (valores > umbral).astype(int)\n",
    "print(\"Probabilidades:\", valores)\n",
    "print(\"Decisión binaria (umbral = 0.5):\", binario)  # 1 = sí (spam), 0 = no\n"
   ]
  },
  {
   "cell_type": "code",
   "execution_count": 15,
   "id": "ddb68371",
   "metadata": {},
   "outputs": [
    {
     "name": "stdout",
     "output_type": "stream",
     "text": [
      "Valores originales: [-3 -1  0  2  4]\n",
      "Valores tras aplicar ReLU: [0 0 0 2 4]\n"
     ]
    }
   ],
   "source": [
    "# Ejemplo 4: ReLU (Rectified Linear Unit)\n",
    "# 🧠 Aplicación: Es una de las funciones de activación más comunes en redes neuronales. Convierte los valores negativos en 0, acelerando el aprendizaje.\n",
    "\n",
    "valores = np.array([-3, -1, 0, 2, 4])\n",
    "relu = np.maximum(0, valores)\n",
    "print(\"Valores originales:\", valores)\n",
    "print(\"Valores tras aplicar ReLU:\", relu)\n"
   ]
  },
  {
   "cell_type": "code",
   "execution_count": 16,
   "id": "9ee94975",
   "metadata": {},
   "outputs": [
    {
     "name": "stdout",
     "output_type": "stream",
     "text": [
      "Matriz de datos:\n",
      " [[1 2 3]\n",
      " [4 5 6]\n",
      " [7 8 9]]\n",
      "Media de cada columna: [4. 5. 6.]\n"
     ]
    }
   ],
   "source": [
    "# Ejemplo 5: Media por columna (axis=0)\n",
    "# 🧠 Aplicación: Análisis estadístico básico. Por ejemplo, obtener la media de cada variable en una tabla de datos.\n",
    "\n",
    "matriz = np.array([[1, 2, 3],     # Cada fila puede representar una persona, y cada columna una variable\n",
    "                   [4, 5, 6],\n",
    "                   [7, 8, 9]])\n",
    "media_col = np.mean(matriz, axis=0)\n",
    "print(\"Matriz de datos:\\n\", matriz)\n",
    "print(\"Media de cada columna:\", media_col)\n"
   ]
  },
  {
   "cell_type": "markdown",
   "id": "2f16b094",
   "metadata": {},
   "source": [
    "## 🔎 Condicionales con `np.where()`\n",
    "\n",
    "La función `np.where()` nos permite aplicar una condición sobre arrays de forma vectorizada.\n",
    "\n",
    "📌 Sintaxis:\n",
    "```python\n",
    "np.where(condición, valor_si_verdadero, valor_si_falso)\n"
   ]
  },
  {
   "cell_type": "code",
   "execution_count": 18,
   "id": "c88062d8",
   "metadata": {},
   "outputs": [
    {
     "data": {
      "text/plain": [
       "array(['Sí', 'No', 'Sí'], dtype='<U2')"
      ]
     },
     "execution_count": 18,
     "metadata": {},
     "output_type": "execute_result"
    }
   ],
   "source": [
    "np.where([True, False, True], 'Sí', 'No')  #→ array(['Sí', 'No', 'Sí'], dtype='<U2')\n"
   ]
  },
  {
   "cell_type": "code",
   "execution_count": 19,
   "id": "41526ca3",
   "metadata": {},
   "outputs": [
    {
     "name": "stdout",
     "output_type": "stream",
     "text": [
      "Original: [-3  5 -1  0  7]\n",
      "Negativos reemplazados por 0: [0 5 0 0 7]\n"
     ]
    }
   ],
   "source": [
    "# Otro ejemplo: reemplazar negativos por 0\n",
    "valores = np.array([-3, 5, -1, 0, 7])\n",
    "reemplazados = np.where(valores < 0, 0, valores)\n",
    "\n",
    "print(\"Original:\", valores)\n",
    "print(\"Negativos reemplazados por 0:\", reemplazados)\n"
   ]
  },
  {
   "cell_type": "markdown",
   "id": "1605e13a",
   "metadata": {},
   "source": [
    "## 🧠 Ejercicios con `np.where()`\n",
    "\n",
    "1. Tienes un array con temperaturas:  \n",
    "   `temp = np.array([36.5, 37.8, 38.5, 36.9, 39.0])`  \n",
    "   ➤ Crea un nuevo array que diga `\"Fiebre\"` si la temperatura es mayor a 37.5, si no `\"Normal\"`.\n",
    "\n",
    "2. Dado el array `nums = np.array([10, 15, 20, 25, 30])`  \n",
    "   ➤ Reemplaza los valores **divisibles por 3** por el valor `\"DIV\"`, y el resto por `\"OK\"`.\n",
    "\n",
    "3. Dado el array `alturas = np.array([1.75, 1.62, 1.90, 1.68, 1.82])`  \n",
    "   ➤ Crea una clasificación `\"Alta\"` si la altura es mayor a 1.75, si no `\"Media o baja\"`.\n"
   ]
  },
  {
   "cell_type": "code",
   "execution_count": null,
   "id": "c43e80e4",
   "metadata": {},
   "outputs": [
    {
     "name": "stdout",
     "output_type": "stream",
     "text": [
      "['36.5' 'Fiebre' 'Fiebre' '36.9' 'Fiebre']\n",
      "['OK' 'DIV' 'OK' 'OK' 'DIV']\n"
     ]
    }
   ],
   "source": [
    "temp = np.array([36.5,37.8,38.5,36.9,39.0])\n",
    "nums = np.array([10,15,20,25,30])\n",
    "alturas = np.array([1.75,1.62,1.90,1.68,1.82])\n",
    "\n",
    "print(np.where(temp>37.5,'Fiebre',temp))\n",
    "print(np.where(nums%3==0,\"DIV\",\"OK\"))\n",
    "print(np.where())"
   ]
  },
  {
   "cell_type": "markdown",
   "id": "ce1f5e87",
   "metadata": {},
   "source": [
    "# 4. Aplicaciones en IA y Data Science\n",
    "\n",
    "- **Preprocesamiento de datos**: NumPy se emplea para limpiar y transformar datos antes de su uso en modelos de Machine Learning o Deep Learning.\n",
    "- **Manipulación de tensores**: En redes neuronales, trabajamos con matrices (o tensores) para entrenar modelos. NumPy sirve como base para librerías como TensorFlow o PyTorch.\n",
    "- **Análisis rápido**: Muchos algoritmos de Data Science se pueden implementar de manera más efectiva y concisa con arrays de NumPy y operaciones vectorizadas.\n",
    "\n"
   ]
  }
 ],
 "metadata": {
  "kernelspec": {
   "display_name": "Python 3",
   "language": "python",
   "name": "python3"
  },
  "language_info": {
   "codemirror_mode": {
    "name": "ipython",
    "version": 3
   },
   "file_extension": ".py",
   "mimetype": "text/x-python",
   "name": "python",
   "nbconvert_exporter": "python",
   "pygments_lexer": "ipython3",
   "version": "3.12.7"
  }
 },
 "nbformat": 4,
 "nbformat_minor": 5
}
