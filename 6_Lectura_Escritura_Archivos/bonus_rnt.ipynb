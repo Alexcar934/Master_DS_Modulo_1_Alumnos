{
 "cells": [
  {
   "cell_type": "markdown",
   "metadata": {},
   "source": [
    "🔍 ¿Qué hace cada uno?\n",
    "Hola\n",
    "\n",
    "Se imprime como texto normal.\n",
    "\n",
    "\\r\\n\n",
    "\n",
    "\\r: carriage return → mueve el cursor al inicio de la línea.\n",
    "\n",
    "\\n: line feed → baja a la siguiente línea.\n",
    "\n",
    "Juntos (\\r\\n): salto de línea completo (como en Windows).\n",
    "\n",
    "mundo\n",
    "\n",
    "Se imprime en la nueva línea.\n",
    "\n",
    "Otro \\r\\n\n",
    "\n",
    "Nuevo salto de línea.\n",
    "\n",
    "\\t\n",
    "\n",
    "tabulación → inserta un tab (espacios para alinear horizontalmente).\n",
    "\n",
    "python\n",
    "\n",
    "Se imprime luego del tabulado.\n"
   ]
  },
  {
   "cell_type": "code",
   "execution_count": 1,
   "metadata": {},
   "outputs": [
    {
     "name": "stdout",
     "output_type": "stream",
     "text": [
      "Hola \n",
      " mundo \n",
      "\t python\n"
     ]
    }
   ],
   "source": [
    "\n",
    "\n",
    "print('Hola \\r\\n mundo \\r\\n\\t python')"
   ]
  },
  {
   "cell_type": "code",
   "execution_count": 4,
   "metadata": {},
   "outputs": [
    {
     "name": "stdout",
     "output_type": "stream",
     "text": [
      "Hola\n",
      "Python\n"
     ]
    }
   ],
   "source": [
    "print('Hola\\rHola\\r\\nPython')"
   ]
  }
 ],
 "metadata": {
  "kernelspec": {
   "display_name": ".venv",
   "language": "python",
   "name": "python3"
  },
  "language_info": {
   "codemirror_mode": {
    "name": "ipython",
    "version": 3
   },
   "file_extension": ".py",
   "mimetype": "text/x-python",
   "name": "python",
   "nbconvert_exporter": "python",
   "pygments_lexer": "ipython3",
   "version": "3.12.7"
  }
 },
 "nbformat": 4,
 "nbformat_minor": 2
}
