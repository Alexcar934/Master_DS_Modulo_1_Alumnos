{
 "cells": [
  {
   "cell_type": "markdown",
   "metadata": {},
   "source": [
    "# Lectura y Escritura de Archivos en Python\n",
    "\n",
    "En esta clase vamos a aprender cómo trabajar con archivos en Python. Veremos cómo abrir, leer y escribir en archivos de texto (`.txt`), trabajar con formatos estructurados como CSV y JSON, y finalmente, una introducción breve a `pandas` para leer archivos fácilmente.\n",
    "\n",
    "---\n",
    "\n",
    "## 📄 1. Trabajando con archivos de texto (`.txt`)\n"
   ]
  },
  {
   "cell_type": "code",
   "execution_count": 5,
   "metadata": {},
   "outputs": [],
   "source": [
    "# -------------------------------------------------------------------\n",
    "# Escribir un archivo de texto\n",
    "# -------------------------------------------------------------------\n",
    "\n",
    "texto = \"Hola mundo\\nEsta es una segunda línea\\nY otra más\\n\"\n",
    "\n",
    "with open(\"archivo.txt\", \"w\") as f: #Lo que escribamos debe ser un string\n",
    "    f.write(texto)  # Escribe el texto en el archivo\n",
    "    f.writelines(texto)  # Escribe el texto en el archivo\n"
   ]
  },
  {
   "cell_type": "code",
   "execution_count": null,
   "metadata": {},
   "outputs": [],
   "source": [
    "lista = [\"Hola mundo\\n\", \"Esta es una segunda línea\\n\", \"Y otra más\\n\"]\n",
    "with open(\"archivo.txt\", \"w\") as f:\n",
    "    f.write(lista)"
   ]
  },
  {
   "cell_type": "code",
   "execution_count": 7,
   "metadata": {},
   "outputs": [],
   "source": [
    "for i in lista:\n",
    "    with open(\"archivo.txt\", \"w\") as f:\n",
    "        f.write(i)  # Escribe el texto en el archivo\n",
    "        f.writelines(i)  # Escribe el texto en el archivo\n",
    "        "
   ]
  },
  {
   "cell_type": "code",
   "execution_count": 8,
   "metadata": {},
   "outputs": [],
   "source": [
    "with open(\"archivo.txt\", \"w\") as f:\n",
    "    for i in lista:\n",
    "        f.write(i)"
   ]
  },
  {
   "cell_type": "code",
   "execution_count": 9,
   "metadata": {},
   "outputs": [
    {
     "name": "stdout",
     "output_type": "stream",
     "text": [
      "Hola mundo\n",
      "Esta es una segunda línea\n",
      "Y otra más\n",
      "\n"
     ]
    }
   ],
   "source": [
    "# -------------------------------------------------------------------\n",
    "# Leer un archivo de texto\n",
    "# -------------------------------------------------------------------\n",
    "\n",
    "with open(\"archivo.txt\", \"r\") as f:\n",
    "    contenido = f.read()\n",
    "\n",
    "print(contenido)\n"
   ]
  },
  {
   "cell_type": "code",
   "execution_count": 23,
   "metadata": {},
   "outputs": [
    {
     "data": {
      "text/plain": [
       "'texto5 \\n\\texto4'"
      ]
     },
     "execution_count": 23,
     "metadata": {},
     "output_type": "execute_result"
    }
   ],
   "source": [
    "open(\"archivo.txt\", \"w\").write(r'texto5 \\n\\texto4')\n",
    "open(\"archivo.txt\", \"w\").write('texto5 \\ntexto4')\n",
    "open(\"archivo.txt\", \"w\").write('texto5 \\n\\texto4')\n",
    "open(\"archivo.txt\", \"r\").read()"
   ]
  },
  {
   "cell_type": "code",
   "execution_count": 24,
   "metadata": {},
   "outputs": [
    {
     "name": "stdout",
     "output_type": "stream",
     "text": [
      "Línea: texto5\n",
      "Línea: exto4\n"
     ]
    }
   ],
   "source": [
    "# -------------------------------------------------------------------\n",
    "# Leer archivo línea por línea\n",
    "# -------------------------------------------------------------------\n",
    "\n",
    "with open(\"archivo.txt\", \"r\") as f:\n",
    "    for linea in f:\n",
    "        print(\"Línea:\", linea.strip())  # strip para quitar saltos de línea extra\n"
   ]
  },
  {
   "cell_type": "code",
   "execution_count": 25,
   "metadata": {},
   "outputs": [
    {
     "data": {
      "text/plain": [
       "['texto5 \\n', '\\texto4']"
      ]
     },
     "execution_count": 25,
     "metadata": {},
     "output_type": "execute_result"
    }
   ],
   "source": [
    "open(\"archivo.txt\", \"r\").readlines()"
   ]
  },
  {
   "cell_type": "markdown",
   "metadata": {},
   "source": [
    "## 📑 2. Archivos CSV\n",
    "\n",
    "Un archivo CSV (Comma Separated Values) es una tabla donde cada línea representa una fila, y los valores están separados por comas.\n",
    "\n",
    "Python incluye el módulo `csv` para trabajar con este tipo de archivos sin instalar nada.\n",
    "\n",
    "---\n"
   ]
  },
  {
   "cell_type": "code",
   "execution_count": 41,
   "metadata": {},
   "outputs": [],
   "source": [
    "# -------------------------------------------------------------------\n",
    "# Escribir un archivo CSV\n",
    "# -------------------------------------------------------------------\n",
    "import csv\n",
    "\n",
    "datos = [\n",
    "    [\"Nombre\", \"Edad\", \"Ciudad\"],\n",
    "    [\"Ana\", 25, \"Lima\"],\n",
    "    [\"Luis\", 30, \"Bogotá\"],\n",
    "    [\"María\", 22, \"Buenos Aires\"]\n",
    "]\n",
    "\n",
    "with open(\"personas.csv\", \"w\", newline=\"\", encoding='utf-8') as f:\n",
    "    escritor = csv.writer(f)\n",
    "    escritor.writerows(datos)\n"
   ]
  },
  {
   "cell_type": "code",
   "execution_count": 50,
   "metadata": {},
   "outputs": [
    {
     "name": "stdout",
     "output_type": "stream",
     "text": [
      "['Nombre', 'Edad', 'Ciudad']\n",
      "['Ana', '25', 'Lima']\n",
      "['Luis', '30', 'BogotÃ¡']\n",
      "['MarÃ\\xada', '22', 'Buenos Aires']\n"
     ]
    }
   ],
   "source": [
    "# -------------------------------------------------------------------\n",
    "# Leer un archivo CSV\n",
    "# -------------------------------------------------------------------\n",
    "\n",
    "with open(\"personas.csv\", \"r\", encoding='latin-1') as f:\n",
    "    lector = csv.reader(f)\n",
    "    for fila in lector:\n",
    "        print(fila)\n"
   ]
  },
  {
   "cell_type": "markdown",
   "metadata": {},
   "source": [
    "## 🧩 3. Archivos JSON\n",
    "\n",
    "Los archivos JSON (`.json`) son muy usados para guardar datos estructurados (como diccionarios o listas de diccionarios).\n",
    "\n",
    "Python trae un módulo llamado `json` para codificar y decodificar este tipo de archivos.\n",
    "\n",
    "---\n"
   ]
  },
  {
   "cell_type": "code",
   "execution_count": 51,
   "metadata": {},
   "outputs": [],
   "source": [
    "# -------------------------------------------------------------------\n",
    "# Escribir un archivo JSON\n",
    "# -------------------------------------------------------------------\n",
    "import json\n",
    "\n",
    "persona = {\n",
    "    \"nombre\": \"Ana\",\n",
    "    \"edad\": 25,\n",
    "    \"intereses\": [\"lectura\", \"programación\"]\n",
    "}\n",
    "\n",
    "with open(\"persona.json\", \"w\") as f:\n",
    "    json.dump(persona, f, indent=4)\n"
   ]
  },
  {
   "cell_type": "code",
   "execution_count": 53,
   "metadata": {},
   "outputs": [],
   "source": [
    "personas = [\n",
    "    {\"nombre\": \"Ana\", \"edad\": 25, \"intereses\": [\"lectura\", \"programación\"]},\n",
    "    {\"nombre\": \"Luis\", \"edad\": 30, \"intereses\": [\"deportes\", \"música\"]},\n",
    "    {\"nombre\": \"María\", \"edad\": 22, \"intereses\": [\"arte\", \"cine\"]}\n",
    "]\n",
    "\n",
    "with open(\"personas.json\", \"w\") as f:\n",
    "    json.dump(personas, f, indent=4)  # Escribir la lista de personas en el archivo JSON\n",
    "\n",
    "    '''el parámetro indent controla la indentación (sangría) del JSON generado,\n",
    "    es decir, cuántos espacios se usan para anidar niveles.'''"
   ]
  },
  {
   "cell_type": "code",
   "execution_count": 55,
   "metadata": {},
   "outputs": [
    {
     "name": "stdout",
     "output_type": "stream",
     "text": [
      "Nombre: Ana\n",
      "Intereses: ['lectura', 'programación']\n"
     ]
    }
   ],
   "source": [
    "# -------------------------------------------------------------------\n",
    "# Leer un archivo JSON\n",
    "# -------------------------------------------------------------------\n",
    "\n",
    "with open(\"persona.json\", \"r\") as f:\n",
    "    datos = json.load(f)\n",
    "\n",
    "print(\"Nombre:\", datos[\"nombre\"])\n",
    "print(\"Intereses:\", datos[\"intereses\"])\n"
   ]
  },
  {
   "cell_type": "code",
   "execution_count": 62,
   "metadata": {},
   "outputs": [
    {
     "name": "stdout",
     "output_type": "stream",
     "text": [
      "[{'nombre': 'Ana', 'edad': 25, 'intereses': ['lectura', 'programación']}, {'nombre': 'Luis', 'edad': 30, 'intereses': ['deportes', 'música']}, {'nombre': 'María', 'edad': 22, 'intereses': ['arte', 'cine']}]\n",
      "{'nombre': 'Ana', 'edad': 25, 'intereses': ['lectura', 'programación']}\n",
      "['lectura', 'programación']\n",
      "lectura\n",
      "-----------------------------------------------------\n",
      "Nombre: Ana\n",
      "Edad: 25\n",
      "Intereses: ['lectura', 'programación']\n",
      "\n",
      "Nombre: Luis\n",
      "Edad: 30\n",
      "Intereses: ['deportes', 'música']\n",
      "\n",
      "Nombre: María\n",
      "Edad: 22\n",
      "Intereses: ['arte', 'cine']\n",
      "\n"
     ]
    }
   ],
   "source": [
    "with open(\"personas.json\", \"r\") as f:\n",
    "    datos = json.load(f)\n",
    "print(datos)\n",
    "print(datos[0])\n",
    "print(datos[0]['intereses'])\n",
    "print(datos[0]['intereses'][0])\n",
    "\n",
    "print('-----------------------------------------------------')\n",
    "for persona in datos:\n",
    "    print(\"Nombre:\", persona[\"nombre\"])\n",
    "    print(\"Edad:\", persona[\"edad\"])\n",
    "    print(\"Intereses:\", persona[\"intereses\"])\n",
    "    print()"
   ]
  },
  {
   "cell_type": "markdown",
   "metadata": {},
   "source": [
    "## 📌 4. Buenas prácticas\n",
    "\n",
    "- Siempre usar `with open(...)` para manejar archivos, así se cierran automáticamente..\n",
    "- Validar si el archivo existe antes de leer, con `os.path.exists()`, si hace falta.\n",
    "\n",
    "---\n",
    "\n",
    "## 📚 5. Introducción a `pandas` (solo lectura)\n",
    "\n",
    "`pandas` es una poderosa biblioteca para trabajar con datos tabulares (como CSVs o Excels). Vamos a ver solo cómo **leer archivos con una línea**.\n",
    "\n",
    "> 💡 Si no lo tenés instalado:\n",
    "> ```bash\n",
    "> pip install pandas openpyxl\n",
    "> ```\n",
    "\n",
    "---\n"
   ]
  },
  {
   "cell_type": "code",
   "execution_count": 66,
   "metadata": {},
   "outputs": [
    {
     "name": "stdout",
     "output_type": "stream",
     "text": [
      "Requirement already satisfied: openpyxl in c:\\users\\alejandro.carabe\\appdata\\local\\programs\\python\\python311\\lib\\site-packages (3.1.5)\n",
      "Requirement already satisfied: et-xmlfile in c:\\users\\alejandro.carabe\\appdata\\local\\programs\\python\\python311\\lib\\site-packages (from openpyxl) (2.0.0)\n",
      "Note: you may need to restart the kernel to use updated packages.\n"
     ]
    },
    {
     "name": "stderr",
     "output_type": "stream",
     "text": [
      "\n",
      "[notice] A new release of pip available: 22.3 -> 25.0.1\n",
      "[notice] To update, run: python.exe -m pip install --upgrade pip\n"
     ]
    }
   ],
   "source": [
    "pip install openpyxl"
   ]
  },
  {
   "cell_type": "code",
   "execution_count": 63,
   "metadata": {},
   "outputs": [
    {
     "name": "stdout",
     "output_type": "stream",
     "text": [
      "  Nombre  Edad        Ciudad\n",
      "0    Ana    25          Lima\n",
      "1   Luis    30        Bogotá\n",
      "2  María    22  Buenos Aires\n"
     ]
    }
   ],
   "source": [
    "# -------------------------------------------------------------------\n",
    "# Leer un archivo CSV con pandas\n",
    "# -------------------------------------------------------------------\n",
    "import pandas as pd\n",
    "\n",
    "df = pd.read_csv(\"personas.csv\")\n",
    "print(df)\n"
   ]
  },
  {
   "cell_type": "code",
   "execution_count": 70,
   "metadata": {},
   "outputs": [
    {
     "name": "stdout",
     "output_type": "stream",
     "text": [
      "   nombre  edad  altura\n",
      "0    Alex    25     180\n",
      "1  Alonso    26     187\n",
      "2   María    24     175\n",
      "3   Paula    23     160\n"
     ]
    }
   ],
   "source": [
    "# -------------------------------------------------------------------\n",
    "# Leer un archivo Excel con pandas\n",
    "# -------------------------------------------------------------------\n",
    "# Asegúrate de tener openpyxl instalado si el archivo es .xlsx\n",
    "\n",
    "df_excel = pd.read_excel(\"Book1.xlsx\")  # si existiera\n",
    "print(df_excel.head())  # muestra las primeras filas\n"
   ]
  },
  {
   "cell_type": "code",
   "execution_count": 71,
   "metadata": {},
   "outputs": [
    {
     "data": {
      "text/html": [
       "<div>\n",
       "<style scoped>\n",
       "    .dataframe tbody tr th:only-of-type {\n",
       "        vertical-align: middle;\n",
       "    }\n",
       "\n",
       "    .dataframe tbody tr th {\n",
       "        vertical-align: top;\n",
       "    }\n",
       "\n",
       "    .dataframe thead th {\n",
       "        text-align: right;\n",
       "    }\n",
       "</style>\n",
       "<table border=\"1\" class=\"dataframe\">\n",
       "  <thead>\n",
       "    <tr style=\"text-align: right;\">\n",
       "      <th></th>\n",
       "      <th>nombre</th>\n",
       "      <th>edad</th>\n",
       "      <th>altura</th>\n",
       "    </tr>\n",
       "  </thead>\n",
       "  <tbody>\n",
       "    <tr>\n",
       "      <th>0</th>\n",
       "      <td>Alex</td>\n",
       "      <td>25</td>\n",
       "      <td>180</td>\n",
       "    </tr>\n",
       "    <tr>\n",
       "      <th>1</th>\n",
       "      <td>Alonso</td>\n",
       "      <td>26</td>\n",
       "      <td>187</td>\n",
       "    </tr>\n",
       "    <tr>\n",
       "      <th>2</th>\n",
       "      <td>María</td>\n",
       "      <td>24</td>\n",
       "      <td>175</td>\n",
       "    </tr>\n",
       "    <tr>\n",
       "      <th>3</th>\n",
       "      <td>Paula</td>\n",
       "      <td>23</td>\n",
       "      <td>160</td>\n",
       "    </tr>\n",
       "  </tbody>\n",
       "</table>\n",
       "</div>"
      ],
      "text/plain": [
       "   nombre  edad  altura\n",
       "0    Alex    25     180\n",
       "1  Alonso    26     187\n",
       "2   María    24     175\n",
       "3   Paula    23     160"
      ]
     },
     "execution_count": 71,
     "metadata": {},
     "output_type": "execute_result"
    }
   ],
   "source": [
    "df_excel"
   ]
  },
  {
   "cell_type": "markdown",
   "metadata": {},
   "source": [
    "## ✅ Conclusión\n",
    "\n",
    "- Usamos `open()` para trabajar con archivos de texto.\n",
    "- `csv` y `json` son módulos nativos útiles para archivos estructurados.\n",
    "- `pandas` facilita muchísimo el manejo de datos tabulares, pero lo introducimos solo al final.\n",
    "\n",
    "En las próximas clases profundizaremos en `pandas` para limpieza y análisis de datos.\n",
    "\n",
    "---\n"
   ]
  }
 ],
 "metadata": {
  "kernelspec": {
   "display_name": "Python 3",
   "language": "python",
   "name": "python3"
  },
  "language_info": {
   "codemirror_mode": {
    "name": "ipython",
    "version": 3
   },
   "file_extension": ".py",
   "mimetype": "text/x-python",
   "name": "python",
   "nbconvert_exporter": "python",
   "pygments_lexer": "ipython3",
   "version": "3.11.0"
  }
 },
 "nbformat": 4,
 "nbformat_minor": 2
}
