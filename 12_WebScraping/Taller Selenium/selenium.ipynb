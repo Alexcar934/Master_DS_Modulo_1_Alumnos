{
 "cells": [
  {
   "cell_type": "markdown",
   "id": "68f5171b",
   "metadata": {},
   "source": [
    "# Configuración del entorno (venv)\n",
    "\n",
    "1. **Crear y activar el entorno virtual**  \n",
    "   ```bash\n",
    "   python3 o python -m venv selenium-taller\n",
    "   source selenium-taller/bin/activate o \\venv\\Scripts\\activate\n"
   ]
  },
  {
   "cell_type": "markdown",
   "id": "20b36665",
   "metadata": {},
   "source": [
    "```bash\n",
    "pip install selenium notebook webdriver-manager"
   ]
  },
  {
   "cell_type": "markdown",
   "id": "2a8bd6c9",
   "metadata": {},
   "source": [
    "``` bash\n",
    "pip install -r requirements.txt\n"
   ]
  },
  {
   "cell_type": "code",
   "execution_count": 3,
   "id": "62c7d6d8",
   "metadata": {},
   "outputs": [],
   "source": [
    "from selenium import webdriver\n",
    "from selenium.webdriver.common.by import By\n",
    "from selenium.webdriver.common.keys import Keys\n",
    "import time\n"
   ]
  },
  {
   "cell_type": "code",
   "execution_count": 7,
   "id": "2788e617",
   "metadata": {},
   "outputs": [],
   "source": [
    "from selenium import webdriver\n",
    "from selenium.webdriver.common.by import By\n",
    "from selenium.webdriver.common.keys import Keys\n",
    "from selenium.webdriver.chrome.options import Options\n",
    "import random\n",
    "import time\n",
    "import pandas as pd\n",
    "from selenium.webdriver.chrome.service import Service as ChromeService\n",
    "from webdriver_manager.chrome import ChromeDriverManager\n",
    "\n",
    "# Carga la lista de User Agents\n",
    "user_agents_df = pd.read_csv('whatismybrowser-user-agent-database_9720.csv')\n",
    "user_agents_list = user_agents_df['user_agent'].tolist()  # Asume que la columna se llama 'user_agent'\n",
    "\n",
    "# Función para obtener un User-Agent aleatorio de la lista\n",
    "def obtener_user_agent_aleatorio():\n",
    "    return random.choice(user_agents_list[20:40])\n",
    "\n",
    "options = Options()\n",
    "user_agent_aleatorio = obtener_user_agent_aleatorio()\n",
    "options.add_argument(f\"user-agent={user_agent_aleatorio}\")\n",
    "# options.add_argument(\"--headless\")\n",
    "\n",
    "# Crea una instancia del navegador con las opciones configuradas\n",
    "driver = webdriver.Chrome(service=ChromeService(), options=options)\n",
    "\n",
    "# Ejemplo de apertura de página\n",
    "driver.get(\"https://the-internet.herokuapp.com/\")"
   ]
  },
  {
   "cell_type": "markdown",
   "id": "d54b08ce",
   "metadata": {},
   "source": [
    "## Localizadores básicos"
   ]
  },
  {
   "cell_type": "markdown",
   "id": "75211517",
   "metadata": {},
   "source": [
    "#### By.ID, By.NAME, By.CLASS_NAME, By.CSS_SELECTOR, By.XPATH"
   ]
  },
  {
   "cell_type": "code",
   "execution_count": 8,
   "id": "d6b2e3e9",
   "metadata": {},
   "outputs": [
    {
     "name": "stdout",
     "output_type": "stream",
     "text": [
      "https://the-internet.herokuapp.com/login\n"
     ]
    }
   ],
   "source": [
    "link = driver.find_element(By.LINK_TEXT, \"Form Authentication\")\n",
    "print(link.get_attribute(\"href\"))\n"
   ]
  },
  {
   "cell_type": "markdown",
   "id": "7c97b38f",
   "metadata": {},
   "source": [
    "## Listas de elementos"
   ]
  },
  {
   "cell_type": "code",
   "execution_count": 12,
   "id": "4259db01",
   "metadata": {},
   "outputs": [
    {
     "name": "stdout",
     "output_type": "stream",
     "text": [
      "1. A/B Testing\n",
      "2. Add/Remove Elements\n",
      "3. Basic Auth\n",
      "4. Broken Images\n",
      "5. Challenging DOM\n",
      "6. Checkboxes\n",
      "7. Context Menu\n",
      "8. Digest Authentication\n",
      "9. Disappearing Elements\n",
      "10. Drag and Drop\n",
      "11. Dropdown\n",
      "12. Dynamic Content\n",
      "13. Dynamic Controls\n",
      "14. Dynamic Loading\n",
      "15. Entry Ad\n",
      "16. Exit Intent\n",
      "17. File Download\n",
      "18. File Upload\n",
      "19. Floating Menu\n",
      "20. Forgot Password\n",
      "21. Form Authentication\n",
      "22. Frames\n",
      "23. Geolocation\n",
      "24. Horizontal Slider\n",
      "25. Hovers\n",
      "26. Infinite Scroll\n",
      "27. Inputs\n",
      "28. JQuery UI Menus\n",
      "29. JavaScript Alerts\n",
      "30. JavaScript onload event error\n",
      "31. Key Presses\n",
      "32. Large & Deep DOM\n",
      "33. Multiple Windows\n",
      "34. Nested Frames\n",
      "35. Notification Messages\n",
      "36. Redirect Link\n",
      "37. Secure File Download\n",
      "38. Shadow DOM\n",
      "39. Shifting Content\n",
      "40. Slow Resources\n",
      "41. Sortable Data Tables\n",
      "42. Status Codes\n",
      "43. Typos\n",
      "44. WYSIWYG Editor\n"
     ]
    }
   ],
   "source": [
    "items = driver.find_elements(By.CSS_SELECTOR, \"li a\")\n",
    "for i, item in enumerate(items, 1):\n",
    "    print(f\"{i}. {item.text}\")\n"
   ]
  },
  {
   "cell_type": "markdown",
   "id": "125dc1e0",
   "metadata": {},
   "source": [
    "# 3. Interacciones básicas: click y envío de texto"
   ]
  },
  {
   "cell_type": "markdown",
   "id": "16364bac",
   "metadata": {},
   "source": [
    "### Hacer click"
   ]
  },
  {
   "cell_type": "code",
   "execution_count": 13,
   "id": "da65520b",
   "metadata": {},
   "outputs": [
    {
     "data": {
      "text/plain": [
       "<selenium.webdriver.remote.webelement.WebElement (session=\"725293e422f24a4d47ea6a0ed4fd6526\", element=\"f.BEFFDD81D80D93CB68BFEFB17E847120.d.015F4A4F7961759150A54217E9E3C265.e.116\")>"
      ]
     },
     "execution_count": 13,
     "metadata": {},
     "output_type": "execute_result"
    }
   ],
   "source": [
    "link"
   ]
  },
  {
   "cell_type": "code",
   "execution_count": 14,
   "id": "a3b584ad",
   "metadata": {},
   "outputs": [],
   "source": [
    "link.click()"
   ]
  },
  {
   "cell_type": "markdown",
   "id": "0c87c3c6",
   "metadata": {},
   "source": [
    "### Rellenar formulario de login"
   ]
  },
  {
   "cell_type": "code",
   "execution_count": 16,
   "id": "e9c5a015",
   "metadata": {},
   "outputs": [],
   "source": [
    "username = driver.find_element(By.ID, \"username\")\n",
    "password = driver.find_element(By.ID, \"password\")\n",
    "\n",
    "username.send_keys(\"alexcarabe\")\n",
    "time.sleep(1)\n",
    "password.send_keys(\"password1234\")\n",
    "time.sleep(1)\n",
    "driver.find_element(By.CSS_SELECTOR, \"button.radius\").click()\n"
   ]
  },
  {
   "cell_type": "markdown",
   "id": "41a3f12d",
   "metadata": {},
   "source": [
    "### Leer mensajes de éxito/error"
   ]
  },
  {
   "cell_type": "code",
   "execution_count": 17,
   "id": "53b6214c",
   "metadata": {},
   "outputs": [
    {
     "name": "stdout",
     "output_type": "stream",
     "text": [
      "Your username is invalid!\n",
      "×\n"
     ]
    }
   ],
   "source": [
    "flash = driver.find_element(By.ID, \"flash\")\n",
    "print(flash.text)\n"
   ]
  },
  {
   "cell_type": "markdown",
   "id": "5cb73d01",
   "metadata": {},
   "source": [
    "# Scrolling y ejecución de JavaScript desde Notebook"
   ]
  },
  {
   "cell_type": "markdown",
   "id": "263c1883",
   "metadata": {},
   "source": [
    "### Scrolling con JavaScript"
   ]
  },
  {
   "cell_type": "code",
   "execution_count": null,
   "id": "a0e1e889",
   "metadata": {},
   "outputs": [],
   "source": [
    "# Scrollear hasta abajo\n",
    "driver.execute_script(\"window.scrollTo(0, document.body.scrollHeight);\")\n",
    "time.sleep(1)"
   ]
  },
  {
   "cell_type": "code",
   "execution_count": null,
   "id": "5484beee",
   "metadata": {},
   "outputs": [],
   "source": [
    "# Scrollear a un elemento concreto\n",
    "element = driver.find_element(By.LINK_TEXT, \"Infinite Scroll\")\n",
    "driver.execute_script(\"arguments[0].scrollIntoView(true);\", element)"
   ]
  },
  {
   "cell_type": "markdown",
   "id": "df112d58",
   "metadata": {},
   "source": [
    "### Usar teclas para scroll"
   ]
  },
  {
   "cell_type": "code",
   "execution_count": 26,
   "id": "23338298",
   "metadata": {},
   "outputs": [],
   "source": [
    "body = driver.find_element(By.TAG_NAME, \"body\")\n",
    "body.send_keys(Keys.PAGE_DOWN)\n",
    "time.sleep(1)\n",
    "body.send_keys(Keys.PAGE_UP)"
   ]
  },
  {
   "cell_type": "markdown",
   "id": "d65a0f8c",
   "metadata": {},
   "source": [
    "# Algunas de las muchas cosas que puedes hacer"
   ]
  },
  {
   "cell_type": "markdown",
   "id": "9a23424b",
   "metadata": {},
   "source": [
    "### Capturar pantalla"
   ]
  },
  {
   "cell_type": "code",
   "execution_count": 27,
   "id": "a73857db",
   "metadata": {},
   "outputs": [
    {
     "data": {
      "text/plain": [
       "True"
      ]
     },
     "execution_count": 27,
     "metadata": {},
     "output_type": "execute_result"
    }
   ],
   "source": [
    "driver.save_screenshot(\"pantalla.png\")"
   ]
  },
  {
   "cell_type": "markdown",
   "id": "4c56eb7e",
   "metadata": {},
   "source": [
    "### Manejo de alertas"
   ]
  },
  {
   "cell_type": "code",
   "execution_count": 29,
   "id": "4f6cb7f3",
   "metadata": {},
   "outputs": [],
   "source": [
    "# Scrollear hasta JavaScript Alerts\n",
    "\n",
    "element = driver.find_element(By.LINK_TEXT, \"JavaScript Alerts\")\n",
    "driver.execute_script(\"arguments[0].scrollIntoView(true);\", element)\n",
    "\n",
    "# Hacer clic en el enlace de JavaScript Alerts\n",
    "element.click()\n",
    "# Esperar a que se cargue la página\n",
    "time.sleep(2)"
   ]
  },
  {
   "cell_type": "code",
   "execution_count": 31,
   "id": "58a6eb20",
   "metadata": {},
   "outputs": [
    {
     "name": "stdout",
     "output_type": "stream",
     "text": [
      "I am a JS Alert\n"
     ]
    }
   ],
   "source": [
    "driver.find_element(By.XPATH, \"//button[text()='Click for JS Alert']\").click()\n",
    "# Esperar a que aparezca la alerta\n",
    "time.sleep(2)\n",
    "alert = driver.switch_to.alert\n",
    "print(alert.text)\n",
    "time.sleep(1)\n",
    "\n",
    "# Aceptar la alerta\n",
    "alert.accept()"
   ]
  },
  {
   "cell_type": "markdown",
   "id": "4d846be1",
   "metadata": {},
   "source": [
    "### Drag and Drop"
   ]
  },
  {
   "cell_type": "code",
   "execution_count": 32,
   "id": "63d1f041",
   "metadata": {},
   "outputs": [],
   "source": [
    "# Scrollear hasta Drag and Drop\n",
    "\n",
    "element = driver.find_element(By.LINK_TEXT, \"Drag and Drop\")\n",
    "driver.execute_script(\"arguments[0].scrollIntoView(true);\", element)\n",
    "\n",
    "# Hacer clic en el enlace de Drag and Drop\n",
    "element.click()\n",
    "# Esperar a que se cargue la página\n",
    "time.sleep(2)"
   ]
  },
  {
   "cell_type": "markdown",
   "id": "dd830984",
   "metadata": {},
   "source": [
    "ActionChains permite realizar acciones complejas como arrastrar y soltar, mover el ratón, etc."
   ]
  },
  {
   "cell_type": "code",
   "execution_count": 34,
   "id": "50e91ecc",
   "metadata": {},
   "outputs": [],
   "source": [
    "from selenium.webdriver import ActionChains\n",
    "box_a = driver.find_element(By.ID, \"column-a\")\n",
    "box_b = driver.find_element(By.ID, \"column-b\")\n",
    "ActionChains(driver).drag_and_drop(box_a, box_b).perform()\n"
   ]
  },
  {
   "cell_type": "markdown",
   "id": "fac39fa7",
   "metadata": {},
   "source": [
    "### Subida de ficheros"
   ]
  },
  {
   "cell_type": "code",
   "execution_count": 35,
   "id": "1fc7f771",
   "metadata": {},
   "outputs": [],
   "source": [
    "# Scrollear hasta File Upload\n",
    "\n",
    "element = driver.find_element(By.LINK_TEXT, \"File Upload\")\n",
    "driver.execute_script(\"arguments[0].scrollIntoView(true);\", element)\n",
    "\n",
    "# Hacer clic en el enlace de File Upload\n",
    "element.click()\n",
    "# Esperar a que se cargue la página\n",
    "time.sleep(2)"
   ]
  },
  {
   "cell_type": "markdown",
   "id": "ddee06bf",
   "metadata": {},
   "source": [
    "##### Crear un fichero de un string"
   ]
  },
  {
   "cell_type": "code",
   "execution_count": 36,
   "id": "117a8759",
   "metadata": {},
   "outputs": [],
   "source": [
    "# Creamos un txt de un textos string\n",
    "with open(\"texto.txt\", \"w\") as file:\n",
    "    file.write(\"Este es un texto de ejemplo para subir.\")"
   ]
  },
  {
   "cell_type": "markdown",
   "id": "c90056d9",
   "metadata": {},
   "source": [
    "##### Subir el fichero txt\n"
   ]
  },
  {
   "cell_type": "code",
   "execution_count": 44,
   "id": "d4fca182",
   "metadata": {},
   "outputs": [
    {
     "data": {
      "text/plain": [
       "'c:\\\\Users\\\\alexc\\\\Desktop\\\\Desktop\\\\Contenido docente\\\\Taller Selenium\\\\texto.txt'"
      ]
     },
     "execution_count": 44,
     "metadata": {},
     "output_type": "execute_result"
    }
   ],
   "source": [
    "import os\n",
    "\n",
    "ruta = os.path.abspath(\"texto.txt\")\n",
    "ruta"
   ]
  },
  {
   "cell_type": "code",
   "execution_count": 46,
   "id": "f03f2108",
   "metadata": {},
   "outputs": [],
   "source": [
    "upload = driver.find_element(By.ID, \"file-upload\")\n",
    "upload.send_keys(ruta)\n",
    "time.sleep(1)\n",
    "driver.find_element(By.ID, \"file-submit\").click()\n"
   ]
  },
  {
   "cell_type": "markdown",
   "id": "9ecdd610",
   "metadata": {},
   "source": [
    "### Trucos: Scroll automático en bucle"
   ]
  },
  {
   "cell_type": "markdown",
   "id": "1754c7e9",
   "metadata": {},
   "source": [
    "#### Vamos a la página del scroll infinito"
   ]
  },
  {
   "cell_type": "code",
   "execution_count": 47,
   "id": "ef5eb2e8",
   "metadata": {},
   "outputs": [
    {
     "ename": "KeyboardInterrupt",
     "evalue": "",
     "output_type": "error",
     "traceback": [
      "\u001b[31m---------------------------------------------------------------------------\u001b[39m",
      "\u001b[31mKeyboardInterrupt\u001b[39m                         Traceback (most recent call last)",
      "\u001b[36mCell\u001b[39m\u001b[36m \u001b[39m\u001b[32mIn[47]\u001b[39m\u001b[32m, line 6\u001b[39m\n\u001b[32m      4\u001b[39m \u001b[38;5;28;01mwhile\u001b[39;00m \u001b[38;5;28;01mTrue\u001b[39;00m:\n\u001b[32m      5\u001b[39m     driver.execute_script(\u001b[33m\"\u001b[39m\u001b[33mwindow.scrollTo(0, document.body.scrollHeight);\u001b[39m\u001b[33m\"\u001b[39m)\n\u001b[32m----> \u001b[39m\u001b[32m6\u001b[39m     \u001b[43mtime\u001b[49m\u001b[43m.\u001b[49m\u001b[43msleep\u001b[49m\u001b[43m(\u001b[49m\u001b[32;43m2\u001b[39;49m\u001b[43m)\u001b[49m\n\u001b[32m      7\u001b[39m     new_height = driver.execute_script(\u001b[33m\"\u001b[39m\u001b[33mreturn document.body.scrollHeight\u001b[39m\u001b[33m\"\u001b[39m)\n\u001b[32m      8\u001b[39m     \u001b[38;5;28;01mif\u001b[39;00m new_height == last_height:\n",
      "\u001b[31mKeyboardInterrupt\u001b[39m: "
     ]
    }
   ],
   "source": [
    "# Scrollea automáticamente hasta el final con pausas\n",
    "last_height = driver.execute_script(\"return document.body.scrollHeight\")\n",
    "\n",
    "while True:\n",
    "    driver.execute_script(\"window.scrollTo(0, document.body.scrollHeight);\")\n",
    "    time.sleep(2)\n",
    "    new_height = driver.execute_script(\"return document.body.scrollHeight\")\n",
    "    if new_height == last_height:\n",
    "        break\n",
    "    last_height = new_height\n"
   ]
  },
  {
   "cell_type": "markdown",
   "id": "a85f4d8f",
   "metadata": {},
   "source": [
    "# Hover con Selenium (pasar el ratón por encima)\n",
    "\n",
    "A veces queremos simular que el usuario pasa el cursor por encima de un elemento, por ejemplo para activar menús ocultos, tooltips o cambios visuales.\n",
    "\n",
    "---\n",
    "\n",
    "## 📍 Página de práctica\n",
    "\n",
    "Usaremos esta:  \n",
    "👉 https://the-internet.herokuapp.com/hovers\n",
    "\n",
    "---\n",
    "\n",
    "## ✨ Acción de Hover con `ActionChains`\n"
   ]
  },
  {
   "cell_type": "code",
   "execution_count": null,
   "id": "24734a69",
   "metadata": {},
   "outputs": [],
   "source": [
    "from selenium.webdriver.common.action_chains import ActionChains\n",
    "\n",
    "# Vamos a la página\n",
    "driver.get(\"https://the-internet.herokuapp.com/hovers\")\n",
    "\n",
    "# Seleccionamos el primer avatar\n",
    "avatar = driver.find_element(By.CLASS_NAME, \"figure\")\n",
    "\n",
    "# Creamos la acción\n",
    "hover = ActionChains(driver).move_to_element(avatar)\n",
    "hover.perform()"
   ]
  },
  {
   "cell_type": "code",
   "execution_count": 54,
   "id": "f3a80c14",
   "metadata": {},
   "outputs": [],
   "source": [
    "avatares = driver.find_elements(By.CLASS_NAME, \"figure\")\n",
    "for avatar in avatares:\n",
    "    ActionChains(driver).move_to_element(avatar).perform()\n",
    "    time.sleep(1)  # para ver el efecto\n"
   ]
  }
 ],
 "metadata": {
  "kernelspec": {
   "display_name": "venv",
   "language": "python",
   "name": "python3"
  },
  "language_info": {
   "codemirror_mode": {
    "name": "ipython",
    "version": 3
   },
   "file_extension": ".py",
   "mimetype": "text/x-python",
   "name": "python",
   "nbconvert_exporter": "python",
   "pygments_lexer": "ipython3",
   "version": "3.12.7"
  }
 },
 "nbformat": 4,
 "nbformat_minor": 5
}
