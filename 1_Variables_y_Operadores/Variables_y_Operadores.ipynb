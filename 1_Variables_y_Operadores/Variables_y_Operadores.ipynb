{
 "cells": [
  {
   "cell_type": "markdown",
   "metadata": {},
   "source": [
    "# Clase: Variables, Operadores y Tipos de Datos Básicos\n",
    "\n",
    "A continuación, se presenta una lista sencilla y clara de estos conceptos:\n",
    "\n",
    "* Variables:\n",
    "\n",
    "- Se utilizan para almacenar información en la memoria o KERNEL.\n",
    "\n",
    "- Pueden renombrarse sin problemas, pero conviene seguir convenciones legibles.\n",
    "\n",
    "- Ejemplo: x = 10, nombre = \"Juan\""
   ]
  },
  {
   "cell_type": "code",
   "execution_count": null,
   "metadata": {},
   "outputs": [],
   "source": [
    "# Declaración de variables\n",
    "nombre = \"Ana\"\n",
    "\n",
    "\n",
    "# Mostrar los valores\n",
    "\n"
   ]
  },
  {
   "cell_type": "markdown",
   "metadata": {},
   "source": [
    "#### Primer error común: Ejecutar una variable sin definir"
   ]
  },
  {
   "cell_type": "code",
   "execution_count": null,
   "metadata": {},
   "outputs": [
    {
     "name": "stdout",
     "output_type": "stream",
     "text": [
      "Luis\n"
     ]
    }
   ],
   "source": [
    "# Reinicia el kernel y ejecuta esto\n",
    "print(nombre)"
   ]
  },
  {
   "cell_type": "markdown",
   "metadata": {},
   "source": [
    "#### Segundo error común: Llamar a una variable como una built-in function"
   ]
  },
  {
   "cell_type": "code",
   "execution_count": null,
   "metadata": {},
   "outputs": [
    {
     "ename": "TypeError",
     "evalue": "'str' object is not callable",
     "output_type": "error",
     "traceback": [
      "\u001b[1;31m---------------------------------------------------------------------------\u001b[0m",
      "\u001b[1;31mTypeError\u001b[0m                                 Traceback (most recent call last)",
      "Cell \u001b[1;32mIn[9], line 3\u001b[0m\n\u001b[0;32m      1\u001b[0m \u001b[38;5;28mprint\u001b[39m \u001b[38;5;241m=\u001b[39m \u001b[38;5;124m'\u001b[39m\u001b[38;5;124mhola\u001b[39m\u001b[38;5;124m'\u001b[39m\n\u001b[1;32m----> 3\u001b[0m \u001b[38;5;28;43mprint\u001b[39;49m\u001b[43m(\u001b[49m\u001b[38;5;124;43m\"\u001b[39;49m\u001b[38;5;124;43mhello\u001b[39;49m\u001b[38;5;124;43m\"\u001b[39;49m\u001b[43m)\u001b[49m\n",
      "\u001b[1;31mTypeError\u001b[0m: 'str' object is not callable"
     ]
    }
   ],
   "source": [
    "#print = 'hola'\n",
    "\n",
    "#print(\"hello\")"
   ]
  },
  {
   "cell_type": "markdown",
   "metadata": {},
   "source": [
    "## Tipos de datos nativos en python:\n",
    "\n",
    "* int (enteros): números sin parte decimal (10, -5)\n",
    "\n",
    "Ejemplo, si haces x = 10 estás creando una referencia llamada x que apunta a un objeto de tipo int con valor 10.\n",
    "\n",
    "* float (flotantes): números con parte decimal (3.14, -1.0)\n",
    "\n",
    "* str (cadenas de texto): secuencias de caracteres (\"Hola\", \"123\")\n",
    "\n",
    "* bool (booleanos): valores lógicos True o False\n",
    "\n"
   ]
  },
  {
   "cell_type": "code",
   "execution_count": null,
   "metadata": {},
   "outputs": [],
   "source": [
    "# Verificar tipos con type()\n",
    "print(type(nombre))      # str\n"
   ]
  },
  {
   "cell_type": "markdown",
   "metadata": {},
   "source": [
    "### Operadores Aritméticos\n",
    "\n",
    "- **Suma**: `+`\n",
    "- **Resta**: `-`\n",
    "- **Multiplicación**: `*`\n",
    "- **División**: `/` (devuelve float)\n",
    "- **División entera**: `//` (descarta parte decimal)\n",
    "- **Módulo**: `%` (resto de la división)\n"
   ]
  },
  {
   "cell_type": "code",
   "execution_count": 2,
   "metadata": {},
   "outputs": [
    {
     "name": "stdout",
     "output_type": "stream",
     "text": [
      "Suma: 13\n",
      "Resta: 7\n",
      "Multiplicación: 30\n",
      "División: 3.3333333333333335\n",
      "División entera: 3\n",
      "Módulo: 1\n"
     ]
    }
   ],
   "source": [
    "a = 10\n",
    "b = 3\n",
    "\n",
    "print(\"Suma:\", a + b)\n",
    "print(\"Resta:\", a - b)\n",
    "print(\"Multiplicación:\", a * b)\n",
    "print(\"División:\", a / b)\n",
    "print(\"División entera:\", a // b)\n",
    "print(\"Módulo:\", a % b)\n"
   ]
  },
  {
   "cell_type": "markdown",
   "metadata": {},
   "source": [
    "#### 3er error: División por zero"
   ]
  },
  {
   "cell_type": "code",
   "execution_count": null,
   "metadata": {},
   "outputs": [
    {
     "ename": "ZeroDivisionError",
     "evalue": "division by zero",
     "output_type": "error",
     "traceback": [
      "\u001b[1;31m---------------------------------------------------------------------------\u001b[0m",
      "\u001b[1;31mZeroDivisionError\u001b[0m                         Traceback (most recent call last)",
      "Cell \u001b[1;32mIn[1], line 3\u001b[0m\n\u001b[0;32m      1\u001b[0m a \u001b[38;5;241m=\u001b[39m \u001b[38;5;241m10\u001b[39m\n\u001b[0;32m      2\u001b[0m b \u001b[38;5;241m=\u001b[39m \u001b[38;5;241m0\u001b[39m\n\u001b[1;32m----> 3\u001b[0m \u001b[38;5;28mprint\u001b[39m(\u001b[43ma\u001b[49m\u001b[43m \u001b[49m\u001b[38;5;241;43m/\u001b[39;49m\u001b[43m \u001b[49m\u001b[43mb\u001b[49m)\n",
      "\u001b[1;31mZeroDivisionError\u001b[0m: division by zero"
     ]
    }
   ],
   "source": [
    "a = 10\n",
    "b = 0\n",
    "\n"
   ]
  },
  {
   "cell_type": "markdown",
   "metadata": {},
   "source": [
    "### Operadores de Comparación\n",
    "\n",
    "- **Igual que**: `==`\n",
    "- **Distinto de**: `!=`\n",
    "- **Mayor que**: `>` / **Menor que**: `<`\n",
    "- **Mayor o igual**: `>=` / **Menor o igual**: `<=`"
   ]
  },
  {
   "cell_type": "code",
   "execution_count": 1,
   "metadata": {},
   "outputs": [
    {
     "name": "stdout",
     "output_type": "stream",
     "text": [
      "¿x es igual a y? False\n",
      "¿x es diferente a y? True\n",
      "¿x es mayor que y? True\n",
      "¿x es menor o igual a y? False\n"
     ]
    }
   ],
   "source": [
    "x = 7\n",
    "y = 5\n",
    "\n",
    "print(\"¿x es igual a y?\", x == y)\n",
    "print(\"¿x es diferente a y?\", x != y)\n",
    "print(\"¿x es mayor que y?\", x > y)\n",
    "print(\"¿x es menor o igual a y?\", x <= y)"
   ]
  },
  {
   "cell_type": "markdown",
   "metadata": {},
   "source": [
    "### Operadores Lógicos\n",
    "\n",
    "- `and`: verdadero si ambos operandos son verdaderos\n",
    "- `or`: verdadero si al menos un operando es verdadero\n",
    "- `not`: niega el valor de verdad\n"
   ]
  },
  {
   "cell_type": "code",
   "execution_count": 2,
   "metadata": {},
   "outputs": [
    {
     "name": "stdout",
     "output_type": "stream",
     "text": [
      "a and b: False\n",
      "a or b: True\n",
      "not a: False\n"
     ]
    }
   ],
   "source": [
    "a = True\n",
    "b = False\n",
    "\n",
    "print(\"a and b:\", a and b)\n",
    "print(\"a or b:\", a or b)\n",
    "print(\"not a:\", not a)"
   ]
  },
  {
   "cell_type": "markdown",
   "metadata": {},
   "source": [
    "Python es binario en espíritu (lo dejo como extra)"
   ]
  },
  {
   "cell_type": "code",
   "execution_count": 2,
   "metadata": {},
   "outputs": [
    {
     "name": "stdout",
     "output_type": "stream",
     "text": [
      "False == 0: True\n",
      "True == 1: True\n",
      "True == 2: False\n",
      "False + True: 1\n",
      "True * 10: 10\n",
      "False * 10: 0\n"
     ]
    }
   ],
   "source": [
    "# Comparaciones que muestran el comportamiento binario de los booleanos\n",
    "print(f'False == 0: {False == 0}')\n",
    "print(f'True == 1: {True == 1}')\n",
    "print(f'True == 2: {True == 2}')\n",
    "print(f'False + True: {False + True}')\n",
    "print(f'True * 10: {True * 10}')\n",
    "print(f'False * 10: {False * 10}')\n"
   ]
  },
  {
   "cell_type": "markdown",
   "metadata": {},
   "source": [
    "## 🎟️ Ejercicio Integrador 1: Entrada al cine y descuento (sin condicionales)\n",
    "\n",
    "El precio del boleto del cine es **$100**.\n",
    "\n",
    "✅ Las personas tienen un **descuento del 50%** si cumplen alguna de estas condiciones:\n",
    "\n",
    "- **Menores de 12 años**.\n",
    "- **Mayores de 60 años**.\n",
    "- **O** si tienen una **tarjeta de cliente frecuente**.\n",
    "\n",
    "---\n",
    "\n",
    "### Datos:\n",
    "- `edad`: edad de la persona.\n",
    "- `tiene_tarjeta`: `True` si tiene tarjeta de cliente frecuente, `False` si no.\n",
    "\n",
    "---\n",
    "\n",
    "### Actividades:\n",
    "\n",
    "1. Calcula si **le corresponde el descuento** (muestra `True` o `False`).\n",
    "2. Si quieres, calcula el precio final del boleto multiplicando el precio original por `0.5` si tiene descuento, o por `1` si no tiene descuento.  \n",
    "   *(Sugerencia: puedes usar operadores aritméticos y lógicos, sin usar `if`).*\n",
    "\n",
    "---\n",
    "\n",
    "✅ Ejemplo de salida esperada:\n",
    "\n",
    "> ¿Tiene descuento? True Precio final del boleto: 50.0"
   ]
  },
  {
   "cell_type": "code",
   "execution_count": null,
   "metadata": {},
   "outputs": [
    {
     "name": "stdout",
     "output_type": "stream",
     "text": [
      "¿Tiene descuento? True\n",
      "Precio final del boleto: 50.0\n"
     ]
    }
   ],
   "source": [
    "\n"
   ]
  },
  {
   "cell_type": "markdown",
   "metadata": {},
   "source": [
    "### Otras operaciones básicas\n",
    "\n",
    "- **Concatenación de cadenas con `+`**: `\"Hola \" + \"Mundo\"` → `\"Hola Mundo\"`\n",
    "- **Repetición de cadenas con `*`**: `\"Hola\" * 3` → `\"HolaHolaHola\"`"
   ]
  },
  {
   "cell_type": "code",
   "execution_count": null,
   "metadata": {},
   "outputs": [
    {
     "name": "stdout",
     "output_type": "stream",
     "text": [
      "Hola Luis\n",
      "Ñam! Ñam! Ñam! \n"
     ]
    }
   ],
   "source": [
    "saludo = \"Hola\"\n",
    "nombre = \"Luis\"\n",
    "\n",
    "# Concatenación\n",
    "\n",
    "\n",
    "# Repetición\n"
   ]
  },
  {
   "cell_type": "markdown",
   "metadata": {},
   "source": [
    "### Error tipiquísimo\n",
    "\n",
    "Concatenar dos variables con un type distinto"
   ]
  },
  {
   "cell_type": "code",
   "execution_count": null,
   "metadata": {},
   "outputs": [],
   "source": [
    "print(\"Tengo\" + 25 + \"años\")"
   ]
  },
  {
   "cell_type": "markdown",
   "metadata": {},
   "source": [
    "### Tips importantes\n",
    "\n",
    "- Python distingue entre mayúsculas y minúsculas en los nombres de variables.\n",
    "- Las variables deben nombrarse con cuidado y evitar palabras reservadas (ej. `def`, `class`, `if`, `for`, etc.).\n",
    "- Se recomienda usar nombres descriptivos para mejorar la legibilidad del código."
   ]
  },
  {
   "cell_type": "code",
   "execution_count": 1,
   "metadata": {},
   "outputs": [
    {
     "name": "stdout",
     "output_type": "stream",
     "text": [
      "La temperatura es: 22.5 °C\n",
      "¿Está nublado? False\n"
     ]
    }
   ],
   "source": [
    "# Nombres descriptivos y buenas prácticas\n",
    "temperatura_celsius = 22.5\n",
    "es_nublado = False\n",
    "\n",
    "print(\"La temperatura es:\", temperatura_celsius, \"°C\")\n",
    "print(\"¿Está nublado?\", es_nublado)\n"
   ]
  }
 ],
 "metadata": {
  "kernelspec": {
   "display_name": "Python 3",
   "language": "python",
   "name": "python3"
  },
  "language_info": {
   "codemirror_mode": {
    "name": "ipython",
    "version": 3
   },
   "file_extension": ".py",
   "mimetype": "text/x-python",
   "name": "python",
   "nbconvert_exporter": "python",
   "pygments_lexer": "ipython3",
   "version": "3.12.7"
  }
 },
 "nbformat": 4,
 "nbformat_minor": 2
}
