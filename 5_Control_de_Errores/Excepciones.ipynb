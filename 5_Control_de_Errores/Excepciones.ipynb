{
 "cells": [
  {
   "cell_type": "markdown",
   "metadata": {},
   "source": [
    "# Manejo de Errores en Python con `try-except`\n",
    "\n",
    "Cuando se ejecuta un código en Python, pueden ocurrir errores durante la ejecución (errores en tiempo de ejecución). Para evitar que el programa se detenga abruptamente, se utiliza el manejo estructurado de errores con `try-except`.\n",
    "\n",
    "Este mecanismo permite **atrapar excepciones** y actuar en consecuencia, haciendo que tu código sea más **robusto y profesional**.\n",
    "\n",
    "---\n",
    "\n",
    "## ¿Qué es una excepción?\n",
    "\n",
    "Una **excepción** es un evento que ocurre durante la ejecución del programa que interrumpe el flujo normal de instrucciones. Por ejemplo:\n",
    "\n",
    "- Dividir entre cero (`ZeroDivisionError`)\n",
    "- Convertir texto no numérico a entero (`ValueError`)\n",
    "- Acceder a una clave que no existe en un diccionario (`KeyError`)\n"
   ]
  },
  {
   "cell_type": "code",
   "execution_count": 1,
   "metadata": {},
   "outputs": [
    {
     "ename": "ValueError",
     "evalue": "invalid literal for int() with base 10: 'no es un número'",
     "output_type": "error",
     "traceback": [
      "\u001b[1;31m---------------------------------------------------------------------------\u001b[0m",
      "\u001b[1;31mValueError\u001b[0m                                Traceback (most recent call last)",
      "Cell \u001b[1;32mIn[1], line 6\u001b[0m\n\u001b[0;32m      1\u001b[0m \u001b[38;5;66;03m# -------------------------------------------------------------------\u001b[39;00m\n\u001b[0;32m      2\u001b[0m \u001b[38;5;66;03m# Ejemplo 1: Error sin try-except\u001b[39;00m\n\u001b[0;32m      3\u001b[0m \u001b[38;5;66;03m# -------------------------------------------------------------------\u001b[39;00m\n\u001b[0;32m      4\u001b[0m \n\u001b[0;32m      5\u001b[0m \u001b[38;5;66;03m# Esto lanzará un error y detendrá el programa\u001b[39;00m\n\u001b[1;32m----> 6\u001b[0m numero \u001b[38;5;241m=\u001b[39m \u001b[38;5;28;43mint\u001b[39;49m\u001b[43m(\u001b[49m\u001b[38;5;124;43m\"\u001b[39;49m\u001b[38;5;124;43mno es un número\u001b[39;49m\u001b[38;5;124;43m\"\u001b[39;49m\u001b[43m)\u001b[49m\n",
      "\u001b[1;31mValueError\u001b[0m: invalid literal for int() with base 10: 'no es un número'"
     ]
    }
   ],
   "source": [
    "# -------------------------------------------------------------------\n",
    "# Ejemplo 1: Error sin try-except\n",
    "# -------------------------------------------------------------------\n",
    "\n",
    "# Esto lanzará un error y detendrá el programa\n",
    "numero = int(\"no es un número\")\n"
   ]
  },
  {
   "cell_type": "code",
   "execution_count": 2,
   "metadata": {},
   "outputs": [
    {
     "name": "stdout",
     "output_type": "stream",
     "text": [
      "Error: no se pudo convertir el valor a entero.\n"
     ]
    }
   ],
   "source": [
    "# -------------------------------------------------------------------\n",
    "# Ejemplo 2: Manejo básico con try-except\n",
    "# -------------------------------------------------------------------\n",
    "\n",
    "try:\n",
    "    numero = int(\"no es un número\")\n",
    "except ValueError:\n",
    "    print(\"Error: no se pudo convertir el valor a entero.\")\n"
   ]
  },
  {
   "cell_type": "markdown",
   "metadata": {},
   "source": [
    "## Sintaxis general de try-except\n",
    "\n",
    "```python\n",
    "try:\n",
    "    # Código que puede lanzar una excepción\n",
    "except TipoDeError:\n",
    "    # Código que se ejecuta si ocurre ese tipo de error\n",
    "else:\n",
    "    # Código que se ejecuta si NO ocurre ningún error (opcional)\n",
    "finally:\n",
    "    # Código que se ejecuta SIEMPRE, ocurra o no un error (opcional)\n"
   ]
  },
  {
   "cell_type": "code",
   "execution_count": 3,
   "metadata": {},
   "outputs": [
    {
     "name": "stdout",
     "output_type": "stream",
     "text": [
      "La operación fue exitosa. Resultado: 5.0\n",
      "Fin del bloque try-except.\n"
     ]
    }
   ],
   "source": [
    "\n",
    "try:\n",
    "    resultado = 10 / 2\n",
    "except ZeroDivisionError:\n",
    "    print(\"No se puede dividir entre cero.\")\n",
    "else:\n",
    "    print(\"La operación fue exitosa. Resultado:\", resultado)\n",
    "finally:\n",
    "    print(\"Fin del bloque try-except.\")\n"
   ]
  },
  {
   "cell_type": "code",
   "execution_count": 4,
   "metadata": {},
   "outputs": [
    {
     "name": "stdout",
     "output_type": "stream",
     "text": [
      "Error: índice fuera de rango.\n"
     ]
    }
   ],
   "source": [
    "# -------------------------------------------------------------------\n",
    "# Ejemplo 4: Múltiples except\n",
    "# -------------------------------------------------------------------\n",
    "\n",
    "try:\n",
    "    lista = [1, 2, 3]\n",
    "    print(lista[5])  # IndexError\n",
    "    numero = int(\"abc\")  # ValueError\n",
    "except IndexError:\n",
    "    print(\"Error: índice fuera de rango.\")\n",
    "except ValueError:\n",
    "    print(\"Error: conversión inválida a entero.\")\n"
   ]
  },
  {
   "cell_type": "code",
   "execution_count": 17,
   "metadata": {},
   "outputs": [
    {
     "name": "stdout",
     "output_type": "stream",
     "text": [
      "Ocurrió un error: ZeroDivisionError\n",
      "Mensaje: division by zero\n"
     ]
    }
   ],
   "source": [
    "# -------------------------------------------------------------------\n",
    "# Ejemplo 5: Capturar cualquier error (no recomendado salvo debugging)\n",
    "# -------------------------------------------------------------------\n",
    "\n",
    "try:\n",
    "    x = 1 / 0\n",
    "except Exception as e:\n",
    "    print(\"Ocurrió un error:\", type(e).__name__)\n",
    "    print(\"Mensaje:\", e)\n"
   ]
  },
  {
   "cell_type": "markdown",
   "metadata": {},
   "source": [
    "## Buenas prácticas al manejar errores\n",
    "\n",
    "✅ **Captura solo los errores esperados**  \n",
    "Evita usar `except:` sin especificar la excepción. Esto puede ocultar errores graves.\n",
    "\n",
    "✅ **Sé específico con los tipos de excepción**  \n",
    "Usar `except ValueError:` es mejor que usar `except:` o `except Exception:` sin razón.\n",
    "\n",
    "✅ **Evita el código en blanco en except**  \n",
    "Siempre haz algo significativo, como registrar el error, mostrar un mensaje o volver a intentar.\n",
    "\n",
    "✅ **Usa `finally` para liberar recursos**  \n",
    "Ideal para cerrar archivos, conexiones, etc.\n",
    "\n",
    "✅ **No abuses del manejo de errores para control de flujo**  \n",
    "El manejo de errores no debe reemplazar las validaciones normales (`if`, `isinstance`, etc).\n",
    "\n",
    "---\n",
    "\n",
    "## Ejemplo práctico: abrir un archivo\n"
   ]
  },
  {
   "cell_type": "code",
   "execution_count": 18,
   "metadata": {},
   "outputs": [
    {
     "name": "stdout",
     "output_type": "stream",
     "text": [
      "Error: el archivo 'archivo_inexistente.txt' no fue encontrado.\n",
      "Intento de lectura de archivo finalizado.\n"
     ]
    }
   ],
   "source": [
    "# -------------------------------------------------------------------\n",
    "# Ejemplo 6: Abrir archivo con manejo de errores\n",
    "# -------------------------------------------------------------------\n",
    "\n",
    "ruta = \"archivo_inexistente.txt\"\n",
    "\n",
    "try:\n",
    "    with open(ruta, 'r') as f:\n",
    "        contenido = f.read()\n",
    "except FileNotFoundError:\n",
    "    print(f\"Error: el archivo '{ruta}' no fue encontrado.\")\n",
    "finally:\n",
    "    print(\"Intento de lectura de archivo finalizado.\")\n"
   ]
  },
  {
   "cell_type": "markdown",
   "metadata": {},
   "source": [
    "## Conclusión\n",
    "\n",
    "El manejo de errores con `try-except` permite que tu código:\n",
    "\n",
    "- Sea más robusto.\n",
    "- Tenga mejor experiencia de usuario.\n",
    "- No se detenga de forma inesperada.\n",
    "- Permita actuar ante fallos sin bloquear todo el programa.\n",
    "\n",
    "---\n"
   ]
  }
 ],
 "metadata": {
  "kernelspec": {
   "display_name": "Python 3",
   "language": "python",
   "name": "python3"
  },
  "language_info": {
   "codemirror_mode": {
    "name": "ipython",
    "version": 3
   },
   "file_extension": ".py",
   "mimetype": "text/x-python",
   "name": "python",
   "nbconvert_exporter": "python",
   "pygments_lexer": "ipython3",
   "version": "3.11.0"
  }
 },
 "nbformat": 4,
 "nbformat_minor": 2
}
