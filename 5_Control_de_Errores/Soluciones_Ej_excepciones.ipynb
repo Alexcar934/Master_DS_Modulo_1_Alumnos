{
 "cells": [
  {
   "cell_type": "markdown",
   "id": "1f4b345e",
   "metadata": {},
   "source": [
    "# 🧪 Ejercicio: División Segura en Python\n",
    "\n",
    "### 🎯 Objetivo\n",
    "Crear un programa que pida dos números al usuario y muestre el resultado de dividirlos, manejando errores comunes como división por cero o entradas no numéricas.\n",
    "\n",
    "---\n",
    "\n",
    "### 🛠️ Instrucciones\n",
    "\n",
    "1. Pide al usuario que ingrese un numerador y un denominador.\n",
    "2. Realiza la división.\n",
    "3. Maneja los siguientes errores:\n",
    "   - ❌ `ValueError` → si el usuario no escribe un número.\n",
    "   - ❌ `ZeroDivisionError` → si el usuario intenta dividir entre cero.\n",
    "4. Muestra el mensaje `\"Fin del programa\"` al final, sin importar si ocurrió un error.\n",
    "\n",
    "---\n",
    "\n",
    "### 🧪 Ejemplo de ejecución\n",
    "\n"
   ]
  },
  {
   "cell_type": "markdown",
   "id": "8cd098fa",
   "metadata": {},
   "source": [
    "* Ingresa el numerador: 10\n",
    "* Ingresa el denominador: 0\n",
    "* Error: no se puede dividir entre cero.\n",
    "* Fin del programa"
   ]
  },
  {
   "cell_type": "code",
   "execution_count": 1,
   "id": "d2aef581",
   "metadata": {},
   "outputs": [
    {
     "name": "stdout",
     "output_type": "stream",
     "text": [
      "Resultado: 0.75\n",
      "Fin del programa\n"
     ]
    }
   ],
   "source": [
    "try:\n",
    "    num1 = float(input(\"Ingresa el numerador: \"))\n",
    "    num2 = float(input(\"Ingresa el denominador: \"))\n",
    "    resultado = num1 / num2\n",
    "    print(f\"Resultado: {resultado}\")\n",
    "except ValueError:\n",
    "    print(\"Error: debes ingresar un número válido.\")\n",
    "except ZeroDivisionError:\n",
    "    print(\"Error: no se puede dividir entre cero.\")\n",
    "finally:\n",
    "    print(\"Fin del programa\")\n"
   ]
  },
  {
   "cell_type": "code",
   "execution_count": null,
   "id": "b9b1724a",
   "metadata": {},
   "outputs": [],
   "source": []
  }
 ],
 "metadata": {
  "kernelspec": {
   "display_name": ".venv",
   "language": "python",
   "name": "python3"
  },
  "language_info": {
   "codemirror_mode": {
    "name": "ipython",
    "version": 3
   },
   "file_extension": ".py",
   "mimetype": "text/x-python",
   "name": "python",
   "nbconvert_exporter": "python",
   "pygments_lexer": "ipython3",
   "version": "3.12.7"
  }
 },
 "nbformat": 4,
 "nbformat_minor": 5
}
