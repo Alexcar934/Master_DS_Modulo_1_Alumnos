{
 "cells": [
  {
   "cell_type": "markdown",
   "id": "654aa08d",
   "metadata": {},
   "source": [
    "# 🧪 Ejercicio: División Segura en Python\n",
    "\n",
    "### 🎯 Objetivo\n",
    "Crear un programa que pida dos números al usuario y muestre el resultado de dividirlos, manejando errores comunes como división por cero o entradas no numéricas.\n",
    "\n",
    "---\n",
    "\n",
    "### 🛠️ Instrucciones\n",
    "\n",
    "1. Pide al usuario que ingrese un numerador y un denominador.\n",
    "2. Realiza la división.\n",
    "3. Maneja los siguientes errores:\n",
    "   - ❌ `ValueError` → si el usuario no escribe un número.\n",
    "   - ❌ `ZeroDivisionError` → si el usuario intenta dividir entre cero.\n",
    "4. Muestra el mensaje `\"Fin del programa\"` al final, sin importar si ocurrió un error.\n",
    "\n",
    "---\n",
    "\n",
    "### 🧪 Ejemplo de ejecución\n",
    "\n"
   ]
  },
  {
   "cell_type": "markdown",
   "id": "70ef074a",
   "metadata": {},
   "source": [
    "Ingresa el numerador: 10\n",
    "Ingresa el denominador: 0\n",
    "Error: no se puede dividir entre cero.\n",
    "Fin del programa"
   ]
  },
  {
   "cell_type": "code",
   "execution_count": null,
   "id": "60c4ebc7",
   "metadata": {},
   "outputs": [],
   "source": [
    "#Escribe tu código aquí"
   ]
  }
 ],
 "metadata": {
  "language_info": {
   "name": "python"
  }
 },
 "nbformat": 4,
 "nbformat_minor": 5
}
