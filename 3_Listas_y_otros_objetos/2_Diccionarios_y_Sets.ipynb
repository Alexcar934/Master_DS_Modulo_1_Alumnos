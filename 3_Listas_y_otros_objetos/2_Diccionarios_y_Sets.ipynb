{
 "cells": [
  {
   "cell_type": "markdown",
   "id": "9aeb045a",
   "metadata": {},
   "source": [
    "# Diccionarios en Python\n",
    "\n",
    "Los **diccionarios** son estructuras de datos en Python que almacenan **pares `clave: valor`**. Algunas de sus características principales son:\n",
    "\n",
    "1. **Acceso por clave**: en lugar de un índice numérico, cada elemento se identifica mediante una **clave**.\n",
    "2. **Mutables**: se pueden modificar (agregar, eliminar o actualizar) tras su creación.\n",
    "3. **Desordenados**: hasta Python 3.6 no se garantizaba el orden de inserción. A partir de la versión 3.7, se mantiene el orden en el que se insertan los pares, pero la ordenación no es su principal funcionalidad.\n",
    "4. Suelen usarse para **asociar** información (ej. nombres a números, claves de configuración, etc.) y para **búsquedas rápidas**.\n",
    "\n",
    "## 1. Creación y acceso\n",
    "\n",
    "- Para crear un diccionario, se usan llaves `{}` con pares `clave: valor`:\n",
    "  ```python\n",
    "  persona = {\n",
    "      \"nombre\": \"Alice\",\n",
    "      \"edad\": 30,\n",
    "      \"ciudad\": \"Madrid\"\n",
    "  }\n"
   ]
  },
  {
   "cell_type": "code",
   "execution_count": null,
   "id": "27ec996e",
   "metadata": {},
   "outputs": [
    {
     "name": "stdout",
     "output_type": "stream",
     "text": [
      "{'nombre': 'Alice', 'ciudad': 'Madrid'}\n",
      "2\n",
      "5\n",
      "Madrid\n",
      "6\n",
      "9\n"
     ]
    }
   ],
   "source": [
    "persona = dict(nombre=\"Alice\", edad=30, ciudad=\"Madrid\")\n",
    "# Eliminar la clave \"edad\" del diccionario\n",
    "\n",
    "\n",
    "# Mostrar el diccionario actualizado\n",
    "print(persona)  # Salida: {'nombre': 'Alice', 'ciudad': 'Madrid'}\n",
    "\n",
    "# Mostrar la longitud del diccionario\n",
    "print(len(persona))  # Salida: 2\n",
    "# Mostrar la longitud de la clave \"nombre\"\n",
    "print(len(persona[\"nombre\"]))  # Salida: 5\n",
    "\n",
    "print(persona.get(\"ciudad\"))\n",
    "# Mostrar la longitud de la clave \"ciudad\"\n",
    "\n"
   ]
  },
  {
   "cell_type": "markdown",
   "id": "59289085",
   "metadata": {},
   "source": [
    "## 2. Principales métodos de los diccionarios\n",
    "\n",
    "### 2.1 Obtener claves, valores y pares\n",
    "\n",
    "- **`keys()`**: devuelve un objeto \"vista\" de las claves.\n",
    "- **`values()`**: devuelve un objeto \"vista\" de los valores.\n",
    "- **`items()`**: devuelve un objeto \"vista\" de tuplas `(clave, valor)`.\n",
    "\n",
    "```python\n",
    "claves = persona.keys()\n",
    "valores = persona.values()\n",
    "pares = persona.items()\n"
   ]
  },
  {
   "cell_type": "code",
   "execution_count": null,
   "id": "bd7460a2",
   "metadata": {},
   "outputs": [
    {
     "name": "stdout",
     "output_type": "stream",
     "text": [
      "['nombre', 'ciudad']\n",
      "['Alice', 'Madrid']\n",
      "[('nombre', 'Alice'), ('ciudad', 'Madrid')]\n"
     ]
    }
   ],
   "source": []
  },
  {
   "cell_type": "markdown",
   "id": "7002d62b",
   "metadata": {},
   "source": [
    "### 2.2 Agregar y actualizar\n",
    "diccionario[\"clave\"] = valor: asigna o modifica un valor.\n",
    "\n",
    "update(otro_dic): agrega pares de otro_dic al diccionario actual, sobrescribiendo claves repetidas."
   ]
  },
  {
   "cell_type": "code",
   "execution_count": 4,
   "id": "57fd8484",
   "metadata": {},
   "outputs": [
    {
     "name": "stdout",
     "output_type": "stream",
     "text": [
      "{'nombre': 'Alice', 'ciudad': 'Barcelona', 'edad': 30}\n"
     ]
    }
   ],
   "source": [
    "persona[\"edad\"] = 30  # Añadir la clave \"edad\" de nuevo\n",
    "persona[\"ciudad\"] = \"Barcelona\"  # Cambiar el valor de la clave \"ciudad\"\n",
    "# Mostrar el diccionario actualizado\n",
    "print(persona)  # Salida: {'nombre': 'Alice', 'ciudad': 'Barcelona', 'edad': 30}"
   ]
  },
  {
   "cell_type": "markdown",
   "id": "1c1bb651",
   "metadata": {},
   "source": [
    "### 2.3 Eliminar elementos\n",
    "* pop(clave): elimina y devuelve el valor asociado a clave.\n",
    "Si la clave no existe, opcionalmente puedes darle un valor por defecto: diccionario.pop(clave, None).\n",
    "\n",
    "* popitem(): elimina y devuelve el último par (clave, valor) insertado (en Python 3.7+).\n",
    "\n",
    "* del diccionario[\"clave\"]: elimina el par con esa clave. Da error si no existe.\n",
    "\n",
    "* clear(): elimina todos los pares"
   ]
  },
  {
   "cell_type": "code",
   "execution_count": 1,
   "id": "eb09962d",
   "metadata": {},
   "outputs": [
    {
     "name": "stdout",
     "output_type": "stream",
     "text": [
      "Claves: dict_keys(['nombre', 'edad', 'ciudad'])\n",
      "Valores: dict_values(['Alice', 30, 'Madrid'])\n",
      "Pares (items): dict_items([('nombre', 'Alice'), ('edad', 30), ('ciudad', 'Madrid')])\n",
      "Después de añadir 'profesion': {'nombre': 'Alice', 'edad': 30, 'ciudad': 'Madrid', 'profesion': 'Ingeniera'}\n",
      "Después de update: {'nombre': 'Alice', 'edad': 31, 'ciudad': 'Madrid', 'profesion': 'Ingeniera', 'pais': 'España'}\n",
      "Se ha extraído la clave 'edad' con valor: 31\n",
      "Diccionario tras pop('edad'): {'nombre': 'Alice', 'ciudad': 'Madrid', 'profesion': 'Ingeniera', 'pais': 'España'}\n",
      "Último par eliminado con popitem(): ('pais', 'España')\n",
      "Diccionario tras popitem(): {'nombre': 'Alice', 'ciudad': 'Madrid', 'profesion': 'Ingeniera'}\n",
      "Diccionario tras clear(): {}\n"
     ]
    }
   ],
   "source": [
    "# Ejemplo de uso de métodos de diccionarios en Python\n",
    "persona = {\n",
    "    \"nombre\": \"Alice\",\n",
    "    \"edad\": 30,\n",
    "    \"ciudad\": \"Madrid\"\n",
    "}\n",
    "\n",
    "# keys(), values(), items()\n",
    "print(\"Claves:\", persona.keys())\n",
    "print(\"Valores:\", persona.values())\n",
    "print(\"Pares (items):\", persona.items())\n",
    "\n",
    "# Añadir nueva clave\n",
    "persona[\"profesion\"] = \"Ingeniera\"\n",
    "print(\"Después de añadir 'profesion':\", persona)\n",
    "\n",
    "# update\n",
    "persona.update({\"edad\": 31, \"pais\": \"España\"})\n",
    "print(\"Después de update:\", persona)\n",
    "\n",
    "# pop\n",
    "edad = persona.pop(\"edad\")\n",
    "print(\"Se ha extraído la clave 'edad' con valor:\", edad)\n",
    "print(\"Diccionario tras pop('edad'):\", persona)\n",
    "\n",
    "# popitem\n",
    "ultimo_par = persona.popitem()\n",
    "print(\"Último par eliminado con popitem():\", ultimo_par)\n",
    "print(\"Diccionario tras popitem():\", persona)\n",
    "\n",
    "# clear\n",
    "persona.clear()\n",
    "print(\"Diccionario tras clear():\", persona)\n"
   ]
  },
  {
   "cell_type": "code",
   "execution_count": 6,
   "id": "c126ddd1",
   "metadata": {},
   "outputs": [
    {
     "data": {
      "text/plain": [
       "{}"
      ]
     },
     "execution_count": 6,
     "metadata": {},
     "output_type": "execute_result"
    }
   ],
   "source": [
    "persona"
   ]
  },
  {
   "cell_type": "markdown",
   "id": "200c02e2",
   "metadata": {},
   "source": [
    "---"
   ]
  },
  {
   "cell_type": "markdown",
   "id": "2014cb97",
   "metadata": {},
   "source": [
    "# Sets (conjuntos) en Python\n",
    "\n",
    "Un **set** (conjunto) en Python es una colección **desordenada** de elementos **únicos** (no permite duplicados). Algunas de sus características:\n",
    "\n",
    "- Se crean con `{ }` o con la función `set()`.\n",
    "- **No** permiten elementos repetidos; si se intenta añadir un duplicado, se ignora.\n",
    "- Al ser **desordenados**, no se puede acceder a los elementos por índice.\n",
    "- Se pueden usar para realizar **operaciones de conjuntos** como:\n",
    "  - `union()`, `intersection()`, `difference()`, etc.\n",
    "- Los métodos básicos incluyen:\n",
    "  - `add(elem)`: añade un elemento.\n",
    "  - `remove(elem)`: elimina un elemento (si no existe, error).\n",
    "  - `discard(elem)`: elimina un elemento sin error si no existe.\n",
    "  - `pop()`: elimina y devuelve un elemento cualquiera.\n",
    "  - `clear()`: vacía el set por completo.\n",
    "\n",
    "Los sets se usan mucho para:\n",
    "- Filtrar duplicados en una colección.\n",
    "- Realizar comprobaciones de pertenencia (`in`) de forma muy eficiente.\n"
   ]
  },
  {
   "cell_type": "code",
   "execution_count": 7,
   "id": "89a6b007",
   "metadata": {},
   "outputs": [
    {
     "name": "stdout",
     "output_type": "stream",
     "text": [
      "Set inicial: {'manzana', 'banana', 'pera'}\n",
      "Después de add('uva'): {'uva', 'manzana', 'banana', 'pera'}\n",
      "Después de discard('banana'): {'uva', 'manzana', 'pera'}\n",
      "¡Hay manzanas en el set!\n",
      "Unión de ambos sets: {'manzana', 'melón', 'uva', 'pera', 'sandía'}\n",
      "Intersección de ambos sets: {'pera'}\n"
     ]
    }
   ],
   "source": [
    "# Ejemplo de uso de sets en Python\n",
    "\n",
    "# Crear un set\n",
    "frutas = {\"manzana\", \"banana\", \"pera\", \"manzana\"}  # 'manzana' duplicada, se ignora\n",
    "print(\"Set inicial:\", frutas)\n",
    "\n",
    "# Añadir un elemento\n",
    "frutas.add(\"uva\")\n",
    "print(\"Después de add('uva'):\", frutas)\n",
    "\n",
    "# Eliminar un elemento\n",
    "frutas.discard(\"banana\")  # No da error si no existe\n",
    "print(\"Después de discard('banana'):\", frutas)\n",
    "\n",
    "# Comprobar pertenencia\n",
    "if \"manzana\" in frutas:\n",
    "    print(\"¡Hay manzanas en el set!\")\n",
    "\n",
    "# Operaciones de conjunto\n",
    "otros_frutos = {\"melón\", \"pera\", \"sandía\"}\n",
    "union_frutas = frutas.union(otros_frutos)\n",
    "print(\"Unión de ambos sets:\", union_frutas)\n",
    "\n",
    "interseccion_frutas = frutas.intersection(otros_frutos)\n",
    "print(\"Intersección de ambos sets:\", interseccion_frutas)\n"
   ]
  }
 ],
 "metadata": {
  "kernelspec": {
   "display_name": "Python 3",
   "language": "python",
   "name": "python3"
  },
  "language_info": {
   "codemirror_mode": {
    "name": "ipython",
    "version": 3
   },
   "file_extension": ".py",
   "mimetype": "text/x-python",
   "name": "python",
   "nbconvert_exporter": "python",
   "pygments_lexer": "ipython3",
   "version": "3.12.7"
  }
 },
 "nbformat": 4,
 "nbformat_minor": 5
}
