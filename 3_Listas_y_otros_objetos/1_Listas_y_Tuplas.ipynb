{
 "cells": [
  {
   "cell_type": "markdown",
   "id": "129421ea",
   "metadata": {},
   "source": [
    "# 2. Listas en Python\n",
    "\n",
    "En Python, las **listas** son **estructuras de datos mutables** que nos permiten almacenar colecciones de elementos. Algunas de sus características principales son:\n",
    "\n",
    "- **Ordenadas**: mantienen el orden en que se añaden los elementos.\n",
    "- **Mutables**: se pueden modificar (agregar, eliminar o cambiar elementos) tras su creación.\n",
    "- **Heterogéneas**: pueden contener diferentes tipos de datos (números, strings, booleanos, otras listas, etc.).\n",
    "\n",
    "## 2.1 Definición y creación de listas\n",
    "\n",
    "Existen varias formas de crear listas:\n",
    "\n",
    "1. Con corchetes vacíos: `mi_lista = []`\n",
    "2. Directamente con valores: `mi_lista = [1, 2, \"hola\", 3.5]`\n",
    "3. Usando la función `list()`: `mi_lista = list(range(5))`\n",
    "\n",
    "Podemos acceder a cada elemento mediante **índices**, empezando por 0, y usar índices negativos para contar desde el final."
   ]
  },
  {
   "cell_type": "code",
   "execution_count": null,
   "id": "4fcd4bf8",
   "metadata": {},
   "outputs": [
    {
     "name": "stdout",
     "output_type": "stream",
     "text": [
      "Primer elemento: 10\n",
      "Segundo elemento: Python\n",
      "Último elemento: 3.14\n",
      "Lista modificada: [10, 'Cambio de Valor', True, 3.14]\n"
     ]
    }
   ],
   "source": [
    "# Ejemplo de creación y acceso a listas\n",
    "\n",
    "# Creación de una lista con distintos tipos de datos\n",
    "mi_lista = [10, \"Python\", True, 3.14]\n",
    "\n",
    "# Acceso a elementos (indexando desde 0)\n",
    "\n",
    "\n",
    "# Acceso con índice negativo (el último elemento)\n",
    "\n",
    "\n",
    "# Modificación de un elemento (las listas son mutables)\n",
    "mi_lista[1] = \"Cambio de Valor\"\n",
    "\n"
   ]
  },
  {
   "cell_type": "markdown",
   "id": "d0882b8e",
   "metadata": {},
   "source": [
    "## 2.2 Slicing (rebanado) de listas\n",
    "\n",
    "El **slicing** te permite extraer secciones de una lista (o string, tupla, etc.).  \n",
    "La sintaxis general es:  \n"
   ]
  },
  {
   "cell_type": "markdown",
   "id": "b50b9a88",
   "metadata": {},
   "source": [
    "- `inicio`: índice a partir del cual se empieza a tomar elementos (por defecto, 0).  \n",
    "- `fin`: índice hasta el cual se toman elementos, **sin incluir** el índice `fin` (por defecto, el final de la lista).  \n",
    "- `paso`: cada cuántos elementos se toma uno (por defecto, 1).\n",
    "\n",
    "Algunos usos comunes:\n",
    "- `lista[a:b]` extrae elementos desde `a` hasta `b-1`.  \n",
    "- `lista[:b]` extrae desde el inicio hasta `b-1`.  \n",
    "- `lista[a:]` extrae desde `a` hasta el final.  \n",
    "- `lista[::2]` extrae todos los elementos, saltando de 2 en 2.  \n",
    "- `lista[::-1]` invierte la lista.\n"
   ]
  },
  {
   "cell_type": "code",
   "execution_count": null,
   "id": "2b4facf8",
   "metadata": {},
   "outputs": [
    {
     "name": "stdout",
     "output_type": "stream",
     "text": [
      "Lista original: [0, 1, 2, 3, 4, 5, 6, 7]\n",
      "Elementos del 2 al 4: [2, 3, 4]\n",
      "Elementos desde inicio hasta 2: [0, 1, 2]\n",
      "Elementos desde el 3 hasta el final: [3, 4, 5, 6, 7]\n",
      "Cada 2 elementos: [0, 2, 4, 6]\n",
      "Lista invertida: [7, 6, 5, 4, 3, 2, 1, 0]\n"
     ]
    }
   ],
   "source": [
    "# Ejemplo de slicing\n",
    "\n",
    "numeros = [0, 1, 2, 3, 4, 5, 6, 7]\n",
    "print(\"Lista original:\", numeros)\n",
    "\n",
    "# Tomar elementos de índice 2 al 5 (sin incluir el 5)\n",
    "\n",
    "\n",
    "# Tomar desde el inicio hasta el índice 3 (sin incluirlo)\n",
    "\n",
    "\n",
    "# Tomar desde el índice 3 hasta el final\n",
    "\n",
    "\n",
    "# Tomar cada 2 elementos\n",
    "  \n",
    "\n",
    "# Invertir la lista\n",
    "\n"
   ]
  },
  {
   "cell_type": "markdown",
   "id": "40c61894",
   "metadata": {},
   "source": [
    "## 2.3 List Comprehension\n",
    "\n",
    "Una **list comprehension** es una forma concisa y eficiente de crear listas a partir de **iterables** (otras listas, rango de números, etc.). \n",
    "\n",
    "La sintaxis básica es:\n"
   ]
  },
  {
   "cell_type": "code",
   "execution_count": null,
   "id": "ef8f33a6",
   "metadata": {},
   "outputs": [
    {
     "name": "stdout",
     "output_type": "stream",
     "text": [
      "Lista original: ['Alex', 'Juon', 'Carlota', 'Pedro', 'María', 'Luis', 'Alberto']\n",
      "Lista modificada: ['Alax', 'Albarto']\n"
     ]
    }
   ],
   "source": [
    "lista_nombres = [\"Alex\",\"Juon\", \"Carlota\", \"Pedro\", \"María\", \"Luis\", \"Alberto\"]\n"
   ]
  },
  {
   "cell_type": "markdown",
   "id": "ee02529b",
   "metadata": {},
   "source": [
    "\n",
    "Donde:\n",
    "- `expresión` es la operación o transformación que aplicamos a cada `elemento`.\n",
    "- `if condición` es opcional, para filtrar.\n",
    "\n",
    "Ejemplos típicos:\n",
    "- Crear una lista de cuadrados de números.\n",
    "- Filtrar ciertos elementos de otra lista.\n"
   ]
  },
  {
   "cell_type": "code",
   "execution_count": null,
   "id": "e5af68a8",
   "metadata": {},
   "outputs": [
    {
     "name": "stdout",
     "output_type": "stream",
     "text": [
      "Cuadrados del 0 al 9: [0, 1, 4, 9, 16, 25, 36, 49, 64, 81]\n",
      "Números pares del 0 al 9: [0, 2, 4, 6, 8]\n",
      "Frutas en mayúsculas: ['MANZANA', 'BANANA', 'PERA', 'KIWI']\n"
     ]
    }
   ],
   "source": [
    "# Ejemplo de list comprehension (cuadrados de 0 a 9)\n",
    "cuadrados = [x**2 for x in range(10)]\n",
    "print(\"Cuadrados del 0 al 9:\", cuadrados)\n",
    "\n",
    "# Ejemplo con condicional (solo números pares)\n",
    "\n",
    "\n",
    "# Ejemplo de transformación de cadenas\n",
    "frutas = [\"manzana\", \"banana\", \"pera\", \"kiwi\"]\n",
    "\n"
   ]
  },
  {
   "cell_type": "markdown",
   "id": "be1a18e7",
   "metadata": {},
   "source": [
    "# 2.4 Métodos de Listas en Python\n",
    "\n",
    "Además de las operaciones de slicing y list comprehension, las **listas** en Python disponen de multitud de métodos que permiten:\n",
    "\n",
    "- Agregar elementos  \n",
    "- Eliminar elementos  \n",
    "- Ordenar  \n",
    "- Contar ocurrencias  \n",
    "- y mucho más...\n",
    "\n",
    "A continuación, veremos los métodos principales.\n"
   ]
  },
  {
   "cell_type": "markdown",
   "id": "b4ad5df9",
   "metadata": {},
   "source": [
    "#### Importante. Cuando utilizamos un método de listas, estamos sobreescribiendo el valor actual de la variable"
   ]
  },
  {
   "cell_type": "code",
   "execution_count": null,
   "id": "180afef9",
   "metadata": {},
   "outputs": [
    {
     "name": "stdout",
     "output_type": "stream",
     "text": [
      "Longitud de la lista: 5\n",
      "Lista después de añadir un elemento: [1, 2, 3, 4, 5, 'Nuevo elemento']\n",
      "Lista después de insertar un elemento: [1, 2, 'Elemento en posición 2', 3, 4, 5, 'Nuevo elemento']\n",
      "Lista después de eliminar un elemento: [1, 2, 'Elemento en posición 2', 4, 5, 'Nuevo elemento']\n",
      "Lista después de eliminar un elemento por índice: [1, 'Elemento en posición 2', 4, 5, 'Nuevo elemento']\n",
      "Lista original: [5, 2, 9, 1, 5, 6]\n",
      "Lista ordenada: [9, 6, 5, 5, 2, 1]\n",
      "Lista invertida: ['Nuevo elemento', 5, 4, 'Elemento en posición 2', 1]\n",
      "Lista después de extender: ['Nuevo elemento', 5, 4, 'Elemento en posición 2', 1, 10, 11, 12]\n"
     ]
    }
   ],
   "source": [
    "mi_lista = [1, 2, 3, 4, 5]\n",
    "# Obtener la longitud de la lista\n",
    "longitud = len(mi_lista)\n",
    "print(\"Longitud de la lista:\", longitud)\n",
    "\n",
    "# Añadir elementos a la lista\n",
    "\n",
    "\n",
    "# Insertar un elemento en una posición específica\n",
    "\n",
    "\n",
    "# Eliminar un elemento por su valor\n",
    "\n",
    "\n",
    "# Eliminar un elemento por su índice\n",
    "\n",
    "\n",
    "# Ordenar la lista (solo funciona con listas homogéneas)\n",
    "lista_numeros = [5, 2, 9, 1, 5, 6]\n",
    "print(\"Lista original:\", lista_numeros)\n",
    "\n",
    "\n",
    "# print(\"Lista ordenada:\", mi_lista)\n",
    "\n",
    "# Invertir la lista\n",
    "\n",
    "\n",
    "# extend la lista con otra lista\n"
   ]
  },
  {
   "cell_type": "markdown",
   "id": "98e4cd60",
   "metadata": {},
   "source": [
    "# 3. Tuplas en Python\n",
    "\n",
    "Las **tuplas** son una **estructura de datos inmutable** en Python, lo que significa que, una vez creada, no puede modificarse (no se pueden añadir, eliminar ni cambiar elementos).\n",
    "\n",
    "## 3.1 Creación de tuplas\n",
    "\n",
    "- Usando paréntesis: \n",
    "  ```python\n",
    "  mi_tupla = (1, 2, 3)\n"
   ]
  },
  {
   "cell_type": "code",
   "execution_count": null,
   "id": "48a8eee2",
   "metadata": {},
   "outputs": [
    {
     "name": "stdout",
     "output_type": "stream",
     "text": [
      "Tupla vacía: ()\n",
      "Tupla con un solo elemento: (42,)\n",
      "Tupla sin paréntesis: (1, 2, 3)\n",
      "Valores de las variables: 1 2 3\n",
      "Tupla con varios elementos: (1, 2, 3, 'Python', True)\n"
     ]
    }
   ],
   "source": [
    "# Tupla vacía\n",
    "tupla_vacia = ()\n",
    "print(\"Tupla vacía:\", tupla_vacia)"
   ]
  },
  {
   "cell_type": "code",
   "execution_count": null,
   "id": "792a1ac2",
   "metadata": {},
   "outputs": [],
   "source": [
    "#Tupla con un solo elemento (necesario la coma)\n",
    "tupla_un_elemento = (42,)\n",
    "print(\"Tupla con un solo elemento:\", tupla_un_elemento)"
   ]
  },
  {
   "cell_type": "code",
   "execution_count": null,
   "id": "ae70a3d7",
   "metadata": {},
   "outputs": [],
   "source": [
    "#Tupla sin paréntesis (no recomendado)\n",
    "tupla_sin_parentesis= 1, 2, 3\n",
    "print(\"Tupla sin paréntesis:\", tupla_sin_parentesis)"
   ]
  },
  {
   "cell_type": "code",
   "execution_count": null,
   "id": "91af1389",
   "metadata": {},
   "outputs": [],
   "source": [
    "#Por qué no es recomendable usar tuplas sin paréntesis\n",
    "entero_1, entero2, entero3 = 1,2,3\n",
    "print(\"Valores de las variables:\", entero_1, entero2, entero3)"
   ]
  },
  {
   "cell_type": "code",
   "execution_count": null,
   "id": "7fba2ff8",
   "metadata": {},
   "outputs": [],
   "source": [
    "#Tupla con varios elementos\n",
    "tupla_varios_elementos = (1, 2, 3, \"Python\", True)\n",
    "print(\"Tupla con varios elementos:\", tupla_varios_elementos)"
   ]
  },
  {
   "cell_type": "markdown",
   "id": "b90935ad",
   "metadata": {},
   "source": [
    "## 3.2 Acceso a elementos e inmutabilidad\n"
   ]
  },
  {
   "cell_type": "code",
   "execution_count": 7,
   "id": "2f27134c",
   "metadata": {},
   "outputs": [
    {
     "name": "stdout",
     "output_type": "stream",
     "text": [
      "Primer elemento de la tupla: 1\n",
      "Segundo elemento de la tupla: 2\n",
      "Último elemento de la tupla: True\n",
      "Subtupla (índices 1 a 3): (2, 3, 'Python')\n",
      "Tupla concatenada: (1, 2, 3, 4, 5, 6)\n",
      "Tupla convertida desde lista: (1, 2, 3, 4)\n"
     ]
    }
   ],
   "source": [
    "# Puedes acceder a cada elemento de la tupla por su índice\n",
    "tupla_varios_elementos = (1, 2, 3, \"Python\", True)\n",
    "\n",
    "print(\"Primer elemento de la tupla:\", tupla_varios_elementos[0])\n",
    "print(\"Segundo elemento de la tupla:\", tupla_varios_elementos[1])\n",
    "print(\"Último elemento de la tupla:\", tupla_varios_elementos[-1])\n",
    "\n",
    "# Puedes usar slicing para obtener una subtupla\n",
    "print(\"Subtupla (índices 1 a 3):\", tupla_varios_elementos[1:4])\n",
    "\n",
    "# Puedes concatenar tuplas\n",
    "tupla1 = (1, 2, 3)\n",
    "tupla2 = (4, 5, 6)\n",
    "tupla_concatenada = tupla1 + tupla2\n",
    "print(\"Tupla concatenada:\", tupla_concatenada)\n",
    "\n",
    "# No puedes reasignar un elemento, ya que son inmutables:\n",
    "# tupla_varios_elementos[0] = 10  # Esto generará un error\n",
    "# Puedes convertir una lista en una tupla\n",
    "lista = [1, 2, 3, 4]\n",
    "tupla_convertida = tuple(lista)\n",
    "print(\"Tupla convertida desde lista:\", tupla_convertida)"
   ]
  },
  {
   "cell_type": "markdown",
   "id": "0b683ea9",
   "metadata": {},
   "source": [
    "## 3.3 Métodos de las tuplas\n",
    "\n",
    "Las tuplas tienen métodos muy limitados, principalmente:\n",
    "\n",
    "* count(valor): cuenta cuántas veces aparece valor en la tupla.\n",
    "\n",
    "* index(valor): devuelve el índice de la primera aparición de valor."
   ]
  },
  {
   "cell_type": "code",
   "execution_count": 9,
   "id": "1f351a71",
   "metadata": {},
   "outputs": [
    {
     "data": {
      "text/plain": [
       "4"
      ]
     },
     "execution_count": 9,
     "metadata": {},
     "output_type": "execute_result"
    }
   ],
   "source": [
    "tupla1 = (1, 2, 2, 2, 3, 1)\n",
    "tupla1.count(2)  # Cuenta cuántas veces aparece el número 2 en la tupla\n",
    "tupla1.index(3)  # Devuelve el índice del primer elemento que coincide con 3"
   ]
  },
  {
   "cell_type": "markdown",
   "id": "f97e67f7",
   "metadata": {},
   "source": [
    "## 3.4 Bonus Track: `zip` y `enumerate`\n",
    "\n",
    "Aunque no son métodos de las tuplas, `zip` y `enumerate` **generan** y **devuelven** tuplas al iterar sobre ellas, por eso se suelen explicar en este contexto.\n",
    "\n",
    "### `enumerate(iterable, start=0)`\n",
    "- Permite **\"enumerar\"** un iterable, devolviendo en cada iteración una tupla `(indice, valor)`.\n",
    "- Muy útil para obtener tanto el índice como el valor en un bucle `for`.\n",
    "\n",
    "### `zip(*iterables)`\n",
    "- Combina varios iterables en una **secuencia de tuplas**.\n",
    "- En cada iteración, produce una tupla con el elemento correspondiente de cada iterable.\n",
    "\n",
    "Veamos ejemplos:\n"
   ]
  },
  {
   "cell_type": "code",
   "execution_count": null,
   "id": "30e1f340",
   "metadata": {},
   "outputs": [
    {
     "name": "stdout",
     "output_type": "stream",
     "text": [
      "Índice 1: manzana\n",
      "Índice 2: banana\n",
      "Índice 3: pera\n",
      "('Alice', 25, 'Madrid')\n",
      "('Bob', 30, 'Sevilla')\n",
      "('Charlie', 35, 'Barcelona')\n"
     ]
    }
   ],
   "source": [
    "# Ejemplo de enumerate\n",
    "frutas = [\"manzana\", \"banana\", \"pera\"]\n",
    "\n",
    "\n",
    "# Ejemplo de zip\n",
    "nombres = [\"Alice\", \"Bob\", \"Charlie\"]\n",
    "edades = [25, 30, 35]\n",
    "ciudades = [\"Madrid\", \"Sevilla\", \"Barcelona\"]\n",
    "\n"
   ]
  },
  {
   "cell_type": "code",
   "execution_count": 12,
   "id": "b09ae458",
   "metadata": {},
   "outputs": [
    {
     "name": "stdout",
     "output_type": "stream",
     "text": [
      "Nombre: Alice Edad: 25 Ciudad: Madrid\n",
      "Nombre: Bob Edad: 30 Ciudad: Sevilla\n",
      "Nombre: Charlie Edad: 35 Ciudad: Barcelona\n"
     ]
    }
   ],
   "source": [
    "for datos in zip(nombres, edades, ciudades):\n",
    "    print(\"Nombre: \" + str(datos[0]), \"Edad: \" + str(datos[1]), \"Ciudad: \" + str(datos[2]))\n"
   ]
  },
  {
   "cell_type": "code",
   "execution_count": null,
   "id": "01dc7148",
   "metadata": {},
   "outputs": [],
   "source": [
    "# Imaginemos el caso contrario, tenemos valores \"Nombre: Alice Edad: 25 Ciudad: Madrid\"\n",
    "# y queremos convertirlo a una lista de tuplas\n",
    "# Ejemplo de zip\n",
    "descripciones = [\"Nombre: Alice Edad: 25 Ciudad: Madrid\",\n",
    "                \"Nombre: Bob Edad: 30 Ciudad: Sevilla\",\n",
    "                \"Nombre: Charlie Edad: 35 Ciudad: Barcelona\"]\n",
    "\n",
    "nombres = []\n",
    "edades = []\n",
    "ciudades = []\n",
    "\n",
    "\n",
    "\n",
    "print(\"Nombres:\", nombres)\n",
    "print(\"Edades:\", edades)\n",
    "print(\"Ciudades:\", ciudades)\n",
    "\n",
    "#Otra forma de hacerlo sería usando list comprehension\n",
    "\n",
    "\n",
    "print(\"Nombres:\", nombres)\n",
    "print(\"Edades:\", edades)\n",
    "print(\"Ciudades:\", ciudades)\n"
   ]
  },
  {
   "cell_type": "markdown",
   "id": "19c76c12",
   "metadata": {},
   "source": []
  }
 ],
 "metadata": {
  "kernelspec": {
   "display_name": ".venv",
   "language": "python",
   "name": "python3"
  },
  "language_info": {
   "codemirror_mode": {
    "name": "ipython",
    "version": 3
   },
   "file_extension": ".py",
   "mimetype": "text/x-python",
   "name": "python",
   "nbconvert_exporter": "python",
   "pygments_lexer": "ipython3",
   "version": "3.12.8"
  }
 },
 "nbformat": 4,
 "nbformat_minor": 5
}
