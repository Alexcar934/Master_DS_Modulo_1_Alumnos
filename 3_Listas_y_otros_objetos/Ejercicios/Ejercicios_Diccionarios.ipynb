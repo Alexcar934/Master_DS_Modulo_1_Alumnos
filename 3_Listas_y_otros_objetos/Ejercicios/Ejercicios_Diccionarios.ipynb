{
 "cells": [
  {
   "cell_type": "markdown",
   "id": "1e431a76",
   "metadata": {},
   "source": [
    "## Ejercicios prácticos de Diccionarios\n",
    "\n",
    "A continuación, se proponen ejercicios con un **sentido lógico**, donde podrás poner en práctica la creación, acceso y manipulación de diccionarios."
   ]
  },
  {
   "cell_type": "markdown",
   "id": "dae7bf2c",
   "metadata": {},
   "source": [
    "### 1. Diccionario de traducciones\n",
    "\n",
    "Imagina que estás creando un pequeño **diccionario bilingüe** (Español → Inglés).  \n",
    "1. Crea un diccionario llamado `traducciones` con **3 palabras** como claves en español y sus traducciones en inglés como valores.  \n",
    "2. Muestra todas las **claves** (palabras en español) al usuario y pídele que introduzca una palabra en español (con `input()`).  \n",
    "3. Comprueba si la palabra está en el diccionario:  \n",
    "   - Si **existe**, muestra su traducción en inglés.  \n",
    "   - Si **no existe**, indica que no se encuentra en el diccionario.  \n",
    "4. Pregunta al usuario si desea **agregar** esa palabra al diccionario. Si responde que sí, pídele la traducción y añádela al diccionario.  \n",
    "5. Muestra el diccionario final.\n",
    "\n",
    "*Pistas:*\n",
    "- Usa `in` para verificar si una clave existe en el diccionario.  \n",
    "- Recuerda que para **insertar** o **actualizar** un par clave-valor se puede hacer con `diccionario[clave] = valor`.\n"
   ]
  },
  {
   "cell_type": "code",
   "execution_count": null,
   "id": "b71f7f6e",
   "metadata": {},
   "outputs": [],
   "source": []
  },
  {
   "cell_type": "markdown",
   "id": "8c33a94b",
   "metadata": {},
   "source": [
    "### 2. Registro de notas de alumnos\n",
    "\n",
    "Quieres llevar un pequeño **registro** de los alumnos y sus **notas**.  \n",
    "1. Crea un diccionario vacío llamado `notas_alumnos`.  \n",
    "2. En un **bucle** `while True`, pide al usuario que introduzca:  \n",
    "   - El nombre del alumno.  \n",
    "   - La nota del alumno (un número).  \n",
    "3. Almacena esa información en el diccionario `notas_alumnos` (la clave será el nombre y el valor será la nota).  \n",
    "4. Pregunta al usuario si desea **agregar otro alumno**.  \n",
    "   - Si contesta `\"no\"` (o `\"No\"`, ignorando mayúsculas/minúsculas), rompe el bucle.  \n",
    "5. Después de salir del bucle, recorre el diccionario y **muestra** por pantalla un mensaje del tipo:  "
   ]
  },
  {
   "cell_type": "code",
   "execution_count": null,
   "id": "8512bb0d",
   "metadata": {},
   "outputs": [],
   "source": []
  },
  {
   "cell_type": "markdown",
   "id": "e08c64f1",
   "metadata": {},
   "source": [
    "### 3. Estadísticas de caracteres en una cadena\n",
    "\n",
    "1. Pide al usuario que escriba una **frase** (o varias).  \n",
    "2. Crea un diccionario llamado `conteo_caracteres` que guarde la **cantidad de veces** que aparece cada carácter en la frase.  \n",
    "- Para cada carácter en la frase:  \n",
    "  - Si ya existe como clave, incrementa su valor.  \n",
    "  - Si no, añádelo con valor `1`.  \n",
    "3. Ignora mayúsculas/minúsculas convirtiendo la frase a minúsculas antes de contar.  \n",
    "4. Muestra el resultado en pantalla, por ejemplo:  "
   ]
  },
  {
   "cell_type": "code",
   "execution_count": null,
   "id": "2006289c",
   "metadata": {},
   "outputs": [],
   "source": []
  },
  {
   "cell_type": "markdown",
   "id": "ad8eadd2",
   "metadata": {},
   "source": [
    "5. (Opcional) Excluye los **espacios** en blanco de la cuenta si lo deseas (puedes usar un condicional que no cuente los espacios).\n",
    "\n",
    "---\n",
    "\n",
    "### 4. Control de inventario\n",
    "\n",
    "Imagina que gestionas un almacén con productos y cantidades en stock.  \n",
    "1. Define un diccionario `inventario` con algunas **claves** como `\"manzanas\"`, `\"naranjas\"`, `\"leche\"`, asociadas a números que representen la **cantidad** disponible.  \n",
    "2. Muestra un **menú** (usando un bucle `while`) con opciones:  \n",
    "1. `\"1. Ver inventario\"`  \n",
    "2. `\"2. Añadir producto\"`  \n",
    "3. `\"3. Actualizar stock de un producto\"`  \n",
    "4. `\"4. Eliminar producto\"`  \n",
    "5. `\"5. Salir\"`  \n",
    "3. Según la opción elegida:  \n",
    "- **Ver inventario**: Recorre el diccionario e imprime producto y cantidad.  \n",
    "- **Añadir producto**: Pide el nombre del producto y la cantidad. Añádelo al diccionario (si ya existía, avisa al usuario o actualiza la cantidad).  \n",
    "- **Actualizar stock**: Pide el nombre del producto. Si existe, pide la nueva cantidad y actualiza el valor en el diccionario. Si no existe, indícalo por pantalla.  \n",
    "- **Eliminar producto**: Pide el nombre del producto y, si existe en el diccionario, elimínalo. Si no existe, indícalo.  \n",
    "- **Salir**: Rompe el bucle.  \n",
    "4. Muestra el diccionario final cuando el usuario salga."
   ]
  },
  {
   "cell_type": "code",
   "execution_count": null,
   "id": "fdc5b966",
   "metadata": {},
   "outputs": [],
   "source": []
  },
  {
   "cell_type": "markdown",
   "id": "1cb62273",
   "metadata": {},
   "source": [
    "\n",
    "\n",
    "### 5: Gestión de productos y precios\n",
    "Imagina que tienes un diccionario que relaciona nombres de productos con sus precios, por ejemplo:\n",
    "\n",
    "```python\n",
    "precios = {\n",
    "    \"manzanas\": 1.5,\n",
    "    \"naranjas\": 2.0,\n",
    "    \"leche\": 2.5\n",
    "}\n",
    "```\n",
    "El usuario te pide saber el precio de \"naranjas\". Muéstralo por pantalla (usando get o []).\n",
    "\n",
    "Añade un nuevo producto \"yogur\" con un precio de 1.2.\n",
    "\n",
    "Cambia el precio de las \"manzanas\" a 1.75.\n",
    "\n",
    "Elimina el producto \"leche\" de la lista porque ya no lo vas a vender.\n",
    "\n",
    "Muestra todos los productos disponibles (claves) y sus precios (valores) de manera clara.\n"
   ]
  },
  {
   "cell_type": "code",
   "execution_count": null,
   "id": "8a8ab1a9",
   "metadata": {},
   "outputs": [],
   "source": []
  }
 ],
 "metadata": {
  "kernelspec": {
   "display_name": ".venv",
   "language": "python",
   "name": "python3"
  },
  "language_info": {
   "name": "python",
   "version": "3.12.8"
  }
 },
 "nbformat": 4,
 "nbformat_minor": 5
}
