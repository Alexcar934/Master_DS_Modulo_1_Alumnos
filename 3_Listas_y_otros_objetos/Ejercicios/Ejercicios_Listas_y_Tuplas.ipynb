{
 "cells": [
  {
   "cell_type": "markdown",
   "id": "844c47c1",
   "metadata": {},
   "source": [
    "## Ejercicios Prácticos de Listas\n",
    "\n",
    "### 1. Gestión de inventario de productos\n",
    "\n",
    "1. Crea una lista llamada `inventario` que contenga algunos nombres de productos, por ejemplo:  \n",
    "   \n",
    "   `inventario = [\"manzanas\", \"naranjas\", \"peras\", \"leche\"]`\n",
    "\n",
    "Decide que necesitas añadir \"huevos\" al final de la lista. Usa el método append().\n",
    "\n",
    "Realiza un slicing para obtener los productos que van desde el índice 1 al 3 (sin incluir el 3) e imprímelos.\n",
    "\n",
    "Resulta que te has quedado sin \"leche\" y debes eliminarla de la lista. Usa remove() para quitar \"leche\".\n",
    "\n",
    "Te han enviado otra lista llamada nuevos_productos = [\"café\", \"azúcar\"]. Usa extend() para añadirlos al inventario.\n",
    "\n",
    "Finalmente, muestra la lista resultante y su longitud.\n"
   ]
  },
  {
   "cell_type": "code",
   "execution_count": null,
   "id": "28d6f83d",
   "metadata": {},
   "outputs": [],
   "source": []
  },
  {
   "cell_type": "markdown",
   "id": "3b6844a5",
   "metadata": {},
   "source": [
    "### 2. Calcular estadísticas de notas\n",
    "Imagina que estás gestionando las notas de un grupo de estudiantes.\n",
    "\n",
    "Crea una lista llamada notas con valores numéricos que representen distintas calificaciones, por ejemplo:\n",
    "\n",
    "`notas = [7, 9, 5, 10, 6, 7, 8, 9]`\n",
    "\n",
    "Deseas saber cuántos estudiantes obtuvieron la nota 7. Usa count() para mostrarlo por pantalla.\n",
    "\n",
    "Muestra por pantalla la nota más alta sin usar la función max(), sino que primero ordenas la lista (cópiala si no quieres perder el orden original) y luego tomas el último elemento con slicing.\n",
    "\n",
    "Crea una list comprehension que genere una nueva lista notas_aprobadas con las notas mayores o iguales a 5. Muestra dicha lista.\n",
    "\n",
    "(Opcional) Ordena la lista original con sort() en orden descendente y muestra el resultado."
   ]
  },
  {
   "cell_type": "code",
   "execution_count": null,
   "id": "5bac2fa5",
   "metadata": {},
   "outputs": [],
   "source": []
  },
  {
   "cell_type": "markdown",
   "id": "765c35cf",
   "metadata": {},
   "source": [
    "## 3. Creación de un menú de tareas pendientes\n",
    "Crea una lista llamada tareas que contenga algunas tareas iniciales, por ejemplo:\n",
    "\n",
    "tareas = [\"limpiar\", \"estudiar\", \"hacer la compra\"]\n",
    "Inserta la tarea \"pagar facturas\" en la posición 1 con insert().\n",
    "\n",
    "Usa pop() para extraer la última tarea de la lista y guardar el valor en una variable tarea_realizada. Imprime un mensaje como: \"Acabo de finalizar la tarea: <tarea_realizada>\".\n",
    "\n",
    "Haz un slicing para mostrar solo las primeras dos tareas que queden en la lista.\n",
    "\n",
    "Crea una list comprehension que convierta todas las tareas a mayúsculas y guárdala en una lista llamada tareas_mayusculas. Muestra el resultado."
   ]
  },
  {
   "cell_type": "code",
   "execution_count": null,
   "id": "c89b7063",
   "metadata": {},
   "outputs": [],
   "source": []
  },
  {
   "cell_type": "markdown",
   "id": "687da53f",
   "metadata": {},
   "source": [
    "## 4. Bonus Track: Menú interactivo con while y condicionales\n",
    "Crea un pequeño programa que gestione una lista de contactos con nombres (o puede ser otro tipo de datos). Debe funcionar de la siguiente forma:\n",
    "\n",
    "Empieza con una lista vacía contactos = [].\n",
    "\n",
    "Muestra un menú en pantalla con opciones:\n",
    "\n",
    "markdown\n",
    "Copiar\n",
    "Editar\n",
    "1. Añadir contacto\n",
    "2. Mostrar contactos\n",
    "3. Buscar contacto\n",
    "4. Eliminar contacto\n",
    "5. Salir\n",
    "Usa un bucle while para que, hasta que el usuario elija la opción 5 (Salir), se repitan las siguientes acciones:\n",
    "\n",
    "Opción 1: Pide al usuario que introduzca un nombre y añádelo a la lista con append().\n",
    "\n",
    "Opción 2: Muestra la lista de contactos. (Si está vacía, indica “No hay contactos”.)\n",
    "\n",
    "Opción 3: Pide un nombre a buscar en la lista. Si existe, indica su índice (usando index()). Si no existe, indica “No encontrado”.\n",
    "\n",
    "Opción 4: Pide un nombre a eliminar. Si existe en la lista, elimínalo con remove(). Si no existe, indica “Ese contacto no está en la lista”.\n",
    "\n",
    "Opción 5: Muestra “Saliendo del programa” y rompe el bucle.\n",
    "\n",
    "Asegúrate de gestionar posibles errores (por ejemplo, si el usuario pide eliminar un contacto que no existe).\n",
    "\n",
    "Valida el input del usuario para que si introduce una opción no válida, se le avise y se muestre el menú otra vez.\n",
    "\n",
    "Pista: Recuerda que input() siempre devuelve strings. Para convertir a número, usa int(input()). Para comparaciones con nombres, trabajarás con strings."
   ]
  },
  {
   "cell_type": "markdown",
   "id": "4ebc52cc",
   "metadata": {},
   "source": [
    "## Ejercicios de práctica (Tuplas, `enumerate` y `zip`)\n",
    "\n",
    "1. **Crear y acceder**  \n",
    "   - Crea una tupla con 5 elementos.  \n",
    "   - Imprime el segundo y cuarto elemento.  \n",
    "   - Realiza un slicing para obtener los elementos del índice 1 al 3 (sin incluir el 3).\n",
    "\n",
    "\n"
   ]
  },
  {
   "cell_type": "code",
   "execution_count": null,
   "id": "0d70f005",
   "metadata": {},
   "outputs": [],
   "source": []
  },
  {
   "cell_type": "markdown",
   "id": "dfd2eafe",
   "metadata": {},
   "source": [
    "2. **Cuántas veces**  \n",
    "   - Dada la tupla `repetidos = (4, 4, 7, 4, 9, 7, 4)`,  \n",
    "     usa `count()` para saber cuántas veces aparece `4`.  \n",
    "     Usa `index()` para saber la posición de la primera aparición de `7`.\n"
   ]
  },
  {
   "cell_type": "code",
   "execution_count": null,
   "id": "b3288557",
   "metadata": {},
   "outputs": [],
   "source": []
  },
  {
   "cell_type": "markdown",
   "id": "0d7322dd",
   "metadata": {},
   "source": [
    "\n",
    "3. **Enumerar**  \n",
    "   - Tienes la lista `nombres = [\"Ana\", \"Luis\", \"Marta\", \"Pedro\"]`.  \n",
    "   - Usa `enumerate()` para **iterar** sobre esta lista e imprimir por pantalla:  \n",
    "     ```\n",
    "     Persona 1: Ana\n",
    "     Persona 2: Luis\n",
    "     ...\n",
    "     ```\n",
    "   - Recuerda que puedes poner `start=1` si quieres enumerar desde 1.\n",
    "\n"
   ]
  },
  {
   "cell_type": "code",
   "execution_count": null,
   "id": "903be3ab",
   "metadata": {},
   "outputs": [],
   "source": []
  },
  {
   "cell_type": "markdown",
   "id": "b00181fe",
   "metadata": {},
   "source": [
    "4. **Zip**  \n",
    "   - Tienes estas dos listas:  \n",
    "     ```python\n",
    "     marcas = [\"Ford\", \"Volkswagen\", \"Audi\", \"Seat\"]\n",
    "     paises = [\"EEUU\", \"Alemania\", \"Alemania\", \"España\"]\n",
    "     ```\n",
    "   - Usando `zip()`, imprime en pantalla tuplas del tipo:  \n",
    "     ```\n",
    "     (\"Ford\", \"EEUU\")\n",
    "     (\"Volkswagen\", \"Alemania\")\n",
    "     ...\n",
    "     ```\n",
    "   - Después, convierte el resultado de `zip(marcas, paises)` en una **lista de tuplas** (usa `list()`)."
   ]
  },
  {
   "cell_type": "code",
   "execution_count": null,
   "id": "d723e5fd",
   "metadata": {},
   "outputs": [],
   "source": []
  }
 ],
 "metadata": {
  "language_info": {
   "name": "python"
  }
 },
 "nbformat": 4,
 "nbformat_minor": 5
}
