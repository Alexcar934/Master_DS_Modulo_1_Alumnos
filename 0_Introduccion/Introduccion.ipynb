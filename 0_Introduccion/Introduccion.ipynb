{
 "cells": [
  {
   "cell_type": "markdown",
   "metadata": {},
   "source": [
    "# 🐍 Instalación de Python\n",
    "\n",
    "Para trabajar con Python localmente necesitás instalarlo en tu sistema operativo.\n",
    "\n",
    "👉 Descargá Python desde la página oficial:  \n",
    "https://www.python.org/downloads/\n",
    "\n",
    "🔹 Asegurate de marcar la opción: **\"Add Python to PATH\"** antes de instalar.\n",
    "\n",
    "Una vez instalado, podés verificarlo desde tu terminal/cmd:\n",
    "\n",
    "```bash\n",
    "python --version\n",
    "# o en algunos sistemas:\n",
    "python3 --version\n"
   ]
  },
  {
   "cell_type": "code",
   "execution_count": null,
   "metadata": {},
   "outputs": [],
   "source": [
    "print('Hola mundo')"
   ]
  },
  {
   "cell_type": "markdown",
   "metadata": {},
   "source": [
    "\n",
    "---\n",
    "\n",
    "### 🧪 Crear un entorno virtual (opcional pero recomendado)\n",
    "\n",
    "```markdown\n",
    "# 🧪 Crear un entorno virtual\n",
    "\n",
    "Un entorno virtual permite aislar los paquetes de un proyecto para evitar conflictos.\n",
    "\n",
    "### Crear entorno virtual\n",
    "\n",
    "```bash\n",
    "python -m venv venv\n",
    "\n",
    "En Windows\n",
    "venv\\Scripts\\activate\n",
    "\n",
    "En Mac/Linux:\n",
    "source venv/bin/activate\n"
   ]
  },
  {
   "cell_type": "markdown",
   "metadata": {},
   "source": [
    "\n",
    "---\n",
    "\n",
    "### 📚 Instalación de Jupyter Notebook\n",
    "\n",
    "```markdown\n",
    "# 📚 Instalación de Jupyter Notebook\n",
    "\n",
    "Con tu entorno virtual activo, instalá Jupyter con pip:\n",
    "\n",
    "```bash\n",
    "pip install notebook\n",
    "\n",
    "Luego ejecutar en la cmd: jupyter notebook"
   ]
  },
  {
   "cell_type": "markdown",
   "metadata": {},
   "source": [
    "\n",
    "---\n",
    "\n",
    "### ⚙️ Configuración recomendada del entorno de desarrollo\n",
    "\n",
    "```markdown\n",
    "# ⚙️ Configuración del entorno de desarrollo\n",
    "\n",
    "Para tener una buena experiencia de desarrollo, te recomendamos:\n",
    "\n",
    "### Opción 1: Usar Jupyter Notebook directamente\n",
    "- Ideal para experimentar, visualizar y hacer pruebas rápidas.\n",
    "\n",
    "### Opción 2: Usar VS Code + Jupyter\n",
    "1. Instalar Visual Studio Code: https://code.visualstudio.com\n",
    "2. Instalar la extensión de Jupyter dentro de VS Code.\n",
    "3. Abrir tu entorno virtual desde VS Code y trabajar desde allí con notebooks o scripts `.py`.\n",
    "\n",
    "---\n",
    "\n",
    "También podés usar otras herramientas como PyCharm, Thonny, o Google Colab si preferís una experiencia en la nube.\n"
   ]
  },
  {
   "cell_type": "markdown",
   "metadata": {},
   "source": []
  },
  {
   "cell_type": "markdown",
   "metadata": {},
   "source": [
    "### Built-in functions"
   ]
  },
  {
   "cell_type": "code",
   "execution_count": 5,
   "metadata": {},
   "outputs": [
    {
     "name": "stdout",
     "output_type": "stream",
     "text": [
      "Hola mundo\n",
      "10\n"
     ]
    },
    {
     "data": {
      "text/plain": [
       "' '"
      ]
     },
     "execution_count": 5,
     "metadata": {},
     "output_type": "execute_result"
    }
   ],
   "source": [
    "print('Hola mundo')\n",
    "print(len('Hola mundo'))\n",
    "min('Hola mundo')\n"
   ]
  }
 ],
 "metadata": {
  "kernelspec": {
   "display_name": "Python 3",
   "language": "python",
   "name": "python3"
  },
  "language_info": {
   "codemirror_mode": {
    "name": "ipython",
    "version": 3
   },
   "file_extension": ".py",
   "mimetype": "text/x-python",
   "name": "python",
   "nbconvert_exporter": "python",
   "pygments_lexer": "ipython3",
   "version": "3.12.7"
  }
 },
 "nbformat": 4,
 "nbformat_minor": 2
}
