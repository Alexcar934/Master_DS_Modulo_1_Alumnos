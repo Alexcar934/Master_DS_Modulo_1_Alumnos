{
 "cells": [
  {
   "cell_type": "markdown",
   "id": "7fe73394",
   "metadata": {},
   "source": [
    "# ⚡ Configuración del entorno virtual con `uv`\n",
    "\n",
    "[`uv`](https://github.com/astral-sh/uv) es una herramienta moderna, rápida y eficiente para gestionar entornos virtuales y dependencias en Python. Sustituye a `pip`, `virtualenv` y `pip-tools`.\n",
    "\n",
    "---\n",
    "\n",
    "## 🧪 Paso 1: Instalar `uv`\n",
    "\n",
    "Instala `uv` usando `pip`:\n",
    "\n"
   ]
  },
  {
   "cell_type": "markdown",
   "id": "38fc86b4",
   "metadata": {},
   "source": [
    "```pip install uv```"
   ]
  },
  {
   "cell_type": "markdown",
   "id": "b904b444",
   "metadata": {},
   "source": [
    "\n",
    "---\n",
    "\n",
    "## 🧪 Paso 2: Crear un entorno virtual\n",
    "\n",
    "Ejecuta el siguiente comando para crear un entorno virtual en tu proyecto:\n",
    "\n"
   ]
  },
  {
   "cell_type": "markdown",
   "id": "e5d49ebc",
   "metadata": {},
   "source": [
    "```uv venv```"
   ]
  },
  {
   "cell_type": "markdown",
   "id": "16bfef8b",
   "metadata": {},
   "source": [
    "\n",
    "Esto creará una carpeta llamada `.venv/` que contendrá tu entorno virtual.\n",
    "\n",
    "---\n",
    "\n",
    "## ▶️ Paso 3: Activar el entorno virtual\n",
    "\n",
    "### En **Mac/Linux**:\n",
    "\n"
   ]
  },
  {
   "cell_type": "markdown",
   "id": "e243bb74",
   "metadata": {},
   "source": [
    "```source .venv/bin/activate```"
   ]
  },
  {
   "cell_type": "markdown",
   "id": "80952c03",
   "metadata": {},
   "source": [
    "\n",
    "### En **Windows** (cmd o PowerShell):\n",
    "\n"
   ]
  },
  {
   "cell_type": "markdown",
   "id": "a45397fb",
   "metadata": {},
   "source": [
    "```.venv\\Scripts\\activate```"
   ]
  },
  {
   "cell_type": "markdown",
   "id": "403912b0",
   "metadata": {},
   "source": [
    "\n",
    "Cuando el entorno esté activado, verás algo como `(venv)` al principio de la línea en la terminal.\n",
    "\n",
    "---\n",
    "\n",
    "## 🧪 Paso 4: Inicializar el proyecto con una versión específica de Python\n",
    "\n",
    "Puedes indicar la versión de Python que deseas utilizar (por ejemplo, la 3.12):\n",
    "\n"
   ]
  },
  {
   "cell_type": "markdown",
   "id": "301c8c74",
   "metadata": {},
   "source": [
    "```uv init --python 3.12```"
   ]
  },
  {
   "cell_type": "markdown",
   "id": "2f32f872",
   "metadata": {},
   "source": [
    "\n",
    "Este comando generará un archivo `uv.toml` con la configuración del entorno.\n",
    "\n",
    "---\n",
    "\n",
    "## 📦 Paso 5: Instalar dependencias\n",
    "\n",
    "### Para instalar un paquete concreto (por ejemplo, `pandas`):\n",
    "\n"
   ]
  },
  {
   "cell_type": "markdown",
   "id": "fff60515",
   "metadata": {},
   "source": [
    "```uv add pandas```"
   ]
  },
  {
   "cell_type": "markdown",
   "id": "a07a1257",
   "metadata": {},
   "source": [
    "\n",
    "### Para instalar desde un archivo `requirements.txt`:\n",
    "\n"
   ]
  },
  {
   "cell_type": "markdown",
   "id": "ba629411",
   "metadata": {},
   "source": [
    "`uv add -r requirements.txt`"
   ]
  },
  {
   "cell_type": "markdown",
   "id": "a274280c",
   "metadata": {},
   "source": [
    "\n",
    "Esto instalará todas las dependencias indicadas y generará automáticamente un archivo `uv.lock` que garantiza que el entorno sea reproducible en otros equipos.\n",
    "\n",
    "---\n",
    "\n",
    "✅ ¡Listo! Ya tienes tu entorno configurado y preparado para desarrollar en Python utilizando una herramienta moderna, rápida y eficiente.\n"
   ]
  }
 ],
 "metadata": {
  "language_info": {
   "name": "python"
  }
 },
 "nbformat": 4,
 "nbformat_minor": 5
}
