{
 "cells": [
  {
   "cell_type": "markdown",
   "metadata": {},
   "source": [
    "# Clase de Python: Bucles\n",
    "\n",
    "> Este cuaderno está orientado a estudiantes que ya conocen:\n",
    "> - Tipos de datos básicos (`int`, `float`, `str`).\n",
    "> - Operadores aritméticos y lógicos.\n",
    "> - Condicionales (`if`, `elif`, `else`).\n",
    "> - Uso básico de la función `input()`.\n",
    "\n",
    "En esta sesión nos enfocaremos en **bucles** (`for`, `while`), y repasaremos también cómo integrar todo lo visto (operadores, condicionales, `input`, etc.) dentro de los bucles.\n",
    "\n",
    "---\n",
    "\n",
    "## 0. Configuración previa\n",
    "\n",
    "En ocasiones podríamos necesitar importar librerías, aunque para este curso básico no es imprescindible.\n",
    "\n",
    "```python\n",
    "# import math  # Ejemplo, no es obligatorio\n"
   ]
  },
  {
   "cell_type": "markdown",
   "metadata": {},
   "source": [
    "## 1. Bucles en Python\n",
    "\n",
    "### 1.1. El bucle `while`\n",
    "\n",
    "El bucle `while` se ejecuta **mientras** la condición sea verdadera.\n",
    "\n",
    "```python\n",
    "while condicion:\n",
    "    # bloque de código\n"
   ]
  },
  {
   "cell_type": "code",
   "execution_count": null,
   "metadata": {},
   "outputs": [],
   "source": [
    "contador = 0\n",
    "while contador < 5:\n",
    "    print(\"Contador vale:\", contador)\n",
    "    contador = contador + 1\n",
    "\n",
    "print(\"Fin del bucle. Valor final de contador:\", contador)\n"
   ]
  },
  {
   "cell_type": "markdown",
   "metadata": {},
   "source": [
    "Observaciones\n",
    "\n",
    "* Controlamos la variable de la condición para evitar bucles infinitos.\n",
    "\n",
    "* Podemos usar condicionales dentro del bucle"
   ]
  },
  {
   "cell_type": "code",
   "execution_count": 2,
   "metadata": {},
   "outputs": [
    {
     "name": "stdout",
     "output_type": "stream",
     "text": [
      "Adivina el número (entre 1 y 5).\n",
      "Incorrecto. ¡Sigue intentando!\n",
      "¡Acertaste! Intentos realizados: 2\n",
      "El número secreto era 2.\n"
     ]
    }
   ],
   "source": [
    "import random\n",
    "numero_secreto = random.randint(1, 5)\n",
    "\n",
    "print(\"Adivina el número (entre 1 y 5).\")\n",
    "intentos = 0\n",
    "intento = None  # Inicializamos con un valor distinto al secreto\n",
    "\n",
    "while intento != numero_secreto:\n",
    "    intento = int(input(\"Ingresa un número: \"))\n",
    "    intentos += 1\n",
    "\n",
    "    if intento == numero_secreto:\n",
    "        print(\"¡Acertaste! Intentos realizados:\", intentos)\n",
    "        print(f\"El número secreto era {numero_secreto}.\")\n",
    "    else:\n",
    "        print(\"Incorrecto. ¡Sigue intentando!\")\n"
   ]
  },
  {
   "cell_type": "markdown",
   "metadata": {},
   "source": [
    "### 🔁 Palabras clave dentro de un `while`: `break`, `continue` y `pass`\n",
    "\n",
    "#### `break`:\n",
    "Interrumpe el bucle **inmediatamente**, sin importar si la condición sigue siendo verdadera o no.\n"
   ]
  },
  {
   "cell_type": "code",
   "execution_count": null,
   "metadata": {},
   "outputs": [],
   "source": [
    "contador = 0\n",
    "while True:\n",
    "    if contador == 3:\n",
    "        break  # Salimos del bucle al llegar a 3\n",
    "    print(\"Valor de contador:\", contador)\n",
    "    contador += 1\n",
    "print(\"Bucle interrumpido con break.\")"
   ]
  },
  {
   "cell_type": "markdown",
   "metadata": {},
   "source": [
    "#### `continue`:\n",
    "Hace que el bucle **salte directamente a la siguiente iteración**, omitiendo el resto del bloque en la iteración actual."
   ]
  },
  {
   "cell_type": "code",
   "execution_count": 1,
   "metadata": {},
   "outputs": [
    {
     "name": "stdout",
     "output_type": "stream",
     "text": [
      "Contador (sin mostrar el 3): 1\n",
      "Contador (sin mostrar el 3): 2\n",
      "Contador (sin mostrar el 3): 4\n",
      "Contador (sin mostrar el 3): 5\n"
     ]
    }
   ],
   "source": [
    "# Ejemplo con 'continue'\n",
    "contador = 0\n",
    "while contador < 5:\n",
    "    contador += 1\n",
    "    if contador == 3:\n",
    "        continue  # Saltamos la impresión cuando contador es 3\n",
    "    print(\"Contador (sin mostrar el 3):\", contador)\n"
   ]
  },
  {
   "cell_type": "markdown",
   "metadata": {},
   "source": [
    "#### `pass`:\n",
    "Es un **\"no hacer nada\"**. Se utiliza cuando se requiere un bloque de código pero no queremos o no necesitamos poner lógica dentro de él aún"
   ]
  },
  {
   "cell_type": "code",
   "execution_count": 2,
   "metadata": {},
   "outputs": [
    {
     "name": "stdout",
     "output_type": "stream",
     "text": [
      "x vale: 0\n",
      "x vale: 1\n",
      "x vale: 2\n",
      "x vale: 3\n",
      "x vale: 4\n"
     ]
    }
   ],
   "source": [
    "# Ejemplo con 'pass'\n",
    "x = 0\n",
    "while x < 5:\n",
    "    if x == 2:\n",
    "        pass  # Marca un bloque donde no hacemos nada\n",
    "    print(\"x vale:\", x)\n",
    "    x += 1\n"
   ]
  },
  {
   "cell_type": "markdown",
   "metadata": {},
   "source": [
    "#### Potencial de `while True` + `break`"
   ]
  },
  {
   "cell_type": "code",
   "execution_count": null,
   "metadata": {},
   "outputs": [
    {
     "name": "stdout",
     "output_type": "stream",
     "text": [
      "Adivina el número (entre 1 y 5).\n",
      "Incorrecto. ¡Sigue intentando!\n",
      "Incorrecto. ¡Sigue intentando!\n",
      "Incorrecto. ¡Sigue intentando!\n",
      "Incorrecto. ¡Sigue intentando!\n",
      "¡Acertaste! Intentos realizados: 5\n"
     ]
    }
   ],
   "source": [
    "import random\n",
    "numero_secreto = random.randint(1, 5)\n",
    "\n",
    "print(\"Adivina el número (entre 1 y 5).\")\n",
    "intentos = 0\n"
   ]
  },
  {
   "cell_type": "markdown",
   "metadata": {},
   "source": [
    "### 🧠 Ejercicio Extra: Adivina el número con límite de intentos (sin usar `break`)\n",
    "\n",
    "#### Objetivo:\n",
    "Crear un juego donde el usuario intenta adivinar un número secreto entre 1 y 5, pero solo tiene **5 intentos** para lograrlo.\n",
    "\n",
    "#### Requisitos:\n",
    "- El número secreto debe ser generado aleatoriamente.\n",
    "- El bucle debe funcionar **sin usar `break`**.\n",
    "- El programa debe terminar cuando:\n",
    "  - El usuario acierta el número, o\n",
    "  - Se acaban los intentos.\n",
    "- Mostrar mensajes distintos para cada caso."
   ]
  },
  {
   "cell_type": "code",
   "execution_count": null,
   "metadata": {},
   "outputs": [],
   "source": []
  }
 ],
 "metadata": {
  "kernelspec": {
   "display_name": ".venv",
   "language": "python",
   "name": "python3"
  },
  "language_info": {
   "codemirror_mode": {
    "name": "ipython",
    "version": 3
   },
   "file_extension": ".py",
   "mimetype": "text/x-python",
   "name": "python",
   "nbconvert_exporter": "python",
   "pygments_lexer": "ipython3",
   "version": "3.12.8"
  }
 },
 "nbformat": 4,
 "nbformat_minor": 2
}
