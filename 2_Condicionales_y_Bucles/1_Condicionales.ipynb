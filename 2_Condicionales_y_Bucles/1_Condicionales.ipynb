{
 "cells": [
  {
   "cell_type": "markdown",
   "metadata": {},
   "source": [
    "# Curso de Python - Condicionales\n",
    "\n",
    "¡Bienvenido/a a la clase sobre condicionales en Python! \n",
    "\n",
    "En esta sección aprenderás a:\n",
    "1. Entender la sintaxis básica de los condicionales `if`, `elif` y `else`.\n",
    "2. Utilizar operadores de comparación y operadores lógicos para construir expresiones condicionales más complejas.\n",
    "3. Realizar ejercicios prácticos para afianzar el conocimiento.\n",
    "\n",
    "---\n",
    "\n",
    "## 1. ¿Qué son los condicionales?\n",
    "\n",
    "En Python, los condicionales nos permiten ejecutar uno u otro bloque de código según se cumplan (o no) ciertas condiciones. La forma más básica de un condicional es la siguiente:\n",
    "\n",
    "```python\n",
    "if condición:\n",
    "    # código que se ejecuta si la condición es verdadera\n"
   ]
  },
  {
   "cell_type": "code",
   "execution_count": 1,
   "metadata": {},
   "outputs": [
    {
     "name": "stdout",
     "output_type": "stream",
     "text": [
      "Eres mayor de edad.\n"
     ]
    }
   ],
   "source": [
    "edad = 20\n",
    "\n",
    "if edad >= 18:\n",
    "    print(\"Eres mayor de edad.\")"
   ]
  },
  {
   "cell_type": "markdown",
   "metadata": {},
   "source": [
    "En este ejemplo, `edad >= 18` es la condición que evaluamos:\n",
    "- Si es `True` (verdadero), se ejecuta el bloque indentado de código.\n",
    "- Si es `False` (falso), se omite ese bloque.\n",
    "\n",
    "---\n",
    "\n",
    "## 2. Estructura if - else\n",
    "\n",
    "Muchas veces, además de ejecutar un bloque si la condición es verdadera, queremos ejecutar algo diferente si la condición es falsa. Para eso utilizamos `if ... else`:\n"
   ]
  },
  {
   "cell_type": "code",
   "execution_count": null,
   "metadata": {},
   "outputs": [],
   "source": [
    "# Ejemplo 2: Uso de if ... else\n",
    "edad = 16\n",
    "\n",
    "if edad >= 18:\n",
    "    print(\"Eres mayor de edad.\")\n",
    "else:\n",
    "    print(\"Eres menor de edad.\")\n"
   ]
  },
  {
   "cell_type": "markdown",
   "metadata": {},
   "source": [
    "- Si `edad >= 18` es verdadero, se ejecuta la primera impresión.\n",
    "- Si no lo es (es decir, es falso), se ejecuta el bloque dentro de `else`.\n",
    "\n",
    "---\n",
    "\n",
    "## 3. Estructura if - elif - else\n",
    "\n",
    "Cuando necesitamos comprobar múltiples condiciones distintas, podemos encadenar condicionales usando `elif`. Su sintaxis es:\n",
    "\n",
    "```python\n",
    "if condición_1:\n",
    "    # código si condición_1 es True\n",
    "elif condición_2:\n",
    "    # código si condición_2 es True\n",
    "elif condición_3:\n",
    "    # código si condición_3 es True\n",
    "else:\n",
    "    # código si ninguna condición anterior es True\n"
   ]
  },
  {
   "cell_type": "code",
   "execution_count": null,
   "metadata": {},
   "outputs": [],
   "source": [
    "calificacion = 85\n",
    "\n",
    "if calificacion >= 90:\n",
    "    print(\"Tienes una A\")\n",
    "elif calificacion >= 80:\n",
    "    print(\"Tienes una B\")\n",
    "elif calificacion >= 70:\n",
    "    print(\"Tienes una C\")\n",
    "else:\n",
    "    print(\"Necesitas estudiar más\")"
   ]
  },
  {
   "cell_type": "markdown",
   "metadata": {},
   "source": [
    "Observa que Python evalúa las condiciones de arriba hacia abajo, y ejecuta la primera que sea `True`. Si ninguna se cumple, se ejecuta el bloque de `else`.\n",
    "\n",
    "---\n",
    "\n",
    "## 4. Operadores de comparación y operadores lógicos\n",
    "\n",
    "Para construir nuestras condiciones podemos usar:\n",
    "\n",
    "### 4.1 Operadores de comparación\n",
    "- `==` (igual que)\n",
    "- `!=` (distinto que)\n",
    "- `>` (mayor que)\n",
    "- `<` (menor que)\n",
    "- `>=` (mayor o igual que)\n",
    "- `<=` (menor o igual que)\n",
    "\n",
    "### 4.2 Operadores lógicos\n",
    "- `and` (y) – todas las condiciones deben ser verdaderas.\n",
    "- `or` (o) – al menos una condición debe ser verdadera.\n",
    "- `not` (no) – invierte el valor de verdad de la condición.\n",
    "\n",
    "**Ejemplo con operadores lógicos:**\n"
   ]
  },
  {
   "cell_type": "code",
   "execution_count": null,
   "metadata": {},
   "outputs": [
    {
     "name": "stdout",
     "output_type": "stream",
     "text": [
      "El número está entre 5 y 15\n"
     ]
    }
   ],
   "source": [
    "# Ejemplo 4: Uso de operadores lógicos\n",
    "numero = 10\n",
    "\n"
   ]
  },
  {
   "cell_type": "markdown",
   "metadata": {},
   "source": [
    "---\n",
    "\n",
    "## 5. Ejercicios Prácticos\n",
    "\n",
    "Es hora de practicar. A continuación encontrarás varios ejercicios para reforzar lo aprendido.\n",
    "\n",
    "### Ejercicio 1\n",
    "\n",
    "**Objetivo:** Pedirle al usuario que ingrese un número y verificar si es positivo, negativo o cero.\n",
    "\n",
    "**Pistas:**\n",
    "- Usa `if`, `elif` y `else`.\n",
    "- Recuerda convertir el dato de entrada (que es string) a entero con `int()`.\n",
    "\n",
    "Completa el siguiente bloque de código:\n"
   ]
  },
  {
   "cell_type": "code",
   "execution_count": null,
   "metadata": {},
   "outputs": [],
   "source": [
    "# TODO: Descomenta y completa el código\n",
    "# numero = int(input(\"Ingresa un número: \"))\n",
    "\n",
    "# if ...:\n",
    "#     print(\"El número es positivo.\")\n",
    "# elif ...:\n",
    "#     print(\"El número es negativo.\")\n",
    "# else:\n",
    "#     print(\"El número es cero.\")\n"
   ]
  },
  {
   "cell_type": "markdown",
   "metadata": {},
   "source": [
    "Prueba distintos valores: 0, un número positivo y uno negativo para verificar que funcione.\n",
    "\n",
    "---\n",
    "\n",
    "### Ejercicio 2\n",
    "\n",
    "**Objetivo:** Escribe un programa que pregunte la edad de una persona y responda:\n",
    "- Si la edad es mayor o igual a 18, imprime \"Puedes votar\".\n",
    "- Si la edad está entre 16 y 17, imprime \"Puedes votar con autorización\".\n",
    "- Si la edad es menor de 16, imprime \"No puedes votar todavía\".\n",
    "\n",
    "Completa el bloque de código a continuación:\n"
   ]
  },
  {
   "cell_type": "code",
   "execution_count": null,
   "metadata": {},
   "outputs": [],
   "source": [
    "# TODO: Descomenta y completa el código\n",
    "# edad = int(input(\"Ingresa tu edad: \"))\n",
    "\n",
    "# if ...:\n",
    "#     print(\"Puedes votar.\")\n",
    "# elif ...:\n",
    "#     print(\"Puedes votar con autorización.\")\n",
    "# else:\n",
    "#     print(\"No puedes votar todavía.\")\n"
   ]
  },
  {
   "cell_type": "markdown",
   "metadata": {},
   "source": [
    "---\n",
    "\n",
    "### Ejercicio 3\n",
    "\n",
    "**Objetivo:** Imaginemos que tenemos un sistema que valida contraseñas. Queremos que:\n",
    "- El programa pida al usuario una contraseña (un string).\n",
    "- Si la contraseña es `\"python123\"`, imprimir \"Acceso concedido\".\n",
    "- Si no, imprimir \"Acceso denegado\".\n",
    "\n",
    "Agrega un condicional que verifique la contraseña. Prueba con la correcta e incorrecta.\n"
   ]
  },
  {
   "cell_type": "code",
   "execution_count": null,
   "metadata": {},
   "outputs": [],
   "source": [
    "# TODO: Descomenta y completa el código\n",
    "# contraseña = input(\"Ingresa la contraseña: \")\n",
    "\n",
    "# if ...:\n",
    "#     print(\"Acceso concedido.\")\n",
    "# else:\n",
    "#     print(\"Acceso denegado.\")\n"
   ]
  },
  {
   "cell_type": "markdown",
   "metadata": {},
   "source": [
    "---\n",
    "\n",
    "## 6. Reto extra (opcional)\n",
    "\n",
    "**Objetivo:** Pide al usuario un número entre 1 y 12, correspondiente a los meses del año. \n",
    "- Si el número es 1, 2 o 3, imprime \"Primer trimestre del año\".\n",
    "- Si el número es 4, 5 o 6, imprime \"Segundo trimestre del año\".\n",
    "- Si es 7, 8 o 9, imprime \"Tercer trimestre del año\".\n",
    "- Si es 10, 11 o 12, imprime \"Cuarto trimestre del año\".\n",
    "- Si no está en ese rango, imprime \"Mes no válido\".\n",
    "\n",
    "**Pista:** Utiliza `if`, `elif` y `else`, junto con operadores de comparación y lógicos.\n",
    "\n",
    "\n",
    "\n"
   ]
  }
 ],
 "metadata": {
  "kernelspec": {
   "display_name": ".venv",
   "language": "python",
   "name": "python3"
  },
  "language_info": {
   "codemirror_mode": {
    "name": "ipython",
    "version": 3
   },
   "file_extension": ".py",
   "mimetype": "text/x-python",
   "name": "python",
   "nbconvert_exporter": "python",
   "pygments_lexer": "ipython3",
   "version": "3.12.8"
  }
 },
 "nbformat": 4,
 "nbformat_minor": 2
}
