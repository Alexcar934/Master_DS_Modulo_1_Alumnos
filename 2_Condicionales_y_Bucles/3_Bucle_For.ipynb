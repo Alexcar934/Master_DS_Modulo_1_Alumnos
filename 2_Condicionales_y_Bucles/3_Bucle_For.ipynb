{
 "cells": [
  {
   "cell_type": "markdown",
   "metadata": {},
   "source": [
    "# Clase de Python: Bucle `for`\n",
    "\n",
    "En esta clase profundizaremos en el **bucle `for`** de Python. Hasta ahora sabes qué es una lista de forma general, pero para entender mejor el `for`, conviene repasar brevemente qué es un **objeto iterable** en Python, y en concreto, qué es un **rango** (`range`).\n",
    "\n",
    "---\n",
    "\n",
    "## 1. ¿Qué es un iterable en Python?\n",
    "\n",
    "Un **iterable** es cualquier objeto que puede devolver sus elementos uno tras otro.  \n",
    "Ejemplos comunes:\n",
    "- Listas (`[1, 2, 3]`)\n",
    "- Tuplas (`(10, 20, 30)`)\n",
    "- Cadenas de texto (`\"Hola\"`)\n",
    "- Rango (`range(5)`, que representa 0, 1, 2, 3, 4)\n",
    "\n",
    "En pocas palabras, un iterable es algo que podemos **recorrer**. Con un bucle `for`, podemos iterar sobre cada uno de sus elementos de forma automática.\n"
   ]
  },
  {
   "cell_type": "code",
   "execution_count": null,
   "metadata": {},
   "outputs": [
    {
     "name": "stdout",
     "output_type": "stream",
     "text": [
      "<class 'list'>\n",
      "<class 'tuple'>\n",
      "[1, 3]\n",
      "<class 'range'>\n"
     ]
    }
   ],
   "source": [
    "lista_numeros = [1, 2, 3, 4, 5]\n",
    "tupla_numeros = (1, 2, 3, 4, 5)\n",
    "\n"
   ]
  },
  {
   "cell_type": "markdown",
   "metadata": {},
   "source": [
    "\n",
    "\n",
    "## 2. Sintaxis básica del `for`\n",
    "\n",
    "La forma más simple de escribir un bucle `for` en Python es:\n",
    "\n",
    "```python\n",
    "for elemento in iterable:\n",
    "    # bloque de código usando 'elemento'\n",
    "\n",
    "* elemento es una variable que irá tomando los valores del iterable en cada iteración.\n",
    "\n",
    "* iterable puede ser una lista, una cadena de texto, un range, etc."
   ]
  },
  {
   "cell_type": "markdown",
   "metadata": {},
   "source": [
    "### 2.1. Ejemplo con listas\n",
    "\n",
    "Supongamos que tenemos una lista con varias frutas:"
   ]
  },
  {
   "cell_type": "code",
   "execution_count": null,
   "metadata": {},
   "outputs": [
    {
     "name": "stdout",
     "output_type": "stream",
     "text": [
      "Fruta actual: manzana\n",
      "Fruta actual: banana\n",
      "Fruta actual: cereza\n"
     ]
    }
   ],
   "source": [
    "frutas = [\"manzana\", \"banana\", \"cereza\"]\n"
   ]
  },
  {
   "cell_type": "markdown",
   "metadata": {},
   "source": [
    "### Bonus: listas y .append\n",
    "\n",
    "De las cosas más útiles"
   ]
  },
  {
   "cell_type": "code",
   "execution_count": null,
   "metadata": {},
   "outputs": [
    {
     "name": "stdout",
     "output_type": "stream",
     "text": [
      "['MANZANA']\n",
      "['MANZANA', 'BANANA']\n",
      "['MANZANA', 'BANANA', 'CEREZA']\n",
      "Lista de frutas modificada: ['MANZANA', 'BANANA', 'CEREZA']\n"
     ]
    }
   ],
   "source": [
    "lista_frutas_modificada = []\n",
    "frutas = [\"manzana\", \"banana\", \"cereza\"]\n"
   ]
  },
  {
   "cell_type": "markdown",
   "metadata": {},
   "source": [
    "### 2.2. Ejemplo con cadenas de texto\n",
    "\n",
    "Una cadena (`str`) es un iterable de caracteres:"
   ]
  },
  {
   "cell_type": "code",
   "execution_count": null,
   "metadata": {},
   "outputs": [
    {
     "name": "stdout",
     "output_type": "stream",
     "text": [
      "Letra: P\n",
      "Letra: y\n",
      "Letra: t\n",
      "Letra: h\n",
      "Letra: o\n",
      "Letra: n\n"
     ]
    }
   ],
   "source": [
    "texto = \"Python\"\n",
    "\n"
   ]
  },
  {
   "cell_type": "markdown",
   "metadata": {},
   "source": [
    "## 3. ¿Qué es un rango y cómo se usa en Python?\n",
    "\n",
    "### 3.1. `range()`: generador de secuencias numéricas\n",
    "\n",
    "`range()` es una función que genera una secuencia de números. Esta secuencia es, a su vez, un **objeto iterable** en Python.\n",
    "\n",
    "Su forma más básica es:"
   ]
  },
  {
   "cell_type": "code",
   "execution_count": 8,
   "metadata": {},
   "outputs": [
    {
     "data": {
      "text/plain": [
       "range(0, 5)"
      ]
     },
     "execution_count": 8,
     "metadata": {},
     "output_type": "execute_result"
    }
   ],
   "source": [
    "range(5)"
   ]
  },
  {
   "cell_type": "markdown",
   "metadata": {},
   "source": [
    "### Sintaxis general de range(inicio, fin, paso)\n",
    "inicio: el primer número de la secuencia (por defecto es 0 si no se indica).\n",
    "\n",
    "fin: el número donde se detiene la secuencia (¡no se incluye!).\n",
    "\n",
    "paso: cuánto suma (o resta) entre un número y el siguiente (por defecto es 1)."
   ]
  },
  {
   "cell_type": "code",
   "execution_count": 9,
   "metadata": {},
   "outputs": [
    {
     "name": "stdout",
     "output_type": "stream",
     "text": [
      "2\n",
      "4\n",
      "6\n",
      "8\n"
     ]
    }
   ],
   "source": [
    "for i in range(2, 10, 2):\n",
    "    print(i)\n"
   ]
  },
  {
   "cell_type": "code",
   "execution_count": 10,
   "metadata": {},
   "outputs": [
    {
     "name": "stdout",
     "output_type": "stream",
     "text": [
      "i vale: 0\n",
      "i vale: 1\n",
      "i vale: 2\n",
      "i vale: 3\n",
      "i vale: 4\n"
     ]
    }
   ],
   "source": [
    "for i in range(5):\n",
    "    print(\"i vale:\", i)\n"
   ]
  },
  {
   "cell_type": "markdown",
   "metadata": {},
   "source": [
    "## 4. Mezclando `for` con condicionales\n",
    "\n",
    "En Python, puedes combinar un bucle `for` con estructuras condicionales (`if`, `else`, `elif`) para ejecutar acciones distintas dependiendo del valor que se esté recorriendo.\n",
    "\n",
    "Esto es muy útil cuando quieres hacer comprobaciones, filtrar elementos, aplicar reglas, etc.\n",
    "\n",
    "---\n",
    "\n",
    "### Ejemplo: Determinar si los números de una lista son pares o impares"
   ]
  },
  {
   "cell_type": "code",
   "execution_count": null,
   "metadata": {},
   "outputs": [
    {
     "name": "stdout",
     "output_type": "stream",
     "text": [
      "10 es par\n",
      "15 es impar\n",
      "22 es par\n",
      "30 es par\n",
      "47 es impar\n"
     ]
    }
   ],
   "source": [
    "numeros = [10, 15, 22, 30, 47]\n",
    "\n"
   ]
  },
  {
   "cell_type": "markdown",
   "metadata": {},
   "source": [
    "## Bucles for anidados"
   ]
  },
  {
   "cell_type": "markdown",
   "metadata": {},
   "source": [
    "A veces necesitamos recorrer elementos en más de una dimensión, como filas y columnas de una tabla o coordenadas en una cuadrícula. Para eso usamos bucles for dentro de otros for. A esto se le llama bucle anidado."
   ]
  },
  {
   "cell_type": "code",
   "execution_count": 2,
   "metadata": {},
   "outputs": [],
   "source": [
    "lista_for_anidado = ['Python', ['Hola',10,True],'Java', 'C++']\n"
   ]
  },
  {
   "cell_type": "markdown",
   "metadata": {},
   "source": [
    "¿Para qué se usan comúnmente?\n",
    "Recorrer matrices o listas de listas\n",
    "\n",
    "Dibujar formas con caracteres (*)\n",
    "\n",
    "Comparar pares de elementos\n",
    "\n",
    "Generar combinaciones"
   ]
  }
 ],
 "metadata": {
  "kernelspec": {
   "display_name": "Python 3",
   "language": "python",
   "name": "python3"
  },
  "language_info": {
   "codemirror_mode": {
    "name": "ipython",
    "version": 3
   },
   "file_extension": ".py",
   "mimetype": "text/x-python",
   "name": "python",
   "nbconvert_exporter": "python",
   "pygments_lexer": "ipython3",
   "version": "3.12.7"
  }
 },
 "nbformat": 4,
 "nbformat_minor": 2
}
