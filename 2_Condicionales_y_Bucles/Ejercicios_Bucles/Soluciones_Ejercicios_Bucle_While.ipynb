{
 "cells": [
  {
   "cell_type": "markdown",
   "metadata": {},
   "source": [
    "## ✅ Soluciones\n",
    "\n",
    "---\n",
    "\n",
    "### 🔍 Solución 1: Calcular el total de ventas del día"
   ]
  },
  {
   "cell_type": "markdown",
   "metadata": {},
   "source": [
    "### 1️⃣ Calcular el total de ventas del día\n",
    "\n",
    "#### Objetivo:\n",
    "Un comercio registra sus ventas una a una. El programa debe permitir al usuario ingresar el valor de cada venta.  \n",
    "El proceso termina cuando se introduce un valor de venta igual a `0`. Al final, se muestra el total acumulado."
   ]
  },
  {
   "cell_type": "code",
   "execution_count": 1,
   "metadata": {},
   "outputs": [
    {
     "name": "stdout",
     "output_type": "stream",
     "text": [
      "Total de ventas del día: 520.0\n"
     ]
    }
   ],
   "source": [
    "total_ventas = 0\n",
    "venta = float(input(\"Introduce el valor de la venta (0 para terminar): \"))\n",
    "\n",
    "while venta != 0:\n",
    "    total_ventas += venta\n",
    "    venta = float(input(\"Introduce otra venta (0 para terminar): \"))\n",
    "\n",
    "print(\"Total de ventas del día:\", total_ventas)"
   ]
  },
  {
   "cell_type": "markdown",
   "metadata": {},
   "source": [
    "### 🔍 Solución 2: Registrar pagos hasta alcanzar una meta\n",
    "\n",
    "#### Objetivo:\n",
    "Una tienda necesita recaudar al menos **500 euros** en el día.  \n",
    "Cada cliente paga una cantidad y se va sumando al total.  \n",
    "El programa debe seguir pidiendo montos hasta que se alcance (o supere) la meta.  \n",
    "Al final, muestra cuánto se recaudó y cuántos pagos fueron necesarios."
   ]
  },
  {
   "cell_type": "code",
   "execution_count": null,
   "metadata": {},
   "outputs": [],
   "source": [
    "total_recaudado = 0\n",
    "pagos = 0\n",
    "meta = 500\n",
    "\n",
    "while total_recaudado < meta:\n",
    "    pago = float(input(\"Introduce el monto del pago: \"))\n",
    "    total_recaudado += pago\n",
    "    pagos += 1\n",
    "\n",
    "print(\"✅ Meta alcanzada.\")\n",
    "print(\"Total recaudado:\", total_recaudado)\n",
    "print(\"Pagos realizados:\", pagos)"
   ]
  },
  {
   "cell_type": "markdown",
   "metadata": {},
   "source": [
    "### 🔍 Solución 3: Control de stock de productos"
   ]
  },
  {
   "cell_type": "markdown",
   "metadata": {},
   "source": [
    "##### Objetivo:\n",
    "Un sistema de inventario debe restar unidades del stock cada vez que hay una venta.\n",
    "El stock inicial es 20. En cada iteración, se ingresa cuántas unidades se vendieron.\n",
    "El bucle se detiene cuando no queda stock suficiente para cubrir la venta."
   ]
  },
  {
   "cell_type": "code",
   "execution_count": 3,
   "metadata": {},
   "outputs": [
    {
     "name": "stdout",
     "output_type": "stream",
     "text": [
      "✅ Venta realizada.\n",
      "⛔ No hay suficiente stock para esa venta.\n",
      "📦 Stock agotado. No se pueden realizar más ventas.\n"
     ]
    }
   ],
   "source": [
    "stock = 20\n",
    "\n",
    "while stock > 0:\n",
    "    venta = int(input(f\"Stock disponible: {stock}. ¿Cuántas unidades se vendieron? \"))\n",
    "    \n",
    "    if venta > stock:\n",
    "        print(\"⛔ No hay suficiente stock para esa venta.\")\n",
    "        break\n",
    "    else:\n",
    "        stock -= venta\n",
    "        print(\"✅ Venta realizada.\")\n",
    "\n",
    "print(\"📦 Stock agotado. No se pueden realizar más ventas.\")\n"
   ]
  },
  {
   "cell_type": "markdown",
   "metadata": {},
   "source": [
    "### 🔍 Solución 4: Registrar empleados hasta llegar al límite\n",
    "\n",
    "##### Objetivo:\n",
    "Una empresa va registrando empleados nuevos. El sistema pide el nombre de cada uno.\n",
    "Solo se pueden registrar hasta 10 empleados. Cuando se llega a ese número, se detiene el registro y se imprime cuántos se registraron en total."
   ]
  },
  {
   "cell_type": "code",
   "execution_count": 5,
   "metadata": {},
   "outputs": [
    {
     "name": "stdout",
     "output_type": "stream",
     "text": [
      "Empleado dksmv registrado (1/10)\n",
      "Empleado xc registrado (2/10)\n",
      "Empleado vf registrado (3/10)\n",
      "Empleado  registrado (4/10)\n",
      "Empleado hgfgf registrado (5/10)\n",
      "Empleado ds registrado (6/10)\n",
      "Empleado ds registrado (7/10)\n",
      "Empleado g registrado (8/10)\n",
      "Empleado gc registrado (9/10)\n",
      "Empleado d registrado (10/10)\n",
      "✔️ Registro completo. Se alcanzó el límite de empleados.\n",
      "Lista de empleados registrados:['dksmv', 'xc', 'vf', '', 'hgfgf', 'ds', 'ds', 'g', 'gc', 'd']\n"
     ]
    }
   ],
   "source": [
    "lista_nombres = []\n",
    "\n",
    "empleados_registrados = 0\n",
    "limite = 10\n",
    "\n",
    "while empleados_registrados < limite:\n",
    "    nombre = input(\"Introduce el nombre del empleado: \")\n",
    "    empleados_registrados += 1\n",
    "    print(f\"Empleado {nombre} registrado ({empleados_registrados}/{limite})\")\n",
    "    lista_nombres.append(nombre)\n",
    "\n",
    "print(\"✔️ Registro completo. Se alcanzó el límite de empleados.\")\n",
    "print(f\"Lista de empleados registrados:{lista_nombres}\")\n"
   ]
  },
  {
   "cell_type": "code",
   "execution_count": null,
   "metadata": {},
   "outputs": [],
   "source": []
  }
 ],
 "metadata": {
  "kernelspec": {
   "display_name": ".venv",
   "language": "python",
   "name": "python3"
  },
  "language_info": {
   "codemirror_mode": {
    "name": "ipython",
    "version": 3
   },
   "file_extension": ".py",
   "mimetype": "text/x-python",
   "name": "python",
   "nbconvert_exporter": "python",
   "pygments_lexer": "ipython3",
   "version": "3.12.8"
  }
 },
 "nbformat": 4,
 "nbformat_minor": 2
}
