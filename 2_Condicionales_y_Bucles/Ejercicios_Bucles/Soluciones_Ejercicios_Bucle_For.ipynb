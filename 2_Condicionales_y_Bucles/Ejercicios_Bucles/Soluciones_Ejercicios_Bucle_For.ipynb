{
 "cells": [
  {
   "cell_type": "markdown",
   "metadata": {},
   "source": [
    "### 🔍 Solución 5.1: Recorrer una lista de nombres"
   ]
  },
  {
   "cell_type": "code",
   "execution_count": null,
   "metadata": {},
   "outputs": [],
   "source": [
    "nombres = [\"Ana\", \"Luis\", \"Pedro\", \"Marta\", \"Susana\"]\n",
    "\n",
    "for nombre in nombres:\n",
    "    print(nombre)"
   ]
  },
  {
   "cell_type": "markdown",
   "metadata": {},
   "source": [
    "### 🔍 Solución 5.2: Calcular la suma de los primeros n números"
   ]
  },
  {
   "cell_type": "code",
   "execution_count": 1,
   "metadata": {},
   "outputs": [
    {
     "name": "stdout",
     "output_type": "stream",
     "text": [
      "La suma de los números de 1 a 7 es: 28\n"
     ]
    }
   ],
   "source": [
    "n = int(input(\"Introduce un número: \"))\n",
    "suma_total = 0\n",
    "\n",
    "for i in range(1, n + 1):\n",
    "    suma_total += i\n",
    "\n",
    "print(\"La suma de los números de 1 a\", n, \"es:\", suma_total)\n"
   ]
  },
  {
   "cell_type": "markdown",
   "metadata": {},
   "source": [
    "### 🔍 Solución 5.3: Contar vocales en una palabra"
   ]
  },
  {
   "cell_type": "code",
   "execution_count": null,
   "metadata": {},
   "outputs": [],
   "source": [
    "palabra = input(\"Introduce una palabra: \")\n",
    "vocales = \"aeiou\"\n",
    "contador = 0\n",
    "\n",
    "for letra in palabra.lower():\n",
    "    if letra in vocales:\n",
    "        contador += 1\n",
    "\n",
    "print(\"Número de vocales:\", contador)"
   ]
  },
  {
   "cell_type": "markdown",
   "metadata": {},
   "source": [
    "### 🔍 Solución 5.4: Multiplicando cada elemento de una lista por 2"
   ]
  },
  {
   "cell_type": "code",
   "execution_count": 2,
   "metadata": {},
   "outputs": [
    {
     "name": "stdout",
     "output_type": "stream",
     "text": [
      "Lista original: [2, 4, 6, 8]\n",
      "Lista multiplicada por 2: [4, 8, 12, 16]\n"
     ]
    }
   ],
   "source": [
    "numeros = [2, 4, 6, 8]\n",
    "resultado = []\n",
    "\n",
    "for n in numeros:\n",
    "    resultado.append(n * 2)\n",
    "\n",
    "print(\"Lista original:\", numeros)\n",
    "print(\"Lista multiplicada por 2:\", resultado)"
   ]
  }
 ],
 "metadata": {
  "kernelspec": {
   "display_name": ".venv",
   "language": "python",
   "name": "python3"
  },
  "language_info": {
   "codemirror_mode": {
    "name": "ipython",
    "version": 3
   },
   "file_extension": ".py",
   "mimetype": "text/x-python",
   "name": "python",
   "nbconvert_exporter": "python",
   "pygments_lexer": "ipython3",
   "version": "3.12.8"
  }
 },
 "nbformat": 4,
 "nbformat_minor": 2
}
