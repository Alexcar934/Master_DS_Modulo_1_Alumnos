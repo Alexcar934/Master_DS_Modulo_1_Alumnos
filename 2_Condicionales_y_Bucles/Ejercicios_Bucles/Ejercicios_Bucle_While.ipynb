{
 "cells": [
  {
   "cell_type": "markdown",
   "metadata": {},
   "source": [
    "## 🧾 Ejercicios `while` con contexto de negocio\n",
    "\n",
    "---\n",
    "\n",
    "### 1️⃣ Calcular el total de ventas del día\n",
    "\n",
    "#### Objetivo:\n",
    "Un comercio registra sus ventas una a una. El programa debe permitir al usuario ingresar el valor de cada venta.  \n",
    "El proceso termina cuando se introduce un valor de venta igual a `0`. Al final, se muestra el total acumulado."
   ]
  },
  {
   "cell_type": "code",
   "execution_count": 1,
   "metadata": {},
   "outputs": [],
   "source": [
    "total_ventas = 0\n",
    "\n",
    "# Tu código aquí"
   ]
  },
  {
   "cell_type": "markdown",
   "metadata": {},
   "source": [
    "### 2️⃣ Registrar pagos hasta alcanzar una meta\n",
    "\n",
    "#### Objetivo:\n",
    "Una tienda necesita recaudar al menos **500 euros** en el día.  \n",
    "Cada cliente paga una cantidad y se va sumando al total.  \n",
    "El programa debe seguir pidiendo montos hasta que se alcance (o supere) la meta.  \n",
    "Al final, muestra cuánto se recaudó y cuántos pagos fueron necesarios."
   ]
  },
  {
   "cell_type": "code",
   "execution_count": null,
   "metadata": {},
   "outputs": [],
   "source": [
    "total_recaudado = 0\n",
    "pagos = 0\n",
    "meta = 500\n",
    "\n",
    "# Tu código aquí"
   ]
  },
  {
   "cell_type": "markdown",
   "metadata": {},
   "source": [
    "### 3️⃣ Control de stock de productos\n",
    "##### Objetivo:\n",
    "Un sistema de inventario debe restar unidades del stock cada vez que hay una venta.\n",
    "El stock inicial es 20. En cada iteración, se ingresa cuántas unidades se vendieron.\n",
    "El bucle se detiene cuando no queda stock suficiente para cubrir la venta."
   ]
  },
  {
   "cell_type": "code",
   "execution_count": 2,
   "metadata": {},
   "outputs": [],
   "source": [
    "stock = 20\n",
    "\n",
    "# Tu código aquí\n"
   ]
  },
  {
   "cell_type": "markdown",
   "metadata": {},
   "source": [
    "### 4️⃣ Registrar empleados hasta llegar al límite\n",
    "##### Objetivo:\n",
    "Una empresa va registrando empleados nuevos. El sistema pide el nombre de cada uno.\n",
    "Solo se pueden registrar hasta 10 empleados. Cuando se llega a ese número, se detiene el registro y se imprime cuántos se registraron en total."
   ]
  },
  {
   "cell_type": "code",
   "execution_count": null,
   "metadata": {},
   "outputs": [],
   "source": [
    "empleados_registrados = 0\n",
    "\n",
    "# Tu código aquí\n"
   ]
  }
 ],
 "metadata": {
  "kernelspec": {
   "display_name": ".venv",
   "language": "python",
   "name": "python3"
  },
  "language_info": {
   "codemirror_mode": {
    "name": "ipython",
    "version": 3
   },
   "file_extension": ".py",
   "mimetype": "text/x-python",
   "name": "python",
   "nbconvert_exporter": "python",
   "pygments_lexer": "ipython3",
   "version": "3.12.8"
  }
 },
 "nbformat": 4,
 "nbformat_minor": 2
}
