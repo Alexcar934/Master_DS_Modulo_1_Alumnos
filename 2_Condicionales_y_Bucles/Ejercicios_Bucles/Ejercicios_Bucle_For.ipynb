{
 "cells": [
  {
   "cell_type": "markdown",
   "metadata": {},
   "source": [
    "## 5. Ejercicios propuestos\n",
    "\n",
    "### 5.1. Recorrer una lista de nombres\n",
    "\n",
    "#### Objetivo:\n",
    "Recorrer una lista de nombres e imprimir cada uno por pantalla.\n",
    "\n",
    "#### Instrucciones:\n",
    "1. Define una lista con nombres.\n",
    "2. Usa un bucle `for` para recorrer la lista.\n",
    "3. Muestra cada nombre en una línea.\n"
   ]
  },
  {
   "cell_type": "code",
   "execution_count": null,
   "metadata": {},
   "outputs": [],
   "source": [
    "\n",
    "nombres = [\"Ana\", \"Luis\", \"Pedro\", \"Marta\", \"Susana\"]\n",
    "\n",
    "# Tu código aquí"
   ]
  },
  {
   "cell_type": "markdown",
   "metadata": {},
   "source": [
    "### 5.2. Calcular la suma de los primeros `n` números\n",
    "\n",
    "#### Objetivo:\n",
    "Sumar todos los números enteros desde 1 hasta `n` usando un bucle `for`.\n",
    "\n",
    "#### Instrucciones:\n",
    "1. Pide al usuario un número entero `n` con `input()`.\n",
    "2. Usa un bucle `for` con `range()` para recorrer los números desde `1` hasta `n` (incluido).\n",
    "3. Ve sumando cada número en una variable acumuladora.\n",
    "4. Muestra el resultado final por pantalla."
   ]
  },
  {
   "cell_type": "code",
   "execution_count": null,
   "metadata": {},
   "outputs": [],
   "source": [
    "# Ejemplo:\n",
    "# Si el usuario introduce 5, se suman: 1 + 2 + 3 + 4 + 5 = 15\n",
    "\n",
    "n = int(input(\"Introduce un número: \"))\n",
    "suma_total = 0\n",
    "\n",
    "# Tu código aquí\n",
    "\n",
    "print(\"La suma de los números de 1 a\", n, \"es:\", suma_total)"
   ]
  },
  {
   "cell_type": "markdown",
   "metadata": {},
   "source": [
    "### 5.3. Contar vocales en una palabra\n",
    "\n",
    "#### Objetivo:\n",
    "Contar cuántas vocales contiene una palabra introducida por el usuario.\n",
    "\n",
    "#### Instrucciones:\n",
    "1. Pide al usuario una palabra con `input()`.\n",
    "2. Recorre la palabra usando un bucle `for`.\n",
    "3. Verifica si cada letra es una vocal (`a`, `e`, `i`, `o`, `u`).\n",
    "4. Lleva la cuenta de cuántas vocales hay.\n",
    "5. Muestra el resultado final."
   ]
  },
  {
   "cell_type": "code",
   "execution_count": null,
   "metadata": {},
   "outputs": [],
   "source": [
    "palabra = input(\"Introduce una palabra: \")\n",
    "vocales = \"aeiou\"\n",
    "contador = 0\n",
    "\n",
    "# Tu código aquí\n",
    "\n",
    "print(\"Número de vocales:\", contador)"
   ]
  },
  {
   "cell_type": "markdown",
   "metadata": {},
   "source": [
    "### 5.4. Multiplicando cada elemento de una lista por 2\n",
    "\n",
    "#### Objetivo:\n",
    "Crear una nueva lista que contenga el doble de cada número de la lista original.\n",
    "\n",
    "#### Instrucciones:\n",
    "1. Define una lista con varios números enteros.\n",
    "2. Usa un bucle `for` para recorrer cada número.\n",
    "3. Multiplica cada número por 2.\n",
    "4. Guarda el resultado en una **nueva lista**.\n",
    "5. Muestra ambas listas (la original y la nueva)."
   ]
  },
  {
   "cell_type": "code",
   "execution_count": null,
   "metadata": {},
   "outputs": [],
   "source": [
    "numeros = [2, 4, 6, 8]\n",
    "resultado = []\n",
    "\n",
    "# Tu código aquí\n",
    "\n",
    "print(\"Lista original:\", numeros)\n",
    "print(\"Lista multiplicada por 2:\", resultado)"
   ]
  }
 ],
 "metadata": {
  "language_info": {
   "name": "python"
  }
 },
 "nbformat": 4,
 "nbformat_minor": 2
}
