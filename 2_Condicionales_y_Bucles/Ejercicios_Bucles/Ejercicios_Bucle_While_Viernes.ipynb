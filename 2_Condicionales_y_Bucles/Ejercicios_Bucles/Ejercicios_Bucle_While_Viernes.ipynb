{
 "cells": [
  {
   "cell_type": "markdown",
   "metadata": {},
   "source": [
    "## 🧾 Ejercicios `while` con contexto de negocio\n",
    "\n",
    "---\n",
    "\n",
    "### 1️⃣ Calcular el total de ventas del día\n",
    "\n",
    "#### Objetivo:\n",
    "Un comercio registra sus ventas una a una. El programa debe permitir al usuario ingresar el valor de cada venta.  \n",
    "El proceso termina cuando se introduce un valor de venta igual a `0`. Al final, se muestra el total acumulado."
   ]
  },
  {
   "cell_type": "code",
   "execution_count": 10,
   "metadata": {},
   "outputs": [
    {
     "name": "stdout",
     "output_type": "stream",
     "text": [
      "50.0\n",
      "total_ventas = 50.0\n",
      "98.0\n",
      "total_ventas = 148.0\n",
      "50.7\n",
      "total_ventas = 198.7\n",
      "0.0\n"
     ]
    }
   ],
   "source": [
    "total_ventas = 0\n",
    "\n",
    "# Tu código aquí\n",
    "venta = float(input(\"Introduce el valor de la venta (pon 0 para salir)\"))\n",
    "print(venta)\n",
    "while venta!=0:\n",
    "    total_ventas = total_ventas + venta #total_ventas += venta\n",
    "    print(f\"total_ventas = {total_ventas}\")\n",
    "    venta = float(input(\"Introduce el valor de la venta (pon 0 para salir)\"))\n",
    "    print(venta)\n",
    "\n",
    "venta=7\n",
    "    "
   ]
  },
  {
   "cell_type": "markdown",
   "metadata": {},
   "source": [
    "Otra forma de hacerlo\n"
   ]
  },
  {
   "cell_type": "code",
   "execution_count": 14,
   "metadata": {},
   "outputs": [
    {
     "name": "stdout",
     "output_type": "stream",
     "text": [
      "Venta: 20\n",
      "Total ventas: 20\n",
      "Venta: 10\n",
      "Total ventas: 30\n",
      "Venta: 5\n",
      "Total ventas: 35\n",
      "0\n"
     ]
    }
   ],
   "source": [
    "total_ventas = 0\n",
    "\n",
    "while True:\n",
    "    venta = int(input(\"Introduce el valor de la venta (pon 0 para salir)\"))\n",
    "    if venta == 0:\n",
    "        print(venta)\n",
    "        break\n",
    "    else:\n",
    "        print(f'Venta: {venta}')\n",
    "        total_ventas = total_ventas + venta\n",
    "        print(f'Total ventas: {total_ventas}')\n"
   ]
  },
  {
   "cell_type": "markdown",
   "metadata": {},
   "source": [
    "Programa: Cómo crear una primera base de datos / tabla"
   ]
  },
  {
   "cell_type": "code",
   "execution_count": null,
   "metadata": {},
   "outputs": [
    {
     "name": "stdout",
     "output_type": "stream",
     "text": [
      "1, Paco, 626262626\n",
      "Continuamos\n",
      "2, Anytonio, 616616616\n",
      "Continuamos\n",
      "3, Julio, 636363636\n",
      "Gracias por todo\n"
     ]
    }
   ],
   "source": [
    "#Listas = Columnas de un excel\n",
    "\n",
    "lista_num_cliente = []\n",
    "lista_nombre = list() #Esto es lo mismo que  []\n",
    "lista_nums =[]\n",
    "\n",
    "while True:\n",
    "    num_cliente = int(input('Número de cliente: '))\n",
    "    nombre = str(input('Nombre de cliente: '))\n",
    "    numero_telf = int(input('Num Telf: '))\n",
    "\n",
    "    if len(str(numero_telf))==9:\n",
    "        print('Escribiste el número mal')\n",
    "        numero_telf = int(input('Num Telf: '))\n",
    "        if len(str(numero_telf))==9:\n",
    "            print('Escribiste el número mal')\n",
    "            numero_telf = int(input('Num Telf: '))\n",
    "\n",
    "    print(f\"{num_cliente}, {nombre}, {numero_telf}\")\n",
    "\n",
    "    lista_num_cliente.append(num_cliente)\n",
    "    lista_nombre.append(nombre)\n",
    "    lista_nums.append(numero_telf)\n",
    "\n",
    "    pregunta_salir = input('Presione 1 para continuar o 0 para salir:')\n",
    "    if pregunta_salir == '1':\n",
    "        print('Continuamos')\n",
    "        \n",
    "    elif pregunta_salir == '0':\n",
    "        print('Gracias por todo')\n",
    "        break\n",
    "    \n"
   ]
  },
  {
   "cell_type": "code",
   "execution_count": 17,
   "metadata": {},
   "outputs": [
    {
     "data": {
      "text/plain": [
       "[1, 2, 3]"
      ]
     },
     "execution_count": 17,
     "metadata": {},
     "output_type": "execute_result"
    }
   ],
   "source": [
    "lista_num_cliente"
   ]
  },
  {
   "cell_type": "code",
   "execution_count": 18,
   "metadata": {},
   "outputs": [
    {
     "data": {
      "text/plain": [
       "[626262626, 616616616, 636363636]"
      ]
     },
     "execution_count": 18,
     "metadata": {},
     "output_type": "execute_result"
    }
   ],
   "source": [
    "lista_nums"
   ]
  },
  {
   "cell_type": "code",
   "execution_count": 16,
   "metadata": {},
   "outputs": [
    {
     "data": {
      "text/plain": [
       "['Paco', 'Anytonio', 'Julio']"
      ]
     },
     "execution_count": 16,
     "metadata": {},
     "output_type": "execute_result"
    }
   ],
   "source": [
    "lista_nombre\n"
   ]
  },
  {
   "cell_type": "code",
   "execution_count": 19,
   "metadata": {},
   "outputs": [
    {
     "data": {
      "text/html": [
       "<div>\n",
       "<style scoped>\n",
       "    .dataframe tbody tr th:only-of-type {\n",
       "        vertical-align: middle;\n",
       "    }\n",
       "\n",
       "    .dataframe tbody tr th {\n",
       "        vertical-align: top;\n",
       "    }\n",
       "\n",
       "    .dataframe thead th {\n",
       "        text-align: right;\n",
       "    }\n",
       "</style>\n",
       "<table border=\"1\" class=\"dataframe\">\n",
       "  <thead>\n",
       "    <tr style=\"text-align: right;\">\n",
       "      <th></th>\n",
       "      <th>Id_cliente</th>\n",
       "      <th>nombres</th>\n",
       "      <th>telefono</th>\n",
       "    </tr>\n",
       "  </thead>\n",
       "  <tbody>\n",
       "    <tr>\n",
       "      <th>0</th>\n",
       "      <td>1</td>\n",
       "      <td>Paco</td>\n",
       "      <td>626262626</td>\n",
       "    </tr>\n",
       "    <tr>\n",
       "      <th>1</th>\n",
       "      <td>2</td>\n",
       "      <td>Anytonio</td>\n",
       "      <td>616616616</td>\n",
       "    </tr>\n",
       "    <tr>\n",
       "      <th>2</th>\n",
       "      <td>3</td>\n",
       "      <td>Julio</td>\n",
       "      <td>636363636</td>\n",
       "    </tr>\n",
       "  </tbody>\n",
       "</table>\n",
       "</div>"
      ],
      "text/plain": [
       "   Id_cliente   nombres   telefono\n",
       "0           1      Paco  626262626\n",
       "1           2  Anytonio  616616616\n",
       "2           3     Julio  636363636"
      ]
     },
     "execution_count": 19,
     "metadata": {},
     "output_type": "execute_result"
    }
   ],
   "source": [
    "import pandas as pd\n",
    "\n",
    "df = pd.DataFrame()\n",
    "df['Id_cliente'] = lista_num_cliente\n",
    "df['nombres'] = lista_nombre\n",
    "df['telefono'] = lista_nums\n",
    "\n",
    "df\n"
   ]
  },
  {
   "cell_type": "code",
   "execution_count": 21,
   "metadata": {},
   "outputs": [
    {
     "name": "stdout",
     "output_type": "stream",
     "text": [
      "Collecting openpyxl\n",
      "  Downloading openpyxl-3.1.5-py2.py3-none-any.whl.metadata (2.5 kB)\n",
      "Collecting et-xmlfile (from openpyxl)\n",
      "  Downloading et_xmlfile-2.0.0-py3-none-any.whl.metadata (2.7 kB)\n",
      "Downloading openpyxl-3.1.5-py2.py3-none-any.whl (250 kB)\n",
      "Downloading et_xmlfile-2.0.0-py3-none-any.whl (18 kB)\n",
      "Installing collected packages: et-xmlfile, openpyxl\n",
      "Successfully installed et-xmlfile-2.0.0 openpyxl-3.1.5\n",
      "\n",
      "\u001b[1m[\u001b[0m\u001b[34;49mnotice\u001b[0m\u001b[1;39;49m]\u001b[0m\u001b[39;49m A new release of pip is available: \u001b[0m\u001b[31;49m24.3.1\u001b[0m\u001b[39;49m -> \u001b[0m\u001b[32;49m25.1.1\u001b[0m\n",
      "\u001b[1m[\u001b[0m\u001b[34;49mnotice\u001b[0m\u001b[1;39;49m]\u001b[0m\u001b[39;49m To update, run: \u001b[0m\u001b[32;49mpip3.12 install --upgrade pip\u001b[0m\n",
      "Note: you may need to restart the kernel to use updated packages.\n"
     ]
    }
   ],
   "source": [
    "pip install openpyxl"
   ]
  },
  {
   "cell_type": "code",
   "execution_count": null,
   "metadata": {},
   "outputs": [],
   "source": [
    "import openpyxl\n",
    "\n",
    "df.to_csv('Prueba.csv',encoding='latin-1')\n",
    "\n",
    "df.to_excel()"
   ]
  },
  {
   "cell_type": "code",
   "execution_count": null,
   "metadata": {},
   "outputs": [
    {
     "data": {
      "text/plain": [
       "945820568.0"
      ]
     },
     "execution_count": 2,
     "metadata": {},
     "output_type": "execute_result"
    }
   ],
   "source": [
    "total_ventas"
   ]
  },
  {
   "cell_type": "markdown",
   "metadata": {},
   "source": [
    "### 2️⃣ Registrar pagos hasta alcanzar una meta\n",
    "\n",
    "#### Objetivo:\n",
    "Una tienda necesita recaudar al menos **500 euros** en el día.  \n",
    "Cada cliente paga una cantidad y se va sumando al total.  \n",
    "El programa debe seguir pidiendo montos hasta que se alcance (o supere) la meta.  \n",
    "Al final, muestra cuánto se recaudó y cuántos pagos fueron necesarios."
   ]
  },
  {
   "cell_type": "code",
   "execution_count": null,
   "metadata": {},
   "outputs": [],
   "source": [
    "total_recaudado = 0\n",
    "pagos = 0\n",
    "meta = 500\n",
    "\n",
    "# Tu código aquí"
   ]
  },
  {
   "cell_type": "markdown",
   "metadata": {},
   "source": [
    "### 3️⃣ Control de stock de productos\n",
    "##### Objetivo:\n",
    "Un sistema de inventario debe restar unidades del stock cada vez que hay una venta.\n",
    "El stock inicial es 20. En cada iteración, se ingresa cuántas unidades se vendieron.\n",
    "El bucle se detiene cuando no queda stock suficiente para cubrir la venta."
   ]
  },
  {
   "cell_type": "code",
   "execution_count": 2,
   "metadata": {},
   "outputs": [],
   "source": [
    "stock = 20\n",
    "\n",
    "# Tu código aquí\n"
   ]
  },
  {
   "cell_type": "markdown",
   "metadata": {},
   "source": [
    "### 4️⃣ Registrar empleados hasta llegar al límite\n",
    "##### Objetivo:\n",
    "Una empresa va registrando empleados nuevos. El sistema pide el nombre de cada uno.\n",
    "Solo se pueden registrar hasta 10 empleados. Cuando se llega a ese número, se detiene el registro y se imprime cuántos se registraron en total."
   ]
  },
  {
   "cell_type": "code",
   "execution_count": null,
   "metadata": {},
   "outputs": [],
   "source": [
    "empleados_registrados = 0\n",
    "\n",
    "# Tu código aquí\n"
   ]
  }
 ],
 "metadata": {
  "kernelspec": {
   "display_name": "Python 3",
   "language": "python",
   "name": "python3"
  },
  "language_info": {
   "codemirror_mode": {
    "name": "ipython",
    "version": 3
   },
   "file_extension": ".py",
   "mimetype": "text/x-python",
   "name": "python",
   "nbconvert_exporter": "python",
   "pygments_lexer": "ipython3",
   "version": "3.12.8"
  }
 },
 "nbformat": 4,
 "nbformat_minor": 2
}
